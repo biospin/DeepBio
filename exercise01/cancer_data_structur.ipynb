{
 "cells": [
  {
   "cell_type": "markdown",
   "metadata": {},
   "source": [
    "# 암 유전체 데이터 구조"
   ]
  },
  {
   "cell_type": "markdown",
   "metadata": {},
   "source": [
    "## TCGA에서 mRNA 다운로드\n",
    "\n",
    "![이미지](tcga_mrna_down.jpg)\n"
   ]
  },
  {
   "cell_type": "markdown",
   "metadata": {},
   "source": [
    "### 실제 저장된 위치 "
   ]
  },
  {
   "cell_type": "code",
   "execution_count": 2,
   "metadata": {
    "collapsed": false
   },
   "outputs": [
    {
     "name": "stdout",
     "output_type": "stream",
     "text": [
      "total 9507864\r\n",
      "drwxrwxr-x 7 deepbio deepbio       4096 Dec 23 16:22 .\r\n",
      "drwxrwxr-x 3 deepbio deepbio       4096 Dec 23 16:22 ..\r\n",
      "-rw-rw-r-- 1 deepbio deepbio 9734980118 Dec 23 15:48 a0eb1f9a-2d2b-4221-afba-2e854cebaf55.tar\r\n",
      "drwxrwxr-x 4 deepbio deepbio       4096 Dec 23 16:22 COAD\r\n",
      "drwxrwxr-x 3 deepbio deepbio       4096 Dec 23 16:22 DLBC\r\n",
      "drwxrwxr-x 3 deepbio deepbio       4096 Dec 23 16:22 ESCA\r\n",
      "-rw-r--r-- 1 deepbio deepbio      36660 Dec 22 15:35 file_annotations.txt\r\n",
      "-rw-r--r-- 1 deepbio deepbio     987923 Dec 22 15:35 file_manifest.txt\r\n",
      "drwxrwxr-x 3 deepbio deepbio       4096 Dec 23 16:22 FPPP\r\n",
      "drwxrwxr-x 3 deepbio deepbio       4096 Dec 23 16:22 GBM\r\n"
     ]
    }
   ],
   "source": [
    "! ls -al  /home/deepbio/note/work/tcga/01"
   ]
  },
  {
   "cell_type": "markdown",
   "metadata": {},
   "source": [
    "## 모든 암종류의 mRNA 3Level 데이터 양\n",
    "\n",
    "- 약 350GB\n",
    "\n",
    "## mRNA 3Level 데이터 구조\n",
    "\n",
    "```\n",
    "-rw-rw-r-- 1 spark spark 58067619840 Dec 22 16:48 7990682d-6a23-47c7-8c8b-32c87061ba10.tar\n",
    "drwxrwxr-x 3 spark spark        4096 Dec 23 15:49 ACC/\n",
    "drwxrwxr-x 4 spark spark        4096 Dec 23 15:55 BLCA/\n",
    "drwxrwxr-x 4 spark spark        4096 Dec 23 15:51 BRCA/\n",
    "drwxrwxr-x 3 spark spark        4096 Dec 23 15:49 CESC/\n",
    "drwxrwxr-x 3 spark spark        4096 Dec 23 15:49 CHOL/\n",
    "-rw-r--r-- 1 spark spark       23257 Dec 22 16:28 file_annotations.txt\n",
    "-rw-r--r-- 1 spark spark     2006214 Dec 22 16:28 file_manifest.txt\n",
    "\n",
    "```\n",
    "\n",
    "### file_annotations.txt \n",
    "\n",
    "```\n",
    "ID      Disease Item Type       Item Barcode    Item UUID       Classification  Category        Annotator       Date Created    Annotation\n",
    "16302   BLCA    Analyte TCGA-C4-A0F1-01A-11R    fa1fd379-a55f-46b8-a46e-e024611f4704    Observation     General jensenma        05/20/2013      Users should discard data fpr this analyte obtained before 5/7/13, and use the latest data available on the Data Portal instead. See http://tcgadcc.com/browse/TCGA-955.\n",
    "15325   CESC    Patient TCGA-FU-A3TX    b75644c2-b515-41ce-9b03-842ef5208a17    Notification    Prior malignancy        bowenj  02/22/2013      Patient had a prior melanoma of the cheek. No radiation or systemic chemotherapy.\n",
    "15273   BLCA    Patient TCGA-G2-A2ES    72d8eae8-9efb-45b2-acbd-82c6b5732e38    Notification    Synchronous malignancy  bowenj  02/01/2013      Patient had synchronous prostate cancer. No radiation or systemic chemotherapy.\n",
    "\n",
    "```\n",
    "\n",
    "### file_manifest.txt\n",
    "```\n",
    "Disease Platform Type   Center  Platform        Level   Barcode File Name\n",
    "BRCA    RNASeqV2        UNC     IlluminaHiSeq_RNASeqV2  Level_3 TCGA-E9-A1RF-11A-32R-A157-07    unc.edu.da13db3f-cde6-4e25-9596-009147aa3fa9.1165657.rsem.genes.results\n",
    "BRCA    RNASeqV2        UNC     IlluminaHiSeq_RNASeqV2  Level_3 TCGA-AC-A2BM-01A-11R-A21T-07    unc.edu.54f1981b-9d8f-48cc-9586-d2e9a8d468f5.1348677.rsem.isoforms.normalized_results\n",
    "ACC     RNASeqV2        UNC     IlluminaHiSeq_RNASeqV2  Level_3 TCGA-OR-A5J1-01A-11R-A29S-07    unc.edu.37e88158-0743-45b8-87cf-1d7fe878527f.2145990.junction_quantification.txt\n",
    "BRCA    RNASeqV2        UNC     IlluminaHiSeq_RNASeqV2  Level_3 TCGA-E2-A1LL-01A-11R-A144-07    unc.edu.526c9170-0f25-4374-9287-1fc40acb6555.1765298.bt.exon_quantification.txt\n",
    "\n",
    "```\n",
    "\n",
    "### 데이터 파일 구성\n",
    "\n",
    "- 아래와 같이 junction_quantification.txt, rsem.genes.results, rsem.genes.normalized_results, rsem.isoforms.normalized_results, bt.exon_quantification.txt  파일들이 반복적으로 나타냄.\n",
    "- 이런 파일들이 어떤 용도인지와 우리가 필요한 파일이 무엇인지 구분이 필요함.\n",
    "\n",
    "```\n",
    "unc.edu.ff1c3e81-f70f-4b59-b97c-263a317078ac.2621357.junction_quantification.txt\n",
    "unc.edu.ff1c3e81-f70f-4b59-b97c-263a317078ac.2621438.rsem.genes.results\n",
    "unc.edu.ff1c3e81-f70f-4b59-b97c-263a317078ac.2621439.rsem.isoforms.results\n",
    "unc.edu.ff1c3e81-f70f-4b59-b97c-263a317078ac.2621452.rsem.genes.normalized_results\n",
    "unc.edu.ff1c3e81-f70f-4b59-b97c-263a317078ac.2621453.rsem.isoforms.normalized_results\n",
    "unc.edu.ff1c3e81-f70f-4b59-b97c-263a317078ac.2621470.bt.exon_quantification.txt\n",
    "```\n",
    "\n",
    "####  xxxxx.junction_quantification.txt 구조\n",
    "```\n",
    "junction        raw_counts\n",
    "chr1:12227:+,chr1:12595:+       0\n",
    "chr1:12227:+,chr1:12613:+       0\n",
    "chr1:12227:+,chr1:12646:+       0\n",
    "chr1:12697:+,chr1:13221:+       0\n",
    "chr1:12721:+,chr1:13221:+       0\n",
    "chr1:12721:+,chr1:13403:+       0\n",
    "chr1:14829:-,chr1:14970:-       0\n",
    "chr1:14829:-,chr1:15796:-       0\n",
    "chr1:15038:-,chr1:15796:-       9\n",
    "chr1:15942:-,chr1:16607:-       0\n",
    "chr1:15947:-,chr1:16607:-       5\n",
    "chr1:16765:-,chr1:16854:-       0\n",
    "chr1:16765:-,chr1:16858:-       12\n",
    "```\n",
    "\n",
    "####  xxxxx.rsem.genes.results 구조\n",
    "```\n",
    "gene_id raw_count       scaled_estimate transcript_id\n",
    "?|729884        0.00    0       uc003hdz.3\n",
    "?|8225  998.00  4.44871206079183e-05    uc004cpd.1,uc004cpe.1,uc011mgy.1\n",
    "A1BG|1  68.00   1.89874706204702e-06    uc002qsd.3,uc002qsf.1\n",
    "A1CF|29974      0.00    0       uc001jjh.2,uc001jji.2,uc001jjj.2,uc001jjk.1,uc009xov.2,uc010qhn.1,uc010qho.1\n",
    "A2BP1|54715     1.00    1.19985029900624e-08    uc002cyr.1,uc002cys.2,uc002cyt.2,uc002cyv.1,uc002cyw.2,uc002cyx.2,uc002cyy.2,uc010buf.1,uc010uxz.1,uc010uya.1,uc010uyb.1,uc010uyc.1\n",
    "A2LD1|87769     126.05  3.58157630648726e-06    uc001voq.1,uc001vor.2,uc001vos.2\n",
    "```\n",
    "\n",
    "####  xxxxx.rsem.isoforms.results 구조\n",
    "```\n",
    "isoform_id      raw_count       scaled_estimate\n",
    "uc011lsn.1      0.00    0\n",
    "uc010unu.1      0.00    0\n",
    "uc010uoa.1      0.00    0\n",
    "uc002bgz.2      2.00    6.43446960272781e-08\n",
    "uc002bic.2      0.00    0\n",
    "uc010zzl.1      51.13   4.96843886304209e-06\n",
    "uc001jiu.2      841.00  3.85551651247458e-05\n",
    "```\n",
    "\n",
    "####  xxxxx.rsem.genes.normalized_results 구조\n",
    "```\n",
    "gene_id normalized_count\n",
    "?|729884        0.0000\n",
    "?|8225  924.9305\n",
    "A1BG|1  63.0213\n",
    "A1CF|29974      0.0000\n",
    "A2BP1|54715     0.9268\n",
    "A2LD1|87769     116.8211\n",
    "```\n",
    "\n",
    "####  xxxxx.rsem.isoforms.normalized_results 구조\n",
    "```\n",
    "isoform_id      normalized_count\n",
    "uc011lsn.1      0.0000\n",
    "uc010unu.1      0.0000\n",
    "uc010uoa.1      0.0000\n",
    "uc002bgz.2      1.6136\n",
    "uc002bic.2      0.0000\n",
    "uc010zzl.1      41.2516\n",
    "uc001jiu.2      678.5176\n",
    "```\n",
    "\n",
    "####  xxxxx.unc.edu.ff1c3e81-f70f-4b59-b97c-263a317078ac.2621470.bt.exon_quantification.txt 구조\n",
    "```\n",
    "exon    raw_counts      median_length_normalized        RPKM\n",
    "chr1:11874-12227:+      4       0.4787535       0.166975246857887\n",
    "chr1:12595-12721:+      0       0.0000000       0\n",
    "chr1:12613-12721:+      0       0.0000000       0\n",
    "chr1:12646-12697:+      0       0.0000000       0\n",
    "chr1:13221-14409:+      74      0.5648148       0.919697974493106\n",
    "chr1:13403-14409:+      73      0.6123260       1.07124486824765\n",
    "\n",
    "```"
   ]
  },
  {
   "cell_type": "markdown",
   "metadata": {},
   "source": [
    "## 데이터 저장 방식\n",
    "- text 파일로만 구성되고, file_manifest.txt 파일안에  물리적 파일 경로명을 찾을 수 있음.\n",
    "- text 파일이기 때문에 압축하면 용량이 상당히 절약됨.\n",
    "- 파일 접근이 편리하고 압축을 지원하는 Hadoop과 HBase을 이용해서 데이터파일을 저장함.\n",
    "- 파일에 대한 정보(file_annotations.txt, file_manifest.txt)들은 DB( mariaDB )에 저장하고 필요한 파일들에 대한 정보를 SQL문으로 조회할 수 있도록 함\n",
    "- HBASe와 DB에서 데이터 맵핑은 Barcode 를 이용함."
   ]
  },
  {
   "cell_type": "code",
   "execution_count": 4,
   "metadata": {
    "collapsed": false
   },
   "outputs": [
    {
     "name": "stdout",
     "output_type": "stream",
     "text": [
      "total 9507864\r\n",
      "drwxrwxr-x 7 deepbio deepbio       4096 Dec 23 16:22 .\r\n",
      "drwxrwxr-x 3 deepbio deepbio       4096 Dec 23 16:46 ..\r\n",
      "-rw-rw-r-- 1 deepbio deepbio 9734980118 Dec 23 15:48 a0eb1f9a-2d2b-4221-afba-2e854cebaf55.tar\r\n",
      "drwxrwxr-x 4 deepbio deepbio       4096 Dec 23 16:22 COAD\r\n",
      "drwxrwxr-x 3 deepbio deepbio       4096 Dec 23 16:22 DLBC\r\n",
      "drwxrwxr-x 3 deepbio deepbio       4096 Dec 23 16:22 ESCA\r\n",
      "-rw-r--r-- 1 deepbio deepbio      36660 Dec 22 15:35 file_annotations.txt\r\n",
      "-rw-r--r-- 1 deepbio deepbio     987923 Dec 22 15:35 file_manifest.txt\r\n",
      "drwxrwxr-x 3 deepbio deepbio       4096 Dec 23 16:22 FPPP\r\n",
      "drwxrwxr-x 3 deepbio deepbio       4096 Dec 23 16:22 GBM\r\n"
     ]
    }
   ],
   "source": []
  },
  {
   "cell_type": "code",
   "execution_count": null,
   "metadata": {
    "collapsed": true
   },
   "outputs": [],
   "source": []
  }
 ],
 "metadata": {
  "kernelspec": {
   "display_name": "Python 2",
   "language": "python",
   "name": "python2"
  },
  "language_info": {
   "codemirror_mode": {
    "name": "ipython",
    "version": 2
   },
   "file_extension": ".py",
   "mimetype": "text/x-python",
   "name": "python",
   "nbconvert_exporter": "python",
   "pygments_lexer": "ipython2",
   "version": "2.7.11"
  }
 },
 "nbformat": 4,
 "nbformat_minor": 0
}
