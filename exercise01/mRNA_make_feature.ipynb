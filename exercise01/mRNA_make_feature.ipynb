{
 "cells": [
  {
   "cell_type": "markdown",
   "metadata": {},
   "source": [
    "# 변수를 추출하고 학습데이터, Validation 데이터, Test데이터를 만들어보자"
   ]
  },
  {
   "cell_type": "markdown",
   "metadata": {},
   "source": [
    "###  MariaDB에서 필요한 데이터를 조회하는 방법"
   ]
  },
  {
   "cell_type": "code",
   "execution_count": 1,
   "metadata": {
    "collapsed": true
   },
   "outputs": [],
   "source": [
    "DB_HOST = 'node02'\n",
    "DB_USER = 'deepbio'\n",
    "DB_PW = 'deepbio1234'\n",
    "DB_NAME = 'deepbioDB'"
   ]
  },
  {
   "cell_type": "code",
   "execution_count": 2,
   "metadata": {
    "collapsed": false
   },
   "outputs": [
    {
     "name": "stdout",
     "output_type": "stream",
     "text": [
      "THCA/RNASeqV2/UNC__IlluminaHiSeq_RNASeqV2/Level_3/unc.edu.90c1c52d-0d8b-41d3-82c7-e4773c95a22c.1221217.rsem.genes.normalized_results\n",
      "COAD/RNASeqV2/UNC__IlluminaHiSeq_RNASeqV2/Level_3/unc.edu.b254c0ed-6844-4298-89a9-d436a0c38ca8.2121736.rsem.genes.normalized_results\n"
     ]
    }
   ],
   "source": [
    "import mysql.connector as mariadb\n",
    "mariadb_connection = mariadb.connect(host=DB_HOST, user=DB_USER, password=DB_PW, database=DB_NAME)\n",
    "cursor = mariadb_connection.cursor()\n",
    "cursor.execute(\n",
    "    \"SELECT id ,disease, platform_type, center, platform, level, barcode, file_name \" + \n",
    "    \"FROM file_manifest \" +\n",
    "    \"WHERE file_name like '%rsem.genes.normalized_results' ORDER BY rand()  limit 2\")\n",
    "for ID ,disease, platform_type, center, platform, level, barcode, file_name  in cursor:\n",
    "    fullPath =  \"{}/{}/{}__{}/{}/{}\".format(disease, platform_type, center, platform, level, file_name) \n",
    "    print fullPath\n",
    "\n",
    "#select count(*) from file_manifest where file_name like '%rsem.genes.normalized_results';\n",
    "mariadb_connection.close()"
   ]
  },
  {
   "cell_type": "markdown",
   "metadata": {},
   "source": [
    "### HBASE에서 컨텐츠 데이터 조회하는 방법"
   ]
  },
  {
   "cell_type": "code",
   "execution_count": 3,
   "metadata": {
    "collapsed": true
   },
   "outputs": [],
   "source": [
    "import happybase\n",
    "pool = happybase.ConnectionPool(size=3, host='node03')   \n",
    "\n",
    "def getHbaseContents( pool, rowkey ) : \n",
    "    with pool.connection() as connection:\n",
    "        table = connection.table('mRNA')\n",
    "        #print( table )\n",
    "        #print( table.regions() )\n",
    "        row = table.row(rowkey)\n",
    "        return row['data:contents']   # prints the value of cf1:col1"
   ]
  },
  {
   "cell_type": "code",
   "execution_count": null,
   "metadata": {
    "collapsed": true
   },
   "outputs": [],
   "source": [
    "print getHbaseContents( pool, 'unc.edu.63f7a81e-c404-49fc-bc72-52b2a81ea9a5.1366788.rsem.genes.normalized_results' )"
   ]
  },
  {
   "cell_type": "code",
   "execution_count": null,
   "metadata": {
    "collapsed": true
   },
   "outputs": [],
   "source": [
    "print getHbaseContents( pool, 'unc.edu.349f670f-1447-4bb0-86ec-fba8734d50ff.2428615.rsem.genes.normalized_results' )"
   ]
  },
  {
   "cell_type": "markdown",
   "metadata": {},
   "source": [
    "- gene_id 는 GENE NAME | GENE ID\n",
    "- 예) A1CF|29974 \n",
    "http://www.ncbi.nlm.nih.gov/gene/29974"
   ]
  },
  {
   "cell_type": "markdown",
   "metadata": {},
   "source": [
    "### mRNA contents 읽어서 float형 array로 변환함."
   ]
  },
  {
   "cell_type": "code",
   "execution_count": 4,
   "metadata": {
    "collapsed": false
   },
   "outputs": [
    {
     "data": {
      "text/plain": [
       "[57.602, 0.0, 2.3191, 73.1354]"
      ]
     },
     "execution_count": 4,
     "metadata": {},
     "output_type": "execute_result"
    }
   ],
   "source": [
    "contents = '''gene_id\tnormalized_count\n",
    "?|100130426\t0.0000\n",
    "?|100133144\t1.4054\n",
    "?|100134869\t6.0158\n",
    "?|10357\t168.7013\n",
    "?|10431\t1127.0872\n",
    "A1BG|1\t57.6020\n",
    "A1CF|29974\t0.0000\n",
    "A2BP1|54715\t2.3191\n",
    "A2LD1|87769\t73.1354\n",
    "''' \n",
    "\n",
    "# 20502\n",
    "#contents = getContents( pool, 'unc.edu.923e19e4-d166-4950-b763-259603ded444.1812289.rsem.genes.normalized_results' ) \n",
    "#contents = getContents( pool, 'unc.edu.63f7a81e-c404-49fc-bc72-52b2a81ea9a5.1366788.rsem.genes.normalized_results' ) \n",
    "\n",
    "def getGeneVals( contents ) : \n",
    "    import StringIO\n",
    "    buf = StringIO.StringIO( contents )\n",
    "    line = buf.readline()\n",
    "    max_id = 0\n",
    "    count = 0\n",
    "    gene_vals = []\n",
    "    while len( line ) > 0 :\n",
    "        if line.startswith( 'gene_id' ) or line.startswith( '?' ) or line.startswith( '<' ) : \n",
    "            line = buf.readline()\n",
    "            continue \n",
    "        \n",
    "        rows = line.strip().split( '\\t' )\n",
    "        gene = rows[0].split( '|' )\n",
    "        gene_id = int( gene[1] )\n",
    "        gene_val = float( rows[1] )\n",
    "        gene_vals.append( gene_val )\n",
    "        #print rows[0], rows[1]\n",
    "        if gene_id  > max_id : max_id = gene_id\n",
    "        line = buf.readline()\n",
    "        count += 1\n",
    "        \n",
    "    #print max_id, count\n",
    "    #print len( gene_vals )\n",
    "    return gene_vals\n",
    "\n",
    "getGeneVals( contents )"
   ]
  },
  {
   "cell_type": "markdown",
   "metadata": {},
   "source": [
    "### Disease별 데이터수 확인"
   ]
  },
  {
   "cell_type": "code",
   "execution_count": 5,
   "metadata": {
    "collapsed": false
   },
   "outputs": [
    {
     "name": "stdout",
     "output_type": "stream",
     "text": [
      "ACC : 79 \n",
      "BLCA : 433 \n",
      "BRCA : 1252 \n",
      "CESC : 309 \n",
      "CHOL : 45 \n",
      "COAD : 547 \n",
      "DLBC : 48 \n",
      "ESCA : 196 \n",
      "FPPP : 76 \n",
      "GBM : 174 \n",
      "HNSC : 566 \n",
      "KICH : 91 \n",
      "KIRC : 614 \n",
      "KIRP : 323 \n",
      "LAML : 173 \n",
      "LGG : 534 \n",
      "LIHC : 424 \n",
      "LUAD : 600 \n",
      "LUSC : 553 \n",
      "MESO : 87 \n",
      "OV : 309 \n",
      "PAAD : 183 \n",
      "PCPG : 187 \n",
      "PRAD : 558 \n",
      "READ : 177 \n",
      "SARC : 265 \n",
      "SKCM : 473 \n",
      "STAD : 450 \n",
      "TGCT : 156 \n",
      "THCA : 572 \n",
      "THYM : 122 \n",
      "UCEC : 590 \n",
      "UCS : 57 \n",
      "UVM : 80 \n",
      "TotalCount :11303\n"
     ]
    }
   ],
   "source": [
    "import mysql.connector as mariadb\n",
    "mariadb_connection = mariadb.connect(host=DB_HOST, user=DB_USER, password=DB_PW, database=DB_NAME)\n",
    "cursor = mariadb_connection.cursor()\n",
    "cursor.execute( \n",
    "    \"SELECT disease, count(*) \" +\n",
    "    \"FROM file_manifest \" + \n",
    "    \"WHERE file_name like '%rsem.genes.normalized_results'  \" + \n",
    "    \"GROUP BY disease ORDER BY disease\" )\n",
    "total_count = 0\n",
    "for disease, count  in cursor:\n",
    "    print \"{} : {} \".format(disease, count)\n",
    "    total_count += count\n",
    "\n",
    "mariadb_connection.close() \n",
    "\n",
    "print \"TotalCount :{}\".format( total_count )"
   ]
  },
  {
   "cell_type": "code",
   "execution_count": 14,
   "metadata": {
    "collapsed": false
   },
   "outputs": [],
   "source": [
    "diseaseDic  = {'ACC'  : 1 \n",
    ",'BLCA' : 2 \n",
    ",'BRCA' : 3  \n",
    ",'CESC' : 4 \n",
    ",'CHOL' : 5 \n",
    ",'COAD' : 6 \n",
    ",'DLBC' : 7 \n",
    ",'ESCA' : 8 \n",
    ",'FPPP' : 9 \n",
    ",'GBM'  : 10\n",
    ",'HNSC' : 11\n",
    ",'KICH' : 12\n",
    ",'KIRC' : 13\n",
    ",'KIRP' : 14\n",
    ",'LAML' : 15\n",
    ",'LGG'  : 16\n",
    ",'LIHC' : 17\n",
    ",'LUAD' : 18\n",
    ",'LUSC' : 19\n",
    ",'MESO' : 20\n",
    ",'OV'   : 21\n",
    ",'PAAD' : 22\n",
    ",'PCPG' : 23\n",
    ",'PRAD' : 24\n",
    ",'READ' : 25\n",
    ",'SARC' : 26\n",
    ",'SKCM' : 27\n",
    ",'STAD' : 28\n",
    ",'TGCT' : 29\n",
    ",'THCA' : 30\n",
    ",'THYM' : 31\n",
    ",'UCEC' : 32\n",
    ",'UCS'  : 33\n",
    ",'UVM'  : 34 }"
   ]
  },
  {
   "cell_type": "code",
   "execution_count": 7,
   "metadata": {
    "collapsed": false
   },
   "outputs": [],
   "source": [
    "def datasetFromDisease( disease, diseaseDic, debug=0 ) :\n",
    "\n",
    "    import mysql.connector as mariadb\n",
    "    mariadb_connection = mariadb.connect(host=DB_HOST, user=DB_USER, password=DB_PW, database=DB_NAME)\n",
    "    cursor = mariadb_connection.cursor()\n",
    "    cursor.execute(\n",
    "        \"SELECT COUNT(*)  FROM file_manifest \" +\n",
    "        \"WHERE disease = '{}' AND file_name like '%%rsem.genes.normalized_results' \".format(disease) )\n",
    "    \n",
    "    totalCount = cursor.fetchall()[0][0]\n",
    "    train_set_cnt = totalCount * 70 /  100\n",
    "    val_set_cnt   = totalCount * 15 /  100\n",
    "    test_set_cnt  = totalCount * 15 /  100\n",
    "    \n",
    "    #print \"{}, TotalCount={}, TrainCount={}, ValCount={}, TestCount={}\".format(disease, totalCount, train_set_cnt, val_set_cnt, test_set_cnt ) \n",
    "    \n",
    "    train_set_cnt += (totalCount - train_set_cnt - val_set_cnt - test_set_cnt  )\n",
    "    #print \"{}, TotalCount={}, TrainCount={}, ValCount={}, TestCount={}\".format(disease, totalCount, train_set_cnt, val_set_cnt, test_set_cnt ) \n",
    "    \n",
    "    cursor.execute(         \n",
    "        \"SELECT disease, file_name  FROM file_manifest \" +\n",
    "        \"WHERE disease = '\" + disease + \"' AND file_name like '%rsem.genes.normalized_results'  \" +\n",
    "        \"ORDER BY rand() \" )\n",
    "    \n",
    "    train_set = []\n",
    "    val_set = []\n",
    "    test_set = []\n",
    "    \n",
    "    cnt = 0;\n",
    "    for disease, file_name  in cursor:\n",
    "        #print \"{} : {} \".format(disease, file_name)\n",
    "        if  train_set_cnt > cnt :\n",
    "            train_set.append( (file_name, diseaseDic[ disease  ])  )\n",
    "        elif  val_set_cnt  + train_set_cnt > cnt : \n",
    "            val_set.append( (file_name, diseaseDic[ disease  ])  )\n",
    "        else :\n",
    "            test_set.append( (file_name, diseaseDic[ disease  ])  )\n",
    "            \n",
    "        cnt += 1\n",
    "    \n",
    "    if 1 == debug :\n",
    "        for file_name, y in train_set : print \"train : {},  {} \".format(file_name, y)\n",
    "        for file_name, y in val_set : print \"val : {},  {} \".format(file_name, y)\n",
    "        for file_name, y in test_set : print \"test : {},  {} \".format(file_name, y)\n",
    "      \n",
    "    mariadb_connection.close() \n",
    "    return [train_set, val_set, test_set]"
   ]
  },
  {
   "cell_type": "code",
   "execution_count": null,
   "metadata": {
    "collapsed": true
   },
   "outputs": [],
   "source": [
    "DATA =  datasetFromDisease( 'BLCA', diseaseDic, 1 )"
   ]
  },
  {
   "cell_type": "code",
   "execution_count": 8,
   "metadata": {
    "collapsed": false
   },
   "outputs": [
    {
     "name": "stdout",
     "output_type": "stream",
     "text": [
      "ACC, TotalCount=79, TrainCount=55, ValCount=11, TestCount=11\n",
      "ACC, TotalCount=79, TrainCount=57, ValCount=11, TestCount=11\n",
      "57 11 11\n",
      "unc.edu.ba350477-3c49-4258-8409-f39447687497.2146316.rsem.genes.normalized_results\n",
      "1\n"
     ]
    }
   ],
   "source": [
    "DATA = datasetFromDisease( 'ACC', diseaseDic )\n",
    "print  len( DATA[0] ) , len( DATA[1] ) , len( DATA[2] ) \n",
    "\n",
    "print DATA[0][0][0]\n",
    "print DATA[0][0][1]"
   ]
  },
  {
   "cell_type": "code",
   "execution_count": null,
   "metadata": {
    "collapsed": true
   },
   "outputs": [],
   "source": [
    "#####################################################\n",
    "# 아래 코드는 학습용 파일이 하나로 생성됨.\n",
    "# 용량이 너무 크기 나옴.\n",
    "#####################################################\n",
    "\n",
    "import time\n",
    "import gzip, cPickle\n",
    "import numpy as np\n",
    "\n",
    "#diseaseDic  = {'ACC'  : 1 , 'BLCA' : 2   }\n",
    "\n",
    "diseases = diseaseDic.keys()\n",
    "train_set_x = []\n",
    "train_set_y = []\n",
    "val_set_x = []\n",
    "val_set_y = []\n",
    "test_set_x = []\n",
    "val_set_y = []\n",
    "\n",
    "now = time.localtime()\n",
    "s = \"%04d-%02d-%02d_%02d:%02d:%02d\" % (now.tm_year, now.tm_mon, now.tm_mday, now.tm_hour, now.tm_min, now.tm_sec)\n",
    "filename = '/home/deepbio/note/work/tcga/data/mrna_{}.pkl.gz'.format( s)\n",
    "print filename\n",
    "f = gzip.open(filename ,'wb')\n",
    "    \n",
    "for disease in diseases : \n",
    "    print \"disease={}\".format(disease)\n",
    "    data = datasetFromDisease( disease, diseaseDic )\n",
    "    train_data = data[0]\n",
    "    for train  in train_data : \n",
    "        contents = getHbaseContents( pool, train[0]  )\n",
    "        train_set_x.append( getGeneVals( contents ) )\n",
    "        train_set_y.append( train[1] ) \n",
    "    \n",
    "    val_data = data[1]\n",
    "    for val  in train_data : \n",
    "        contents = getHbaseContents( pool, val[0]  )\n",
    "        val_set_x.append( getGeneVals( contents ) )\n",
    "        val_set_y.append( val[1] ) \n",
    "                \n",
    "    test_data = data[2]\n",
    "    for test  in test_data : \n",
    "        contents = getHbaseContents( pool, test[0]  )\n",
    "        test_set_x.append( getGeneVals( contents )  )\n",
    "        val_set_y.append( test[1] ) \n",
    "\n",
    "    train_set = np.array(train_set_x), np.array(train_set_y)\n",
    "    val_set   = np.array(val_set_x),  np.array(val_set_y)\n",
    "    test_set  = np.array(test_set_x),  np.array(val_set_y)\n",
    "                     \n",
    "    dataset = [train_set, val_set, test_set]\n",
    "                     \n",
    "    cPickle.dump(dataset, f, protocol=2)\n",
    "    del  dataset \n",
    "    \n",
    "f.close()"
   ]
  },
  {
   "cell_type": "code",
   "execution_count": 9,
   "metadata": {
    "collapsed": false
   },
   "outputs": [],
   "source": [
    "import mysql.connector as mariadb\n",
    "mariadb_connection = mariadb.connect(host=DB_HOST, user=DB_USER, password=DB_PW, database=DB_NAME)\n",
    "\n",
    "def insertTrainData(dbconnection , data_set, type = 1) : \n",
    "    # type =1 은 train, type=2 는 validation, type=3은 test\n",
    "    cursor = dbconnection.cursor()\n",
    "    \n",
    "    for data  in data_set : \n",
    "        sql = \"INSERT INTO train_manifest (file_name, y_val, type ) VALUES ( '{}', {} ,{}  )\".format(  data[0], data[1], type )\n",
    "        #print sql\n",
    "        try:\n",
    "            if  None !=  cursor and  None != sql  :  cursor.execute( sql )\n",
    "        except mariadb.Error as error:\n",
    "            print(\"Error: {}\".format(error))\n",
    "\n",
    "    dbconnection.commit() \n",
    "    \n",
    "mariadb_connection.close() "
   ]
  },
  {
   "cell_type": "code",
   "execution_count": 13,
   "metadata": {
    "collapsed": false
   },
   "outputs": [],
   "source": [
    "import time\n",
    "import gzip, cPickle\n",
    "import numpy as np\n",
    "\n",
    "import mysql.connector as mariadb\n",
    "mariadb_connection = mariadb.connect(host=DB_HOST, user=DB_USER, password=DB_PW, database=DB_NAME)\n",
    "\n",
    "def saveDataSet(dbconnection, basename, type=1) :\n",
    "    cursor = mariadb_connection.cursor()\n",
    "\n",
    "    cursor.execute(\"SELECT count(*) as totalcount FROM train_manifest WHERE  type = %d \" % type )\n",
    "    totalCount = cursor.fetchone() \n",
    "    print \"totalCount=\", totalCount    \n",
    "\n",
    "    offset = 0;\n",
    "    QUERY_FETCH_SIZE = 500\n",
    "    pageCount = totalCount[0] / QUERY_FETCH_SIZE \n",
    "    if totalCount[0] % QUERY_FETCH_SIZE  > 0 : \n",
    "        pageCount += 1\n",
    "\n",
    "    train_set_x = []\n",
    "    train_set_y = []\n",
    "    for idx in range( pageCount )  :\n",
    "        offset = idx * QUERY_FETCH_SIZE\n",
    "        cursor.execute(\"SELECT file_name, y_val, type, id type FROM train_manifest WHERE type = %d  ORDER BY file_name  LIMIT %d, %d\" %(type, offset,QUERY_FETCH_SIZE))\n",
    "        for file_name, y_val, types, ids  in cursor:\n",
    "            #fullPath =  \"{}_{}_{}_{}\".format(file_name, y_val, types, ids) \n",
    "            #print fullPath\n",
    "            contents = getHbaseContents( pool,file_name  )\n",
    "            train_set_x.append( getGeneVals( contents ) )\n",
    "            train_set_y.append( y_val ) \n",
    "            \n",
    "        train_set = np.array(train_set_x), np.array(train_set_y)            \n",
    "        filename = basename + ( \"_type%d_%02d.pkl.gz\"%(type, idx) )\n",
    "        print filename\n",
    "        f = gzip.open(filename ,'wb')\n",
    "        cPickle.dump(train_set, f, protocol=2)\n",
    "        f.close()\n",
    "        \n",
    "        train_set_x = []\n",
    "        train_set_y = []\n",
    "            \n",
    "#########################\n",
    "## 테스트용 코드\n",
    "now = time.localtime()\n",
    "s = \"%04d%02d%02d-%02d%02d%02d\" % (now.tm_year, now.tm_mon, now.tm_mday, now.tm_hour, now.tm_min, now.tm_sec)\n",
    "basename = '/home/deepbio/note/work/tcga/data/mrna_{}'.format( s)\n",
    "\n",
    "#saveDataSet(mariadb_connection, basename, 1)\n",
    "mariadb_connection.close() \n",
    "#########################"
   ]
  },
  {
   "cell_type": "code",
   "execution_count": 15,
   "metadata": {
    "collapsed": false
   },
   "outputs": [
    {
     "name": "stdout",
     "output_type": "stream",
     "text": [
      "disease=ACC\n",
      "ACC, TotalCount=79, TrainCount=55, ValCount=11, TestCount=11\n",
      "ACC, TotalCount=79, TrainCount=57, ValCount=11, TestCount=11\n",
      "disease=DLBC\n",
      "DLBC, TotalCount=48, TrainCount=33, ValCount=7, TestCount=7\n",
      "DLBC, TotalCount=48, TrainCount=34, ValCount=7, TestCount=7\n",
      "disease=PAAD\n",
      "PAAD, TotalCount=183, TrainCount=128, ValCount=27, TestCount=27\n",
      "PAAD, TotalCount=183, TrainCount=129, ValCount=27, TestCount=27\n",
      "disease=TGCT\n",
      "TGCT, TotalCount=156, TrainCount=109, ValCount=23, TestCount=23\n",
      "TGCT, TotalCount=156, TrainCount=110, ValCount=23, TestCount=23\n",
      "disease=LUSC\n",
      "LUSC, TotalCount=553, TrainCount=387, ValCount=82, TestCount=82\n",
      "LUSC, TotalCount=553, TrainCount=389, ValCount=82, TestCount=82\n",
      "disease=READ\n",
      "READ, TotalCount=177, TrainCount=123, ValCount=26, TestCount=26\n",
      "READ, TotalCount=177, TrainCount=125, ValCount=26, TestCount=26\n",
      "disease=GBM\n",
      "GBM, TotalCount=174, TrainCount=121, ValCount=26, TestCount=26\n",
      "GBM, TotalCount=174, TrainCount=122, ValCount=26, TestCount=26\n",
      "disease=THCA\n",
      "THCA, TotalCount=572, TrainCount=400, ValCount=85, TestCount=85\n",
      "THCA, TotalCount=572, TrainCount=402, ValCount=85, TestCount=85\n",
      "disease=BLCA\n",
      "BLCA, TotalCount=433, TrainCount=303, ValCount=64, TestCount=64\n",
      "BLCA, TotalCount=433, TrainCount=305, ValCount=64, TestCount=64\n",
      "disease=MESO\n",
      "MESO, TotalCount=87, TrainCount=60, ValCount=13, TestCount=13\n",
      "MESO, TotalCount=87, TrainCount=61, ValCount=13, TestCount=13\n",
      "disease=FPPP\n",
      "FPPP, TotalCount=76, TrainCount=53, ValCount=11, TestCount=11\n",
      "FPPP, TotalCount=76, TrainCount=54, ValCount=11, TestCount=11\n",
      "disease=KIRC\n",
      "KIRC, TotalCount=614, TrainCount=429, ValCount=92, TestCount=92\n",
      "KIRC, TotalCount=614, TrainCount=430, ValCount=92, TestCount=92\n",
      "disease=PCPG\n",
      "PCPG, TotalCount=187, TrainCount=130, ValCount=28, TestCount=28\n",
      "PCPG, TotalCount=187, TrainCount=131, ValCount=28, TestCount=28\n",
      "disease=STAD\n",
      "STAD, TotalCount=450, TrainCount=315, ValCount=67, TestCount=67\n",
      "STAD, TotalCount=450, TrainCount=316, ValCount=67, TestCount=67\n",
      "disease=ESCA\n",
      "ESCA, TotalCount=196, TrainCount=137, ValCount=29, TestCount=29\n",
      "ESCA, TotalCount=196, TrainCount=138, ValCount=29, TestCount=29\n",
      "disease=CESC\n",
      "CESC, TotalCount=309, TrainCount=216, ValCount=46, TestCount=46\n",
      "CESC, TotalCount=309, TrainCount=217, ValCount=46, TestCount=46\n",
      "disease=UCS\n",
      "UCS, TotalCount=57, TrainCount=39, ValCount=8, TestCount=8\n",
      "UCS, TotalCount=57, TrainCount=41, ValCount=8, TestCount=8\n",
      "disease=THYM\n",
      "THYM, TotalCount=122, TrainCount=85, ValCount=18, TestCount=18\n",
      "THYM, TotalCount=122, TrainCount=86, ValCount=18, TestCount=18\n",
      "disease=UCEC\n",
      "UCEC, TotalCount=590, TrainCount=413, ValCount=88, TestCount=88\n",
      "UCEC, TotalCount=590, TrainCount=414, ValCount=88, TestCount=88\n",
      "disease=OV\n",
      "OV, TotalCount=309, TrainCount=216, ValCount=46, TestCount=46\n",
      "OV, TotalCount=309, TrainCount=217, ValCount=46, TestCount=46\n",
      "disease=UVM\n",
      "UVM, TotalCount=80, TrainCount=56, ValCount=12, TestCount=12\n",
      "UVM, TotalCount=80, TrainCount=56, ValCount=12, TestCount=12\n",
      "disease=SARC\n",
      "SARC, TotalCount=265, TrainCount=185, ValCount=39, TestCount=39\n",
      "SARC, TotalCount=265, TrainCount=187, ValCount=39, TestCount=39\n",
      "disease=KIRP\n",
      "KIRP, TotalCount=323, TrainCount=226, ValCount=48, TestCount=48\n",
      "KIRP, TotalCount=323, TrainCount=227, ValCount=48, TestCount=48\n",
      "disease=CHOL\n",
      "CHOL, TotalCount=45, TrainCount=31, ValCount=6, TestCount=6\n",
      "CHOL, TotalCount=45, TrainCount=33, ValCount=6, TestCount=6\n",
      "disease=LGG\n",
      "LGG, TotalCount=534, TrainCount=373, ValCount=80, TestCount=80\n",
      "LGG, TotalCount=534, TrainCount=374, ValCount=80, TestCount=80\n",
      "disease=LAML\n",
      "LAML, TotalCount=173, TrainCount=121, ValCount=25, TestCount=25\n",
      "LAML, TotalCount=173, TrainCount=123, ValCount=25, TestCount=25\n",
      "disease=LIHC\n",
      "LIHC, TotalCount=424, TrainCount=296, ValCount=63, TestCount=63\n",
      "LIHC, TotalCount=424, TrainCount=298, ValCount=63, TestCount=63\n",
      "disease=HNSC\n",
      "HNSC, TotalCount=566, TrainCount=396, ValCount=84, TestCount=84\n",
      "HNSC, TotalCount=566, TrainCount=398, ValCount=84, TestCount=84\n",
      "disease=PRAD\n",
      "PRAD, TotalCount=558, TrainCount=390, ValCount=83, TestCount=83\n",
      "PRAD, TotalCount=558, TrainCount=392, ValCount=83, TestCount=83\n",
      "disease=LUAD\n",
      "LUAD, TotalCount=600, TrainCount=420, ValCount=90, TestCount=90\n",
      "LUAD, TotalCount=600, TrainCount=420, ValCount=90, TestCount=90\n",
      "disease=BRCA\n",
      "BRCA, TotalCount=1252, TrainCount=876, ValCount=187, TestCount=187\n",
      "BRCA, TotalCount=1252, TrainCount=878, ValCount=187, TestCount=187\n",
      "disease=COAD\n",
      "COAD, TotalCount=547, TrainCount=382, ValCount=82, TestCount=82\n",
      "COAD, TotalCount=547, TrainCount=383, ValCount=82, TestCount=82\n",
      "disease=KICH\n",
      "KICH, TotalCount=91, TrainCount=63, ValCount=13, TestCount=13\n",
      "KICH, TotalCount=91, TrainCount=65, ValCount=13, TestCount=13\n",
      "disease=SKCM\n",
      "SKCM, TotalCount=473, TrainCount=331, ValCount=70, TestCount=70\n",
      "SKCM, TotalCount=473, TrainCount=333, ValCount=70, TestCount=70\n",
      "totalCount= (7945,)\n",
      "/home/deepbio/note/work/tcga/data/mrna_20160125-200855_type1_00.pkl.gz\n",
      "/home/deepbio/note/work/tcga/data/mrna_20160125-200855_type1_01.pkl.gz\n",
      "/home/deepbio/note/work/tcga/data/mrna_20160125-200855_type1_02.pkl.gz\n",
      "/home/deepbio/note/work/tcga/data/mrna_20160125-200855_type1_03.pkl.gz\n",
      "/home/deepbio/note/work/tcga/data/mrna_20160125-200855_type1_04.pkl.gz\n",
      "/home/deepbio/note/work/tcga/data/mrna_20160125-200855_type1_05.pkl.gz\n",
      "/home/deepbio/note/work/tcga/data/mrna_20160125-200855_type1_06.pkl.gz\n",
      "/home/deepbio/note/work/tcga/data/mrna_20160125-200855_type1_07.pkl.gz\n",
      "/home/deepbio/note/work/tcga/data/mrna_20160125-200855_type1_08.pkl.gz\n",
      "/home/deepbio/note/work/tcga/data/mrna_20160125-200855_type1_09.pkl.gz\n",
      "/home/deepbio/note/work/tcga/data/mrna_20160125-200855_type1_10.pkl.gz\n",
      "/home/deepbio/note/work/tcga/data/mrna_20160125-200855_type1_11.pkl.gz\n",
      "/home/deepbio/note/work/tcga/data/mrna_20160125-200855_type1_12.pkl.gz\n",
      "/home/deepbio/note/work/tcga/data/mrna_20160125-200855_type1_13.pkl.gz\n",
      "/home/deepbio/note/work/tcga/data/mrna_20160125-200855_type1_14.pkl.gz\n",
      "/home/deepbio/note/work/tcga/data/mrna_20160125-200855_type1_15.pkl.gz\n",
      "totalCount= (1679,)\n",
      "/home/deepbio/note/work/tcga/data/mrna_20160125-200855_type2_00.pkl.gz\n",
      "/home/deepbio/note/work/tcga/data/mrna_20160125-200855_type2_01.pkl.gz\n",
      "/home/deepbio/note/work/tcga/data/mrna_20160125-200855_type2_02.pkl.gz\n",
      "/home/deepbio/note/work/tcga/data/mrna_20160125-200855_type2_03.pkl.gz\n",
      "totalCount= (1679,)\n",
      "/home/deepbio/note/work/tcga/data/mrna_20160125-200855_type3_00.pkl.gz\n",
      "/home/deepbio/note/work/tcga/data/mrna_20160125-200855_type3_01.pkl.gz\n",
      "/home/deepbio/note/work/tcga/data/mrna_20160125-200855_type3_02.pkl.gz\n",
      "/home/deepbio/note/work/tcga/data/mrna_20160125-200855_type3_03.pkl.gz\n"
     ]
    }
   ],
   "source": [
    "#diseaseDic  = {'ACC'  : 1 , 'BLCA' : 2   }\n",
    "\n",
    "import mysql.connector as mariadb\n",
    "mariadb_connection = mariadb.connect(host=DB_HOST, user=DB_USER, password=DB_PW, database=DB_NAME)\n",
    "\n",
    "cursor = mariadb_connection.cursor()\n",
    "cursor.execute( \"DELETE FROM train_manifest WHERE id > 0 \" )\n",
    "mariadb_connection.commit() \n",
    "\n",
    "diseases = diseaseDic.keys()\n",
    "for disease in diseases : \n",
    "    print \"disease={}\".format(disease)\n",
    "    data = datasetFromDisease( disease, diseaseDic )\n",
    "    train_data = data[0]\n",
    "    val_data = data[1]\n",
    "    test_data = data[2]\n",
    "    insertTrainData(mariadb_connection,  train_data, 1 )\n",
    "    insertTrainData(mariadb_connection,  val_data, 2 )\n",
    "    insertTrainData(mariadb_connection,  test_data, 3 )\n",
    "\n",
    "\n",
    "now = time.localtime()\n",
    "s = \"%04d%02d%02d-%02d%02d%02d\" % (now.tm_year, now.tm_mon, now.tm_mday, now.tm_hour, now.tm_min, now.tm_sec)\n",
    "basename = '/home/deepbio/note/work/tcga/data/mrna_{}'.format( s )\n",
    "\n",
    "saveDataSet(mariadb_connection, basename, 1)\n",
    "saveDataSet(mariadb_connection, basename, 2)\n",
    "saveDataSet(mariadb_connection, basename, 3)\n",
    "    \n",
    "mariadb_connection.close() "
   ]
  },
  {
   "cell_type": "code",
   "execution_count": 16,
   "metadata": {
    "collapsed": false
   },
   "outputs": [
    {
     "name": "stdout",
     "output_type": "stream",
     "text": [
      "total 707776\r\n",
      "drwxrwxr-x 3 deepbio deepbio     4096 Jan 25 22:23 .\r\n",
      "drwxrwxr-x 4 deepbio deepbio     4096 Jan 25 09:48 ..\r\n",
      "drwxrwxr-x 2 deepbio deepbio     4096 Jan 25 18:27 bak\r\n",
      "-rw-rw-r-- 1 deepbio deepbio 32216845 Jan 25 20:13 mrna_20160125-200855_type1_00.pkl.gz\r\n",
      "-rw-rw-r-- 1 deepbio deepbio 32096294 Jan 25 20:19 mrna_20160125-200855_type1_01.pkl.gz\r\n",
      "-rw-rw-r-- 1 deepbio deepbio 32032107 Jan 25 20:24 mrna_20160125-200855_type1_02.pkl.gz\r\n",
      "-rw-rw-r-- 1 deepbio deepbio 32024240 Jan 25 20:30 mrna_20160125-200855_type1_03.pkl.gz\r\n",
      "-rw-rw-r-- 1 deepbio deepbio 31956428 Jan 25 20:35 mrna_20160125-200855_type1_04.pkl.gz\r\n",
      "-rw-rw-r-- 1 deepbio deepbio 32039357 Jan 25 20:42 mrna_20160125-200855_type1_05.pkl.gz\r\n",
      "-rw-rw-r-- 1 deepbio deepbio 32070663 Jan 25 20:48 mrna_20160125-200855_type1_06.pkl.gz\r\n",
      "-rw-rw-r-- 1 deepbio deepbio 32204918 Jan 25 20:54 mrna_20160125-200855_type1_07.pkl.gz\r\n",
      "-rw-rw-r-- 1 deepbio deepbio 32198752 Jan 25 20:59 mrna_20160125-200855_type1_08.pkl.gz\r\n",
      "-rw-rw-r-- 1 deepbio deepbio 32179649 Jan 25 21:05 mrna_20160125-200855_type1_09.pkl.gz\r\n",
      "-rw-rw-r-- 1 deepbio deepbio 32127906 Jan 25 21:12 mrna_20160125-200855_type1_10.pkl.gz\r\n",
      "-rw-rw-r-- 1 deepbio deepbio 32073768 Jan 25 21:17 mrna_20160125-200855_type1_11.pkl.gz\r\n",
      "-rw-rw-r-- 1 deepbio deepbio 31934600 Jan 25 21:23 mrna_20160125-200855_type1_12.pkl.gz\r\n",
      "-rw-rw-r-- 1 deepbio deepbio 32026200 Jan 25 21:29 mrna_20160125-200855_type1_13.pkl.gz\r\n",
      "-rw-rw-r-- 1 deepbio deepbio 32055890 Jan 25 21:35 mrna_20160125-200855_type1_14.pkl.gz\r\n",
      "-rw-rw-r-- 1 deepbio deepbio 28513728 Jan 25 21:41 mrna_20160125-200855_type1_15.pkl.gz\r\n",
      "-rw-rw-r-- 1 deepbio deepbio 31922694 Jan 25 21:47 mrna_20160125-200855_type2_00.pkl.gz\r\n",
      "-rw-rw-r-- 1 deepbio deepbio 32040832 Jan 25 21:54 mrna_20160125-200855_type2_01.pkl.gz\r\n",
      "-rw-rw-r-- 1 deepbio deepbio 32037288 Jan 25 21:59 mrna_20160125-200855_type2_02.pkl.gz\r\n",
      "-rw-rw-r-- 1 deepbio deepbio 11443611 Jan 25 22:02 mrna_20160125-200855_type2_03.pkl.gz\r\n",
      "-rw-rw-r-- 1 deepbio deepbio 32089986 Jan 25 22:08 mrna_20160125-200855_type3_00.pkl.gz\r\n",
      "-rw-rw-r-- 1 deepbio deepbio 31963722 Jan 25 22:15 mrna_20160125-200855_type3_01.pkl.gz\r\n",
      "-rw-rw-r-- 1 deepbio deepbio 32017167 Jan 25 22:21 mrna_20160125-200855_type3_02.pkl.gz\r\n",
      "-rw-rw-r-- 1 deepbio deepbio 11435459 Jan 25 22:23 mrna_20160125-200855_type3_03.pkl.gz\r\n"
     ]
    }
   ],
   "source": [
    "! ls -al  /home/deepbio/note/work/tcga/data/"
   ]
  },
  {
   "cell_type": "markdown",
   "metadata": {},
   "source": [
    "http://stackoverflow.com/questions/26107927/how-to-put-my-dataset-in-a-pkl-file-in-the-exact-format-and-data-structure-used\n",
    "\n",
    "```\n",
    "from PIL import Image\n",
    "from numpy import genfromtxt\n",
    "import gzip, cPickle\n",
    "from glob import glob\n",
    "import numpy as np\n",
    "import pandas as pd\n",
    "Data, y = dir_to_dataset(\"trainMNISTForm\\\\*.BMP\",\"trainLabels.csv\")\n",
    "# Data and labels are read \n",
    "\n",
    "train_set_x = Data[:2093]\n",
    "val_set_x = Data[2094:4187]\n",
    "test_set_x = Data[4188:6281]\n",
    "train_set_y = y[:2093]\n",
    "val_set_y = y[2094:4187]\n",
    "test_set_y = y[4188:6281]\n",
    "# Divided dataset into 3 parts. I had 6281 images.\n",
    "\n",
    "train_set = train_set_x, train_set_y\n",
    "val_set = val_set_x, val_set_y\n",
    "test_set = test_set_x, val_set_y\n",
    "\n",
    "dataset = [train_set, val_set, test_set]\n",
    "\n",
    "f = gzip.open('file.pkl.gz','wb')\n",
    "cPickle.dump(dataset, f, protocol=2)\n",
    "f.close()\n",
    "\n",
    "```"
   ]
  },
  {
   "cell_type": "code",
   "execution_count": null,
   "metadata": {
    "collapsed": true
   },
   "outputs": [],
   "source": []
  }
 ],
 "metadata": {
  "kernelspec": {
   "display_name": "Python 2",
   "language": "python",
   "name": "python2"
  },
  "language_info": {
   "codemirror_mode": {
    "name": "ipython",
    "version": 2
   },
   "file_extension": ".py",
   "mimetype": "text/x-python",
   "name": "python",
   "nbconvert_exporter": "python",
   "pygments_lexer": "ipython2",
   "version": "2.7.11"
  }
 },
 "nbformat": 4,
 "nbformat_minor": 0
}
