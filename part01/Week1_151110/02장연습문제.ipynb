{
 "cells": [
  {
   "cell_type": "markdown",
   "metadata": {},
   "source": [
    "# 제 2 장 변수, 표현식, 문장(Statement)\n",
    "\n",
    "###  Exercise 2.2 raw_input을 사용하여 사용자의 이름을 입력받고 환영하는 프로그램을 작성하세요.\n",
    "```\n",
    "  Enter your name: Chuck \n",
    "  Hello Chuck\n",
    " ```"
   ]
  },
  {
   "cell_type": "code",
   "execution_count": 1,
   "metadata": {
    "collapsed": false
   },
   "outputs": [
    {
     "name": "stdout",
     "output_type": "stream",
     "text": [
      "Enter your name: Chuck\n"
     ]
    }
   ],
   "source": [
    "name = raw_input('Enter your name: ')"
   ]
  },
  {
   "cell_type": "code",
   "execution_count": 2,
   "metadata": {
    "collapsed": false
   },
   "outputs": [
    {
     "name": "stdout",
     "output_type": "stream",
     "text": [
      "Hello Chuck\n"
     ]
    }
   ],
   "source": [
    "print \"Hello \" + name"
   ]
  },
  {
   "cell_type": "markdown",
   "metadata": {},
   "source": [
    "###  Exercise 2.3 급여를지불하기위해서사용자로부터근로시간과시간당임금을 계산하는 프로그램을 작성하세요.\n",
    "```\n",
    "Enter Hours: 35\n",
    "Enter Rate: 2.75\n",
    "Pay: 96.25\n",
    "```"
   ]
  },
  {
   "cell_type": "code",
   "execution_count": 4,
   "metadata": {
    "collapsed": false
   },
   "outputs": [
    {
     "name": "stdout",
     "output_type": "stream",
     "text": [
      "Enter Hours : 35\n"
     ]
    }
   ],
   "source": [
    "hours = raw_input( 'Enter Hours : ')"
   ]
  },
  {
   "cell_type": "code",
   "execution_count": 5,
   "metadata": {
    "collapsed": false
   },
   "outputs": [
    {
     "name": "stdout",
     "output_type": "stream",
     "text": [
      "Enter Rate : 2.75\n"
     ]
    }
   ],
   "source": [
    "rate = raw_input( 'Enter Rate : ')"
   ]
  },
  {
   "cell_type": "code",
   "execution_count": 9,
   "metadata": {
    "collapsed": false
   },
   "outputs": [
    {
     "name": "stdout",
     "output_type": "stream",
     "text": [
      "Pay : 96.25\n"
     ]
    }
   ],
   "source": [
    "pay =  float(hours) * float(rate )\n",
    "print \"Pay : \" + str( pay )"
   ]
  },
  {
   "cell_type": "markdown",
   "metadata": {},
   "source": [
    "### Exercise 2.4 다음 대입 문장을 실행한다고 가정합시다.\n",
    "```\n",
    "width = 17\n",
    "height = 12.0\n",
    "```\n",
    "\n",
    "- 다음표현식각각에대해서,표현식의값(value)과(표현식값의)자료형(type)을 작성하세요.\n",
    "\n",
    "```\n",
    "1. width/2\n",
    "2. width/2.0\n",
    "3. height/3\n",
    "4. 1 + 2 * 5\n",
    "```\n",
    "\n",
    "- 정답을 확인하기 위해서 파이썬 인터프리터를 사용하세요"
   ]
  },
  {
   "cell_type": "code",
   "execution_count": 15,
   "metadata": {
    "collapsed": false
   },
   "outputs": [
    {
     "data": {
      "text/plain": [
       "int"
      ]
     },
     "execution_count": 15,
     "metadata": {},
     "output_type": "execute_result"
    }
   ],
   "source": [
    "width = 17\n",
    "height = 12.0\n",
    "\n",
    "type( width/2 )"
   ]
  },
  {
   "cell_type": "code",
   "execution_count": 12,
   "metadata": {
    "collapsed": false
   },
   "outputs": [
    {
     "data": {
      "text/plain": [
       "float"
      ]
     },
     "execution_count": 12,
     "metadata": {},
     "output_type": "execute_result"
    }
   ],
   "source": [
    "type( width/2.0 )"
   ]
  },
  {
   "cell_type": "code",
   "execution_count": 13,
   "metadata": {
    "collapsed": false
   },
   "outputs": [
    {
     "data": {
      "text/plain": [
       "float"
      ]
     },
     "execution_count": 13,
     "metadata": {},
     "output_type": "execute_result"
    }
   ],
   "source": [
    "type( height/3 )\n"
   ]
  },
  {
   "cell_type": "code",
   "execution_count": 14,
   "metadata": {
    "collapsed": false
   },
   "outputs": [
    {
     "data": {
      "text/plain": [
       "int"
      ]
     },
     "execution_count": 14,
     "metadata": {},
     "output_type": "execute_result"
    }
   ],
   "source": [
    "type( 1 + 2 * 5 )"
   ]
  },
  {
   "cell_type": "markdown",
   "metadata": {},
   "source": [
    "### Exercise 2.5 사용자로부터섭씨온도를입력받아화씨온도로변환하고,변환된 온도를 출력하는 프로그램을 작성하세요."
   ]
  },
  {
   "cell_type": "code",
   "execution_count": 18,
   "metadata": {
    "collapsed": false
   },
   "outputs": [
    {
     "name": "stdout",
     "output_type": "stream",
     "text": [
      "Enter Celsius(°C) : 12\n"
     ]
    }
   ],
   "source": [
    "celsius = raw_input( 'Enter Celsius(°C) : ')"
   ]
  },
  {
   "cell_type": "code",
   "execution_count": 19,
   "metadata": {
    "collapsed": false
   },
   "outputs": [
    {
     "name": "stdout",
     "output_type": "stream",
     "text": [
      "53.6 °F\n"
     ]
    }
   ],
   "source": [
    "fahrenheit = float(celsius) * 1.8 + 32\n",
    "print str(fahrenheit)  +  \" °F\""
   ]
  },
  {
   "cell_type": "markdown",
   "metadata": {},
   "source": [
    "# 제 3 장 조건부 실행"
   ]
  },
  {
   "cell_type": "markdown",
   "metadata": {},
   "source": [
    "### Exercise 3.1 40시간 이상 일할 경우 시급을 1.5배 더 종업원에게 지급하는 봉급계산 프로그램을 다시 작성하세요.\n",
    "```\n",
    "Enter Hours: 45\n",
    "Enter Rate: 10\n",
    "Pay: 475.0\n",
    "```"
   ]
  },
  {
   "cell_type": "code",
   "execution_count": 1,
   "metadata": {
    "collapsed": false
   },
   "outputs": [
    {
     "name": "stdout",
     "output_type": "stream",
     "text": [
      "Enter Hours : 45\n"
     ]
    }
   ],
   "source": [
    "hours_str = raw_input( 'Enter Hours : ')"
   ]
  },
  {
   "cell_type": "code",
   "execution_count": 2,
   "metadata": {
    "collapsed": false
   },
   "outputs": [
    {
     "name": "stdout",
     "output_type": "stream",
     "text": [
      "Enter Rate : 10\n"
     ]
    }
   ],
   "source": [
    "rate_str = raw_input( 'Enter Rate : ')"
   ]
  },
  {
   "cell_type": "code",
   "execution_count": 4,
   "metadata": {
    "collapsed": false
   },
   "outputs": [
    {
     "name": "stdout",
     "output_type": "stream",
     "text": [
      "Pay : 475.0\n"
     ]
    }
   ],
   "source": [
    "hours = float( hours_str )\n",
    "rate = float( rate_str )\n",
    "\n",
    "\n",
    "if hours > 40 :\n",
    "    pay  = 40 * rate  +  (hours - 40) * rate * 1.5\n",
    "else :\n",
    "    pay =  hours * rate    \n",
    "\n",
    "print \"Pay : \" + str( pay )"
   ]
  },
  {
   "cell_type": "markdown",
   "metadata": {
    "collapsed": true
   },
   "source": [
    "###  Exercise 3.2 try, except를 사용하여 봉급계산 프로그램을 다시 작성하세요.\n",
    "- 숫자가 아닌 입력값을 잘 처리해서 숫자 아닌 입력값이 들어왔을 때 메시지를 출력하고 정상적으로 프로그램을 종료하도록 합니다. 다음이 프로그램 출력 결과를 보여줍니다.\n",
    "\n",
    "```\n",
    "Enter Hours: 20\n",
    "Enter Rate: nine\n",
    "Error, please enter numeric input\n",
    "\n",
    "Enter Hours: forty\n",
    "Error, please enter numeric input\n",
    "```"
   ]
  },
  {
   "cell_type": "code",
   "execution_count": 5,
   "metadata": {
    "collapsed": false
   },
   "outputs": [
    {
     "name": "stdout",
     "output_type": "stream",
     "text": [
      "Enter Hours : forty\n"
     ]
    }
   ],
   "source": [
    "hours_str = raw_input( 'Enter Hours : ')"
   ]
  },
  {
   "cell_type": "code",
   "execution_count": 2,
   "metadata": {
    "collapsed": false
   },
   "outputs": [
    {
     "name": "stdout",
     "output_type": "stream",
     "text": [
      "Enter Rate : nine\n"
     ]
    }
   ],
   "source": [
    "rate_str = raw_input( 'Enter Rate : ')"
   ]
  },
  {
   "cell_type": "code",
   "execution_count": 6,
   "metadata": {
    "collapsed": false
   },
   "outputs": [
    {
     "name": "stdout",
     "output_type": "stream",
     "text": [
      "Error, please enter numeric input\n",
      "Error, please enter numeric input\n"
     ]
    }
   ],
   "source": [
    "try:\n",
    "    hours = float( hours_str )\n",
    "except:\n",
    "    print 'Error, please enter numeric input'\n",
    "    \n",
    "try:    \n",
    "    rate = float( rate_str )\n",
    "except:\n",
    "    print 'Error, please enter numeric input'\n"
   ]
  },
  {
   "cell_type": "markdown",
   "metadata": {},
   "source": [
    "###  Exercise 3.3 0.0과 1.0 사이의 점수를 출력하는 프로그램을 작성하세요. 만약 점수가 범위 밖이면 오류를 출력합니다. 만약 점수가 0.0과 1.0 사이라면, 다음의 테이블에 따라 등급을 출력합니다.\n",
    "\n",
    "```\n",
    "Score Grade\n",
    ">= 0.9 A\n",
    ">= 0.8 B\n",
    ">= 0.7 C\n",
    ">= 0.6 D\n",
    "< 0.6 F\n",
    "Enter score: 0.95\n",
    "A\n",
    "Enter score: perfect\n",
    "Bad score\n",
    "Enter score: 10.0\n",
    "Bad score\n",
    "Enter score: 0.75\n",
    "C\n",
    "Enter score: 0.5\n",
    "F\n",
    "```\n",
    "\n",
    "- 상기 보이는 것처럼 반복적으로 프로그램을 실행해서 다양한 다른 입력값을 테스트해 보세요."
   ]
  },
  {
   "cell_type": "code",
   "execution_count": 2,
   "metadata": {
    "collapsed": false
   },
   "outputs": [
    {
     "name": "stdout",
     "output_type": "stream",
     "text": [
      "Enter score: 0.5\n",
      "F\n"
     ]
    }
   ],
   "source": [
    "score_str = raw_input( 'Enter score: ')\n",
    "grade = ''\n",
    "try :\n",
    "    score = float( score_str )\n",
    "    if  score > 1.0 or score < 0.0 :\n",
    "        print 'Bad score'\n",
    "    elif score >= 0.9 :\n",
    "        print 'A'\n",
    "    elif score >= 0.8 :\n",
    "        print 'B'\n",
    "    elif score >= 0.7 :\n",
    "        print 'C'\n",
    "    elif score >= 0.6 :\n",
    "        print 'D'\n",
    "    else :\n",
    "        print 'F'\n",
    "except:\n",
    "    print 'Bad score'"
   ]
  },
  {
   "cell_type": "markdown",
   "metadata": {
    "collapsed": true
   },
   "source": [
    "# 제 4 장 함수"
   ]
  },
  {
   "cell_type": "markdown",
   "metadata": {},
   "source": [
    "## Exercise 4.4 파이썬 \"def\" 키워드의 목적은 무엇입니까?\n",
    "- a) \"다음의 코드는 정말 좋다\"라는 의미를 가진 속어\n",
    "- b) 함수의 시작을 표시한다.\n",
    "- c) 다음의 들여쓰기 코드 부문은 나중을 위해 저장되야 된다는 것을 표시한다.\n",
    "- d) b와 c 모두 사실\n",
    "- e) 위 모두 거짓"
   ]
  },
  {
   "cell_type": "markdown",
   "metadata": {},
   "source": [
    "b"
   ]
  },
  {
   "cell_type": "markdown",
   "metadata": {},
   "source": [
    "### Exercise 4.5 다음 파이썬 프로그램은 무엇을 출력할까요?\n",
    "\n",
    "```\n",
    "def fred():\n",
    "    print \"Zap\"\n",
    "    \n",
    "def jane():\n",
    "    print \"ABC\"\n",
    "    \n",
    "jane()\n",
    "fred()\n",
    "jane()\n",
    "```\n",
    "\n",
    "- a) Zap ABC jane fred jane\n",
    "- b) Zap ABC Zap\n",
    "- c) ABC Zap jane\n",
    "- d) ABC Zap ABC\n",
    "- e) Zap Zap Zap"
   ]
  },
  {
   "cell_type": "markdown",
   "metadata": {},
   "source": [
    "d"
   ]
  },
  {
   "cell_type": "markdown",
   "metadata": {},
   "source": [
    "### Exercise 4.6 프로그램 작성 시 (hours과 rate)을 매개 변수로 갖는 함수 computepay을 생성하여,초과근무에대해서는50％ 초과 근무수당을지급하는 봉급 계산 프로그램을 다시 작성하세요.\n",
    "\n",
    "```\n",
    "Enter Hours: 45\n",
    "Enter Rate: 10\n",
    "Pay: 475.0\n",
    "```"
   ]
  },
  {
   "cell_type": "code",
   "execution_count": 9,
   "metadata": {
    "collapsed": true
   },
   "outputs": [],
   "source": [
    "def computepay( hours,  rate ) :    \n",
    "    if hours > 40 :\n",
    "        pay  = 40 * rate  +  (hours - 40) * rate * 1.5\n",
    "    else :\n",
    "        pay =  hours * rate\n",
    "    \n",
    "    return pay"
   ]
  },
  {
   "cell_type": "code",
   "execution_count": 5,
   "metadata": {
    "collapsed": false
   },
   "outputs": [
    {
     "name": "stdout",
     "output_type": "stream",
     "text": [
      "Enter Hours : 45\n"
     ]
    }
   ],
   "source": [
    "hours_str = raw_input( 'Enter Hours : ')\n",
    "try : \n",
    "    housr = float( hours_str )\n",
    "except :\n",
    "    print 'Error, please enter numeric input'"
   ]
  },
  {
   "cell_type": "code",
   "execution_count": 6,
   "metadata": {
    "collapsed": false
   },
   "outputs": [
    {
     "name": "stdout",
     "output_type": "stream",
     "text": [
      "Enter Rate : 10\n"
     ]
    }
   ],
   "source": [
    "rate_str = raw_input( 'Enter Rate : ')\n",
    "try : \n",
    "    rate = float( rate_str )\n",
    "except :\n",
    "    print 'Error, please enter numeric input'"
   ]
  },
  {
   "cell_type": "code",
   "execution_count": 10,
   "metadata": {
    "collapsed": false
   },
   "outputs": [
    {
     "name": "stdout",
     "output_type": "stream",
     "text": [
      "Pay :475.0\n"
     ]
    }
   ],
   "source": [
    "pay_new  = computepay( housr, rate  ) \n",
    "print 'Pay :' + str( pay_new )"
   ]
  },
  {
   "cell_type": "markdown",
   "metadata": {},
   "source": [
    "###  Exercise 4.7 매개 변수로 점수를 받아 문자열로 등급을 반환하는 computegrade 함수를 사용하여 앞장의 등급 프로그램을 다시 작성하세요.\n",
    "\n",
    "```\n",
    "Score Grade\n",
    "> 0.9 A\n",
    "> 0.8 B\n",
    "> 0.7 C\n",
    "> 0.6 D\n",
    "<= 0.6 F\n",
    "Program Execution:\n",
    "Enter score: 0.95\n",
    "A\n",
    "Enter score: perfect\n",
    "Bad score\n",
    "Enter score: 10.0\n",
    "Bad score\n",
    "Enter score: 0.75\n",
    "C\n",
    "Enter score: 0.5\n",
    "F\n",
    "```\n",
    "\n",
    "- 반복적으로 프로그램을 실행해서 다양한 다른 입력값을 테스트해 보세요."
   ]
  },
  {
   "cell_type": "code",
   "execution_count": 11,
   "metadata": {
    "collapsed": true
   },
   "outputs": [],
   "source": [
    "def computegrade( score ) :\n",
    "    if score > 0.9 :\n",
    "        grade =  'A'\n",
    "    elif score > 0.8 :\n",
    "        grade =  'B'\n",
    "    elif score > 0.7 :\n",
    "        grade =  'C'\n",
    "    elif score > 0.6 :\n",
    "        grade =  'D'\n",
    "    else :\n",
    "        grade = 'F'\n",
    "    \n",
    "    return grade"
   ]
  },
  {
   "cell_type": "code",
   "execution_count": 16,
   "metadata": {
    "collapsed": false
   },
   "outputs": [
    {
     "name": "stdout",
     "output_type": "stream",
     "text": [
      "Enter score: 0.5\n",
      "F\n"
     ]
    }
   ],
   "source": [
    "score_str = raw_input( 'Enter score: ')\n",
    "try :\n",
    "    score = float( score_str )\n",
    "    if  score > 1.0 or score < 0.0 :\n",
    "        print 'Bad score'\n",
    "    else :\n",
    "        print computegrade( score )\n",
    "\n",
    "except :\n",
    "    print 'Bad score'"
   ]
  },
  {
   "cell_type": "markdown",
   "metadata": {
    "collapsed": true
   },
   "source": [
    "# 2장 강의 실습 "
   ]
  },
  {
   "cell_type": "code",
   "execution_count": 1,
   "metadata": {
    "collapsed": false
   },
   "outputs": [
    {
     "name": "stdout",
     "output_type": "stream",
     "text": [
      "64\n"
     ]
    }
   ],
   "source": [
    "print 4 ** 3"
   ]
  },
  {
   "cell_type": "code",
   "execution_count": 4,
   "metadata": {
    "collapsed": false
   },
   "outputs": [
    {
     "name": "stdout",
     "output_type": "stream",
     "text": [
      "HIHIHIHIHI\n"
     ]
    }
   ],
   "source": [
    "print 'HI' *  5"
   ]
  },
  {
   "cell_type": "code",
   "execution_count": 5,
   "metadata": {
    "collapsed": false
   },
   "outputs": [
    {
     "data": {
      "text/plain": [
       "3"
      ]
     },
     "execution_count": 5,
     "metadata": {},
     "output_type": "execute_result"
    }
   ],
   "source": [
    "a = 1\n",
    "b = 2\n",
    "a + b"
   ]
  },
  {
   "cell_type": "code",
   "execution_count": null,
   "metadata": {
    "collapsed": true
   },
   "outputs": [],
   "source": []
  }
 ],
 "metadata": {
  "kernelspec": {
   "display_name": "Python 2",
   "language": "python",
   "name": "python2"
  },
  "language_info": {
   "codemirror_mode": {
    "name": "ipython",
    "version": 2
   },
   "file_extension": ".py",
   "mimetype": "text/x-python",
   "name": "python",
   "nbconvert_exporter": "python",
   "pygments_lexer": "ipython2",
   "version": "2.7.10"
  }
 },
 "nbformat": 4,
 "nbformat_minor": 0
}
