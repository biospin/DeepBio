{
 "cells": [
  {
   "cell_type": "markdown",
   "metadata": {},
   "source": [
    "# 제 10 절 연습문제"
   ]
  },
  {
   "cell_type": "markdown",
   "metadata": {},
   "source": [
    "## Exercise 5.1 사용자가 “done”을 입력할 때까지 반복적으로 숫자를 읽는 프로그램을 작성하세요. “done”이 입력되면, 총계, 갯수, 평균을 출력하세요. 만약 숫자가아닌다른것을입력하게되면, try와except를사용하여사용자실수를 탐지해서 오류 메시지를 출력하고 다음 숫자로 건너 뛰게 하세요.\n",
    "```\n",
    "Enter a number: 4\n",
    "Enter a number: 5\n",
    "Enter a number: bad data\n",
    "Invalid input\n",
    "Enter a number: 7\n",
    "Enter a number: done\n",
    "16 3 5.33333333333\n",
    "```"
   ]
  },
  {
   "cell_type": "code",
   "execution_count": 2,
   "metadata": {
    "collapsed": false
   },
   "outputs": [
    {
     "name": "stdout",
     "output_type": "stream",
     "text": [
      "Enter a number: a\n",
      "Invalid input\n",
      "Enter a number: b\n",
      "Invalid input\n",
      "Enter a number: d\n",
      "Invalid input\n",
      "Enter a number: 1\n",
      "Enter a number: 2\n",
      "Enter a number: 3\n",
      "Enter a number: 4\n",
      "Enter a number: 5\n",
      "Enter a number: 6\n",
      "Enter a number: 7\n",
      "Enter a number: 8\n",
      "Enter a number: 9\n",
      "Enter a number: 10\n",
      "Enter a number: done\n",
      "총합=55, 개수=10, 평균=5\n"
     ]
    }
   ],
   "source": [
    "cnt = 0\n",
    "sum = 0\n",
    "\n",
    "while True :\n",
    "    num_str = raw_input('Enter a number: ')\n",
    "    if num_str == 'done' :\n",
    "        avg = sum / cnt \n",
    "        print '총합=' + str(sum) + ', 개수=' + str(cnt) + ', 평균=' + str(avg)\n",
    "        break\n",
    "    \n",
    "    try :\n",
    "        num = int( num_str )\n",
    "        sum += num\n",
    "        cnt += 1\n",
    "    except :\n",
    "        print 'Invalid input'"
   ]
  },
  {
   "cell_type": "markdown",
   "metadata": {},
   "source": [
    "## Exercise 5.2 위에서처럼숫자목록을사용자로부터입력받는프로그램을 작성하세요. 평균값 대신에 숫자 목록 최대값과 최소값을 출력하세요."
   ]
  },
  {
   "cell_type": "code",
   "execution_count": 6,
   "metadata": {
    "collapsed": false
   },
   "outputs": [
    {
     "name": "stdout",
     "output_type": "stream",
     "text": [
      "Enter a number: -1\n",
      "Enter a number: -2\n",
      "Enter a number: -3\n",
      "Enter a number: -4\n",
      "Enter a number: -5\n",
      "Enter a number: done\n",
      "최소=-5, 최대=-1\n"
     ]
    }
   ],
   "source": [
    "import sys \n",
    "\n",
    "min = sys.maxsize\n",
    "max = -sys.maxint - 1\n",
    "\n",
    "while True :\n",
    "    num_str = raw_input('Enter a number: ')\n",
    "    if num_str == 'done' : \n",
    "        print '최소=' + str(min) + ', 최대=' + str(max) \n",
    "        break\n",
    "    \n",
    "    try :\n",
    "        num = int( num_str )\n",
    "        if num < min :\n",
    "            min = num\n",
    "            \n",
    "        if num > max :\n",
    "            max = num\n",
    "        \n",
    "    except :\n",
    "        print 'Invalid input'"
   ]
  },
  {
   "cell_type": "markdown",
   "metadata": {},
   "source": [
    "# 제 6 장 문자열"
   ]
  },
  {
   "cell_type": "markdown",
   "metadata": {},
   "source": [
    "## Exercise 6.1 문자열의 마지막 문자에서 시작해서, 문자열 처음으로 역진행하면서 한줄에 한자씩 화면에 출력하는 while 루프를 작성하세요."
   ]
  },
  {
   "cell_type": "code",
   "execution_count": 8,
   "metadata": {
    "collapsed": false
   },
   "outputs": [
    {
     "name": "stdout",
     "output_type": "stream",
     "text": [
      "a\n",
      "n\n",
      "a\n",
      "n\n",
      "a\n",
      "b\n"
     ]
    }
   ],
   "source": [
    "fruit = 'banana'\n",
    "\n",
    "index = len( fruit ) - 1\n",
    "while index >= 0 :\n",
    "    letter = fruit[index]\n",
    "    print letter\n",
    "    index = index - 1\n"
   ]
  },
  {
   "cell_type": "markdown",
   "metadata": {},
   "source": [
    "## Exercise 6.2 fruit이 문자열로 주어졌을 때, fruit[:]의 의미는 무엇인가요?"
   ]
  },
  {
   "cell_type": "code",
   "execution_count": 9,
   "metadata": {
    "collapsed": false
   },
   "outputs": [
    {
     "data": {
      "text/plain": [
       "'banana'"
      ]
     },
     "execution_count": 9,
     "metadata": {},
     "output_type": "execute_result"
    }
   ],
   "source": [
    "fruit[:]"
   ]
  },
  {
   "cell_type": "markdown",
   "metadata": {},
   "source": [
    "## Exercise 6.3 문자열과 문자를 인자(argument)로 받도록 상기 코드를 count라는 함수로 캡슐화(encapsulation)하고 일반화하세요."
   ]
  },
  {
   "cell_type": "code",
   "execution_count": 11,
   "metadata": {
    "collapsed": false
   },
   "outputs": [
    {
     "name": "stdout",
     "output_type": "stream",
     "text": [
      "5\n"
     ]
    }
   ],
   "source": [
    "def count_a( word ) :\n",
    "    count = 0 \n",
    "    for letter in word :\n",
    "        if letter == 'a' :\n",
    "            count = count +1 \n",
    "    \n",
    "    return count \n",
    "\n",
    "myword = 'bananaaa'\n",
    "\n",
    "print count_a( myword )"
   ]
  },
  {
   "cell_type": "markdown",
   "metadata": {},
   "source": [
    "## Exercise 6.4 앞선 예제와 유사한 함수인 count로 불리는 문자열 메쏘드가 있다. docs.python.org/library/string.html에서 count 메쏘드에 대한 문서를 읽고, 문자열 'banana'의 문자가 몇 개인지 계수하는 메쏘드 호출 프로그램을 작성하세요."
   ]
  },
  {
   "cell_type": "code",
   "execution_count": null,
   "metadata": {
    "collapsed": true
   },
   "outputs": [],
   "source": [
    "문제가 이해가 안 됨."
   ]
  },
  {
   "cell_type": "markdown",
   "metadata": {},
   "source": [
    "## Exercise 6.5 다음 문자열을 파이썬 코드를 작성하세요.\n",
    "```\n",
    "str = 'X-DSPAM-Confidence: 0.8475'\n",
    "```\n",
    "## find메쏘드와문자열슬라이싱을사용하여콜론(:)문자뒤문자열을뽑아내고 float 함수를 사용하여 뽑아낸 문자열을 부동 소수점 숫자로 변환하세요."
   ]
  },
  {
   "cell_type": "code",
   "execution_count": 21,
   "metadata": {
    "collapsed": false
   },
   "outputs": [
    {
     "name": "stdout",
     "output_type": "stream",
     "text": [
      " 0.8475, len=7\n",
      "0.8475, len=6\n",
      "0.8475\n",
      "0.8475\n"
     ]
    }
   ],
   "source": [
    "str = 'X-DSPAM-Confidence: 0.8475'\n",
    "\n",
    "pos = str.find(':')\n",
    "sub_str = str[ pos+1 : ]\n",
    "print sub_str + ', len=%d' %len(sub_str) \n",
    "print sub_str.strip() +   ', len=%d' %len(sub_str.strip()) \n",
    "\n",
    "print float( sub_str.strip() )  \n",
    "print float( sub_str )  "
   ]
  },
  {
   "cell_type": "markdown",
   "metadata": {},
   "source": [
    "## Exercise 6.6 https://docs.python.org/2.7/library/stdtypes.html# string-methods에서 문자열메쏘드문서를읽어보세요.어떻게동작하는가를 이해도를 확인하기 위해서 몇개를 골라 실험을 해보세요. strip과 replace가 특히 유용합니다.\n",
    "## 문서는 좀 혼동스러울 수 있는 구문을 사용합니다. 예를 들어, find(sub[, start[, end]])의 꺾쇠기호는 선택(옵션) 인수를 나타냅니다. 그래서, sub은 필수지만, start은 선택 사항이고, 만약 start가 인자로 포함된다면, end는 선택이 된다."
   ]
  },
  {
   "cell_type": "code",
   "execution_count": 22,
   "metadata": {
    "collapsed": false
   },
   "outputs": [
    {
     "data": {
      "text/plain": [
       "'spacious'"
      ]
     },
     "execution_count": 22,
     "metadata": {},
     "output_type": "execute_result"
    }
   ],
   "source": [
    "'   spacious   '.strip()"
   ]
  },
  {
   "cell_type": "code",
   "execution_count": 24,
   "metadata": {
    "collapsed": false
   },
   "outputs": [
    {
     "data": {
      "text/plain": [
       "'spacious   '"
      ]
     },
     "execution_count": 24,
     "metadata": {},
     "output_type": "execute_result"
    }
   ],
   "source": [
    "'   spacious   '.lstrip()"
   ]
  },
  {
   "cell_type": "code",
   "execution_count": 25,
   "metadata": {
    "collapsed": false
   },
   "outputs": [
    {
     "data": {
      "text/plain": [
       "'example.com'"
      ]
     },
     "execution_count": 25,
     "metadata": {},
     "output_type": "execute_result"
    }
   ],
   "source": [
    "'www.example.com'.lstrip('cmowz.')"
   ]
  },
  {
   "cell_type": "code",
   "execution_count": 26,
   "metadata": {
    "collapsed": false
   },
   "outputs": [
    {
     "data": {
      "text/plain": [
       "'   spacious'"
      ]
     },
     "execution_count": 26,
     "metadata": {},
     "output_type": "execute_result"
    }
   ],
   "source": [
    "'   spacious   '.rstrip()"
   ]
  },
  {
   "cell_type": "code",
   "execution_count": 27,
   "metadata": {
    "collapsed": false
   },
   "outputs": [
    {
     "data": {
      "text/plain": [
       "'mississ'"
      ]
     },
     "execution_count": 27,
     "metadata": {},
     "output_type": "execute_result"
    }
   ],
   "source": [
    "'mississippi'.rstrip('ipz')"
   ]
  },
  {
   "cell_type": "code",
   "execution_count": 28,
   "metadata": {
    "collapsed": false
   },
   "outputs": [
    {
     "name": "stdout",
     "output_type": "stream",
     "text": [
      "Hello Jackson\n"
     ]
    }
   ],
   "source": [
    "our_str = 'Hello World'\n",
    "new_str = our_str.replace('World', 'Jackson')\n",
    "print(new_str)"
   ]
  },
  {
   "cell_type": "code",
   "execution_count": 29,
   "metadata": {
    "collapsed": false
   },
   "outputs": [
    {
     "name": "stdout",
     "output_type": "stream",
     "text": [
      "Hello, World\n"
     ]
    }
   ],
   "source": [
    "new_str = our_str.replace('Hello', 'Hello,')\n",
    "print(new_str)"
   ]
  },
  {
   "cell_type": "code",
   "execution_count": 30,
   "metadata": {
    "collapsed": false
   },
   "outputs": [
    {
     "name": "stdout",
     "output_type": "stream",
     "text": [
      "Hello me, you and you!\n"
     ]
    }
   ],
   "source": [
    "our_str = 'Hello you, you and you!'\n",
    "new_str = our_str.replace('you', 'me', 1)\n",
    "print(new_str)"
   ]
  },
  {
   "cell_type": "code",
   "execution_count": 31,
   "metadata": {
    "collapsed": false
   },
   "outputs": [
    {
     "name": "stdout",
     "output_type": "stream",
     "text": [
      "Hello me, me and you!\n"
     ]
    }
   ],
   "source": [
    "new_str = our_str.replace('you', 'me', 2)\n",
    "print(new_str)"
   ]
  },
  {
   "cell_type": "code",
   "execution_count": 32,
   "metadata": {
    "collapsed": false
   },
   "outputs": [
    {
     "name": "stdout",
     "output_type": "stream",
     "text": [
      "Hello me, me and me!\n"
     ]
    }
   ],
   "source": [
    "new_str = our_str.replace('you', 'me', 3)\n",
    "print(new_str)"
   ]
  },
  {
   "cell_type": "markdown",
   "metadata": {},
   "source": [
    "# 제 11 절 연습문제"
   ]
  },
  {
   "cell_type": "markdown",
   "metadata": {},
   "source": [
    "## Exercise 7.1 파일을 읽고 한줄씩 파일의 내용을 모두 대문자로 출력하는 프로그램을 작성하세요. 프로그램을 실행하면 다음과 같이 보일 것입니다.\n",
    "```\n",
    "python shout.py\n",
    "Enter a file name: mbox-short.txt\n",
    "FROM STEPHEN.MARQUARD@UCT.AC.ZA SAT JAN 5 09:14:16 2008\n",
    "RETURN-PATH: <POSTMASTER@COLLAB.SAKAIPROJECT.ORG>\n",
    "RECEIVED: FROM MURDER (MAIL.UMICH.EDU [141.211.14.90])\n",
    "BY FRANKENSTEIN.MAIL.UMICH.EDU (CYRUS V2.3.8) WITH LMTPA;\n",
    "SAT, 05 JAN 2008 09:14:16 -0500\n",
    "```\n",
    "\n",
    "## www.py4inf.com/code/mbox-short.txt에서 파일을 다운로드 받으세요."
   ]
  },
  {
   "cell_type": "code",
   "execution_count": null,
   "metadata": {
    "collapsed": true
   },
   "outputs": [],
   "source": [
    "! wget www.py4inf.com/code/mbox-short.txt"
   ]
  },
  {
   "cell_type": "code",
   "execution_count": null,
   "metadata": {
    "collapsed": true
   },
   "outputs": [],
   "source": [
    "! ls -al "
   ]
  },
  {
   "cell_type": "code",
   "execution_count": null,
   "metadata": {
    "collapsed": true
   },
   "outputs": [],
   "source": [
    "fname = raw_input('Enter the file name: ')\n",
    "try:\n",
    "    fhand = open(fname)\n",
    "except:\n",
    "    print 'File cannot be opened:', fname\n",
    "    exit()\n",
    "    \n",
    "for line in fhand :\n",
    "    print line.upper()\n",
    "    \n",
    "fhand.close()"
   ]
  },
  {
   "cell_type": "markdown",
   "metadata": {
    "collapsed": true
   },
   "source": [
    "## Exercise 7.2 파일명을입력받아,파일을읽고,다음형식의라인을찾는프로그램을 작성하세요.\n",
    "```\n",
    "X-DSPAM-Confidence: 0.8475\n",
    "```\n",
    "## “X-DSPAM-Confidence:”로 시작하는 라인을 만나게 되면, 부동 소수점 숫자를 뽑아내기 위해 해당 라인을 별도로 보관하세요. 라인 수를 세고, 라인으로부터 스팸 신뢰값의 총계를 계산하세요. 파일의 끝에 도달할 했을 때, 평균 스팸 신뢰도를 출력하세요.\n",
    "```\n",
    "Enter the file name: mbox.txt\n",
    "Average spam confidence: 0.894128046745\n",
    "Enter the file name: mbox-short.txt\n",
    "Average spam confidence: 0.750718518519\n",
    "```\n",
    "## mbox.txt와 mbox-short.txt 파일에 작성한 프로그램을 시험하세요"
   ]
  },
  {
   "cell_type": "code",
   "execution_count": 1,
   "metadata": {
    "collapsed": false
   },
   "outputs": [
    {
     "name": "stdout",
     "output_type": "stream",
     "text": [
      "--2015-11-12 11:28:22--  http://www.py4inf.com/code/mbox.txt\n",
      "Resolving www.py4inf.com (www.py4inf.com)... 198.251.66.43\n",
      "접속 www.py4inf.com (www.py4inf.com)|198.251.66.43|:80... 접속됨.\n",
      "HTTP request sent, awaiting response... 200 OK\n",
      "Length: 6687002 (6.4M) [text/plain]\n",
      "Saving to: ‘mbox.txt’\n",
      "\n",
      "100%[======================================>] 6,687,002    320KB/s   in 32s    \n",
      "\n",
      "2015-11-12 11:28:55 (201 KB/s) - ‘mbox.txt’ saved [6687002/6687002]\n",
      "\n"
     ]
    }
   ],
   "source": [
    "! wget www.py4inf.com/code/mbox.txt"
   ]
  },
  {
   "cell_type": "code",
   "execution_count": 9,
   "metadata": {
    "collapsed": false
   },
   "outputs": [
    {
     "name": "stdout",
     "output_type": "stream",
     "text": [
      "합계 6680\r\n",
      "drwxrwxr-x 3 deepbio deepbio    4096 11월 12 11:40 .\r\n",
      "drwxrwxr-x 6 deepbio deepbio    4096 11월  6 18:18 ..\r\n",
      "drwxr-xr-x 2 deepbio deepbio    4096 11월 11 14:04 .ipynb_checkpoints\r\n",
      "-rw-rw-r-- 1 deepbio deepbio   16931 11월 10 21:44 02장연습문제.ipynb\r\n",
      "-rw-rw-r-- 1 deepbio deepbio   17233 11월 12 11:40 5장연습문제.ipynb\r\n",
      "-rw-rw-r-- 1 deepbio deepbio   94626  8월  8 01:39 mbox-short.txt\r\n",
      "-rw-rw-r-- 1 deepbio deepbio 6687002  8월  8 01:39 mbox.txt\r\n"
     ]
    }
   ],
   "source": [
    "! ls -al"
   ]
  },
  {
   "cell_type": "code",
   "execution_count": 10,
   "metadata": {
    "collapsed": false
   },
   "outputs": [
    {
     "name": "stdout",
     "output_type": "stream",
     "text": [
      "Enter the file name: mbox.txt\n",
      "Average spam confidence: 0.894128\n"
     ]
    }
   ],
   "source": [
    "fname = raw_input('Enter the file name: ')\n",
    "try:\n",
    "    fhand = open(fname)\n",
    "except:\n",
    "    print 'File cannot be opened:', fname\n",
    "    exit()\n",
    "\n",
    "target_str = 'X-DSPAM-Confidence:'\n",
    "total_conf = 0.0\n",
    "conf_cnt = 0\n",
    "for line in fhand :\n",
    "    pos = line.find( target_str )\n",
    "    if pos > -1 :\n",
    "        conf_str = line[ pos + len(target_str)  : ]\n",
    "        total_conf += float( conf_str )\n",
    "        conf_cnt += 1\n",
    "\n",
    "# file handle은 항상 필요없을때 가장 빨리 닫는것이 좋음.\n",
    "fhand.close()\n",
    "\n",
    "print 'Average spam confidence: %f' %( total_conf / conf_cnt )\n"
   ]
  },
  {
   "cell_type": "markdown",
   "metadata": {},
   "source": [
    "## Exercise 7.3 때때로, 프로그래머가 지루해지거나, 약간 재미를 목적으로, 프 로그램에 무해한 부활절 달걀(Easter Egg, en.wikipedia.org/wiki/Easter_egg_(media))을 넣습니다. 사용자가 파일명을 입력하는 프로그램을 변형시켜, ’na na boo boo’로파일명을정확하게입력했을때,재미있는메시지를출력하는 프로그램을 작성하세요. 파일이 존재하거나, 존재하지 않는 다른 모든 파일에 대해서도 정상적으로 작동해야 합니다. 여기 프로그램을 실행한 견본이 있습니다.\n",
    "```\n",
    "python egg.py\n",
    "Enter the file name: mbox.txt\n",
    "There were 1797 subject lines in mbox.txt\n",
    "\n",
    "python egg.py\n",
    "Enter the file name: missing.tyxt\n",
    "File cannot be opened: missing.tyxt\n",
    "\n",
    "python egg.py\n",
    "Enter the file name: na na boo boo\n",
    "NA NA BOO BOO TO YOU - You have been punk'd!\n",
    "```\n",
    "## 프로그램에 부활절 달걀을 넣도록 격려하지는 않습니다. 단지 연습입니다."
   ]
  },
  {
   "cell_type": "code",
   "execution_count": 1,
   "metadata": {
    "collapsed": false
   },
   "outputs": [
    {
     "name": "stdout",
     "output_type": "stream",
     "text": [
      "Enter the file name: na na boo boo\n",
      "NA NA BOO BOO TO YOU - You have been punk'd!\n",
      "File cannot be opened: na na boo boo\n"
     ]
    },
    {
     "ename": "NameError",
     "evalue": "name 'fhand' is not defined",
     "output_type": "error",
     "traceback": [
      "\u001b[1;31m---------------------------------------------------------------------------\u001b[0m",
      "\u001b[1;31mNameError\u001b[0m                                 Traceback (most recent call last)",
      "\u001b[1;32m<ipython-input-1-d0dbe14a595a>\u001b[0m in \u001b[0;36m<module>\u001b[1;34m()\u001b[0m\n\u001b[0;32m     14\u001b[0m \u001b[0mtotal_conf\u001b[0m \u001b[1;33m=\u001b[0m \u001b[1;36m0.0\u001b[0m\u001b[1;33m\u001b[0m\u001b[0m\n\u001b[0;32m     15\u001b[0m \u001b[0mconf_cnt\u001b[0m \u001b[1;33m=\u001b[0m \u001b[1;36m0\u001b[0m\u001b[1;33m\u001b[0m\u001b[0m\n\u001b[1;32m---> 16\u001b[1;33m \u001b[1;32mfor\u001b[0m \u001b[0mline\u001b[0m \u001b[1;32min\u001b[0m \u001b[0mfhand\u001b[0m \u001b[1;33m:\u001b[0m\u001b[1;33m\u001b[0m\u001b[0m\n\u001b[0m\u001b[0;32m     17\u001b[0m     \u001b[0mpos\u001b[0m \u001b[1;33m=\u001b[0m \u001b[0mline\u001b[0m\u001b[1;33m.\u001b[0m\u001b[0mfind\u001b[0m\u001b[1;33m(\u001b[0m \u001b[0mtarget_str\u001b[0m \u001b[1;33m)\u001b[0m\u001b[1;33m\u001b[0m\u001b[0m\n\u001b[0;32m     18\u001b[0m     \u001b[1;32mif\u001b[0m \u001b[0mpos\u001b[0m \u001b[1;33m>\u001b[0m \u001b[1;33m-\u001b[0m\u001b[1;36m1\u001b[0m \u001b[1;33m:\u001b[0m\u001b[1;33m\u001b[0m\u001b[0m\n",
      "\u001b[1;31mNameError\u001b[0m: name 'fhand' is not defined"
     ]
    }
   ],
   "source": [
    "fname = raw_input('Enter the file name: ')\n",
    "\n",
    "if fname == 'na na boo boo' :\n",
    "    print 'NA NA BOO BOO TO YOU - You have been punk\\'d!'\n",
    "    #  exit() 동작하지 않는 문제 있음.\n",
    "    exit()\n",
    "    \n",
    "try:\n",
    "    fhand = open(fname)\n",
    "except:\n",
    "    print 'File cannot be opened:', fname\n",
    "    #  exit() 동작하지 않는 문제 있음.\n",
    "    exit()\n",
    "    \n",
    "target_str = 'X-DSPAM-Confidence:'\n",
    "total_conf = 0.0\n",
    "conf_cnt = 0\n",
    "for line in fhand :\n",
    "    pos = line.find( target_str )\n",
    "    if pos > -1 :\n",
    "        conf_str = line[ pos + len(target_str)  : ]\n",
    "        total_conf += float( conf_str )\n",
    "        conf_cnt += 1\n",
    "\n",
    "# file handle은 항상 필요없을때 가장 빨리 닫는것이 좋음.\n",
    "fhand.close()\n",
    "\n",
    "print 'Average spam confidence: %f' %( total_conf / conf_cnt )"
   ]
  },
  {
   "cell_type": "code",
   "execution_count": null,
   "metadata": {
    "collapsed": true
   },
   "outputs": [],
   "source": []
  }
 ],
 "metadata": {
  "kernelspec": {
   "display_name": "Python 2",
   "language": "python",
   "name": "python2"
  },
  "language_info": {
   "codemirror_mode": {
    "name": "ipython",
    "version": 2
   },
   "file_extension": ".py",
   "mimetype": "text/x-python",
   "name": "python",
   "nbconvert_exporter": "python",
   "pygments_lexer": "ipython2",
   "version": "2.7.10"
  }
 },
 "nbformat": 4,
 "nbformat_minor": 0
}
