{
 "cells": [
  {
   "cell_type": "markdown",
   "metadata": {},
   "source": [
    "# Excercise 6.1\n",
    "문자열 마지막 문자에서 시작해서, 문자열 처음으로 역진행하면서 한줄에 한자씩 화면에 출력하는 while 루프를 작성하세요"
   ]
  },
  {
   "cell_type": "code",
   "execution_count": 6,
   "metadata": {
    "collapsed": false,
    "scrolled": true
   },
   "outputs": [
    {
     "name": "stdout",
     "output_type": "stream",
     "text": [
      "a\n",
      "n\n",
      "a\n",
      "n\n",
      "a\n",
      "b\n"
     ]
    }
   ],
   "source": [
    "fruit = 'banana'\n",
    "index = len(fruit)-1\n",
    "\n",
    "while index >= 0:\n",
    "    letter = fruit[index]\n",
    "    print letter\n",
    "    index -= 1"
   ]
  },
  {
   "cell_type": "markdown",
   "metadata": {},
   "source": [
    "# Excercise 6.2\n",
    "ftuit이 문자열로 주어졌을 때, fruit[:]의 의미는 무엇인가요?\n",
    "\n",
    "> 문자 처음부터 끝까지 슬라이스를 선택하는 것."
   ]
  },
  {
   "cell_type": "code",
   "execution_count": 7,
   "metadata": {
    "collapsed": false
   },
   "outputs": [
    {
     "name": "stdout",
     "output_type": "stream",
     "text": [
      "banana\n"
     ]
    }
   ],
   "source": [
    "print fruit[:]"
   ]
  },
  {
   "cell_type": "markdown",
   "metadata": {},
   "source": [
    "# Exercise 6.3\n",
    "문자열과 문자를 argument로 받도록 상기 코드('a'가 나타나는 횟수 count)를 count라는 함수로 encapsulation하고 일반화하세요"
   ]
  },
  {
   "cell_type": "code",
   "execution_count": 14,
   "metadata": {
    "collapsed": false
   },
   "outputs": [
    {
     "name": "stdout",
     "output_type": "stream",
     "text": [
      "Enter a word : aaa\n",
      "Enter a character : a\n",
      "letter, 'a' is shown in the string 'aaa' 3 times !\n"
     ]
    }
   ],
   "source": [
    "def count( word, character ):\n",
    "    count = 0\n",
    "    for letter in word:\n",
    "        if letter == character :\n",
    "            count+=1\n",
    "    return count\n",
    "    \n",
    "word     = raw_input('Enter a word : ')\n",
    "character = raw_input('Enter a character : ')\n",
    "\n",
    "print \"letter, '%s' is shown in the string '%s' %d times !\" % (character, word, count(word, character))"
   ]
  },
  {
   "cell_type": "markdown",
   "metadata": {},
   "source": [
    "# Exercise 6.4\n",
    "\n",
    "앞선 예제와 유사한 함수인 count로 불리는 문자열 메쏘드가 있다.\n",
    "[docs.python.org/library/string.html](docs.python.org/library/string.html) 에서 count메쏘드에 대한 문서를 읽고 문자열 'banana'의 문자가 몇 개인지 counting하는 메쏘드 호출 프로그램을 작성하세요.\n",
    "\n",
    "> s.count(x) \ttotal number of occurrences of x in s\n",
    "\n",
    "> str.count(sub[, start[, end]])\n",
    "\n",
    "> (s 안에 나타나는 문자x의 횟수 출력)"
   ]
  },
  {
   "cell_type": "code",
   "execution_count": 59,
   "metadata": {
    "collapsed": false
   },
   "outputs": [
    {
     "name": "stdout",
     "output_type": "stream",
     "text": [
      "banana\n",
      "3\n",
      "2\n",
      "1\n"
     ]
    }
   ],
   "source": [
    "fruit = 'banana'\n",
    "print fruit\n",
    "print fruit.count(\"a\")\n",
    "print fruit.count(\"a\",2)   # index 2 이후로 \"a\"가 몇 번 나타나는지\n",
    "print fruit.count(\"a\",2,4) # index 2~4 사이에 \"a\"가 몇 번 나타나는지"
   ]
  },
  {
   "cell_type": "markdown",
   "metadata": {},
   "source": [
    "# Exercise 6.5\n",
    "\n",
    "str = 'X-DSPAM-Confidence: 0.8475'\n",
    "\n",
    "find 메쏘드와 문자열 슬라이싱을 사용하여 콜론(:) 문자 뒤 문자열을 뽑아내고 float함수를 사용하여 뽑아낸 문자열을 부동 소수점 숫자로 변환하세요"
   ]
  },
  {
   "cell_type": "code",
   "execution_count": 56,
   "metadata": {
    "collapsed": false
   },
   "outputs": [
    {
     "name": "stdout",
     "output_type": "stream",
     "text": [
      "0.8475\n"
     ]
    }
   ],
   "source": [
    "str = 'X-DSPAM-Confidence: 0.8475'\n",
    "atpos = str.find(\":\")\n",
    "num = str[atpos+1:].strip()\n",
    "print float(num)"
   ]
  },
  {
   "cell_type": "code",
   "execution_count": null,
   "metadata": {
    "collapsed": true
   },
   "outputs": [],
   "source": []
  }
 ],
 "metadata": {
  "kernelspec": {
   "display_name": "Python 2",
   "language": "python",
   "name": "python2"
  },
  "language_info": {
   "codemirror_mode": {
    "name": "ipython",
    "version": 2
   },
   "file_extension": ".py",
   "mimetype": "text/x-python",
   "name": "python",
   "nbconvert_exporter": "python",
   "pygments_lexer": "ipython2",
   "version": "2.7.10"
  }
 },
 "nbformat": 4,
 "nbformat_minor": 0
}
