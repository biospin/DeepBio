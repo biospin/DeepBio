{
 "cells": [
  {
   "cell_type": "markdown",
   "metadata": {},
   "source": [
    "# File\n"
   ]
  },
  {
   "cell_type": "code",
   "execution_count": null,
   "metadata": {
    "collapsed": true
   },
   "outputs": [],
   "source": [
    "! wget http://www.py4inf.com/code/mbox.txt\n",
    "! wget http://www.py4inf.com/code/mbox-short.txt"
   ]
  },
  {
   "cell_type": "code",
   "execution_count": 3,
   "metadata": {
    "collapsed": false
   },
   "outputs": [
    {
     "name": "stdout",
     "output_type": "stream",
     "text": [
      "<open file 'mbox.txt', mode 'r' at 0x7fec280936f0>\n"
     ]
    }
   ],
   "source": [
    "fhand = open('mbox.txt') # 이 파일에 쓰거나 읽거나 가능\n",
    "print fhand"
   ]
  },
  {
   "cell_type": "code",
   "execution_count": 4,
   "metadata": {
    "collapsed": false
   },
   "outputs": [
    {
     "name": "stdout",
     "output_type": "stream",
     "text": [
      "Line count :  132045\n"
     ]
    }
   ],
   "source": [
    "fhand = open('mbox.txt') # 파일 사이즈가 굉장히 커도 시간이 동일하게 걸린다. 바로 읽지 못하고 for 루프를 사용해서 읽어올 수 있다.\n",
    "                         # 매우 큰 파일을 효과적으로 읽어서 라인을 셀 수 있다.\n",
    "                         # 라인별로 읽고, 세고, 폐기 되기때문에 매우 적은 저장공간을 사용해서 어떤 크기의 파일도 라인을 셀 수 있다.\n",
    "count = 0\n",
    "for line in fhand:\n",
    "    count +=1\n",
    "\n",
    "print 'Line count : ', count"
   ]
  },
  {
   "cell_type": "code",
   "execution_count": 10,
   "metadata": {
    "collapsed": false
   },
   "outputs": [
    {
     "name": "stdout",
     "output_type": "stream",
     "text": [
      "94626\n",
      "From stephen.marquard@uct.ac.z\n"
     ]
    }
   ],
   "source": [
    "fhand = open('mbox-short.txt') # file size가 작은 경우\n",
    "inp = fhand.read()\n",
    "print len(inp)\n",
    "\n",
    "print inp[0:30]"
   ]
  },
  {
   "cell_type": "markdown",
   "metadata": {},
   "source": [
    "# Exercise 7.1\n",
    "파일을 읽고 한줄씩 파일의 내용을 모두 대문자로 출력하는 프로그램을 작성하세요."
   ]
  },
  {
   "cell_type": "code",
   "execution_count": 10,
   "metadata": {
    "collapsed": false
   },
   "outputs": [
    {
     "name": "stdout",
     "output_type": "stream",
     "text": [
      "FROM STEPHEN.MARQUARD@UCT.AC.ZA SAT JAN  5 09:14:16 2008\n",
      "RETURN-PATH: <POSTMASTER@COLLAB.SAKAIPROJECT.ORG>\n",
      "RECEIVED: FROM MURDER (MAIL.UMICH.EDU [141.211.14.90])\n",
      "\t BY FRANKENSTEIN.MAIL.UMICH.EDU (CYRUS V2.3.8) WITH LMTPA;\n",
      "\t SAT, 05 JAN 2008 09:14:16 -0500\n",
      "X-SIEVE: CMU SIEVE 2.3\n",
      "RECEIVED: FROM MURDER ([UNIX SOCKET])\n",
      "\t BY MAIL.UMICH.EDU (CYRUS V2.2.12) WITH LMTPA;\n",
      "\t SAT, 05 JAN 2008 09:14:16 -0500\n",
      "RECEIVED: FROM HOLES.MR.ITD.UMICH.EDU (HOLES.MR.ITD.UMICH.EDU [141.211.14.79])\n"
     ]
    }
   ],
   "source": [
    "! head mbox-short.txt > mbox-short_head.txt\n",
    "\n",
    "#fname = raw_input('Enter the file name: ')\n",
    "fname = 'mbox-short_head.txt'\n",
    "\n",
    "try:\n",
    "    f= open(fname)\n",
    "except:\n",
    "    print \"File can not be opend : \",fname\n",
    "    exit()\n",
    "\n",
    "for line in f:\n",
    "    line = line.rstrip()\n",
    "    print line.upper()\n",
    "\n",
    "f.close()"
   ]
  },
  {
   "cell_type": "markdown",
   "metadata": {},
   "source": [
    "# Exercise 7.2\n",
    "- 파일명을 입력받아 파일을 읽고 다음 형식의 라인을 찾는 프로그램을 작성하세요.\n",
    "\n",
    "\n",
    "X-DSPAM-Confidence: 0.8475"
   ]
  },
  {
   "cell_type": "code",
   "execution_count": 11,
   "metadata": {
    "collapsed": false
   },
   "outputs": [],
   "source": [
    "#fname = raw_input('Enter the file name: ')\n",
    "fname = 'mbox-short.txt'\n",
    "\n",
    "try:\n",
    "    f = open(fname)\n",
    "except:\n",
    "    print \"File can not be opened : \",fname\n",
    "    exit()\n",
    "\n",
    "target_str = 'X-DSPAM-Confidence:'\n"
   ]
  },
  {
   "cell_type": "markdown",
   "metadata": {},
   "source": [
    "- \"X-DSPAM-Confidence:\"로 시작하는 라인을 만나게 되면, 부동 소수점 숫자를 뽑아내기 위해 해당 라인을 별도로 보관하세요. 라인 수를 세고 (count) 라인으로부터 스팸 신뢰값의 총계 (sum) 를 계산하세요. 파일의 끝내 도달했을 때 평균 스팸 신뢰도 (sum/count)를 출력하세요."
   ]
  },
  {
   "cell_type": "code",
   "execution_count": 9,
   "metadata": {
    "collapsed": false
   },
   "outputs": [
    {
     "name": "stdout",
     "output_type": "stream",
     "text": [
      "Average spam confidencd: 0.750719\n"
     ]
    }
   ],
   "source": [
    "count = 0\n",
    "sum = 0\n",
    "\n",
    "for line in f:\n",
    "    if line.startswith(target_str):\n",
    "        atpos = line.find(':')\n",
    "        val = line[atpos+1:].strip()\n",
    "        sum += float(val)\n",
    "        count+= 1\n",
    "\n",
    "print \"Average spam confidencd: %f\" % (sum/count)\n",
    "\n",
    "f.close()"
   ]
  },
  {
   "cell_type": "markdown",
   "metadata": {},
   "source": [
    "# Exercise 7.3\n",
    "\n",
    "때때로 프로그래머가 지루해지거나 약간 재미를 목적으로 프로그램에 무해한 부활절달걀(Easter Egg, en.wikipedia.org/wiki/Easter_egg_(media))을 넣습니다. 사용자가 파일명을 입력하는 프로그램을 변형시켜, 'na na boo boo'로 파일명을 정확하게 입력했을 때, 재미있는 메시지를 출력하는 프로그램을 작성하세요. 파일이 존재하거나, 존재하지 않는 다른 모든 파일에 대해서도 정상적으로 작동해야 합니다. 여기 프로그램을 실행한 견본이 있습니다.\n",
    "\n",
    "python egg.py\n",
    "\n",
    "Enter the file name: mbox.txt\n",
    "\n",
    "There were 1797 subject lines in mbox.txt\n",
    "\n",
    "==\n",
    "\n",
    "python egg.py\n",
    "\n",
    "Enter the file name: missing.tyxt\n",
    "\n",
    "File cannot be opened : missing.tyxt\n",
    "\n",
    "==\n",
    "\n",
    "python egg.py\n",
    "\n",
    "Enter the file name: na na boo boo\n",
    "\n",
    "NA NA BOO BOO TO YOU- You have benn punk'd!\n"
   ]
  },
  {
   "cell_type": "code",
   "execution_count": 2,
   "metadata": {
    "collapsed": false
   },
   "outputs": [
    {
     "name": "stdout",
     "output_type": "stream",
     "text": [
      "Enter the file name: dd\n",
      "File cannot be opened: dd\n"
     ]
    }
   ],
   "source": [
    "fname = raw_input('Enter the file name: ')\n",
    "\n",
    "target_str = 'X-DSPAM-Confidence:'\n",
    "\n",
    "try:\n",
    "    fhand = open(fname)\n",
    "    count = 0\n",
    "    for line in fhand :\n",
    "        if line.find(target_str) != -1:\n",
    "            count += 1\n",
    "    print 'There were %d subject lines in %s' %( count, fname )\n",
    "    \n",
    "except:    \n",
    "    if fname =='na na boo boo':\n",
    "        print 'NA NA BOO BOO - You have been punk\\'d!'\n",
    "#        exit()\n",
    "    else:\n",
    "        print 'File cannot be opened:', fname\n",
    "#        exit()"
   ]
  }
 ],
 "metadata": {
  "kernelspec": {
   "display_name": "Python 2",
   "language": "python",
   "name": "python2"
  },
  "language_info": {
   "codemirror_mode": {
    "name": "ipython",
    "version": 2
   },
   "file_extension": ".py",
   "mimetype": "text/x-python",
   "name": "python",
   "nbconvert_exporter": "python",
   "pygments_lexer": "ipython2",
   "version": "2.7.10"
  }
 },
 "nbformat": 4,
 "nbformat_minor": 0
}
