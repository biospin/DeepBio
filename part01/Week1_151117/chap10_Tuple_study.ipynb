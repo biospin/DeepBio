{
 "cells": [
  {
   "cell_type": "markdown",
   "metadata": {},
   "source": [
    "# 튜플 (Tuple) 은,\n",
    "* 요소(element, item)들을 콤마(,)로 구분한 형태이다."
   ]
  },
  {
   "cell_type": "code",
   "execution_count": 2,
   "metadata": {
    "collapsed": false
   },
   "outputs": [
    {
     "name": "stdout",
     "output_type": "stream",
     "text": [
      "('a', 'b', 'c', 'd', 'e')\n"
     ]
    }
   ],
   "source": [
    "t1 = 'a','b','c','d','e'\n",
    "print t1"
   ]
  },
  {
   "cell_type": "markdown",
   "metadata": {},
   "source": [
    "* 가독성을 높이기 위해 튜플을 괄호로 감싸는 것이 일반적이다."
   ]
  },
  {
   "cell_type": "code",
   "execution_count": 3,
   "metadata": {
    "collapsed": false
   },
   "outputs": [
    {
     "name": "stdout",
     "output_type": "stream",
     "text": [
      "('a', 'b', 'c', 'd', 'e')\n",
      "True\n"
     ]
    }
   ],
   "source": [
    "t2 =('a','b','c','d','e')\n",
    "print t2\n",
    "print t1==t2"
   ]
  },
  {
   "cell_type": "markdown",
   "metadata": {},
   "source": [
    "* 단일 요소를 가지는 경우에, type이 '문자열(str)'로 간주되므로\n",
    "\n",
    "    **단일 요소를 가진 튜플**을 생성하기 위해서는 마지막에 **콤마(,)**를 포함해야 한다."
   ]
  },
  {
   "cell_type": "code",
   "execution_count": 5,
   "metadata": {
    "collapsed": false
   },
   "outputs": [
    {
     "name": "stdout",
     "output_type": "stream",
     "text": [
      "<type 'str'>\n",
      "<type 'tuple'>\n"
     ]
    }
   ],
   "source": [
    "t3 = ('a')\n",
    "t4 = ('a',)\n",
    "\n",
    "print type(t3)\n",
    "print type(t4)"
   ]
  },
  {
   "cell_type": "markdown",
   "metadata": {},
   "source": [
    "* 튜플을 구축하는 또 다른 방법은 내장함수 'tuple'을 사용하는 것."
   ]
  },
  {
   "cell_type": "code",
   "execution_count": 6,
   "metadata": {
    "collapsed": false
   },
   "outputs": [
    {
     "name": "stdout",
     "output_type": "stream",
     "text": [
      "()\n",
      "<type 'tuple'>\n"
     ]
    }
   ],
   "source": [
    "t5 = tuple()\n",
    "\n",
    "print t5\n",
    "print type(t5)"
   ]
  },
  {
   "cell_type": "code",
   "execution_count": 7,
   "metadata": {
    "collapsed": false,
    "scrolled": true
   },
   "outputs": [
    {
     "name": "stdout",
     "output_type": "stream",
     "text": [
      "('a', 'b', 'c', 'd', 'e')\n",
      "<type 'tuple'>\n"
     ]
    }
   ],
   "source": [
    "t6 = tuple('abcde')   # 문자열\n",
    "\n",
    "print t6\n",
    "print type(t6)"
   ]
  },
  {
   "cell_type": "code",
   "execution_count": 8,
   "metadata": {
    "collapsed": false
   },
   "outputs": [
    {
     "name": "stdout",
     "output_type": "stream",
     "text": [
      "('a', 'b', 'c', 'd', 'e')\n",
      "<type 'tuple'>\n"
     ]
    }
   ],
   "source": [
    "t7 = tuple(['a','b','c','d','e'])  # 리스트\n",
    "\n",
    "print t7\n",
    "print type(t7)"
   ]
  },
  {
   "cell_type": "markdown",
   "metadata": {},
   "source": [
    "* '튜플(Tuple)'은 '리스트(list)'와 유사한 형태로써,\n",
    "\n",
    "   0부터 시작하는 인덱스(index)를 사용한다."
   ]
  },
  {
   "cell_type": "code",
   "execution_count": 9,
   "metadata": {
    "collapsed": false
   },
   "outputs": [
    {
     "name": "stdout",
     "output_type": "stream",
     "text": [
      "['a', 'b', 'c', 'd', 'e']\n",
      "a\n",
      "('a', 'b', 'c', 'd', 'e')\n",
      "a\n",
      "('b', 'c')\n"
     ]
    }
   ],
   "source": [
    "L = ['a','b','c','d','e']\n",
    "t = ('a','b','c','d','e')\n",
    "\n",
    "print L\n",
    "print L[0]\n",
    "\n",
    "print t\n",
    "print t[0]\n",
    "print t[1:3]"
   ]
  },
  {
   "cell_type": "markdown",
   "metadata": {},
   "source": [
    "* ** 튜플과 리스트의 가장 큰 차이는,**\n",
    "\n",
    "    ** 리스트는 요소들을 변경하는 것이 가능하지만**\n",
    "# 튜플은 변경할 수 없다(immutable)는 것이다."
   ]
  },
  {
   "cell_type": "code",
   "execution_count": 10,
   "metadata": {
    "collapsed": false,
    "scrolled": true
   },
   "outputs": [
    {
     "name": "stdout",
     "output_type": "stream",
     "text": [
      "['a1', 'b', 'c', 'd', 'e']\n"
     ]
    }
   ],
   "source": [
    "L[0]='a1'\n",
    "print L\n",
    "\n",
    "#t1[0]='a1'"
   ]
  },
  {
   "cell_type": "markdown",
   "metadata": {},
   "source": [
    "* 튜플 요소를 변경할 수는 없고,\n",
    "\n",
    "    튜플을 다른 튜플로 교체할 수는 있다"
   ]
  },
  {
   "cell_type": "code",
   "execution_count": 11,
   "metadata": {
    "collapsed": false,
    "scrolled": true
   },
   "outputs": [
    {
     "name": "stdout",
     "output_type": "stream",
     "text": [
      "<type 'tuple'>\n",
      "<type 'tuple'>\n",
      "('a1', 'b', 'c', 'd', 'e')\n",
      "<type 'tuple'>\n"
     ]
    }
   ],
   "source": [
    "t8 = ('a1',) + t[1:]\n",
    "\n",
    "print type( ('a1',) )\n",
    "print type(  t[1:] )\n",
    "print t8\n",
    "print type( t8 )"
   ]
  },
  {
   "cell_type": "markdown",
   "metadata": {},
   "source": [
    "# 다중 대입 (Assignment)\n",
    "\n",
    "**x** = 1\n",
    "  \n",
    "(**변수** = 값)\n",
    "\n",
    "위와 같은 대입문의 **변수 부분**에 **튜플**을 놓음으로써 여러 변수에 대해 **다중 대입**이 가능\n",
    "\n",
    "(**튜플** = 리스트 or 튜플 or 문자열)"
   ]
  },
  {
   "cell_type": "code",
   "execution_count": 12,
   "metadata": {
    "collapsed": false
   },
   "outputs": [
    {
     "name": "stdout",
     "output_type": "stream",
     "text": [
      "have\n",
      "fun\n",
      "have\n",
      "fun\n",
      "a\n",
      "b\n"
     ]
    }
   ],
   "source": [
    "x, y = ['have','fun']\n",
    "print x\n",
    "print y\n",
    "\n",
    "x, y = ('have','fun')\n",
    "print x\n",
    "print y\n",
    "\n",
    "x, y = 'ab'\n",
    "print x\n",
    "print y"
   ]
  },
  {
   "cell_type": "markdown",
   "metadata": {},
   "source": [
    "* 왼편의 변수 갯수와 오른편의 값의 갯수는 동일해야 한다."
   ]
  },
  {
   "cell_type": "code",
   "execution_count": 16,
   "metadata": {
    "collapsed": false
   },
   "outputs": [
    {
     "ename": "ValueError",
     "evalue": "too many values to unpack",
     "output_type": "error",
     "traceback": [
      "\u001b[1;31m---------------------------------------------------------------------------\u001b[0m",
      "\u001b[1;31mValueError\u001b[0m                                Traceback (most recent call last)",
      "\u001b[1;32m<ipython-input-16-2ecd6d570722>\u001b[0m in \u001b[0;36m<module>\u001b[1;34m()\u001b[0m\n\u001b[1;32m----> 1\u001b[1;33m \u001b[0ma\u001b[0m\u001b[1;33m,\u001b[0m \u001b[0mb\u001b[0m \u001b[1;33m=\u001b[0m \u001b[1;33m(\u001b[0m\u001b[1;36m1\u001b[0m\u001b[1;33m,\u001b[0m \u001b[1;36m2\u001b[0m\u001b[1;33m,\u001b[0m \u001b[1;36m3\u001b[0m\u001b[1;33m)\u001b[0m\u001b[1;33m\u001b[0m\u001b[0m\n\u001b[0m",
      "\u001b[1;31mValueError\u001b[0m: too many values to unpack"
     ]
    }
   ],
   "source": [
    "a, b = (1, 2, 3)"
   ]
  },
  {
   "cell_type": "markdown",
   "metadata": {},
   "source": [
    "<응용 예시1>\n",
    "\n",
    "전자우편 주소 ( 사용자이름@도메인 )에서, **사용자 이름**과 **도메인**을 동시에 대입할 수 있다."
   ]
  },
  {
   "cell_type": "code",
   "execution_count": 15,
   "metadata": {
    "collapsed": false
   },
   "outputs": [
    {
     "name": "stdout",
     "output_type": "stream",
     "text": [
      "['monty', 'python.org']\n",
      "monty\n",
      "python.org\n"
     ]
    }
   ],
   "source": [
    "addr = 'monty@python.org'\n",
    "print addr.split('@')\n",
    "\n",
    "uname, domain = addr.split('@')  # 튜플 = 리스트\n",
    "\n",
    "print uname\n",
    "print domain"
   ]
  },
  {
   "cell_type": "markdown",
   "metadata": {},
   "source": [
    "<응용 예시2>\n",
    "\n",
    "단일 문장으로 두 변수 값을 교환(swap)할 수 있다."
   ]
  },
  {
   "cell_type": "code",
   "execution_count": 21,
   "metadata": {
    "collapsed": false
   },
   "outputs": [
    {
     "name": "stdout",
     "output_type": "stream",
     "text": [
      "('python.org', 'monty')\n",
      "python.org\n"
     ]
    }
   ],
   "source": [
    "uname, domain = domain, uname\n",
    "print (uname, domain)\n",
    "print uname"
   ]
  },
  {
   "cell_type": "markdown",
   "metadata": {
    "collapsed": false
   },
   "source": [
    "# 튜플 비교하기\n",
    "* 파이썬은 첫 번째 요소부터 비교를 시작한다."
   ]
  },
  {
   "cell_type": "code",
   "execution_count": 22,
   "metadata": {
    "collapsed": false
   },
   "outputs": [
    {
     "name": "stdout",
     "output_type": "stream",
     "text": [
      "True\n",
      "True\n"
     ]
    }
   ],
   "source": [
    "print (0,1,2)   < (0,1,3)\n",
    "print (0,1,100) < (0,2,0)"
   ]
  },
  {
   "cell_type": "markdown",
   "metadata": {},
   "source": [
    "# 튜플 비교를 통해 정렬하기\n",
    "\n",
    "** 예제 )**\n",
    "아래 단어 리스트(words)에서, 단어 길이가 가장 긴 단어부터 짧은 순으로 정렬해보자"
   ]
  },
  {
   "cell_type": "code",
   "execution_count": 29,
   "metadata": {
    "collapsed": false
   },
   "outputs": [
    {
     "name": "stdout",
     "output_type": "stream",
     "text": [
      "['but', 'soft', 'what', 'light', 'in', 'yonder', 'window', 'breaks']\n"
     ]
    }
   ],
   "source": [
    "txt = 'but soft what light in yonder window breaks'\n",
    "words = txt.split()\n",
    "print words"
   ]
  },
  {
   "cell_type": "markdown",
   "metadata": {},
   "source": [
    "(1) Decorate데코레이트 단계\n",
    "\n",
    "각 단어 앞에 길이 정보를 가지는 **튜플 (단어의 길이, 단어)** 들을 요소로 가지는 **리스트(lst)**를 생성 (list of tuples) 한다."
   ]
  },
  {
   "cell_type": "code",
   "execution_count": 24,
   "metadata": {
    "collapsed": false
   },
   "outputs": [
    {
     "name": "stdout",
     "output_type": "stream",
     "text": [
      "[(3, 'but'), (4, 'soft'), (4, 'what'), (5, 'light'), (2, 'in'), (6, 'yonder'), (6, 'window'), (6, 'breaks')]\n"
     ]
    }
   ],
   "source": [
    "lst = list()\n",
    "for word in words:\n",
    "    lst.append( ( len(word),word ) )\n",
    "\n",
    "print lst"
   ]
  },
  {
   "cell_type": "markdown",
   "metadata": {},
   "source": [
    "(2) Sort 정렬 단계\n",
    "\n",
    "정렬함수(sort)를 적용하면, 첫번째 요소인 길이를 우선 비교해서 정렬한다."
   ]
  },
  {
   "cell_type": "code",
   "execution_count": 31,
   "metadata": {
    "collapsed": false
   },
   "outputs": [
    {
     "name": "stdout",
     "output_type": "stream",
     "text": [
      "[(6, 'yonder'), (6, 'window'), (6, 'breaks'), (5, 'light'), (4, 'what'), (4, 'soft'), (3, 'but'), (2, 'in')]\n"
     ]
    }
   ],
   "source": [
    "lst.sort(reverse=True)\n",
    "print lst"
   ]
  },
  {
   "cell_type": "markdown",
   "metadata": {},
   "source": [
    "(3) Undecorate언데코레이트 단계\n",
    "\n",
    "(길이에 따라 정렬된) 튜플을 훑으면서 필요한 내용을 출력한다. "
   ]
  },
  {
   "cell_type": "code",
   "execution_count": 33,
   "metadata": {
    "collapsed": false
   },
   "outputs": [
    {
     "name": "stdout",
     "output_type": "stream",
     "text": [
      "['yonder', 'window', 'breaks', 'light', 'what', 'soft', 'but', 'in']\n"
     ]
    }
   ],
   "source": [
    "res = list()\n",
    "for length, word in lst:\n",
    "    res.append(word)\n",
    "print res"
   ]
  },
  {
   "cell_type": "markdown",
   "metadata": {
    "collapsed": true
   },
   "source": [
    "# 딕셔너리와 튜플\n",
    "* 딕셔너리의 **items** 메쏘드는 키(key)-값(value) pair를 튜플의 리스트로 출력\n",
    "\n",
    "\n",
    "튜플 비교로 **정렬**이 가능해짐\n",
    "\n",
    "(딕셔너리 내용은 해쉬 키 순서로써 특별한 순서가 없지만, 튜플을 이용하여 딕셔너리 정렬이 가능함)"
   ]
  },
  {
   "cell_type": "code",
   "execution_count": 40,
   "metadata": {
    "collapsed": false
   },
   "outputs": [
    {
     "name": "stdout",
     "output_type": "stream",
     "text": [
      "{'c': 22, 'b': 1, 'd': 10}\n",
      "[('c', 22), ('b', 1), ('d', 10)]\n",
      "[('b', 1), ('c', 22), ('d', 10)]\n"
     ]
    }
   ],
   "source": [
    "d = {'d':10, 'b':1, 'c':22}\n",
    "print d\n",
    "\n",
    "t = d.items()\n",
    "print t\n",
    "t.sort()   # key 값을 기준으로 정렬 ! \n",
    "print t"
   ]
  },
  {
   "cell_type": "markdown",
   "metadata": {},
   "source": [
    "value 값을 기준으로 정렬하고 싶다면??\n",
    "\n",
    "[(val1, key1), (val2, key2) ,...] 형태로 바꿔서 정렬하면 됨"
   ]
  },
  {
   "cell_type": "code",
   "execution_count": 48,
   "metadata": {
    "collapsed": false
   },
   "outputs": [
    {
     "name": "stdout",
     "output_type": "stream",
     "text": [
      "[(22, 'c'), (1, 'b'), (10, 'd')]\n",
      "=================\n",
      "[(22, 'c'), (1, 'b'), (10, 'd')]\n"
     ]
    }
   ],
   "source": [
    "lst = list()\n",
    "for k, v in d.items():  \n",
    "    lst.append( (v, k) )\n",
    "\n",
    "print lst\n",
    "\n",
    "print \"=================\"\n",
    "\n",
    "lst = [ (v, k) for k, v in d.items() ]\n",
    "\n",
    "print lst"
   ]
  },
  {
   "cell_type": "code",
   "execution_count": 50,
   "metadata": {
    "collapsed": false
   },
   "outputs": [
    {
     "name": "stdout",
     "output_type": "stream",
     "text": [
      "[(1, 'b'), (10, 'd'), (22, 'c')]\n"
     ]
    }
   ],
   "source": [
    "lst.sort()    # value를 기준으로 정렬\n",
    "print lst"
   ]
  },
  {
   "cell_type": "markdown",
   "metadata": {},
   "source": [
    "[http://www.py4inf.com/code/mbox-short.txt](http://www.py4inf.com/code/mbox-short.txt)"
   ]
  },
  {
   "cell_type": "code",
   "execution_count": 3,
   "metadata": {
    "collapsed": false
   },
   "outputs": [
    {
     "name": "stdout",
     "output_type": "stream",
     "text": [
      "-rw-rw-r-- 1 sungmk sungmk 94626  8월  8 01:39 mbox-short.txt\r\n"
     ]
    }
   ],
   "source": [
    "! wget http://www.py4inf.com/code/mbox-short.txt\n",
    "! ls -al mbox-short.txt"
   ]
  },
  {
   "cell_type": "markdown",
   "metadata": {},
   "source": [
    "# Exercise 10.1\n",
    "\n",
    "* \"From \" 라인을 읽고 파싱하여 라인에서 메일 주소를 뽑아내세요.\n",
    "* 딕셔너리를 사용하여 각 사람으로부터 메시지 숫자를 계수(count)한다.\n",
    "\n",
    "===================================\n",
    "\n",
    "Enter a file name: mbox-short.txt\n",
    "\n",
    "Sample Line:\n",
    "\n",
    "From **stephen.marquard@uct.ac.za** Sat Jan  5 09:14:16 2008"
   ]
  },
  {
   "cell_type": "code",
   "execution_count": 51,
   "metadata": {
    "collapsed": false,
    "scrolled": true
   },
   "outputs": [
    {
     "name": "stdout",
     "output_type": "stream",
     "text": [
      "{'gopal.ramasammycook@gmail.com': 1, 'louis@media.berkeley.edu': 3, 'cwen@iupui.edu': 5, 'antranig@caret.cam.ac.uk': 1, 'rjlowe@iupui.edu': 2, 'gsilver@umich.edu': 3, 'david.horwitz@uct.ac.za': 4, 'wagnermr@iupui.edu': 1, 'zqian@umich.edu': 4, 'stephen.marquard@uct.ac.za': 2, 'ray@media.berkeley.edu': 1}\n"
     ]
    }
   ],
   "source": [
    "#fname = raw_input(\"Enter a file name: \")\n",
    "fname = \"mbox-short.txt\"\n",
    "\n",
    "fhand =open(fname)\n",
    "\n",
    "d = dict()\n",
    "for line in fhand:\n",
    "    if line.startswith(\"From \"):\n",
    "        words = line.split()\n",
    "        email = words[1]\n",
    "#        d[email] = d.get(email, 0)+1\n",
    "        if email not in d:\n",
    "            d[email] =1\n",
    "        else:\n",
    "            d[email]+=1\n",
    "            \n",
    "print d"
   ]
  },
  {
   "cell_type": "markdown",
   "metadata": {},
   "source": [
    "* 모든 데이터를 읽은 후에 가장 많은 커밋(commit)을 한 사람을 출력하세요.\n",
    "\n",
    "    딕셔너리로부터 튜플(count,email)의 리스트를 생성하고 역순으로 정렬한 후에 가장 많은 커밋을 한 사람을 출력하세요 "
   ]
  },
  {
   "cell_type": "code",
   "execution_count": 54,
   "metadata": {
    "collapsed": false,
    "scrolled": true
   },
   "outputs": [
    {
     "name": "stdout",
     "output_type": "stream",
     "text": [
      "(5, 'cwen@iupui.edu')\n"
     ]
    }
   ],
   "source": [
    "lst = []\n",
    "for key,val in d.items():\n",
    "    lst.append( (val,key) )\n",
    "  \n",
    "lst.sort(reverse=True)\n",
    "print lst[0]"
   ]
  },
  {
   "cell_type": "markdown",
   "metadata": {},
   "source": [
    "#  Exercise 10.2\n",
    "  이번 프로그램은 각 메시지에 대한 하루 중 시간의 분포를 계수(count)한다.\n",
    "  \n",
    "  \"From \"라인으로부터 시간 문자열을 찾고 콜론(:) 문자를 사용하여 문자열을 쪼개서 시간을 추출합니다.\n",
    "  \n",
    "  각 시간별로 계수(count)를 누적하고 아래 보여지듯이 시간 단위로 정렬하여 한 라인에 한 시간씩 계수(count)를 출력합니다.\n",
    "  \n",
    "  ===================================\n",
    "\n",
    "Enter a file name: mbox-short.txt\n",
    "\n",
    "Sample Line:\n",
    "\n",
    "From stephen.marquard@uct.ac.za Sat Jan  5 **09**:14:16 2008\n"
   ]
  },
  {
   "cell_type": "code",
   "execution_count": 41,
   "metadata": {
    "collapsed": false
   },
   "outputs": [
    {
     "name": "stdout",
     "output_type": "stream",
     "text": [
      "{'11': 6, '10': 3, '15': 2, '14': 1, '04': 3, '16': 4, '19': 1, '18': 1, '09': 2, '17': 2, '06': 1, '07': 1}\n",
      "04 3\n",
      "06 1\n",
      "07 1\n",
      "09 2\n",
      "10 3\n",
      "11 6\n",
      "14 1\n",
      "15 2\n",
      "16 4\n",
      "17 2\n",
      "18 1\n",
      "19 1\n"
     ]
    }
   ],
   "source": [
    "#fname = raw_input(\"Enter a file name: \")\n",
    "fname = \"mbox-short.txt\"\n",
    "\n",
    "fhand =open(fname)\n",
    "\n",
    "d = dict()\n",
    "for line in fhand:\n",
    "    if line.startswith(\"From \"):\n",
    "        time = line.split()[5].split(':')[0]\n",
    "        d[time] = d.get(time, 0)+1\n",
    "\n",
    "print d\n",
    "\n",
    "t = d.items()\n",
    "t.sort()\n",
    "\n",
    "for key,val in t:\n",
    "    print key, val"
   ]
  },
  {
   "cell_type": "markdown",
   "metadata": {},
   "source": [
    "# 가장 빈도수 높은 단어 찾기"
   ]
  },
  {
   "cell_type": "markdown",
   "metadata": {},
   "source": [
    "[www.py4inf.com/code/romeo-full.txt](http://www.py4inf.com/code/romeo-full.txt)"
   ]
  },
  {
   "cell_type": "code",
   "execution_count": null,
   "metadata": {
    "collapsed": true
   },
   "outputs": [],
   "source": [
    "! wget www.py4inf.com/code/romeo-full.txt"
   ]
  },
  {
   "cell_type": "code",
   "execution_count": 63,
   "metadata": {
    "collapsed": false,
    "scrolled": false
   },
   "outputs": [
    {
     "name": "stdout",
     "output_type": "stream",
     "text": [
      "!\"#$%&'()*+,-./:;<=>?@[\\]^_`{|}~\n",
      "['But,', 'soft!', 'what', 'light', 'through', 'yonder', 'window', 'breaks?', 'but,', 'breaks!']\n",
      "['but', 'soft', 'what', 'light', 'through', 'yonder', 'window', 'breaks', 'but', 'breaks']\n"
     ]
    }
   ],
   "source": [
    "import string\n",
    "print string.punctuation\n",
    "\n",
    "txt = 'But, soft! what light through yonder window breaks? but, breaks!'\n",
    "words = txt.split()\n",
    "print words\n",
    "words = txt.translate(None, string.punctuation).lower().split()\n",
    "print words"
   ]
  },
  {
   "cell_type": "markdown",
   "metadata": {},
   "source": [
    "* 파일을 읽어, {단어, 단어의 빈도수} 딕셔너리를 만든다"
   ]
  },
  {
   "cell_type": "code",
   "execution_count": 67,
   "metadata": {
    "collapsed": false,
    "scrolled": true
   },
   "outputs": [
    {
     "name": "stdout",
     "output_type": "stream",
     "text": [
      "swearst 1\n",
      "all 6\n",
      "forget 2\n",
      "pardon 1\n",
      "stumblest 1\n",
      "hath 1\n",
      "sleep 2\n",
      "follow 1\n",
      "idolatry 1\n",
      "hate 1\n"
     ]
    }
   ],
   "source": [
    "fname = 'romeo-full.txt'\n",
    "fhand = open(fname)\n",
    "\n",
    "counts = dict()\n",
    "for line in fhand:\n",
    "    line = line.translate(None, string.punctuation).lower()\n",
    "    words = line.split()\n",
    "    for word in words:\n",
    "        counts[word] = counts.get(word, 0)+1\n",
    "\n",
    "for key,val in counts.items()[:10]:\n",
    "    print key,val"
   ]
  },
  {
   "cell_type": "markdown",
   "metadata": {},
   "source": [
    "* [(val, key), ..] 와 같은 리스트를 생성하고 리스트를 정렬한다. "
   ]
  },
  {
   "cell_type": "code",
   "execution_count": 68,
   "metadata": {
    "collapsed": false
   },
   "outputs": [],
   "source": [
    "lst = [(val, key) for key, val in counts.items() ]\n",
    "\n",
    "lst.sort(reverse=True)"
   ]
  },
  {
   "cell_type": "markdown",
   "metadata": {},
   "source": [
    "* 가장 빈도수가 높은 상위 10개 단어를 출력한다."
   ]
  },
  {
   "cell_type": "code",
   "execution_count": 69,
   "metadata": {
    "collapsed": false,
    "scrolled": true
   },
   "outputs": [
    {
     "name": "stdout",
     "output_type": "stream",
     "text": [
      "i 61\n",
      "and 42\n",
      "romeo 40\n",
      "to 34\n",
      "the 34\n",
      "thou 32\n",
      "juliet 32\n",
      "that 30\n",
      "my 29\n",
      "thee 24\n"
     ]
    }
   ],
   "source": [
    "for val, key in lst[:10]:\n",
    "    print key, val"
   ]
  },
  {
   "cell_type": "markdown",
   "metadata": {},
   "source": [
    "# Exercise 10.3\n",
    "파일을 읽고 문자(a letter)의 빈도(frequency)에 따라 내림차순으로 문자들(letters)을 출력하는 프로그램을 작성하세요.\n",
    "\n",
    "작성한 프로그램은, 모든 입력을 소문자로 변환하고 a-z문자만 계수(count)한다.을\n",
    "\n",
    "공백, 숫자, 문장기호 a-z를 제외한 다른 어떤 것도 계수하지 않습니다.\n",
    "\n",
    "다른 언어로 구성된 텍스트 샘플을 구해서 언어마다 문자빈도가 어떻게 변하는지 살펴보세요.\n",
    "\n",
    "결과를 [wikipeida.org/wiki/Letter_frequencies](http://wikipedia.org/wiki/Letter_frequencies) 표와 비교하세요"
   ]
  },
  {
   "cell_type": "code",
   "execution_count": 43,
   "metadata": {
    "collapsed": false
   },
   "outputs": [
    {
     "name": "stdout",
     "output_type": "stream",
     "text": [
      "abcdefghijklmnopqrstuvwxyz\n"
     ]
    }
   ],
   "source": [
    "import string\n",
    "print string.ascii_lowercase"
   ]
  },
  {
   "cell_type": "code",
   "execution_count": 87,
   "metadata": {
    "collapsed": false,
    "scrolled": true
   },
   "outputs": [
    {
     "name": "stdout",
     "output_type": "stream",
     "text": [
      "{'a': 475, 'c': 104, 'b': 105, 'e': 860, 'd': 215, 'g': 125, 'f': 124, 'i': 464, 'h': 449, 'k': 54, 'j': 38, 'm': 212, 'l': 328, 'o': 605, 'n': 376, 'q': 3, 'p': 72, 's': 378, 'r': 386, 'u': 210, 't': 701, 'w': 179, 'v': 89, 'y': 142, 'x': 6, 'z': 3}\n",
      "e 860\n",
      "t 701\n",
      "o 605\n",
      "a 475\n",
      "i 464\n",
      "h 449\n",
      "r 386\n",
      "s 378\n",
      "n 376\n",
      "l 328\n",
      "d 215\n",
      "m 212\n",
      "u 210\n",
      "w 179\n",
      "y 142\n",
      "g 125\n",
      "f 124\n",
      "b 105\n",
      "c 104\n",
      "v 89\n",
      "p 72\n",
      "k 54\n",
      "j 38\n",
      "x 6\n",
      "z 3\n",
      "q 3\n"
     ]
    }
   ],
   "source": [
    "fname = 'romeo-full.txt'\n",
    "fhand = open(fname)\n",
    "\n",
    "counts = dict()\n",
    "for line in fhand:\n",
    "    line = line.translate(None, string.punctuation).lower()\n",
    "    words = line.split()\n",
    "    for word in words:\n",
    "        for c in word:\n",
    "            if c not in string.ascii_lowercase:\n",
    "                continue\n",
    "            counts[c]= counts.get(c, 0)+1\n",
    "            \n",
    "print counts\n",
    "\n",
    "lst = [ (val, key) for key,val in counts.items() ]\n",
    "lst.sort( reverse=True )\n",
    "\n",
    "for val, key in lst:\n",
    "    print key, val"
   ]
  },
  {
   "cell_type": "markdown",
   "metadata": {},
   "source": [
    "# 튜플이 사용되는 경우\n",
    "\n",
    "튜플의 변경 가능하지 않는 특징은,\n",
    "리스트에 비해 메모리 활용면에서 효율적이다.\n",
    "\n",
    "따라서, 일시적인 변수(temporary variables)를 만들어야 할 때(예를 들어 함수에 인자를 전달할 때) 튜플을 자주 사용한다.\n",
    "\n",
    "(1). 함수\n",
    "- 함수에 인자 여러개 전달할 때\n",
    "- 여러 인자를 return할 때 (간략하므로)"
   ]
  },
  {
   "cell_type": "code",
   "execution_count": 74,
   "metadata": {
    "collapsed": false
   },
   "outputs": [
    {
     "data": {
      "text/plain": [
       "(3, 8)"
      ]
     },
     "execution_count": 74,
     "metadata": {},
     "output_type": "execute_result"
    }
   ],
   "source": [
    "def myfunc(x1,x2):\n",
    "    x11 = x1\n",
    "    x22 = x2*2\n",
    "    return x11,x22\n",
    "\n",
    "myfunc(3,4)"
   ]
  },
  {
   "cell_type": "markdown",
   "metadata": {},
   "source": [
    "(2). 딕셔너리에 복합키 (composite key) 로 사용할 수 있다"
   ]
  },
  {
   "cell_type": "code",
   "execution_count": 89,
   "metadata": {
    "collapsed": false,
    "scrolled": true
   },
   "outputs": [
    {
     "name": "stdout",
     "output_type": "stream",
     "text": [
      "rsID2\n"
     ]
    }
   ],
   "source": [
    "d = {('chr2',1):'rsID1', ('chr1',11):'rsID2', ('chr1',1):'rsID3'}  # 복합키(comosite key) \n",
    "                                                # ex) 전화번호부 딕셔너리 {('성','이름'): 전화번호}\n",
    "\n",
    "print d['chr1',11]"
   ]
  }
 ],
 "metadata": {
  "kernelspec": {
   "display_name": "Python 2",
   "language": "python",
   "name": "python2"
  },
  "language_info": {
   "codemirror_mode": {
    "name": "ipython",
    "version": 2
   },
   "file_extension": ".py",
   "mimetype": "text/x-python",
   "name": "python",
   "nbconvert_exporter": "python",
   "pygments_lexer": "ipython2",
   "version": "2.7.10"
  }
 },
 "nbformat": 4,
 "nbformat_minor": 0
}
