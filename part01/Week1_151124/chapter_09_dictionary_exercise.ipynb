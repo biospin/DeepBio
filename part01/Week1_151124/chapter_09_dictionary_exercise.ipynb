{
 "cells": [
  {
   "cell_type": "markdown",
   "metadata": {},
   "source": [
    "# 제 09 장 딕셔너리(Dictionaries)"
   ]
  },
  {
   "cell_type": "markdown",
   "metadata": {},
   "source": [
    "## Exercise 9.1 words.txt 단어를 읽어서 딕셔너리에 키로 저장하는 프로그램을 작성하세요. \n",
    "## 값이 무엇이든지 상관없습니다. 딕셔너리에 문자열을 확인하는 가장 빠른 방법으로 in 연산자를 사용할 수 있습니다."
   ]
  },
  {
   "cell_type": "code",
   "execution_count": 8,
   "metadata": {
    "collapsed": false
   },
   "outputs": [
    {
     "name": "stdout",
     "output_type": "stream",
     "text": [
      "--2015-11-23 15:39:38--  https://raw.githubusercontent.com/statkclee/py4inf-kor/master/code/words.txt\n",
      "Resolving raw.githubusercontent.com (raw.githubusercontent.com)... 103.245.222.133\n",
      "접속 raw.githubusercontent.com (raw.githubusercontent.com)|103.245.222.133|:443... 접속됨.\n",
      "HTTP request sent, awaiting response... 200 OK\n",
      "Length: 1170 (1.1K) [text/plain]\n",
      "Saving to: ‘words.txt’\n",
      "\n",
      "100%[======================================>] 1,170       --.-K/s   in 0s      \n",
      "\n",
      "2015-11-23 15:39:38 (77.2 MB/s) - ‘words.txt’ saved [1170/1170]\n",
      "\n"
     ]
    }
   ],
   "source": [
    "! rm -f words.txt\n",
    "! wget https://raw.githubusercontent.com/statkclee/py4inf-kor/master/code/words.txt"
   ]
  },
  {
   "cell_type": "code",
   "execution_count": 10,
   "metadata": {
    "collapsed": false
   },
   "outputs": [
    {
     "name": "stdout",
     "output_type": "stream",
     "text": [
      "{'What': '', 'everyone}': '', 'find': '', 'We': '', 'personal': '', 'explain': '', 'solving': '', 'to': '', 'only': '', 'program': '', 'do': '', 'someone': '', 'very': '', 'know': '', 'mind-numbing': '', 'helpful': '', 'like': '', 'skills': '', 'this': '', 'activity': '', 'often': '', 'phones': '', 'humans': '', 'computer': '', 'are': '', 'our': '', 'best': '', 'out': '', 'living': '', 'what': '', 'for': '', 'surrounded': '', 'creative': '', 'cell': '', 'rewarding': '', 'assistants': '', 'be': '', 'we': '', 'knew': '', 'This': '', 'were': '', '{\\\\em': '', 'fun': '', 'Our': '', 'care': '', 'on': '', 'essentially': '', 'language': '', 'of': '', 'could': '', 'computers': '', 'programming': '', 'newfound': '', 'think': '', 'tasks': '', 'reasons': '', 'Writing': '', 'your': '', 'speak': '', 'from': '', 'would': '', 'question': '', 'fast': '', 'next': '', 'memory': '', 'ranging': '', 'assumes': '', 'that': '', 'else': '', 'laptops': '', 'lives': '', 'with': '', 'behalf': '', 'me': '', 'these': '', 'boring': '', 'us': '', 'tell': '', 'will': '', 'reptitive': '', 'can': '', 'many': '', 'continuously': '', 'making': '', 'problem': '', 'and': '', 'have': '', 'figure': '', 'is': '', 'it': '', 'hardware': '', 'as': '', 'analysis': '', 'want': '', 'in': '', 'You': '', 'if': '', 'needs': '', 'built': '', 'amounts': '', 'things': '', 'write': '', 'how': '', 'book': '', 'take': '', 'Interestingly,': '', 'program,': '', 'you': '', 'difficult': '', 'kinds': '', 'who': '', 'current-day': '', 'helping': '', 'The': '', 'data': '', 'a': '', 'programs': '', 'daily': '', 'or': '', 'solve': '', 'vasts': '', 'the': '', 'If': '', 'having': '', 'once': ''}\n"
     ]
    }
   ],
   "source": [
    "fhand = open('words.txt')\n",
    "wordDict = dict()\n",
    "for line in fhand:\n",
    "    words = line.split()\n",
    "    for word in words :\n",
    "        if word in wordDict :\n",
    "            continue \n",
    "        \n",
    "        wordDict[ word ] = ''\n",
    "            \n",
    "print wordDict"
   ]
  },
  {
   "cell_type": "markdown",
   "metadata": {},
   "source": [
    "## Exercise 9.2 커밋(commit)이 무슨 요일에 수행되었는지에 따라 전자우편 메세지를 구분하는 프로그램을 작성하세요.      ”From”으로 시작하는 라인을 찾고, 3 번째 단어를 찾아서 요일별 횟수를 계수(count)하여 저장하세요. 프로그램 끝에 딕셔너리 내용을 출력하세요. (순서는 문제가 되지 않습니다.)\n",
    "```\n",
    "Sample Line:\n",
    "From stephen.marquard@uct.ac.za Sat Jan 5 09:14:16 2008\n",
    "Sample Execution:\n",
    "python dow.py\n",
    "Enter a file name: mbox-short.txt\n",
    "{'Fri': 20, 'Thu': 6, 'Sat': 1}\n",
    "```"
   ]
  },
  {
   "cell_type": "code",
   "execution_count": 1,
   "metadata": {
    "collapsed": false
   },
   "outputs": [
    {
     "name": "stdout",
     "output_type": "stream",
     "text": [
      "--2015-11-23 16:32:35--  http://www.py4inf.com/code/mbox-short.txt\n",
      "Resolving www.py4inf.com (www.py4inf.com)... 198.251.66.43\n",
      "접속 www.py4inf.com (www.py4inf.com)|198.251.66.43|:80... 접속됨.\n",
      "HTTP request sent, awaiting response... 200 OK\n",
      "Length: 94626 (92K) [text/plain]\n",
      "Saving to: ‘mbox-short.txt’\n",
      "\n",
      "100%[======================================>] 94,626       220KB/s   in 0.4s   \n",
      "\n",
      "2015-11-23 16:32:36 (220 KB/s) - ‘mbox-short.txt’ saved [94626/94626]\n",
      "\n",
      "--2015-11-23 16:32:36--  http://www.py4inf.com/code/mbox.txt\n",
      "Resolving www.py4inf.com (www.py4inf.com)... 198.251.66.43\n",
      "접속 www.py4inf.com (www.py4inf.com)|198.251.66.43|:80... 접속됨.\n",
      "HTTP request sent, awaiting response... 200 OK\n",
      "Length: 6687002 (6.4M) [text/plain]\n",
      "Saving to: ‘mbox.txt’\n",
      "\n",
      "100%[======================================>] 6,687,002    206KB/s   in 37s    \n",
      "\n",
      "2015-11-23 16:33:13 (178 KB/s) - ‘mbox.txt’ saved [6687002/6687002]\n",
      "\n"
     ]
    }
   ],
   "source": [
    "! rm -f mbox-short.txt &&  wget http://www.py4inf.com/code/mbox-short.txt\n",
    "! rm -f mbox.txt && wget http://www.py4inf.com/code/mbox.txt    "
   ]
  },
  {
   "cell_type": "code",
   "execution_count": 17,
   "metadata": {
    "collapsed": false
   },
   "outputs": [
    {
     "name": "stdout",
     "output_type": "stream",
     "text": [
      "Enter the file name: mbox-short.txt\n",
      "{'Fri': 20, 'Thu': 6, 'Sat': 1}\n"
     ]
    }
   ],
   "source": [
    "import string\n",
    "\n",
    "fname = raw_input('Enter the file name: ')\n",
    "try:\n",
    "    fhand = open(fname)\n",
    "except:\n",
    "    print 'File cannot be opened:', fname\n",
    "    exit()\n",
    "    \n",
    "weekDict = dict()\n",
    "for line in fhand:\n",
    "    words = line.split()\n",
    "    if len( words ) <= 2  :\n",
    "        continue\n",
    "    \n",
    "    if \"From\" != words[0] :\n",
    "        continue\n",
    "    \n",
    "    currentCnt = 0 \n",
    "    weekday = words[2]\n",
    "    if weekday in weekDict :\n",
    "        currentCnt = weekDict[ weekday ]\n",
    "\n",
    "    weekDict[ weekday ] = currentCnt + 1\n",
    "        \n",
    "print weekDict"
   ]
  },
  {
   "cell_type": "markdown",
   "metadata": {},
   "source": [
    "## Exercise 9.3 전자우편 로그(log)를 읽고, 히스토그램을 생성하는 프로그램을 작성하세요. 딕셔너리를 사용해서 전자우편 주소별로 얼마나 많은 전자우편이 왔는지를 계수(count)하고 딕셔너리를 출력합니다.\n",
    "```\n",
    "Enter file name: mbox-short.txt\n",
    "{'gopal.ramasammycook@gmail.com': 1, 'louis@media.berkeley.edu': 3,\n",
    "'cwen@iupui.edu': 5, 'antranig@caret.cam.ac.uk': 1,\n",
    "'rjlowe@iupui.edu': 2, 'gsilver@umich.edu': 3,\n",
    "'david.horwitz@uct.ac.za': 4, 'wagnermr@iupui.edu': 1,\n",
    "'zqian@umich.edu': 4, 'stephen.marquard@uct.ac.za': 2,\n",
    "'ray@media.berkeley.edu': 1}\n",
    "```"
   ]
  },
  {
   "cell_type": "code",
   "execution_count": 1,
   "metadata": {
    "collapsed": false
   },
   "outputs": [
    {
     "name": "stdout",
     "output_type": "stream",
     "text": [
      "Enter the file name: mbox-short.txt\n",
      "{'gopal.ramasammycook@gmail.com': 1, 'louis@media.berkeley.edu': 3, 'cwen@iupui.edu': 5, 'antranig@caret.cam.ac.uk': 1, 'rjlowe@iupui.edu': 2, 'gsilver@umich.edu': 3, 'david.horwitz@uct.ac.za': 4, 'wagnermr@iupui.edu': 1, 'zqian@umich.edu': 4, 'stephen.marquard@uct.ac.za': 2, 'ray@media.berkeley.edu': 1}\n"
     ]
    }
   ],
   "source": [
    "import string\n",
    "\n",
    "fname = raw_input('Enter the file name: ')\n",
    "try:\n",
    "    fhand = open(fname)\n",
    "except:\n",
    "    print 'File cannot be opened:', fname\n",
    "    exit()\n",
    "    \n",
    "emailDict = dict()\n",
    "for line in fhand:\n",
    "    words = line.split()\n",
    "    if len( words ) <= 1  :\n",
    "        continue\n",
    "    \n",
    "    if \"From\" != words[0] :\n",
    "        continue\n",
    "    \n",
    "    currentCnt = 0 \n",
    "    email = words[1]\n",
    "    if email in emailDict :\n",
    "        currentCnt = emailDict[ email ]\n",
    "\n",
    "    emailDict[ email ] = currentCnt + 1\n",
    "        \n",
    "print emailDict"
   ]
  },
  {
   "cell_type": "markdown",
   "metadata": {
    "collapsed": true
   },
   "source": [
    "## Exercise 9.4 상기 프로그램에 누가 가장 많은 전자우편 메시지를 가졌는지 알아내는 코드를 추가하세요. 결국, 모든 데이터를 읽고, 딕셔너리를생성한다. 최대 루프(장 7.2 참조)를 사용해서 딕셔너리를 훑어서 누가 가장 많은 전자우편 메시지를 갖는지, 그리고 그사람이 얼마나 많은 메시지를 갖는지 출력한다. \n",
    "```\n",
    "Enter a file name: mbox-short.txt\n",
    "cwen@iupui.edu 5\n",
    "Enter a file name: mbox.txt\n",
    "zqian@umich.edu 195\n",
    "```"
   ]
  },
  {
   "cell_type": "code",
   "execution_count": 2,
   "metadata": {
    "collapsed": false
   },
   "outputs": [
    {
     "name": "stdout",
     "output_type": "stream",
     "text": [
      "Enter the file name: mbox.txt\n",
      "zqian@umich.edu 195\n"
     ]
    }
   ],
   "source": [
    "import string\n",
    "\n",
    "fname = raw_input('Enter the file name: ')\n",
    "try:\n",
    "    fhand = open(fname)\n",
    "except:\n",
    "    print 'File cannot be opened:', fname\n",
    "    exit()\n",
    "    \n",
    "emailDict = dict()\n",
    "for line in fhand:\n",
    "    words = line.split()\n",
    "    if len( words ) <= 1  :\n",
    "        continue\n",
    "    \n",
    "    if \"From\" != words[0] :\n",
    "        continue\n",
    "    \n",
    "    currentCnt = 0 \n",
    "    email = words[1]\n",
    "    if email in emailDict :\n",
    "        currentCnt = emailDict[ email ]\n",
    "\n",
    "    emailDict[ email ] = currentCnt + 1\n",
    "    \n",
    "maxKey = \"\"\n",
    "maxValue = None\n",
    "for key in emailDict:\n",
    "    if maxValue == None or emailDict[ key ] > maxValue :\n",
    "        maxKey = key\n",
    "        maxValue = emailDict[ key ]\n",
    "    \n",
    "print maxKey, maxValue"
   ]
  },
  {
   "cell_type": "markdown",
   "metadata": {},
   "source": [
    "## Exercise 9.5 다음 프로그램은 주소 대신에 도메인 이름을 기록한다. 누가 메일을 보냈는지 대신(즉, 전체 전자우편 주소) 메시지가 어디에서부터 왔는지출처를 기록한다. 프로그램 마지막에 딕셔너리 내용을 출력한다.\n",
    "```\n",
    "python schoolcount.py\n",
    "Enter a file name: mbox-short.txt\n",
    "{'media.berkeley.edu': 4, 'uct.ac.za': 6, 'umich.edu':7,\n",
    "'gmail.com': 1, 'caret.cam.ac.uk': 1, 'iupui.edu': 8}\n",
    "```"
   ]
  },
  {
   "cell_type": "code",
   "execution_count": 3,
   "metadata": {
    "collapsed": false
   },
   "outputs": [
    {
     "name": "stdout",
     "output_type": "stream",
     "text": [
      "Enter the file name: mbox-short.txt\n",
      "{'media.berkeley.edu': 4, 'uct.ac.za': 6, 'umich.edu': 7, 'gmail.com': 1, 'caret.cam.ac.uk': 1, 'iupui.edu': 8}\n"
     ]
    }
   ],
   "source": [
    "import string\n",
    "\n",
    "fname = raw_input('Enter the file name: ')\n",
    "try:\n",
    "    fhand = open(fname)\n",
    "except:\n",
    "    print 'File cannot be opened:', fname\n",
    "    exit()\n",
    "    \n",
    "domainDict = dict()\n",
    "for line in fhand:\n",
    "    words = line.split()\n",
    "    if len( words ) <= 1  :\n",
    "        continue\n",
    "    \n",
    "    if \"From\" != words[0] :\n",
    "        continue\n",
    "    \n",
    "    domain = words[1].split(\"@\")[1]\n",
    "    \n",
    "    currentCnt = 0 \n",
    "    if domain in domainDict :\n",
    "        currentCnt = domainDict[ domain ]\n",
    "\n",
    "    domainDict[ domain ] = currentCnt + 1\n",
    "        \n",
    "print domainDict"
   ]
  },
  {
   "cell_type": "markdown",
   "metadata": {},
   "source": [
    "# 제 10 장 튜플(Tuples)"
   ]
  },
  {
   "cell_type": "code",
   "execution_count": 6,
   "metadata": {
    "collapsed": false
   },
   "outputs": [
    {
     "name": "stdout",
     "output_type": "stream",
     "text": [
      "[(6, 'yonder'), (6, 'window'), (6, 'breaks'), (5, 'light'), (4, 'what'), (4, 'soft'), (3, 'but'), (2, 'in')] \n",
      "\n",
      "['yonder', 'window', 'breaks', 'light', 'what', 'soft', 'but', 'in']\n"
     ]
    }
   ],
   "source": [
    "txt = 'but soft what light in yonder window breaks'\n",
    "words = txt.split()\n",
    "t = list()\n",
    "for word in words:\n",
    "    t.append((len(word), word))\n",
    "    \n",
    "t.sort(reverse=True)\n",
    "print t, '\\n'\n",
    "\n",
    "res = list()\n",
    "for length, word in t:\n",
    "    res.append(word)\n",
    "    \n",
    "print res"
   ]
  },
  {
   "cell_type": "markdown",
   "metadata": {},
   "source": [
    "## Exercise 10.1 앞서작성한프로그램을 다음과 같이 수정하세요. ”From”라인을 읽고 파싱하여 라인에서 주소를 뽑아내세요. 딕셔너리를 사용하여 각 사람으로 부터 메시지 숫자를 계수(count)한다. 모든데이터를읽은후에가장많은커밋(commit)을한사람을출력하세요.딕셔너리로부터 리스트 (count, email) 튜플을 생성하고 역순으로 리스트를 정렬한 후에 가장 많은 커밋을 한 사람을 출력하세요.\n",
    "```\n",
    "Sample Line:\n",
    "From stephen.marquard@uct.ac.za Sat Jan 5 09:14:16 2008\n",
    "Enter a file name: mbox-short.txt\n",
    "cwen@iupui.edu 5\n",
    "Enter a file name: mbox.txt\n",
    "zqian@umich.edu 195\n",
    "```"
   ]
  },
  {
   "cell_type": "code",
   "execution_count": 9,
   "metadata": {
    "collapsed": false
   },
   "outputs": [
    {
     "name": "stdout",
     "output_type": "stream",
     "text": [
      "Enter the file name: mbox.txt\n",
      "zqian@umich.edu 195\n"
     ]
    }
   ],
   "source": [
    "import string\n",
    "\n",
    "fname = raw_input('Enter the file name: ')\n",
    "try:\n",
    "    fhand = open(fname)\n",
    "except:\n",
    "    print 'File cannot be opened:', fname\n",
    "    exit()\n",
    "    \n",
    "emailDict = dict()\n",
    "for line in fhand:\n",
    "    words = line.split()\n",
    "    if len( words ) <= 1  :\n",
    "        continue\n",
    "    \n",
    "    if \"From\" != words[0] :\n",
    "        continue\n",
    "    \n",
    "    currentCnt = 0 \n",
    "    email = words[1]\n",
    "    if email in emailDict :\n",
    "        currentCnt = emailDict[ email ]\n",
    "\n",
    "    emailDict[ email ] = currentCnt + 1\n",
    "\n",
    "lst = list()\n",
    "for key, val in emailDict.items():\n",
    "    lst.append( (val, key) )\n",
    "\n",
    "lst.sort(reverse=True)\n",
    "\n",
    "for key, val in lst[:1] :\n",
    "     print val, key"
   ]
  },
  {
   "cell_type": "markdown",
   "metadata": {},
   "source": [
    "## Exercise 10.2 이번 프로그램은 각 메시지에 대한 하루 중 시간의 분포를 계수(count)한다.    ”From” 라인으로부터 시간 문자열을 찾고 콜론(:) 문자를 사용하여 문자열을 쪼개서 시간을 추출합니다. 각 시간별로 계수(count)를 누적하고 아래에 보여지듯이 시간 단위로 정렬하여 한 라인에 한시간씩 계수(count)를 출력합니다.\n",
    "```\n",
    "Sample Execution:\n",
    "python timeofday.py\n",
    "Enter a file name: mbox-short.txt\n",
    "04 3\n",
    "06 1\n",
    "07 1\n",
    "09 2\n",
    "10 3\n",
    "11 6\n",
    "14 1\n",
    "15 2\n",
    "16 4\n",
    "17 2\n",
    "18 1\n",
    "19 1\n",
    "```"
   ]
  },
  {
   "cell_type": "code",
   "execution_count": 15,
   "metadata": {
    "collapsed": false
   },
   "outputs": [
    {
     "name": "stdout",
     "output_type": "stream",
     "text": [
      "Enter the file name: mbox-short.txt\n",
      "04 3\n",
      "06 1\n",
      "07 1\n",
      "09 2\n",
      "10 3\n",
      "11 6\n",
      "14 1\n",
      "15 2\n",
      "16 4\n",
      "17 2\n",
      "18 1\n",
      "19 1\n"
     ]
    }
   ],
   "source": [
    "fname = raw_input('Enter the file name: ')\n",
    "try:\n",
    "    fhand = open(fname)\n",
    "except:\n",
    "    print 'File cannot be opened:', fname\n",
    "    exit()\n",
    "    \n",
    "hourDict = dict()\n",
    "for line in fhand:\n",
    "    words = line.split()\n",
    "    if len( words ) <= 5  :\n",
    "        continue\n",
    "    \n",
    "    if \"From\" != words[0] :\n",
    "        continue\n",
    "    \n",
    "    currentCnt = 0 \n",
    "    time = words[5]\n",
    "    \n",
    "    hour = time.split(\":\")[0]\n",
    "    if hour in hourDict :\n",
    "        currentCnt = hourDict[ hour ]\n",
    "\n",
    "    hourDict[ hour ] = currentCnt + 1\n",
    "\n",
    "lst = list()\n",
    "for key, val in hourDict.items():\n",
    "    lst.append( (key, val) )\n",
    "\n",
    "lst.sort()\n",
    "\n",
    "for key, val in lst :\n",
    "     print key, val"
   ]
  },
  {
   "cell_type": "markdown",
   "metadata": {},
   "source": [
    "## Exercise 10.3 파일을 읽고, 빈도(frequencey)에 따라 내림차순으로 문자(letters)를 출력하는 프로그램을 작성하세요.   작성한 프로그램은 모든 입력을 소문자로 변환하고 a-z 문자만 계수(count)한다. 공백, 숫자, 문장기호 a-z를 제외한 다른 어떤 것도 계수하지 않습니다. 다른 언어로 구성된 텍스트 샘플을 구해서 언어마다 문자 빈도가 어떻게 변하는지 살펴보세요. 결과를 wikipedia.org/wiki/Letter_frequencies 표와 비교하세요."
   ]
  },
  {
   "cell_type": "code",
   "execution_count": null,
   "metadata": {
    "collapsed": true
   },
   "outputs": [],
   "source": [
    "! wget https://raw.githubusercontent.com/kevgathuku/py4inf-1/master/romeo-full.txt"
   ]
  },
  {
   "cell_type": "code",
   "execution_count": 18,
   "metadata": {
    "collapsed": false
   },
   "outputs": [
    {
     "name": "stdout",
     "output_type": "stream",
     "text": [
      "61 i\n",
      "42 and\n",
      "40 romeo\n",
      "34 to\n",
      "34 the\n",
      "32 thou\n",
      "32 juliet\n",
      "30 that\n",
      "29 my\n",
      "24 thee\n",
      "24 love\n",
      "24 a\n",
      "22 it\n",
      "21 is\n",
      "20 thy\n",
      "20 of\n",
      "18 not\n",
      "18 me\n",
      "18 but\n",
      "16 would\n",
      "16 night\n",
      "14 her\n",
      "14 by\n",
      "14 be\n",
      "13 in\n",
      "13 have\n",
      "12 if\n",
      "12 for\n",
      "12 as\n",
      "11 what\n",
      "11 o\n",
      "11 name\n",
      "10 so\n",
      "9 yet\n",
      "9 were\n",
      "9 this\n",
      "9 she\n",
      "9 more\n",
      "9 good\n",
      "9 at\n",
      "8 with\n",
      "8 will\n",
      "8 too\n",
      "8 sweet\n",
      "8 ill\n",
      "7 which\n",
      "7 do\n",
      "7 dear\n",
      "7 art\n",
      "7 am\n",
      "6 wilt\n",
      "6 their\n",
      "6 than\n",
      "6 swear\n",
      "6 shall\n",
      "6 no\n",
      "6 eyes\n",
      "6 all\n",
      "6 again\n",
      "6 above\n",
      "5 within\n",
      "5 who\n",
      "5 upon\n",
      "5 they\n",
      "5 say\n",
      "5 nor\n",
      "5 montague\n",
      "5 light\n",
      "5 how\n",
      "5 he\n",
      "5 come\n",
      "4 word\n",
      "4 tis\n",
      "4 till\n",
      "4 speak\n",
      "4 prove\n",
      "4 other\n",
      "4 or\n",
      "4 on\n",
      "4 nurse\n",
      "4 moon\n",
      "4 here\n",
      "4 hand\n",
      "4 from\n",
      "4 fair\n",
      "4 exit\n",
      "4 cheek\n",
      "4 back\n",
      "4 any\n",
      "3 world\n",
      "3 true\n",
      "3 tonight\n",
      "3 tomorrow\n",
      "3 therefore\n",
      "3 there\n",
      "3 tell\n",
      "3 take\n",
      "3 still\n",
      "3 speaks\n",
      "3 some\n"
     ]
    }
   ],
   "source": [
    "import string\n",
    "\n",
    "\n",
    "fname = raw_input('Enter the file name: ')\n",
    "try:\n",
    "    fhand = open(fname)\n",
    "except:\n",
    "    print 'File cannot be opened:', fname\n",
    "    exit()\n",
    "\n",
    "counts = dict()\n",
    "for line in fhand:\n",
    "    line = line.translate(None, string.punctuation)\n",
    "    line = line.lower()\n",
    "    words = line.split()\n",
    "    for word in words:\n",
    "        if word not in counts:\n",
    "            counts[word] = 1\n",
    "        else:\n",
    "            counts[word] += 1\n",
    "\n",
    "# Sort the dictionary by value\n",
    "lst = list()\n",
    "\n",
    "for key, val in counts.items():\n",
    "    lst.append( (val, key) )\n",
    "    \n",
    "lst.sort(reverse=True)\n",
    "\n",
    "for key, val in lst[:100] :\n",
    "     print key, val"
   ]
  },
  {
   "cell_type": "code",
   "execution_count": null,
   "metadata": {
    "collapsed": true
   },
   "outputs": [],
   "source": []
  }
 ],
 "metadata": {
  "kernelspec": {
   "display_name": "Python 2",
   "language": "python",
   "name": "python2"
  },
  "language_info": {
   "codemirror_mode": {
    "name": "ipython",
    "version": 2
   },
   "file_extension": ".py",
   "mimetype": "text/x-python",
   "name": "python",
   "nbconvert_exporter": "python",
   "pygments_lexer": "ipython2",
   "version": "2.7.10"
  }
 },
 "nbformat": 4,
 "nbformat_minor": 0
}
