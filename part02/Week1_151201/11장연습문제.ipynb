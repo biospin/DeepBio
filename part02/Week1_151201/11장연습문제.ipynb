{
 "cells": [
  {
   "cell_type": "markdown",
   "metadata": {},
   "source": [
    "# 제 11 장 정규 표현식"
   ]
  },
  {
   "cell_type": "markdown",
   "metadata": {},
   "source": [
    "## Exercise 11.1 유닉스의 grep 명령어를 모사하는 간단한 프로그램을 작성하세요. 사용자가 정규표현식을 입력하고 정규표현식에 매칭되는 라인수를 셈하는프로그램입니다.\n",
    "```\n",
    "$ python grep.py\n",
    "Enter a regular expression: ^Author\n",
    "mbox.txt had 1798 lines that matched ^Author\n",
    "\n",
    "$ python grep.py\n",
    "Enter a regular expression: ^Xmbox.\n",
    "txt had 14368 lines that matched ^X-\n",
    "\n",
    "$ python grep.py\n",
    "Enter a regular expression: java$\n",
    "mbox.txt had 4218 lines that matched java$\n",
    "```"
   ]
  },
  {
   "cell_type": "code",
   "execution_count": 5,
   "metadata": {
    "collapsed": false
   },
   "outputs": [
    {
     "name": "stdout",
     "output_type": "stream",
     "text": [
      "Enter a regular expression:java$\n",
      "mbox.txt had 4175 lines that matched java$\n"
     ]
    }
   ],
   "source": [
    "import re\n",
    "\n",
    "regexp = raw_input('Enter a regular expression:')\n",
    "\n",
    "count = 0\n",
    "file_name = 'mbox.txt'\n",
    "hand = open( file_name )\n",
    "for line in hand:\n",
    "    x = re.findall( regexp , line )\n",
    "    count += len(x)\n",
    "    \n",
    "print file_name,\"had\", str(count), \"lines that matched\", regexp\n",
    "    "
   ]
  },
  {
   "cell_type": "markdown",
   "metadata": {},
   "source": [
    "## Exercise 11.2 다음 형식의 라인만을 찾는 프로그램을 작성하세요.\n",
    "```\n",
    "New Revision: 39772\n",
    "```\n",
    "## 그리고, 정규 표현식과 findall() 메쏘드를 사용하여 각 라인으로부터  숫자를추출하세요. 숫자들의 평균을 구하고 출력하세요.\n",
    "```\n",
    "Enter file:mbox.txt\n",
    "38549.7949721\n",
    "Enter file:mbox-short.txt\n",
    "39756.9259259\n",
    "```"
   ]
  },
  {
   "cell_type": "code",
   "execution_count": 15,
   "metadata": {
    "collapsed": false
   },
   "outputs": [
    {
     "name": "stdout",
     "output_type": "stream",
     "text": [
      "Enter the file name: mbox.txt\n",
      "38549 69004133\n"
     ]
    }
   ],
   "source": [
    "fname = raw_input('Enter the file name: ')\n",
    "try:\n",
    "    fhand = open(fname)\n",
    "except:\n",
    "    print 'File cannot be opened:', fname\n",
    "    exit()\n",
    "\n",
    "count = 0\n",
    "summary = 0\n",
    "regexp = \"^New Revision: ([0-9.]+)\"\n",
    "for line in fhand:\n",
    "    nums = re.findall( regexp , line )\n",
    "    if len(nums) <= 0 : continue\n",
    "    for num in nums :\n",
    "        count += 1\n",
    "        summary += int(num)\n",
    "\n",
    "print  summary / count ,  summary"
   ]
  },
  {
   "cell_type": "markdown",
   "metadata": {},
   "source": [
    "# 제 12 장. 네트워크 프로그램"
   ]
  },
  {
   "cell_type": "markdown",
   "metadata": {},
   "source": [
    "## BeautifulSoup 사용한 HTML 파싱"
   ]
  },
  {
   "cell_type": "code",
   "execution_count": 3,
   "metadata": {
    "collapsed": false
   },
   "outputs": [
    {
     "name": "stdout",
     "output_type": "stream",
     "text": [
      "Fetching package metadata: ....\n",
      "Solving package specifications: ...............\n",
      "# All requested packages already installed.\n",
      "# packages in environment at /home/deepbio/anaconda/envs/bioinformatics:\n",
      "#\n",
      "beautifulsoup4            4.4.1                    py27_0    defaults\n"
     ]
    }
   ],
   "source": [
    "! conda install -y beautifulsoup4"
   ]
  },
  {
   "cell_type": "code",
   "execution_count": 4,
   "metadata": {
    "collapsed": false
   },
   "outputs": [
    {
     "ename": "ImportError",
     "evalue": "No module named BeautifulSoup",
     "output_type": "error",
     "traceback": [
      "\u001b[1;31m---------------------------------------------------------------------------\u001b[0m",
      "\u001b[1;31mImportError\u001b[0m                               Traceback (most recent call last)",
      "\u001b[1;32m<ipython-input-4-ffc923d3cf60>\u001b[0m in \u001b[0;36m<module>\u001b[1;34m()\u001b[0m\n\u001b[0;32m      1\u001b[0m \u001b[1;32mimport\u001b[0m \u001b[0murllib\u001b[0m\u001b[1;33m\u001b[0m\u001b[0m\n\u001b[1;32m----> 2\u001b[1;33m \u001b[1;32mfrom\u001b[0m \u001b[0mBeautifulSoup\u001b[0m \u001b[1;32mimport\u001b[0m \u001b[1;33m*\u001b[0m\u001b[1;33m\u001b[0m\u001b[0m\n\u001b[0m\u001b[0;32m      3\u001b[0m \u001b[1;33m\u001b[0m\u001b[0m\n\u001b[0;32m      4\u001b[0m \u001b[0murl\u001b[0m \u001b[1;33m=\u001b[0m \u001b[0mraw_input\u001b[0m\u001b[1;33m(\u001b[0m\u001b[1;34m'Enter - '\u001b[0m\u001b[1;33m)\u001b[0m\u001b[1;33m\u001b[0m\u001b[0m\n\u001b[0;32m      5\u001b[0m \u001b[0mhtml\u001b[0m \u001b[1;33m=\u001b[0m \u001b[0murllib\u001b[0m\u001b[1;33m.\u001b[0m\u001b[0murlopen\u001b[0m\u001b[1;33m(\u001b[0m\u001b[0murl\u001b[0m\u001b[1;33m)\u001b[0m\u001b[1;33m.\u001b[0m\u001b[0mread\u001b[0m\u001b[1;33m(\u001b[0m\u001b[1;33m)\u001b[0m\u001b[1;33m\u001b[0m\u001b[0m\n",
      "\u001b[1;31mImportError\u001b[0m: No module named BeautifulSoup"
     ]
    }
   ],
   "source": [
    "import urllib\n",
    "from BeautifulSoup import *\n",
    "\n",
    "url = raw_input('Enter - ')\n",
    "html = urllib.urlopen(url).read()\n",
    "soup = BeautifulSoup(html)\n",
    "\n",
    "# Retrieve all of the anchor tags\n",
    "tags = soup('a')\n",
    "for tag in tags:\n",
    "    print tag.get('href', None)"
   ]
  },
  {
   "cell_type": "markdown",
   "metadata": {
    "collapsed": true
   },
   "source": [
    "## Exercise 12.1 소켓프로그램 socket1.py을 변경하여 임의웹페이지를 읽을 수 있도록 URL을 사용자가 입력하도록바꾸세요. split(’/’)을 사용하여URL을 컴포턴트로 쪼개서 소켓 connect 호출에 대해 호스트 명을 추출할 수 있다. 사용자가 적절하지 못한 형식 혹은 존재하지 않는URL을 입력하는경우를 처리할 있도록 try, except를 사용하여 오류 검사기능을 추가하세요."
   ]
  },
  {
   "cell_type": "code",
   "execution_count": 22,
   "metadata": {
    "collapsed": false
   },
   "outputs": [
    {
     "name": "stdout",
     "output_type": "stream",
     "text": [
      "Enter URL:http://www.dr-chuck.com/page2.htm\n",
      "www.dr-chuck.com\n",
      "GET http://www.dr-chuck.com/page2.htm HTTP/1.0\n",
      "\n",
      "\n",
      "HTTP/1.1 200 OK\n",
      "Date: Fri, 27 Nov 2015 08:54:23 GMT\n",
      "Server: Apache\n",
      "Last-Modified: Sun, 19 Jan 2014 14:25:50 GMT\n",
      "ETag: \"49c08049-70-4f0538d467780\"\n",
      "Accept-Ranges: bytes\n",
      "Content-Length: 112\n",
      "Connection: close\n",
      "Content-Type: text/html\n",
      "\n",
      "<h1>The Second Page</h1>\n",
      "<p>\n",
      "If you like, you can switch back to the \n",
      "<a href=\"page1.htm\">\n",
      "First Page</a>.\n",
      "</p>\n",
      "\n"
     ]
    }
   ],
   "source": [
    "import socket\n",
    "import re\n",
    "\n",
    "url = raw_input('Enter URL:')\n",
    "\n",
    "urlRegExp = \"^http://([a-zA-Z0-9]\\S*)\"\n",
    "\n",
    "x = re.findall(urlRegExp , url )\n",
    "if len( x ) <= 0 :\n",
    "    print \"부적절한 URL입니다.\"\n",
    "    \n",
    "domamin = x[0].split(\"/\")[0]\n",
    "    \n",
    "print domamin\n",
    "    \n",
    "# http://www.py4inf.com/code/romeo.txt    \n",
    "# http://www.dr-chuck.com/page2.htm\n",
    "mysock = socket.socket(socket.AF_INET, socket.SOCK_STREAM)\n",
    "mysock.connect((domamin, 80))\n",
    "\n",
    "sendReq = 'GET ' + url + ' HTTP/1.0\\n\\n'\n",
    "print sendReq \n",
    "mysock.send(sendReq  )\n",
    "\n",
    "while True:\n",
    "    data = mysock.recv(512)\n",
    "    if ( len(data) < 1 ) :\n",
    "        break\n",
    "    print data\n",
    "    \n",
    "mysock.close()"
   ]
  },
  {
   "cell_type": "markdown",
   "metadata": {
    "collapsed": true
   },
   "source": [
    "## Exercise 12.2 소켓 프로그램을 변경하여 전송받은 문자를 계수(count)하고 3000 문자를 출력한 후에 그이상 텍스트 출력을 멈추게 하세요. 프로그램은 전체 문서를 가져와야 하고, 전체 문자를 계수(count)하고, 문서 마지막에 문자 계수(count)결과를 출력해야 합니다.\n",
    "\n"
   ]
  },
  {
   "cell_type": "code",
   "execution_count": 32,
   "metadata": {
    "collapsed": false
   },
   "outputs": [
    {
     "name": "stdout",
     "output_type": "stream",
     "text": [
      "Enter URL:http://www.py4inf.com/code/romeo.txt\n",
      "www.py4inf.com\n",
      "GET http://www.py4inf.com/code/romeo.txt HTTP/1.0\n",
      "\n",
      "\n",
      "HTTP/1.1 200 OK\n",
      "Date: Fri, 27 Nov 2015 09:17:23 GMT\n",
      "Server: Apache\n",
      "Last-Modified: Fri, 07 Aug 2015 16:39:14 GMT\n",
      "ETag: \"20a1817f-a7-51cbb46b621a7\"\n",
      "Accept-Ranges: bytes\n",
      "Content-Length: 167\n",
      "Cache-Control: max-age=604800, public\n",
      "Access-Control-Allow-Origin: *\n",
      "Access-Control-Allow-Headers: origin, x-requested-with, content-type\n",
      "Access-Control-Allow-Methods: GET\n",
      "Connection: close\n",
      "Content-Type: text/plain\n",
      "\n",
      "But soft what light through yonder window breaks\n",
      "It is the east and Juliet is the sun\n",
      "Arise fai\n",
      "r sun and kill the envious moon\n",
      "Who is already sick and pale with grief\n",
      "\n",
      "Total Charater :  584\n"
     ]
    }
   ],
   "source": [
    "import socket\n",
    "import re\n",
    "\n",
    "url = raw_input('Enter URL:')\n",
    "\n",
    "urlRegExp = \"^http://([a-zA-Z0-9]\\S*)\"\n",
    "\n",
    "x = re.findall(urlRegExp , url )\n",
    "if len( x ) <= 0 :\n",
    "    print \"부적절한 URL입니다.\"\n",
    "    \n",
    "domamin = x[0].split(\"/\")[0]\n",
    "    \n",
    "print domamin\n",
    "    \n",
    "# http://www.py4inf.com/code/romeo.txt    \n",
    "# http://www.dr-chuck.com/page2.htm\n",
    "# http://mwultong.blogspot.com/2007/04/python-merge-string.html\n",
    "mysock = socket.socket(socket.AF_INET, socket.SOCK_STREAM)\n",
    "mysock.connect((domamin, 80))\n",
    "\n",
    "sendReq = 'GET ' + url + ' HTTP/1.0\\n\\n'\n",
    "print sendReq \n",
    "mysock.send(sendReq  )\n",
    "\n",
    "currentLen = 0\n",
    "maxLen = 3000\n",
    "count = 0 \n",
    "\n",
    "while True:\n",
    "    data = mysock.recv(512)\n",
    "    if ( len(data) < 1 ) :\n",
    "        break\n",
    "    currentLen = len( data )\n",
    "    if count < maxLen and (count+currentLen) < maxLen :\n",
    "        print data \n",
    "    elif count < maxLen and (count+currentLen) > maxLen :\n",
    "        aa = maxLen - count -1\n",
    "        print data[ : aa]\n",
    "    \n",
    "    count += currentLen\n",
    "    \n",
    "mysock.close()\n",
    "\n",
    "print \"Total Charater : \", count\n"
   ]
  },
  {
   "cell_type": "markdown",
   "metadata": {},
   "source": [
    "## Exercise 12.3 urllib을 사용하여 이전 예제를 반복하세요. \n",
    "- (1) 사용자가 입력한URL에서문서가져오기\n",
    "- (2) 3000문자까지화면에보여주기\n",
    "- (3)문서의전체문자 계수(count)하기. \n",
    "## 이 연습문제에서 헤더에 대해서는 걱정하지 말고, 단지문서 본문에서 첫 3000 문자만 화면에 출력하세요."
   ]
  },
  {
   "cell_type": "code",
   "execution_count": 39,
   "metadata": {
    "collapsed": false
   },
   "outputs": [
    {
     "name": "stdout",
     "output_type": "stream",
     "text": [
      "Enter URL:http://www.dr-chuck.com/page2.htm\n",
      "<h1>The Second Page</h1>\n",
      "<p>\n",
      "If you like, you can switch back to the\n",
      "<a href=\"page1.htm\">\n",
      "First Page</a>.\n",
      "</p>\n",
      "Total Charater :  105\n"
     ]
    }
   ],
   "source": [
    "import urllib\n",
    "\n",
    "url = raw_input('Enter URL:')\n",
    "\n",
    "urlRegExp = \"^http://([a-zA-Z0-9]\\S*)\"\n",
    "\n",
    "x = re.findall(urlRegExp , url )\n",
    "if len( x ) <= 0 :\n",
    "    print \"부적절한 URL입니다.\"\n",
    "\n",
    "    \n",
    "currentLen = 0\n",
    "maxLen = 3000\n",
    "count = 0 \n",
    "\n",
    "fhand = urllib.urlopen( url )\n",
    "for line in fhand:\n",
    "    line = line.strip()\n",
    "    currentLen = len( line )\n",
    "    if count < maxLen and (count+currentLen) < maxLen :\n",
    "        print line \n",
    "    elif count < maxLen and (count+currentLen) > maxLen :\n",
    "        aa = maxLen - count -1\n",
    "        print line[ : aa]\n",
    "    \n",
    "    count += currentLen    \n",
    "    \n",
    "print \"Total Charater : \", count    "
   ]
  },
  {
   "cell_type": "markdown",
   "metadata": {},
   "source": [
    "## Exercise 12.4 urllinks.py 프로그램을 변경하여 가져온 HTML 문서에서 문단 (p) 태그를 추출하고 프로그램의 출력물로 문단을 계수(count)하고 화면에 출력하세요. 문단 텍스트를 화면에 출력하지 말고 단지 숫자만 셉니다. 작성한 프로그램을작은웹페이지뿐만아니라조금큰웹페이지에도테스트해보세요."
   ]
  },
  {
   "cell_type": "code",
   "execution_count": 2,
   "metadata": {
    "collapsed": false
   },
   "outputs": [
    {
     "ename": "ImportError",
     "evalue": "No module named BeautifulSoup",
     "output_type": "error",
     "traceback": [
      "\u001b[1;31m---------------------------------------------------------------------------\u001b[0m",
      "\u001b[1;31mImportError\u001b[0m                               Traceback (most recent call last)",
      "\u001b[1;32m<ipython-input-2-3a013113a9a3>\u001b[0m in \u001b[0;36m<module>\u001b[1;34m()\u001b[0m\n\u001b[0;32m      1\u001b[0m \u001b[1;32mimport\u001b[0m \u001b[0murllib\u001b[0m\u001b[1;33m\u001b[0m\u001b[0m\n\u001b[1;32m----> 2\u001b[1;33m \u001b[1;32mfrom\u001b[0m \u001b[0mBeautifulSoup\u001b[0m \u001b[1;32mimport\u001b[0m \u001b[1;33m*\u001b[0m\u001b[1;33m\u001b[0m\u001b[0m\n\u001b[0m",
      "\u001b[1;31mImportError\u001b[0m: No module named BeautifulSoup"
     ]
    }
   ],
   "source": [
    "import urllib\n",
    "from BeautifulSoup import *"
   ]
  },
  {
   "cell_type": "markdown",
   "metadata": {},
   "source": [
    "## Exercise 12.5 (고급) 소켓 프로그램을 변경하여 헤더와 빈 라인 다음에 데이터만 보여지게 하세요. recv는 라인이 아니라 문자(새줄(newline)과 모든 문자)를 전송받는다는 것을 기억하세요."
   ]
  },
  {
   "cell_type": "code",
   "execution_count": 1,
   "metadata": {
    "collapsed": false
   },
   "outputs": [
    {
     "name": "stdout",
     "output_type": "stream",
     "text": [
      "Enter URL:http://www.py4inf.com/code/romeo.txt\n",
      "www.py4inf.com\n",
      "But soft what light through yonder window breaks\n",
      "It is the east and Juliet is the sun\n",
      "Arise fai\n",
      "r sun and kill the envious moon\n",
      "Who is already sick and pale with grief\n",
      "\n"
     ]
    }
   ],
   "source": [
    "import socket\n",
    "import re\n",
    "\n",
    "url = raw_input('Enter URL:')\n",
    "\n",
    "urlRegExp = \"^http://([a-zA-Z0-9]\\S*)\"\n",
    "\n",
    "x = re.findall(urlRegExp , url )\n",
    "if len( x ) <= 0 :\n",
    "    print \"부적절한 URL입니다.\"\n",
    "    \n",
    "domamin = x[0].split(\"/\")[0]\n",
    "    \n",
    "print domamin\n",
    "    \n",
    "# http://www.py4inf.com/code/romeo.txt    \n",
    "# http://www.dr-chuck.com/page2.htm\n",
    "mysock = socket.socket(socket.AF_INET, socket.SOCK_STREAM)\n",
    "mysock.connect((domamin, 80))\n",
    "\n",
    "sendReq = 'GET ' + url + ' HTTP/1.0\\n\\n'\n",
    "mysock.send(sendReq  )\n",
    "\n",
    "isBody = False\n",
    "while True:\n",
    "    data = mysock.recv(512)\n",
    "    if ( len(data) < 1 ) :\n",
    "        break\n",
    "            \n",
    "    if isBody == True : \n",
    "        print data\n",
    "        continue\n",
    "\n",
    "    pos = data.find(\"\\r\\n\\r\\n\" )\n",
    "    if pos > -1 : \n",
    "        print data [ pos + 4 : ]\n",
    "        isBody = True\n",
    "\n",
    "\n",
    "mysock.close()"
   ]
  },
  {
   "cell_type": "markdown",
   "metadata": {
    "collapsed": true
   },
   "source": [
    "# 제 13 장 웹서비스 사용하기"
   ]
  },
  {
   "cell_type": "markdown",
   "metadata": {},
   "source": [
    "## Exercise 13.1 데이터를 가져와서 두 문자 국가 코드를 출력하도록 www.py4inf.com/code/geojson.py 혹은 www.py4inf.com/code/geoxml.py을 수정하세요.     오류 검사 기능을 추가하여 국가 코드가 없더라도 프로그램이 역추적(traceback)이 생성하지 않도록 하세요.     프로그램이 정상 작동하면, “AtlanticOcean”을 검색하고 어느 국가에도 속하지 않는 지역을 처리할 수 있는지 확인하세요."
   ]
  },
  {
   "cell_type": "code",
   "execution_count": 5,
   "metadata": {
    "collapsed": false,
    "scrolled": true
   },
   "outputs": [
    {
     "name": "stdout",
     "output_type": "stream",
     "text": [
      "Enter location: AtlanticOcean\n",
      "Retrieving http://maps.googleapis.com/maps/api/geocode/json?sensor=false&address=AtlanticOcean\n",
      "Retrieved 1267 characters\n",
      "{\n",
      "    \"status\": \"OK\", \n",
      "    \"results\": [\n",
      "        {\n",
      "            \"geometry\": {\n",
      "                \"location_type\": \"APPROXIMATE\", \n",
      "                \"bounds\": {\n",
      "                    \"northeast\": {\n",
      "                        \"lat\": 68.6187515, \n",
      "                        \"lng\": 20\n",
      "                    }, \n",
      "                    \"southwest\": {\n",
      "                        \"lat\": -83.0204773, \n",
      "                        \"lng\": -83.21609509999999\n",
      "                    }\n",
      "                }, \n",
      "                \"viewport\": {\n",
      "                    \"northeast\": {\n",
      "                        \"lat\": 68.6187515, \n",
      "                        \"lng\": 20.0000001\n",
      "                    }, \n",
      "                    \"southwest\": {\n",
      "                        \"lat\": -83.0204773, \n",
      "                        \"lng\": -83.21609509999999\n",
      "                    }\n",
      "                }, \n",
      "                \"location\": {\n",
      "                    \"lat\": -14.5994134, \n",
      "                    \"lng\": -28.6731465\n",
      "                }\n",
      "            }, \n",
      "            \"formatted_address\": \"Atlantic Ocean\", \n",
      "            \"place_id\": \"ChIJ_7hu48qBWgYRT1MQ81ciNKY\", \n",
      "            \"address_components\": [\n",
      "                {\n",
      "                    \"long_name\": \"Atlantic Ocean\", \n",
      "                    \"types\": [\n",
      "                        \"natural_feature\", \n",
      "                        \"establishment\"\n",
      "                    ], \n",
      "                    \"short_name\": \"Atlantic Ocean\"\n",
      "                }\n",
      "            ], \n",
      "            \"partial_match\": true, \n",
      "            \"types\": [\n",
      "                \"natural_feature\", \n",
      "                \"establishment\"\n",
      "            ]\n",
      "        }\n",
      "    ]\n",
      "}\n",
      "lat -14.5994134 lng -28.6731465\n",
      "Atlantic Ocean\n",
      "Enter location: \n"
     ]
    }
   ],
   "source": [
    "import urllib\n",
    "import json\n",
    "\n",
    "serviceurl = 'http://maps.googleapis.com/maps/api/geocode/json?'\n",
    "\n",
    "while True:\n",
    "    address = raw_input('Enter location: ')\n",
    "    if len(address) < 1 : break\n",
    "\n",
    "    url = serviceurl + urllib.urlencode({'sensor':'false', 'address': address})\n",
    "    print 'Retrieving', url\n",
    "    uh = urllib.urlopen(url)\n",
    "    data = uh.read()\n",
    "    print 'Retrieved',len(data),'characters'\n",
    "\n",
    "    try: js = json.loads(str(data))\n",
    "    except: js = None\n",
    "    if 'status' not in js or js['status'] != 'OK':\n",
    "        print '==== Failure To Retrieve ===='\n",
    "        print data\n",
    "        continue\n",
    "\n",
    "    print json.dumps(js, indent=4)\n",
    "\n",
    "    lat = js[\"results\"][0][\"geometry\"][\"location\"][\"lat\"]\n",
    "    lng = js[\"results\"][0][\"geometry\"][\"location\"][\"lng\"]\n",
    "    print 'lat',lat,'lng',lng\n",
    "    location = js['results'][0]['formatted_address']\n",
    "    print location\n"
   ]
  }
 ],
 "metadata": {
  "kernelspec": {
   "display_name": "Python 2",
   "language": "python",
   "name": "python2"
  },
  "language_info": {
   "codemirror_mode": {
    "name": "ipython",
    "version": 2
   },
   "file_extension": ".py",
   "mimetype": "text/x-python",
   "name": "python",
   "nbconvert_exporter": "python",
   "pygments_lexer": "ipython2",
   "version": "2.7.10"
  }
 },
 "nbformat": 4,
 "nbformat_minor": 0
}
