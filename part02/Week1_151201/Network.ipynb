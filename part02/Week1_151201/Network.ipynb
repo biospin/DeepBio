{
 "cells": [
  {
   "cell_type": "code",
   "execution_count": 1,
   "metadata": {
    "collapsed": true
   },
   "outputs": [],
   "source": [
    "#Network programming"
   ]
  },
  {
   "cell_type": "code",
   "execution_count": 2,
   "metadata": {
    "collapsed": true
   },
   "outputs": [],
   "source": [
    "import socket"
   ]
  },
  {
   "cell_type": "code",
   "execution_count": 12,
   "metadata": {
    "collapsed": false
   },
   "outputs": [
    {
     "name": "stdout",
     "output_type": "stream",
     "text": [
      "HTTP/1.1 200 OK\r\n",
      "Date: Mon, 30 Nov 2015 20:12:50 GMT\r\n",
      "Server: Apache\r\n",
      "Last-Modified: Fri, 07 Aug 2015 16:39:14 GMT\r\n",
      "ETag: \"20a1817f-a7-51cbb46b621a7\"\r\n",
      "Accept-Ranges: bytes\r\n",
      "Content-Length: 167\r\n",
      "Cache-Control: max-age=604800, public\r\n",
      "Access-Control-Allow-Origin: *\r\n",
      "Access-Control-Allow-Headers: origin, x-requested-with, content-type\r\n",
      "Access-Control-Allow-Methods: GET\r\n",
      "Connection: close\r\n",
      "Content-Type: text/plain\r\n",
      "\r\n",
      "But soft what light through yonder window breaks\n",
      "It is the east and Juliet is the sun\n",
      "Arise fai\n",
      "r sun and kill the envious moon\n",
      "Who is already sick and pale with grief\n",
      "\n"
     ]
    }
   ],
   "source": [
    "#세상에서 가장 간단한 웹 브라우져\n",
    "mysock = socket.socket(socket.AF_INET, socket.SOCK_STREAM)\n",
    "mysock.connect(('www.py4inf.com',80))\n",
    "mysock.send('GET http://www.py4inf.com/code/romeo.txt HTTP/1.0\\n\\n')\n",
    "\n",
    "while True:\n",
    "    data = mysock.recv(512)\n",
    "    if(len(data) < 1):\n",
    "        break\n",
    "    print data\n",
    "\n",
    "mysock.close()"
   ]
  },
  {
   "cell_type": "code",
   "execution_count": 14,
   "metadata": {
    "collapsed": false
   },
   "outputs": [
    {
     "name": "stdout",
     "output_type": "stream",
     "text": [
      "1460 1460\n",
      "2920 4380\n",
      "4380 8760\n",
      "2920 11680\n",
      "1460 13140\n",
      "1460 14600\n",
      "2920 17520\n",
      "2920 20440\n",
      "4380 24820\n",
      "1460 26280\n",
      "2920 29200\n",
      "4380 33580\n",
      "2920 36500\n",
      "5120 41620\n",
      "720 42340\n",
      "2920 45260\n",
      "2920 48180\n",
      "4380 52560\n",
      "4380 56940\n",
      "2920 59860\n",
      "2920 62780\n",
      "4380 67160\n",
      "3143 70303\n",
      "Header length 242\n",
      "HTTP/1.1 200 OK\n",
      "Date: Mon, 30 Nov 2015 20:25:26 GMT\n",
      "Server: Apache\n",
      "Last-Modified: Sat, 18 Apr 2015 15:05:20 GMT\n",
      "ETag: \"91d6403f-111a9-51401068ab651\"\n",
      "Accept-Ranges: bytes\n",
      "Content-Length: 70057\n",
      "Connection: close\n",
      "Content-Type: image/jpeg\n"
     ]
    }
   ],
   "source": [
    "#HTTP통해서 이미지 가져오기\n",
    "mysock = socket.socket(socket.AF_INET, socket.SOCK_STREAM)\n",
    "mysock.connect(('www.py4inf.com',80))\n",
    "mysock.send('GET http://www.py4inf.com/cover.jpg HTTP/1.0\\n\\n')\n",
    "\n",
    "count = 0\n",
    "picture = \"\";\n",
    "while True:\n",
    "    data = mysock.recv(5120) #byte\n",
    "    if(len(data) < 1):\n",
    "        break\n",
    "    count = count + len(data)\n",
    "    print len(data), count\n",
    "    picture = picture + data\n",
    "    \n",
    "mysock.close()\n",
    "\n",
    "#헤더와 이미지 데이터를 구분하기 위해 개행 문자 2줄을 기준으로 나눠서 출력\n",
    "pos = picture.find(\"\\r\\n\\r\\n\")\n",
    "print 'Header length', pos\n",
    "print picture[:pos]  #헤더출력\n",
    "\n",
    "#헤더를 제외한 이미지 데이터를 파일에 출력\n",
    "picture = picture[pos+4:]\n",
    "fhand = open(\"stuff.jpg\",\"wb\") #stuff.jpg 파일이 생성될겁니다.\n",
    "fhand.write(picture)\n",
    "fhand.close()\n"
   ]
  },
  {
   "cell_type": "code",
   "execution_count": 16,
   "metadata": {
    "collapsed": true
   },
   "outputs": [],
   "source": [
    "#웹 스크랩핑을 위해 urllib 활용하기\n",
    "\n",
    "import urllib"
   ]
  },
  {
   "cell_type": "raw",
   "metadata": {},
   "source": [
    "fhand = urllib.urlopen('http://www.py4inf.com/code/romeo.txt')\n",
    "for line in fhand:\n",
    "    print line.strip()\n",
    "    \n",
    "#socket과 달리 header 정보는 보이지 않고 내용만 보입니다."
   ]
  },
  {
   "cell_type": "code",
   "execution_count": 21,
   "metadata": {
    "collapsed": false
   },
   "outputs": [
    {
     "name": "stdout",
     "output_type": "stream",
     "text": [
      "Enter - http://www.py4inf.com/book.htm\n",
      "http://amzn.to/1KkULF3\n",
      "http://amzn.to/1KkULF3\n",
      "http://amzn.to/1hLcoBy\n",
      "http://amzn.to/1KkV42z\n",
      "http://amzn.to/1fNOnbd\n",
      "http://amzn.to/1N74xLt\n",
      "http://do1.dr-chuck.com/py4inf/EN-us/book.pdf\n",
      "http://do1.dr-chuck.com/py4inf/ES-es/book.pdf\n",
      "http://www.xwmooc.net/python/\n",
      "http://fanwscu.gitbooks.io/py4inf-zh-cn/\n",
      "http://itunes.apple.com/us/book/python-for-informatics/id554638579?mt=13\n",
      "http://www-personal.umich.edu/~csev/books/py4inf/ibooks//python_for_informatics.ibooks\n",
      "http://www.py4inf.com/code\n",
      "http://www.greenteapress.com/thinkpython/thinkCSpy/\n",
      "http://allendowney.com/\n"
     ]
    }
   ],
   "source": [
    "#정규표현식을 사용하여 HTML 파싱하기\n",
    "import urllib\n",
    "import re\n",
    "\n",
    "url = raw_input('Enter - ')\n",
    "html = urllib.urlopen(url).read()\n",
    "links = re.findall('href=\"(http://.*?)\"', html)\n",
    "for link in links:\n",
    "    print link\n",
    "    \n",
    "#잘 갖춰진 HTML페이지가 아닌 경우 정규 표현식만으로는 약점이 있습니다."
   ]
  },
  {
   "cell_type": "code",
   "execution_count": 23,
   "metadata": {
    "collapsed": false
   },
   "outputs": [
    {
     "name": "stdout",
     "output_type": "stream",
     "text": [
      "Enter - http://www.py4inf.com/book.htm\n",
      "http://amzn.to/1KkULF3\n",
      "http://amzn.to/1KkULF3\n",
      "http://amzn.to/1hLcoBy\n",
      "http://amzn.to/1KkV42z\n",
      "http://amzn.to/1fNOnbd\n",
      "http://amzn.to/1N74xLt\n",
      "http://do1.dr-chuck.com/py4inf/EN-us/book.pdf\n",
      "http://do1.dr-chuck.com/py4inf/ES-es/book.pdf\n",
      "https://twitter.com/fertardio\n",
      "translations/KO/book_009_ko.pdf\n",
      "http://www.xwmooc.net/python/\n",
      "http://fanwscu.gitbooks.io/py4inf-zh-cn/\n",
      "book_270.epub\n",
      "translations/ES/book_272_es4.epub\n",
      "https://www.gitbook.com/download/epub/book/fanwscu/py4inf-zh-cn\n",
      "html-270/\n",
      "html_270.zip\n",
      "http://itunes.apple.com/us/book/python-for-informatics/id554638579?mt=13\n",
      "http://www-personal.umich.edu/~csev/books/py4inf/ibooks//python_for_informatics.ibooks\n",
      "http://www.py4inf.com/code\n",
      "http://www.greenteapress.com/thinkpython/thinkCSpy/\n",
      "http://allendowney.com/\n"
     ]
    }
   ],
   "source": [
    "#BeautifulSoup 사용한HTML파싱\n",
    "import urllib\n",
    "from BeautifulSoup import *\n",
    "\n",
    "url = raw_input('Enter - ')\n",
    "html = urllib.urlopen(url).read()\n",
    "soup = BeautifulSoup(html)\n",
    "\n",
    "tags = soup('a')\n",
    "for tag in tags:\n",
    "    print tag.get('href', None) ## anchor tag의 href속성 값을 출력"
   ]
  },
  {
   "cell_type": "code",
   "execution_count": 25,
   "metadata": {
    "collapsed": false
   },
   "outputs": [
    {
     "name": "stdout",
     "output_type": "stream",
     "text": [
      "Enter - http://www.dr-chuck.com/page1.htm\n",
      "TAG :  <a href=\"http://www.dr-chuck.com/page2.htm\">\n",
      "Second Page</a>\n",
      "URL :  http://www.dr-chuck.com/page2.htm\n",
      "Content :  \n",
      "Second Page\n",
      "Attrs :  [(u'href', u'http://www.dr-chuck.com/page2.htm')]\n"
     ]
    }
   ],
   "source": [
    "#BeautifulSoup을 사용해서 각 태그의 다양한 값 출력\n",
    "url = raw_input('Enter - ')\n",
    "html = urllib.urlopen(url).read()\n",
    "soup = BeautifulSoup(html)\n",
    "\n",
    "tags = soup('a')\n",
    "for tag in tags:\n",
    "    print 'TAG : ', tag\n",
    "    print 'URL : ', tag.get('href', None)\n",
    "    print 'Content : ', tag.contents[0]\n",
    "    print 'Attrs : ', tag.attrs"
   ]
  },
  {
   "cell_type": "code",
   "execution_count": 26,
   "metadata": {
    "collapsed": true
   },
   "outputs": [],
   "source": [
    "#urllib으로 바이너리 파일 저장하기(jpg)\n",
    "img = urllib.urlopen('http://www.py4inf.com/cover.jpg').read()\n",
    "fhand = open('cover.jpg','w')\n",
    "fhand.write(img)\n",
    "fhand.close()"
   ]
  },
  {
   "cell_type": "code",
   "execution_count": 27,
   "metadata": {
    "collapsed": false
   },
   "outputs": [
    {
     "name": "stdout",
     "output_type": "stream",
     "text": [
      "70057 characters copied\n"
     ]
    }
   ],
   "source": [
    "#urllib으로 바이너리 파일 저장하기기 대용량일경우\n",
    "img = urllib.urlopen('http://www.py4inf.com/cover.jpg')\n",
    "fhand = open('cover_d.jpg','w')\n",
    "size = 0\n",
    "\n",
    "while True:\n",
    "    info = img.read(100000)\n",
    "    if len(info) < 1: break\n",
    "    size = size + len(info)\n",
    "    fhand.write(info)\n",
    "\n",
    "print size, 'characters copied'\n",
    "fhand.close()"
   ]
  },
  {
   "cell_type": "code",
   "execution_count": 49,
   "metadata": {
    "collapsed": false
   },
   "outputs": [
    {
     "name": "stdout",
     "output_type": "stream",
     "text": [
      "Enter -http://www.dr-chuck.com/page1.htm\n",
      "HTTP/1.1 200 OK\n",
      "Date: Mon, 30 Nov 2015 22:10:50 GMT\n",
      "Server: Apache\n",
      "Last-Modified: Sun, 19 Jan 2014 14:25:43 GMT\n",
      "ETag: \"49c08048-83-4f0538cdba7c0\"\n",
      "Accept-Ranges: bytes\n",
      "Content-Length: 131\n",
      "Connection: close\n",
      "Content-Type: text/html\n",
      "\n",
      "<h1>The First Page</h1>\n",
      "<p>\n",
      "If you like, you can switch to the \n",
      "<a href=\"http://www.dr-chuck.com/page2.htm\">\n",
      "Second Page</a>.\n",
      "</p>\n",
      "\n"
     ]
    }
   ],
   "source": [
    "#Ex12.1\n",
    "url = raw_input(\"Enter -\")\n",
    "\n",
    "server = url.split('/')[2]\n",
    "\n",
    "try:\n",
    "    mysock = socket.socket(socket.AF_INET, socket.SOCK_STREAM)\n",
    "    mysock.connect((server,80))\n",
    "    mysock.send('GET '+url+' HTTP/1.0\\n\\n')\n",
    "    \n",
    "    while True:\n",
    "        data = mysock.recv(512)\n",
    "        if(len(data) < 1):\n",
    "            break\n",
    "        print data\n",
    "    \n",
    "    mysock.close()\n",
    "\n",
    "except socket.error, (value,message):\n",
    "    if mysock:\n",
    "        mysock.close()\n",
    "    print \"Could not open socket: \" + message\n"
   ]
  },
  {
   "cell_type": "code",
   "execution_count": 42,
   "metadata": {
    "collapsed": false
   },
   "outputs": [
    {
     "name": "stdout",
     "output_type": "stream",
     "text": [
      "HTTP/1.1 200 OK\r\n",
      "Date: Mon, 30 Nov 2015 21:47:09 GMT\r\n",
      "Server: Apache\r\n",
      "Last-Modified: Thu, 03 Sep 2015 15:43:48 GMT\r\n",
      "ETag: \"91d40a9c-18ee-51ed9a6332f7d\"\r\n",
      "Accept-Ranges: bytes\r\n",
      "Content-Length: 6382\r\n",
      "Connection: close\r\n",
      "Content-Type: text/html\r\n",
      "\r\n",
      "<html>\n",
      "<head>\n",
      "  <title>Python For Informatics: Exploring Information (www.py4inf.com)</title>\n",
      "  <meta charset=\"UTF-8\">\n",
      "  <link rel=\"stylesheet\" href=\"glike.css\" type=\"text/css\" />\n",
      "</head>\n",
      "<body>\n",
      "<div style=\"float:right; width: 180px; margin: 10px;\">\n",
      "<a href=\"http://amzn.to/1KkULF3\" target=\"_blank\">\n",
      "<img width=\"175\" height=\"245\"\n",
      "   style=\"padding:5px; border-color: black\" \n",
      "   src=\"BookCoverPreviewFront.jpg\" border=\"2\" \n",
      "   alt=\"A picture of the book cover art\"/>\n",
      "</a>\n",
      "</div>\n",
      "<h1>Python for Informatics: Exploring Information</h1>\n",
      "<p>\n",
      "The goal of this\n",
      "book is to provide an Informatics-oriented introduction to programming.\n",
      "The primary difference between a computer science approach and the Informatics\n",
      "approach taken in this book is a greater focus on using Python to solve data\n",
      "analysis problems common in the world of Informatics.\n",
      "</p>\n",
      "<p>\n",
      "Copies of the book are available from \n",
      "<ul>\n",
      "<li>English:\n",
      "<a href=\"http://amzn.to/1KkULF3\" target=\"_blank\">Amazon</a> or\n",
      "<a href=\"http://amzn.to/1hLcoBy\" target=\"_blank\">Kindle Store</a>\n",
      "(Python for Informatics: Exploring Information)\n",
      "</li>\n",
      "<li>Spanish:\n",
      "<a href=\"http://amzn.to/1KkV42z\" target=\"_blank\">Amazon</a> or\n",
      "<a href=\"http://amzn.to/1fNOnbd\" target=\"_blank\">Kindle Store</a>\n",
      "(Python para Informáticos: Explorando la información)\n",
      "</li>\n",
      "<li>Korean:\n",
      "<a href=\"http://amzn.to/1N74xLt\" target=\"_blank\">Amazon</a>\n",
      "( 정보교육을 위한 파이썬: 정보탐색을 통한 데이터 과학자로의 여정)\n",
      "</li>\n",
      "</ul>\n",
      "<p>\n",
      "Here are free copies of the book in various formats:\n",
      "<p>\n",
      "<ul>\n",
      "<li>PDF\n",
      "<ul>\n",
      "<li><a href=\"http://do1.dr-chuck.com/py4inf/EN-us/book.pdf\" target=\"_blank\">English</a></li>\n",
      "<li><a href=\"http://do1.dr-chuck.com/py4inf/ES-es/book.pdf\" target=\"_blank\">Spanish</a> from <a href=\"https://twitter.com/fertardio\" target=\"_blank\">Fernando Tardío.</a></li>\n",
      "<li><a href=\"translations/KO/book_009_ko.pdf\" target=\"_blank\">Korean</a> from \n",
      "<a href=\"http://www.xwmooc.net/python/\" target=\"_new\">Victor KC. Lee</a></li>\n",
      "<li><a href=\"http://fanwscu.gitbooks.io/py4inf-zh-cn/\" target=\"_blank\">Chinese (Simplified)</a> from Wei Fan</li>\n",
      "</ul>\n",
      "</li>\n",
      "<li>\n",
      "EPUB:\n",
      "<a href=\"book_270.epub\" target=\"_blank\">English</a> /\n",
      "<a href=\"translations/ES/book_272_es4.epub\" target=\"_blank\">Spanish</a> /\n",
      "<a href=\"https://www.gitbook.com/download/epub/book/fanwscu/py4inf-zh-cn\" target=\"_blank\">Chinese</a>\n",
      "</li>\n",
      "<li><a href=\"html-270/\" target=\"_blank\">HTML</a></li>\n",
      "<li><a href=\"html_270.zip\" target=\"_blank\">Download HTML in a ZIP</a></li>\n",
      "<li><a href=\"http://itunes.apple.com/us/book/python-for-informatics/id554638579?mt=13\" target=\"_blank\">Apple iBooks at iBookstore</a> (1.3GB)</li>\n",
      "<li><a href=\"http://www-personal.umich.edu/~csev/books/py4inf/ibooks//python_for_informatics.ibooks\" target=\"_blank\">Apple iBooks direct D\n",
      "26257 characters\n"
     ]
    }
   ],
   "source": [
    "#Ex12.2\n",
    "mysock = socket.socket(socket.AF_INET, socket.SOCK_STREAM)\n",
    "mysock.connect(('www.py4inf.com',80))\n",
    "mysock.send('GET http://www.py4inf.com/book.htm HTTP/1.0\\n\\n')\n",
    "\n",
    "data = mysock.recv(3000)\n",
    "size = size + len(data)\n",
    "print data\n",
    "\n",
    "while True:\n",
    "    data = mysock.recv(512)\n",
    "    if(len(data) < 1):\n",
    "        break\n",
    "    size = size + len(data)\n",
    "\n",
    "print size,'characters'\n",
    "\n",
    "mysock.close()"
   ]
  },
  {
   "cell_type": "code",
   "execution_count": 38,
   "metadata": {
    "collapsed": false
   },
   "outputs": [
    {
     "name": "stdout",
     "output_type": "stream",
     "text": [
      "Enter - http://www.py4inf.com/book.htm\n",
      "<html>\n",
      "<head>\n",
      "  <title>Python For Informatics: Exploring Information (www.py4inf.com)</title>\n",
      "  <meta charset=\"UTF-8\">\n",
      "  <link rel=\"stylesheet\" href=\"glike.css\" type=\"text/css\" />\n",
      "</head>\n",
      "<body>\n",
      "<div style=\"float:right; width: 180px; margin: 10px;\">\n",
      "<a href=\"http://amzn.to/1KkULF3\" target=\"_blank\">\n",
      "<img width=\"175\" height=\"245\"\n",
      "   style=\"padding:5px; border-color: black\" \n",
      "   src=\"BookCoverPreviewFront.jpg\" border=\"2\" \n",
      "   alt=\"A picture of the book cover art\"/>\n",
      "</a>\n",
      "</div>\n",
      "<h1>Python for Informatics: Exploring Information</h1>\n",
      "<p>\n",
      "The goal of this\n",
      "book is to provide an Informatics-oriented introduction to programming.\n",
      "The primary difference between a computer science approach and the Informatics\n",
      "approach taken in this book is a greater focus on using Python to solve data\n",
      "analysis problems common in the world of Informatics.\n",
      "</p>\n",
      "<p>\n",
      "Copies of the book are available from \n",
      "<ul>\n",
      "<li>English:\n",
      "<a href=\"http://amzn.to/1KkULF3\" target=\"_blank\">Amazon</a> or\n",
      "<a href=\"http://amzn.to/1hLcoBy\" target=\"_blank\">Kindle Store</a>\n",
      "(Python for Informatics: Exploring Information)\n",
      "</li>\n",
      "<li>Spanish:\n",
      "<a href=\"http://amzn.to/1KkV42z\" target=\"_blank\">Amazon</a> or\n",
      "<a href=\"http://amzn.to/1fNOnbd\" target=\"_blank\">Kindle Store</a>\n",
      "(Python para Informáticos: Explorando la información)\n",
      "</li>\n",
      "<li>Korean:\n",
      "<a href=\"http://amzn.to/1N74xLt\" target=\"_blank\">Amazon</a>\n",
      "( 정보교육을 위한 파이썬: 정보탐색을 통한 데이터 과학자로의 여정)\n",
      "</li>\n",
      "</ul>\n",
      "<p>\n",
      "Here are free copies of the book in various formats:\n",
      "<p>\n",
      "<ul>\n",
      "<li>PDF\n",
      "<ul>\n",
      "<li><a href=\"http://do1.dr-chuck.com/py4inf/EN-us/book.pdf\" target=\"_blank\">English</a></li>\n",
      "<li><a href=\"http://do1.dr-chuck.com/py4inf/ES-es/book.pdf\" target=\"_blank\">Spanish</a> from <a href=\"https://twitter.com/fertardio\" target=\"_blank\">Fernando Tardío.</a></li>\n",
      "<li><a href=\"translations/KO/book_009_ko.pdf\" target=\"_blank\">Korean</a> from \n",
      "<a href=\"http://www.xwmooc.net/python/\" target=\"_new\">Victor KC. Lee</a></li>\n",
      "<li><a href=\"http://fanwscu.gitbooks.io/py4inf-zh-cn/\" target=\"_blank\">Chinese (Simplified)</a> from Wei Fan</li>\n",
      "</ul>\n",
      "</li>\n",
      "<li>\n",
      "EPUB:\n",
      "<a href=\"book_270.epub\" target=\"_blank\">English</a> /\n",
      "<a href=\"translations/ES/book_272_es4.epub\" target=\"_blank\">Spanish</a> /\n",
      "<a href=\"https://www.gitbook.com/download/epub/book/fanwscu/py4inf-zh-cn\" target=\"_blank\">Chinese</a>\n",
      "</li>\n",
      "<li><a href=\"html-270/\" target=\"_blank\">HTML</a></li>\n",
      "<li><a href=\"html_270.zip\" target=\"_blank\">Download HTML in a ZIP</a></li>\n",
      "<li><a href=\"http://itunes.apple.com/us/book/python-for-informatics/id554638579?mt=13\" target=\"_blank\">Apple iBooks at iBookstore</a> (1.3GB)</li>\n",
      "<li><a href=\"http://www-personal.umich.edu/~csev/books/py4inf/ibooks//python_for_informatics.ibooks\" target=\"_blank\">Apple iBooks direct Download</a> (1.3GB)</li>\n",
      "</ul>\n",
      "<p>\n",
      "The sample code and data files for the book is here:\n",
      "<a href=\"http://www.py4inf.com/code\" target=\"_blank\">Py4Inf Code Samples</a>.\n",
      "<p>\n",
      "Chapters 2-10 are heavily adapted from the open book titled:\n",
      "\"<a href=\"ht \n",
      "\n",
      "6382 characters\n"
     ]
    }
   ],
   "source": [
    "#Ex12.3\n",
    "url = raw_input(\"Enter - \")\n",
    "img = urllib.urlopen(url)\n",
    "size = 0\n",
    "\n",
    "info = img.read(3000)\n",
    "print info,\"\\n\"\n",
    "size = size + len(info)\n",
    "\n",
    "while True:\n",
    "    info = img.read(3000)\n",
    "    if len(info) < 1: break\n",
    "    size = size + len(info)\n",
    "\n",
    "print size, 'characters'\n"
   ]
  },
  {
   "cell_type": "code",
   "execution_count": 34,
   "metadata": {
    "collapsed": false
   },
   "outputs": [
    {
     "name": "stdout",
     "output_type": "stream",
     "text": [
      "Enter - http://www.py4inf.com/book.htm\n",
      "7\n"
     ]
    }
   ],
   "source": [
    "#Ex12.4\n",
    "import urllib\n",
    "from BeautifulSoup import *\n",
    "\n",
    "url = raw_input('Enter - ')\n",
    "html = urllib.urlopen(url).read()\n",
    "soup = BeautifulSoup(html)\n",
    "\n",
    "count = 0\n",
    "tags = soup('p')\n",
    "\n",
    "for tag in tags:\n",
    "    count += 1\n",
    "    \n",
    "print count"
   ]
  },
  {
   "cell_type": "code",
   "execution_count": 33,
   "metadata": {
    "collapsed": false
   },
   "outputs": [
    {
     "name": "stdout",
     "output_type": "stream",
     "text": [
      "But soft what light through yonder window breaks\n",
      "It is the east and Juliet is the sun\n",
      "Arise fair sun and kill the envious moon\n",
      "Who is already sick and pale with grief\n",
      "\n"
     ]
    }
   ],
   "source": [
    "#Ex12.5\n",
    "mysock = socket.socket(socket.AF_INET, socket.SOCK_STREAM)\n",
    "mysock.connect(('www.py4inf.com',80))\n",
    "mysock.send('GET http://www.py4inf.com/code/romeo.txt HTTP/1.0\\n\\n')\n",
    "\n",
    "count = 0\n",
    "content = \"\";\n",
    "while True:\n",
    "    data = mysock.recv(512) #byte\n",
    "    if(len(data) < 1):\n",
    "        break\n",
    "    content = content + data\n",
    "    \n",
    "mysock.close()\n",
    "\n",
    "#헤더와 데이터를 구분하기 위해 개행 문자 2줄 시작 위치 확인\n",
    "pos = content.find(\"\\r\\n\\r\\n\")\n",
    "\n",
    "#헤더를 제외한 데이터를 출력\n",
    "content = content[pos+4:]\n",
    "print content"
   ]
  },
  {
   "cell_type": "code",
   "execution_count": null,
   "metadata": {
    "collapsed": true
   },
   "outputs": [],
   "source": []
  }
 ],
 "metadata": {
  "kernelspec": {
   "display_name": "Python 2",
   "language": "python",
   "name": "python2"
  },
  "language_info": {
   "codemirror_mode": {
    "name": "ipython",
    "version": 2
   },
   "file_extension": ".py",
   "mimetype": "text/x-python",
   "name": "python",
   "nbconvert_exporter": "python",
   "pygments_lexer": "ipython2",
   "version": "2.7.10"
  }
 },
 "nbformat": 4,
 "nbformat_minor": 0
}
