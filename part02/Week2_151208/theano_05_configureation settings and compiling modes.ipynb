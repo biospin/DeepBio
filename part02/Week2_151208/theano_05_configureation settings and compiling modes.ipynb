{
 "cells": [
  {
   "cell_type": "markdown",
   "metadata": {},
   "source": [
    "# [Configuration Settings and Compiling Modes](http://deeplearning.net/software/theano/tutorial/modes.html) \n",
    "#환경설정과 컴파일 모드들\n",
    "\n",
    "Theano의 환경 변수 **우선순위**는 아래와 같다.\n",
    "\n",
    "* [1] theano.config\n",
    "* [2] THEANO_FLAGS\n",
    "* [3] .theanorc\n",
    "\n",
    "원칙적으로 사용자 code 내에서 [1] theano.config를 수정하지 않고,\n",
    "\n",
    "[3] [.theanorc](http://deeplearning.net/software/theano/library/config.html#envvar-THEANORC)파일로 환경변수를 치환하거나, \n",
    "\n",
    "또 그 변수들을 [2] [THEANO_FLAGS](http://deeplearning.net/software/theano/library/config.html#envvar-THEANO_FLAGS) 를 이용해서 치환할 수 있다.\n",
    "\n",
    "현재 적용되는 configuration을 theano.config로 print해 볼 수 있다."
   ]
  },
  {
   "cell_type": "code",
   "execution_count": null,
   "metadata": {
    "collapsed": true
   },
   "outputs": [],
   "source": [
    "import theano\n",
    "print theano.config"
   ]
  },
  {
   "cell_type": "code",
   "execution_count": 4,
   "metadata": {
    "collapsed": false
   },
   "outputs": [
    {
     "name": "stdout",
     "output_type": "stream",
     "text": [
      "floatX (('float64', 'float32')) \r\n",
      "    Doc:  Default floating-point precision for python casts\r\n",
      "    Value:  float64\r\n",
      "\r\n",
      "warn_float64 (('ignore', 'warn', 'raise', 'pdb')) \r\n",
      "    Doc:  Do an action when a tensor variable with float64 dtype is created. They can't be run on the GPU with the current(old) gpu back-end and are slow with gamer GPUs.\r\n",
      "    Value:  ignore\r\n",
      "\r\n",
      "cast_policy (('custom', 'numpy+floatX')) \r\n",
      "    Doc:  Rules for implicit type casting\r\n",
      "    Value:  custom\r\n",
      "\r\n",
      "int_division (('int', 'raise', 'floatX')) \r\n",
      "    Doc:  What to do when one computes x / y, where both x and y are of integer types\r\n",
      "    Value:  int\r\n",
      "\r\n",
      "device (cpu, gpu*, opencl*, cuda*) \r\n",
      "    Doc:  Default device for computations. If gpu*, change the default to try to move computation to it and to put shared variable of float32 on it. Do not use upper case letters, only lower case even if NVIDIA use capital letters.\r\n",
      "    Value:  cpu\r\n",
      "\r\n",
      "gpuarray.init_device (<type 'str'>) \r\n",
      "    Doc:  \r\n",
      "             Device to initialize for gpuarray use without moving\r\n",
      "             computations automatically.\r\n",
      "             \r\n",
      "    Value:  \r\n",
      "\r\n",
      "init_gpu_device (('', 'gpu', 'gpu0', 'gpu1', 'gpu2', 'gpu3', 'gpu4', 'gpu5', 'gpu6', 'gpu7', 'gpu8', 'gpu9', 'gpu10', 'gpu11', 'gpu12', 'gpu13', 'gpu14', 'gpu15')) \r\n",
      "    Doc:  Initialize the gpu device to use, works only if device=cpu. Unlike 'device', setting this option will NOT move computations, nor shared variables, to the specified GPU. It can be used to run GPU-specific tests on a particular GPU.\r\n",
      "    Value:  \r\n",
      "\r\n",
      "force_device (<function booltype at 0x7f0390d79b90>) \r\n",
      "    Doc:  Raise an error if we can't use the specified device\r\n",
      "    Value:  False\r\n",
      "\r\n",
      "print_active_device (<function booltype at 0x7f0390d79cf8>) \r\n",
      "    Doc:  Print active device at when the GPU device is initialized.\r\n",
      "    Value:  True\r\n",
      "\r\n",
      "mode (('Mode', 'ProfileMode', 'DebugMode', 'FAST_RUN', 'FAST_COMPILE', 'PROFILE_MODE', 'DEBUG_MODE')) \r\n",
      "    Doc:  Default compilation mode\r\n",
      "    Value:  Mode\r\n",
      "\r\n",
      "cxx (<type 'str'>) \r\n",
      "    Doc:  The C++ compiler to use. Currently only g++ is supported, but supporting additional compilers should not be too difficult. If it is empty, no C++ code is compiled.\r\n",
      "    Value:  /usr/bin/g++\r\n",
      "\r\n",
      "linker (('cvm', 'c|py', 'py', 'c', 'c|py_nogc', 'vm', 'vm_nogc', 'cvm_nogc')) \r\n",
      "    Doc:  Default linker used if the theano flags mode is Mode or ProfileMode(deprecated)\r\n",
      "    Value:  cvm\r\n",
      "\r\n",
      "allow_gc (<function booltype at 0x7f0390d481b8>) \r\n",
      "    Doc:  Do we default to delete intermediate results during Theano function calls? Doing so lowers the memory requirement, but asks that we reallocate memory at the next function call. This is implemented for the default linker, but may not work for all linkers.\r\n",
      "    Value:  True\r\n",
      "\r\n",
      "optimizer (('fast_run', 'merge', 'fast_compile', 'None')) \r\n",
      "    Doc:  Default optimizer. If not None, will use this linker with the Mode object (not ProfileMode(deprecated) or DebugMode)\r\n",
      "    Value:  fast_run\r\n",
      "\r\n",
      "optimizer_verbose (<function booltype at 0x7f0390d48398>) \r\n"
     ]
    }
   ],
   "source": [
    "! python -c 'import theano; print theano.config' |head -60"
   ]
  },
  {
   "cell_type": "markdown",
   "metadata": {},
   "source": [
    "### THEANO FLAGS\n",
    "THEANO-FLAGS 는 콤마(,)로 구분된 key=value 의 목록이다.\n",
    "\n",
    "THEANO_FLAGS='device=cpu,device=gpu0' 라고 중복해서 써줄 경우에 가장 오른쪽을 인식해서 gpu0를 device로 사용할 것이다.\n",
    "\n",
    "test.py 라는 파이썬 코드에 configuration을 적용할 경우, 아래와 같이 사용하게 된다.\n",
    "> THEANP_FLAGS='floatX=float32;device=gpu0;nvcc.fastmath=True' python test.py\n",
    "\n",
    "|default|values..\n",
    "--|--|--\n",
    "config.floatX|'float64'|'float64','float32',...\n",
    "config.device|'cpu'|'cpu', 'gpu', 'gpu0',... "
   ]
  },
  {
   "cell_type": "markdown",
   "metadata": {},
   "source": [
    "### Exercise\n",
    "연습으로 logistic regression을 생각해 보자..\n",
    "\n",
    "(1) D[0],D[1],w,b 의 type을 theano.config.floatX에서 지정하는 type으로 치환할 수 있도록함.\n",
    "\n",
    "(2) 아래 코드가 삽입되었음."
   ]
  },
  {
   "cell_type": "code",
   "execution_count": null,
   "metadata": {
    "collapsed": true
   },
   "outputs": [],
   "source": [
    "if any([x.op.__class__.__name__ in ['Gemv', 'CGemv', 'Gemm', 'CGemm'] for x in\n",
    "        train.maker.fgraph.toposort()]):\n",
    "    print('Used the cpu')\n",
    "elif any([x.op.__class__.__name__ in ['GpuGemm', 'GpuGemv'] for x in\n",
    "          train.maker.fgraph.toposort()]):\n",
    "    print('Used the gpu')\n",
    "else:\n",
    "    print('ERROR, not able to tell if theano used the cpu or the gpu')\n",
    "    print(train.maker.fgraph.toposort())"
   ]
  },
  {
   "cell_type": "code",
   "execution_count": 5,
   "metadata": {
    "collapsed": false,
    "scrolled": false
   },
   "outputs": [
    {
     "name": "stdout",
     "output_type": "stream",
     "text": [
      "float64\n",
      "Used the cpu\n",
      "target values for D\n",
      "[ 1.  1.  0.  0.  0.  0.  0.  0.  0.  1.]\n",
      "prediction on D\n",
      "[1 1 0 0 0 0 0 0 0 1]\n"
     ]
    }
   ],
   "source": [
    "! python test_logistic.py"
   ]
  },
  {
   "cell_type": "code",
   "execution_count": 1,
   "metadata": {
    "collapsed": false,
    "scrolled": false
   },
   "outputs": [
    {
     "name": "stdout",
     "output_type": "stream",
     "text": [
      "float32\n",
      "Used the cpu\n",
      "target values for D\n",
      "[ 0.  1.  0.  0.  0.  1.  1.  1.  0.  1.]\n",
      "prediction on D\n",
      "[0 1 0 0 0 1 1 1 0 1]\n"
     ]
    }
   ],
   "source": [
    "! THEANO_FLAGS=device=cpu,floatX=float32 python test_logistic.py"
   ]
  },
  {
   "cell_type": "raw",
   "metadata": {
    "collapsed": true
   },
   "source": [
    "! THEANO_FLAGS=device=gpu,floatX=float32 python test_logistic.py"
   ]
  },
  {
   "cell_type": "raw",
   "metadata": {},
   "source": [
    "Using gpu device 0: Tesla K20Xm\n",
    "float32\n",
    "Used the gpu\n",
    "target values for D\n",
    "[ 1.  0.  1.  0.  0.  1.  0.  0.  0.  1.]\n",
    "prediction on D\n",
    "[1 0 1 0 0 1 0 0 0 1]"
   ]
  },
  {
   "cell_type": "code",
   "execution_count": null,
   "metadata": {
    "collapsed": true
   },
   "outputs": [],
   "source": [
    "# test_logistic.py\n",
    "\n",
    "import numpy\n",
    "import theano\n",
    "import theano.tensor as T\n",
    "rng = numpy.random\n",
    "\n",
    "print theano.config.floatX\n",
    "\n",
    "N = 400\n",
    "feats = 784\n",
    "D = (rng.randn(N, feats).astype(theano.config.floatX),\n",
    "rng.randint(size=N,low=0, high=2).astype(theano.config.floatX))\n",
    "training_steps = 10000\n",
    "\n",
    "# Declare Theano symbolic variables\n",
    "x = T.matrix(\"x\")\n",
    "y = T.vector(\"y\")\n",
    "w = theano.shared(rng.randn(feats).astype(theano.config.floatX), name=\"w\")\n",
    "b = theano.shared(numpy.asarray(0., dtype=theano.config.floatX), name=\"b\")\n",
    "x.tag.test_value = D[0]\n",
    "y.tag.test_value = D[1]\n",
    "\n",
    "# Construct Theano expression graph\n",
    "p_1 = 1 / (1 + T.exp(-T.dot(x, w)-b)) # Probability of having a one\n",
    "prediction = p_1 > 0.5 # The prediction that is done: 0 or 1\n",
    "xent = -y*T.log(p_1) - (1-y)*T.log(1-p_1) # Cross-entropy\n",
    "cost = xent.mean() + 0.01*(w**2).sum() # The cost to optimize\n",
    "gw,gb = T.grad(cost, [w,b])\n",
    "\n",
    "# Compile expressions to functions\n",
    "train = theano.function(\n",
    "            inputs=[x,y],\n",
    "            outputs=[prediction, xent],\n",
    "            updates=[(w, w-0.01*gw), (b, b-0.01*gb)],\n",
    "            name = \"train\")\n",
    "predict = theano.function(inputs=[x], outputs=prediction,\n",
    "            name = \"predict\")\n",
    "\n",
    "if any([x.op.__class__.__name__ in ['Gemv', 'CGemv', 'Gemm', 'CGemm'] for x in\n",
    "        train.maker.fgraph.toposort()]):\n",
    "    print('Used the cpu')\n",
    "elif any([x.op.__class__.__name__ in ['GpuGemm', 'GpuGemv'] for x in\n",
    "          train.maker.fgraph.toposort()]):\n",
    "    print('Used the gpu')\n",
    "else:\n",
    "    print('ERROR, not able to tell if theano used the cpu or the gpu')\n",
    "\n",
    "for i in range(training_steps):\n",
    "    pred, err = train(D[0], D[1])\n",
    "\n",
    "print(\"target values for D\")\n",
    "print(D[1][:10])\n",
    "\n",
    "print(\"prediction on D\")\n",
    "print(predict(D[0])[:10])"
   ]
  },
  {
   "cell_type": "markdown",
   "metadata": {},
   "source": [
    "Modify and execute this example to run on CPU (the default) with floatX=float32 and time the execution using the command line time python file.py. \n",
    "\n",
    "위 예제를 floatX=float32, CPU(default)로 run되도록 수정하여 수행하세요 그리고 time을 적용하세요"
   ]
  },
  {
   "cell_type": "markdown",
   "metadata": {},
   "source": [
    "### Note\n",
    "* Apply the Theano flag floatX=float32 (through theano.config.floatX) in your code.\n",
    " - floatX=float32 를 code에 적용하세요\n",
    " \n",
    "* Cast inputs before storing them into a shared variable.\n",
    " - input을 shared 변수로 저장하기 전에 cast하세요\n",
    " \n",
    "* Circumvent the automatic cast of int32 with float32 to float64:\n",
    " - int32의 자동 cast를 피하세요.\n",
    " \n",
    " - Insert manual cast in your code or use [u]int{8,16}.\n",
    " - Insert manual cast around the mean operator (this involves division by length, which is an int64).\n",
    " - Note that a new casting mechanism is being developed."
   ]
  },
  {
   "cell_type": "raw",
   "metadata": {},
   "source": [
    "! time THEANO_FLAGS=device=cpu,floatX=float32 python test_logistic.py"
   ]
  },
  {
   "cell_type": "raw",
   "metadata": {},
   "source": [
    "float32\n",
    "Used the cpu\n",
    "target values for D\n",
    "[ 1.  0.  0.  0.  1.  1.  1.  1.  0.  0.]\n",
    "prediction on D\n",
    "[1 0 0 0 1 1 1 1 0 0]\n",
    "\n",
    "real\t0m44.457s\n",
    "user\t0m56.078s\n",
    "sys\t5m35.679s"
   ]
  },
  {
   "cell_type": "raw",
   "metadata": {},
   "source": [
    "! time THEANO_FLAGS=device=gpu,floatX=float32 python test_logistic.py"
   ]
  },
  {
   "cell_type": "raw",
   "metadata": {},
   "source": [
    "float32\n",
    "Used the gpu\n",
    "target values for D\n",
    "[ 1.  1.  1.  1.  1.  1.  0.  0.  1.  0.]\n",
    "prediction on D\n",
    "[1 1 1 1 1 1 0 0 1 0]\n",
    "\n",
    "real\t0m18.771s\n",
    "user\t0m9.954s\n",
    "sys\t0m8.928s"
   ]
  },
  {
   "cell_type": "code",
   "execution_count": 26,
   "metadata": {
    "collapsed": false,
    "scrolled": true
   },
   "outputs": [
    {
     "name": "stdout",
     "output_type": "stream",
     "text": [
      "int32\n",
      "int64\n",
      "float32\n"
     ]
    }
   ],
   "source": [
    "# cast ?\n",
    "import theano.tensor as T\n",
    "x = T.iscalar()\n",
    "x_as_int   = T.cast(x, 'int64')\n",
    "x_as_float = T.cast(x, 'float32')\n",
    "print x.dtype\n",
    "print x_as_int.dtype\n",
    "print x_as_float.dtype"
   ]
  },
  {
   "cell_type": "markdown",
   "metadata": {},
   "source": [
    "[solution](http://deeplearning.net/software/theano/_downloads/modes_solution_1.py)"
   ]
  },
  {
   "cell_type": "code",
   "execution_count": 6,
   "metadata": {
    "collapsed": false
   },
   "outputs": [
    {
     "name": "stdout",
     "output_type": "stream",
     "text": [
      "float64\n",
      "float32\n"
     ]
    }
   ],
   "source": [
    "import theano\n",
    "import theano.tensor as T\n",
    "x=T.ivector('x')\n",
    "res1 = x.mean()\n",
    "res2 = T.cast( x.mean(), 'float32')\n",
    "out1 = theano.function([x],res1)\n",
    "out2 = theano.function([x],res2)\n",
    "print out1([1,2,3]).dtype\n",
    "print out2([1,2,3]).dtype"
   ]
  },
  {
   "cell_type": "markdown",
   "metadata": {},
   "source": [
    "### [Mode](http://deeplearning.net/software/theano/library/compile/mode.html#libdoc-compile-mode)\n",
    "\n",
    "theano.function이 호출될 때마다, input과 output 변수들 사이의 symbolic 관계들은 **optimization & compilation** 된다. 이때 compile이 일어나는 방식은 **compile.mode** 파라미터에 의해서 조절된다. config.mode의 default는 'Mode'=='FAST_RUN'.\n",
    "\n",
    "mode의 parameter는 2가지로 구성된다. 하나는 optimizer이고 하나는 linker이다.\n",
    "\n",
    "theano가 사용하는 [optimization](http://deeplearning.net/software/theano/optimizations.html#optimizations) : 그래프를 단순화, 메모리 효율적으로 사용하면서 빠르게 수행되도록 함\n",
    "\n",
    "[참고]compiler? source code를 object code(기계어)로 바꾸는 프로그램\n",
    "![compiler](http://www.rtcmagazine.com/files/images/4907/rtc1308_iw_iar_fig01_medium.jpg)\n",
    "[참고]linker? compiler가 만들어낸 하나 이상의 object files을 가져와 이를 단일 실행 프로그램(.exe), 라이브러리 파일 등으로 병합하는 프로그램이다.[출처:wiki]\n",
    "![이미지](https://upload.wikimedia.org/wikipedia/commons/thumb/b/b1/Linker.svg/344px-Linker.svg.png)"
   ]
  },
  {
   "cell_type": "markdown",
   "metadata": {},
   "source": [
    "mode 종류|full constructor|설명\n",
    "--|--|--\n",
    "**FAST_RUN** |compile.mode.Mode( linker='cvm', optimizer='fast_run') |모든 가능한 optimization을 적용함('fast_run'). **가능하면 C 구현**('cvm')\n",
    "**FAST_COMPILE** |compile.mode.Mode( linker='py', optimizer='fast_compile') |graph optimization을 적당히 적용하여 compile함('fast_compile'). **python 으로만 구현**('py')하므로 GPU는 불가능\n",
    "DebugMode |compile.debugmode.DebugMode()| 모든 optimization을 적용함. 오래걸리지만 문제를 확인하기에 용이\n",
    "ProfileMode|compile.profilemode.ProfileMode()| (Deprecated-> config.profile 사용권장). 모든 optimization을 적용함. profile을 출력함\n",
    "\n",
    "* DebugMode와 ProfileMode는 자신만의 linker를 사용 (아래)\n",
    "* (Deprecated)? 중요도가 떨어져 더 이상 사용되지 않고 앞으로는 사라지게될 기능"
   ]
  },
  {
   "cell_type": "markdown",
   "metadata": {},
   "source": [
    "### Linker\n",
    "\n",
    "linker |gc | Raise error by op | Overhead | 정의\n",
    "--|--|--|--|--\n",
    "cㅣpy|yes|yes|+++|가능하면 C를 시도하고 python을 사용\n",
    "cㅣpy_nogc|no|yes|++| gc가 없는 cㅣpy\n",
    "cvm|yes|yes|++|cㅣpy와 유사하지만 code를 실행하기위한 runtime algorithm은 c를 사용\n",
    "cmv_nogc|no|yes|+| gc가 없는 cvm\n",
    "c|no|yes|+| C code만 사용(theano의 op(function)를 처리하다가 error발생할 수 있음)\n",
    "py|yes|yes|+++| python만 사용\n",
    "DebugMode|no|yes|very high| Theano가 계산하는 것들을 많이 체크함\n",
    "ProfileMode|no|no|++++| (Deprecated). 몇몇 부가적인 profiling을 수행함\n",
    "\n",
    "* gc?(garbage collection 쓰레기모음) 계산 중간 결과들을 모음\n",
    "* overhead? 어떤 처리를 하기 위해 들어가는 간접적인 처리 시간. 메모리 등"
   ]
  },
  {
   "cell_type": "markdown",
   "metadata": {},
   "source": [
    "# DebugMode & ProfileMode 사용\n",
    "\n",
    "만약에 새로운 종류의 expression이나 optimization을 정의하는 경우에 **DebugMode**(오류체크)를 이용하는 것이 유용하다. DebugMode는 self-check를 하고 programing error를 진단하는 것을 돕는다. (굉장히 Overhead가 크기 때문에 development단계에서만 사용해야 함)\n",
    "\n",
    "### 1. [DebugMode](http://deeplearning.net/software/theano/library/compile/debugmode.html#debugmode)\n",
    "\n",
    "mode는 아래와 같이 theano.function의 argument로 넣어서 대체할 수도 있다. \n",
    "\n",
    "DebugMode는 함수를 compile할 때, 혹은 호출할 때마다 어떤 문제가 감지되면 무엇이 문제인지에 따라 예외를 발생한다.\n",
    "\n",
    "단점은, 부적합한 input 으로 에러가 나는 경우.. 부적합한 input은 넣어서 수행해 보지 않는 한 문제를 발견할 수 없다."
   ]
  },
  {
   "cell_type": "code",
   "execution_count": 7,
   "metadata": {
    "collapsed": false,
    "scrolled": true
   },
   "outputs": [
    {
     "data": {
      "text/plain": [
       "array([ inf])"
      ]
     },
     "execution_count": 7,
     "metadata": {},
     "output_type": "execute_result"
    }
   ],
   "source": [
    "import theano\n",
    "import theano.tensor as T\n",
    "x = T.dvector('x')\n",
    "\n",
    "f = theano.function([x],x/0)\n",
    "f([1])"
   ]
  },
  {
   "cell_type": "code",
   "execution_count": 9,
   "metadata": {
    "collapsed": false
   },
   "outputs": [
    {
     "ename": "InvalidValueError",
     "evalue": "InvalidValueError\n        type(variable) = TensorType(float64, scalar)\n        variable       = TensorConstant{inf}\n        type(value)    = <type 'numpy.ndarray'>\n        dtype(value)   = float64\n        shape(value)   = ()\n        value          = inf\n        min(value)     = inf\n        max(value)     = inf\n        isfinite       = False\n        client_node    = None\n        hint           = Graph Input 'TensorConstant{inf}' has invalid value inf\n        specific_hint  = none\n        context        = ...\n  TensorConstant{inf} [@A]\n\n        ",
     "output_type": "error",
     "traceback": [
      "\u001b[1;31m---------------------------------------------------------------------------\u001b[0m",
      "\u001b[1;31mInvalidValueError\u001b[0m                         Traceback (most recent call last)",
      "\u001b[1;32m<ipython-input-9-2b77c417b4fc>\u001b[0m in \u001b[0;36m<module>\u001b[1;34m()\u001b[0m\n\u001b[0;32m      1\u001b[0m \u001b[0mf\u001b[0m \u001b[1;33m=\u001b[0m \u001b[0mtheano\u001b[0m\u001b[1;33m.\u001b[0m\u001b[0mfunction\u001b[0m\u001b[1;33m(\u001b[0m\u001b[1;33m[\u001b[0m\u001b[0mx\u001b[0m\u001b[1;33m]\u001b[0m\u001b[1;33m,\u001b[0m\u001b[0mx\u001b[0m\u001b[1;33m/\u001b[0m\u001b[1;36m0\u001b[0m\u001b[1;33m,\u001b[0m \u001b[0mmode\u001b[0m\u001b[1;33m=\u001b[0m\u001b[1;34m'DebugMode'\u001b[0m\u001b[1;33m)\u001b[0m\u001b[1;33m\u001b[0m\u001b[0m\n\u001b[1;32m----> 2\u001b[1;33m \u001b[0mf\u001b[0m\u001b[1;33m(\u001b[0m\u001b[1;33m[\u001b[0m\u001b[1;36m1\u001b[0m\u001b[1;33m]\u001b[0m\u001b[1;33m)\u001b[0m\u001b[1;33m\u001b[0m\u001b[0m\n\u001b[0m",
      "\u001b[1;32m/home/sungmk/anaconda/lib/python2.7/site-packages/theano/compile/function_module.pyc\u001b[0m in \u001b[0;36m__call__\u001b[1;34m(self, *args, **kwargs)\u001b[0m\n\u001b[0;32m    593\u001b[0m         \u001b[0mt0_fn\u001b[0m \u001b[1;33m=\u001b[0m \u001b[0mtime\u001b[0m\u001b[1;33m.\u001b[0m\u001b[0mtime\u001b[0m\u001b[1;33m(\u001b[0m\u001b[1;33m)\u001b[0m\u001b[1;33m\u001b[0m\u001b[0m\n\u001b[0;32m    594\u001b[0m         \u001b[1;32mtry\u001b[0m\u001b[1;33m:\u001b[0m\u001b[1;33m\u001b[0m\u001b[0m\n\u001b[1;32m--> 595\u001b[1;33m             \u001b[0moutputs\u001b[0m \u001b[1;33m=\u001b[0m \u001b[0mself\u001b[0m\u001b[1;33m.\u001b[0m\u001b[0mfn\u001b[0m\u001b[1;33m(\u001b[0m\u001b[1;33m)\u001b[0m\u001b[1;33m\u001b[0m\u001b[0m\n\u001b[0m\u001b[0;32m    596\u001b[0m         \u001b[1;32mexcept\u001b[0m \u001b[0mException\u001b[0m\u001b[1;33m:\u001b[0m\u001b[1;33m\u001b[0m\u001b[0m\n\u001b[0;32m    597\u001b[0m             \u001b[1;32mif\u001b[0m \u001b[0mhasattr\u001b[0m\u001b[1;33m(\u001b[0m\u001b[0mself\u001b[0m\u001b[1;33m.\u001b[0m\u001b[0mfn\u001b[0m\u001b[1;33m,\u001b[0m \u001b[1;34m'position_of_error'\u001b[0m\u001b[1;33m)\u001b[0m\u001b[1;33m:\u001b[0m\u001b[1;33m\u001b[0m\u001b[0m\n",
      "\u001b[1;32m/home/sungmk/anaconda/lib/python2.7/site-packages/theano/compile/debugmode.pyc\u001b[0m in \u001b[0;36mdeco\u001b[1;34m()\u001b[0m\n\u001b[0;32m   2149\u001b[0m                 \u001b[0mTensorType\u001b[0m\u001b[1;33m.\u001b[0m\u001b[0mfilter_checks_isfinite\u001b[0m \u001b[1;33m=\u001b[0m \u001b[0mself\u001b[0m\u001b[1;33m.\u001b[0m\u001b[0mmaker\u001b[0m\u001b[1;33m.\u001b[0m\u001b[0mmode\u001b[0m\u001b[1;33m.\u001b[0m\u001b[0mcheck_isfinite\u001b[0m\u001b[1;33m\u001b[0m\u001b[0m\n\u001b[0;32m   2150\u001b[0m                 \u001b[1;32mtry\u001b[0m\u001b[1;33m:\u001b[0m\u001b[1;33m\u001b[0m\u001b[0m\n\u001b[1;32m-> 2151\u001b[1;33m                     \u001b[1;32mreturn\u001b[0m \u001b[0mf\u001b[0m\u001b[1;33m(\u001b[0m\u001b[1;33m)\u001b[0m\u001b[1;33m\u001b[0m\u001b[0m\n\u001b[0m\u001b[0;32m   2152\u001b[0m                 \u001b[1;32mfinally\u001b[0m\u001b[1;33m:\u001b[0m\u001b[1;33m\u001b[0m\u001b[0m\n\u001b[0;32m   2153\u001b[0m                     \u001b[1;31m# put back the filter_checks_isfinite\u001b[0m\u001b[1;33m\u001b[0m\u001b[1;33m\u001b[0m\u001b[0m\n",
      "\u001b[1;32m/home/sungmk/anaconda/lib/python2.7/site-packages/theano/compile/debugmode.pyc\u001b[0m in \u001b[0;36mf\u001b[1;34m()\u001b[0m\n\u001b[0;32m   1821\u001b[0m                             raise InvalidValueError(r, storage_map[r][0],\n\u001b[0;32m   1822\u001b[0m                                    hint=(\"Graph Input '%s' has invalid value \"\n\u001b[1;32m-> 1823\u001b[1;33m                                        \"%s\" % (r, storage_map[r][0])))\n\u001b[0m\u001b[0;32m   1824\u001b[0m                         \u001b[0mr_vals\u001b[0m\u001b[1;33m[\u001b[0m\u001b[0mr\u001b[0m\u001b[1;33m]\u001b[0m \u001b[1;33m=\u001b[0m \u001b[0mstorage_map\u001b[0m\u001b[1;33m[\u001b[0m\u001b[0mr\u001b[0m\u001b[1;33m]\u001b[0m\u001b[1;33m[\u001b[0m\u001b[1;36m0\u001b[0m\u001b[1;33m]\u001b[0m\u001b[1;33m\u001b[0m\u001b[0m\n\u001b[0;32m   1825\u001b[0m                         \u001b[0mstorage_map\u001b[0m\u001b[1;33m[\u001b[0m\u001b[0mr\u001b[0m\u001b[1;33m]\u001b[0m\u001b[1;33m[\u001b[0m\u001b[1;36m0\u001b[0m\u001b[1;33m]\u001b[0m \u001b[1;33m=\u001b[0m \u001b[0mNone\u001b[0m\u001b[1;33m\u001b[0m\u001b[0m\n",
      "\u001b[1;31mInvalidValueError\u001b[0m: InvalidValueError\n        type(variable) = TensorType(float64, scalar)\n        variable       = TensorConstant{inf}\n        type(value)    = <type 'numpy.ndarray'>\n        dtype(value)   = float64\n        shape(value)   = ()\n        value          = inf\n        min(value)     = inf\n        max(value)     = inf\n        isfinite       = False\n        client_node    = None\n        hint           = Graph Input 'TensorConstant{inf}' has invalid value inf\n        specific_hint  = none\n        context        = ...\n  TensorConstant{inf} [@A]\n\n        "
     ]
    }
   ],
   "source": [
    "f = theano.function([x],x/0, mode='DebugMode')\n",
    "f([1])"
   ]
  },
  {
   "cell_type": "markdown",
   "metadata": {},
   "source": [
    "### 2. [ProfileMode](http://deeplearning.net/software/theano/library/compile/profilemode.html#profilemode)\n",
    "(1) ProfileMode Instance 생성하기 \n",
    "\n",
    "theano.ProfileMode 는 input으로 optimizer와 linker를 받는다. \n",
    "(gof.OpWiseCLinker=='clpy')"
   ]
  },
  {
   "cell_type": "code",
   "execution_count": 1,
   "metadata": {
    "collapsed": false
   },
   "outputs": [],
   "source": [
    "import theano\n",
    "import theano.tensor as T\n",
    "from theano import ProfileMode\n",
    "profmode = theano.ProfileMode(optimizer='fast_run', linker=theano.gof.OpWiseCLinker())"
   ]
  },
  {
   "cell_type": "markdown",
   "metadata": {},
   "source": [
    "(2) Graph를 ProfileMode로 Compile하기"
   ]
  },
  {
   "cell_type": "code",
   "execution_count": 2,
   "metadata": {
    "collapsed": false
   },
   "outputs": [
    {
     "name": "stdout",
     "output_type": "stream",
     "text": [
      "Elemwise{mul,no_inplace}\n"
     ]
    },
    {
     "name": "stderr",
     "output_type": "stream",
     "text": [
      "/home/sungmk/anaconda/lib/python2.7/site-packages/theano/compile/profilemode.py:103: UserWarning: DEPRECATION WARNING: The ProfileMode is deprecated. Use the Theano flags/parameter to theano.function 'profile=True' instead of 'mode=ProfileMode'\n",
      "  \"DEPRECATION WARNING: The ProfileMode is deprecated. Use the Theano\"\n"
     ]
    }
   ],
   "source": [
    "v1,v2 = T.vectors(2)\n",
    "o = v1 * v2\n",
    "f = theano.function([v1,v2],[o], mode=profmode)\n",
    "print o.owner.op"
   ]
  },
  {
   "cell_type": "markdown",
   "metadata": {},
   "source": [
    "(3) Timing Information 확인\n",
    "\n",
    "compile한 function을 run한 뒤, profmode.print_summary()를 호출하면, 시간정보를 제공한다."
   ]
  },
  {
   "cell_type": "code",
   "execution_count": 3,
   "metadata": {
    "collapsed": false,
    "scrolled": true
   },
   "outputs": [
    {
     "data": {
      "text/plain": [
       "[array([  4.,  10.,  18.])]"
      ]
     },
     "execution_count": 3,
     "metadata": {},
     "output_type": "execute_result"
    }
   ],
   "source": [
    "# run\n",
    "f([1,2,3],[4,5,6])"
   ]
  },
  {
   "cell_type": "code",
   "execution_count": 4,
   "metadata": {
    "collapsed": false
   },
   "outputs": [
    {
     "name": "stdout",
     "output_type": "stream",
     "text": [
      "ProfileMode is deprecated! Use the new profiler.\n",
      " The Theano flags to enable it ise: profile=True\n",
      " The Theano flags for the memory profile to it is: profile_memory=True\n",
      "\n",
      "ProfileMode.print_summary()\n",
      "---------------------------\n",
      "\n",
      "Time since import 24.210s\n",
      "Theano compile time: 0.000s (0.0% since import)\n",
      "    Optimization time: 0.000s\n",
      "    Linker time: 0.000s\n",
      "Theano fct call 0.000s (0.0% since import)\n",
      "   Theano Op time 0.000s 0.0%(since import) 1.6%(of fct call)\n",
      "   Theano function overhead in ProfileMode 0.000s 0.0%(since import) 98.4%(of fct call)\n",
      "1 Theano fct call, 0.000s per call\n",
      "Rest of the time since import 24.210s 100.0%\n",
      "\n",
      "Theano fct summary:\n",
      "<% total fct time> <total time> <time per call> <nb call> <fct name>\n",
      "   100.0% 0.000s 3.11e-04s 1 <ipython-input-2-d73f1998c5a7>:3\n",
      "\n",
      "Single Op-wise summary:\n",
      "<% of local_time spent on this kind of Op> <cumulative %> <self seconds> <cumulative seconds> <time per call> [*] <nb_call> <nb_op> <nb_apply> <Op name>\n",
      "   100.0%  100.0%  0.000s  0.000s  5.01e-06s *     1  1  1 <class 'theano.tensor.elemwise.Elemwise'>\n",
      "   ... (remaining 0 single Op account for 0.00%(0.00s) of the runtime)\n",
      "(*) Op is running a c implementation\n",
      "\n",
      "Op-wise summary:\n",
      "<% of local_time spent on this kind of Op> <cumulative %> <self seconds> <cumulative seconds> <time per call> [*]  <nb_call> <nb apply> <Op name>\n",
      "   100.0%  100.0%  0.000s  0.000s  5.01e-06s *     1  1 Elemwise{mul,no_inplace}\n",
      "   ... (remaining 0 Op account for   0.00%(0.00s) of the runtime)\n",
      "(*) Op is running a c implementation\n",
      "\n",
      "Apply-wise summary:\n",
      "<% of local_time spent at this position> <cumulative %%> <apply time> <cumulative seconds> <time per call> [*] <nb_call> <Apply position> <Apply Op name>\n",
      "   100.0%  100.0%  0.000s  0.000s 5.01e-06s  * 1   0 Elemwise{mul,no_inplace}(<TensorType(float64, vector)>, <TensorType(float64, vector)>)\n",
      "   ... (remaining 0 Apply instances account for 0.00%(0.00s) of the runtime)\n",
      "(*) Op is running a c implementation\n",
      "\n",
      "Profile of Theano intermediate memory disabled.\n",
      " To enabled, put the Theano flag ProfileMode.profile_memory to True.\n",
      "\n",
      "Here are tips to potentially make your code run faster\n",
      "(if you think of new ones, suggest them on the mailing list).\n",
      "Test them first, as they are not guaranteed to always provide a speedup.\n",
      "  - Try the Theano flag floatX=float32\n"
     ]
    }
   ],
   "source": [
    "profmode.print_summary()"
   ]
  },
  {
   "cell_type": "markdown",
   "metadata": {},
   "source": [
    "[regression.py](https://github.com/Theano/Theano/blob/master/benchmark/regression/regression.py)"
   ]
  },
  {
   "cell_type": "raw",
   "metadata": {},
   "source": [
    "\"\"\"\n",
    "ProfileMode.print_summary()\n",
    "---------------------------\n",
    "\n",
    "local_time 0.0749197006226 (Time spent running thunks)\n",
    "Apply-wise summary: <fraction of local_time spent at this position> (<Apply position>, <Apply Op name>)\n",
    "        0.069   15      _dot22\n",
    "        0.064   1       _dot22\n",
    "        0.053   0       InplaceDimShuffle{x,0}\n",
    "        0.049   2       InplaceDimShuffle{1,0}\n",
    "        0.049   10      mul\n",
    "        0.049   6       Elemwise{ScalarSigmoid{output_types_preference=<theano.scalar.basic.transfer_type object at 0x171e650>}}[(0, 0)]\n",
    "        0.049   3       InplaceDimShuffle{x}\n",
    "        0.049   4       InplaceDimShuffle{x,x}\n",
    "        0.048   14      Sum{0}\n",
    "        0.047   7       sub\n",
    "        0.046   17      mul\n",
    "        0.045   9       sqr\n",
    "        0.045   8       Elemwise{sub}\n",
    "        0.045   16      Sum\n",
    "        0.044   18      mul\n",
    "   ... (remaining 6 Apply instances account for 0.25 of the runtime)\n",
    "Op-wise summary: <fraction of local_time spent on this kind of Op> <Op name>\n",
    "        0.139   * mul\n",
    "        0.134   * _dot22\n",
    "        0.092   * sub\n",
    "        0.085   * Elemwise{Sub{output_types_preference=<theano.scalar.basic.transfer_type object at 0x1779f10>}}[(0, 0)]\n",
    "        0.053   * InplaceDimShuffle{x,0}\n",
    "        0.049   * InplaceDimShuffle{1,0}\n",
    "        0.049   * Elemwise{ScalarSigmoid{output_types_preference=<theano.scalar.basic.transfer_type object at 0x171e650>}}[(0, 0)]\n",
    "        0.049   * InplaceDimShuffle{x}\n",
    "        0.049   * InplaceDimShuffle{x,x}\n",
    "        0.048   * Sum{0}\n",
    "        0.045   * sqr\n",
    "        0.045   * Sum\n",
    "        0.043   * Sum{1}\n",
    "        0.042   * Elemwise{Mul{output_types_preference=<theano.scalar.basic.transfer_type object at 0x17a0f50>}}[(0, 1)]\n",
    "        0.041   * Elemwise{Add{output_types_preference=<theano.scalar.basic.transfer_type object at 0x1736a50>}}[(0, 0)]\n",
    "        0.039   * Elemwise{Second{output_types_preference=<theano.scalar.basic.transfer_type object at 0x1736d90>}}[(0, 1)]\n",
    "   ... (remaining 0 Ops account for 0.00 of the runtime)\n",
    "(*) Op is running a c implementation\n",
    "\n",
    "\"\"\""
   ]
  }
 ],
 "metadata": {
  "kernelspec": {
   "display_name": "Python 2",
   "language": "python",
   "name": "python2"
  },
  "language_info": {
   "codemirror_mode": {
    "name": "ipython",
    "version": 2
   },
   "file_extension": ".py",
   "mimetype": "text/x-python",
   "name": "python",
   "nbconvert_exporter": "python",
   "pygments_lexer": "ipython2",
   "version": "2.7.10"
  }
 },
 "nbformat": 4,
 "nbformat_minor": 0
}
