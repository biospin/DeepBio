{
 "cells": [
  {
   "cell_type": "markdown",
   "metadata": {
    "collapsed": true
   },
   "source": [
    "[pickle](https://docs.python.org/2/library/pickle.html) mechanism."
   ]
  },
  {
   "cell_type": "markdown",
   "metadata": {},
   "source": [
    "## The Basics of Pickling\n",
    "\n",
    "* pickle? 오이 같은 것을 절여서 보존하다.\n",
    "* pickle module? 이 모듈을 이용하여 파이썬 객체를 byte stream으로 변환하여 데이터를 byte단위로 영구적으로 저장하거나, 데이터베이스에 저장하거나 네트워크로 전송할 수 있다.\n",
    "\n",
    "기본 파이썬 객체 뿐만 아니라 객체들의 관계도 저장한다.\n",
    "\n",
    "일반 문자열 같은 경우 f.write() 함수를 사용할 수 있지만, 튜플, 리스트같은 다른 객체들은 이러한 방법으로 파일에 저장할 수 없다.\n",
    "\n",
    "### 1. pickle.dump \n",
    "\n",
    "* 객체를 byte stream으로 변환하여 데이터를 byte단위로 **저장**하는 것을 **pickling**(or serialization) 이라고 함."
   ]
  },
  {
   "cell_type": "code",
   "execution_count": 14,
   "metadata": {
    "collapsed": true
   },
   "outputs": [],
   "source": [
    "import cPickle"
   ]
  },
  {
   "cell_type": "markdown",
   "metadata": {},
   "source": [
    "- pickle과 cPickle 모듈이 있다. 비슷한 기능이지만 cPickle은 c로 coding되어 있어 1000배 정도 더 빠르고 두 모듈이 생성한 data stream은 호환된다.\n",
    "\n",
    "- file을 binary mode('b')로 open하는 것은, 특히 window와 unix 사이에서 호환되기 위해 필요하다.\n",
    "\n",
    "- cPickle.HIGHEST_PROTOCOL을 사용하면 더 효율적으로 object를 저장할 수 있다."
   ]
  },
  {
   "cell_type": "code",
   "execution_count": 15,
   "metadata": {
    "collapsed": false
   },
   "outputs": [],
   "source": [
    "my_obj = \"test\"\n",
    "f = file('obj.save','wb')\n",
    "cPickle.dump(my_obj, f, protocol=cPickle.HIGHEST_PROTOCOL) # pickling\n",
    "f.close()\n",
    "#with open('obj.save', 'wb') as f:\n",
    "#    cPickle.dump(my_obj, f)"
   ]
  },
  {
   "cell_type": "markdown",
   "metadata": {},
   "source": [
    "### 2. pickle.load\n",
    "다시 **loading**하여 객체를 재구성하는 것을 **unpickling**(or de-serialization)으로 부름"
   ]
  },
  {
   "cell_type": "code",
   "execution_count": 16,
   "metadata": {
    "collapsed": false
   },
   "outputs": [
    {
     "name": "stdout",
     "output_type": "stream",
     "text": [
      "test\n"
     ]
    }
   ],
   "source": [
    "f = file('obj.save','rb')\n",
    "loaded_obj = cPickle.load(f)  # un-pickling\n",
    "f.close()\n",
    "\n",
    "#with open('obj.save', 'rb') as f:\n",
    "#    loaded_obj = cPickle.dump(f)\n",
    "\n",
    "print loaded_obj"
   ]
  },
  {
   "cell_type": "markdown",
   "metadata": {},
   "source": [
    "여러개 object들을 하나의 파일에 저장하고 loading할 수 있다."
   ]
  },
  {
   "cell_type": "code",
   "execution_count": 17,
   "metadata": {
    "collapsed": false
   },
   "outputs": [],
   "source": [
    "obj1=100                   # numeric\n",
    "obj2={\"test1\":1,\"test2\":2} # dictionary\n",
    "obj3=(\"test1\",\"test2\")     # tuple\n",
    "\n",
    "f = file('objects.save','wb')\n",
    "for obj in [obj1, obj2, obj3]:\n",
    "    cPickle.dump(obj, f, protocol=cPickle.HIGHEST_PROTOCOL) # pickling\n",
    "f.close()"
   ]
  },
  {
   "cell_type": "code",
   "execution_count": 18,
   "metadata": {
    "collapsed": false
   },
   "outputs": [
    {
     "name": "stdout",
     "output_type": "stream",
     "text": [
      "[100, {'test1': 1, 'test2': 2}, ('test1', 'test2')]\n"
     ]
    }
   ],
   "source": [
    "f = file('objects.save','rb')\n",
    "loaded_objects=[]\n",
    "for i in range(3):\n",
    "    loaded_objects.append(cPickle.load(f))  # un-pickling\n",
    "\n",
    "print loaded_objects\n",
    "f.close()"
   ]
  },
  {
   "cell_type": "markdown",
   "metadata": {},
   "source": [
    "-피클링(Pickling)할 수 있는 파이썬 객체들\n",
    "\n",
    "\t*None\n",
    "\t*integer, long integers, floating point numbers\n",
    "\t*normal and Unicode strings\n",
    "\t*tuples, lists and dictionaries containing only picklable object\n",
    "\t*Functions defined at the top level of a module (by name reference, not stoage of the implementation)\n",
    "\t*built-in fuctions\n",
    "\t*classes that are defined at the top level in a module\n",
    "\t*instances of such classes whose __dict__ or __setstate__() is picklable\n"
   ]
  },
  {
   "cell_type": "markdown",
   "metadata": {},
   "source": [
    "## Short-Term Serialization\n",
    "\n",
    "pickling은 그냥 단순 텍스트 파일을 사용하는 것보다 더 안전할 수 있지만, 파이썬 버전마다 호환이 되지 않을 때도있고, **임시 저장**을 위한 용도로 강력한 도구이다.\n",
    "\n",
    "(하나의 program을 실행하는 동안 saving & reloading하는 용도)\n",
    "\n",
    "아래와 같이 class를 pickling할 때에는 class object의 \\_\\_getstate\\_\\_ 와 \\_\\_setstate\\_\\_ method를 정의하여 유용하게 이용할 수 있다.\n",
    "\n",
    " - class object를 picking할 때 \\_\\_getstate\\_\\_(self) 함수가 호출\n",
    " - un-pickling할 때 \\_\\_setstate\\_\\_(self, state) 함수가 호출"
   ]
  },
  {
   "cell_type": "code",
   "execution_count": 129,
   "metadata": {
    "collapsed": false
   },
   "outputs": [
    {
     "name": "stdout",
     "output_type": "stream",
     "text": [
      "{'b': 2, 'w': 1}\n"
     ]
    }
   ],
   "source": [
    "import cPickle\n",
    "\n",
    "class Foo(object):\n",
    "    # class 생성시 호출되는 함수\n",
    "    def __init__(self, val1=1, val2=2):\n",
    "        self.w = val1\n",
    "        self.b = val2\n",
    "  # pickling 용도로 호출되는 함수\n",
    "    def __getstate__(self):\n",
    "        print \"getstate implemented..\"\n",
    "        self.old = (self.w , self.b)\n",
    "        return self.__dict__\n",
    "    def __setstate__(self, state):\n",
    "        print \"setstate implemented\"\n",
    "        print \"get state: \", state\n",
    "        self.__dict__ = state\n",
    "        self.b = 0\n",
    "        self.w = 0\n",
    "\n",
    "foo = Foo()\n",
    "print foo.__dict__"
   ]
  },
  {
   "cell_type": "code",
   "execution_count": 146,
   "metadata": {
    "collapsed": false
   },
   "outputs": [
    {
     "name": "stdout",
     "output_type": "stream",
     "text": [
      "getstate implemented..\n",
      "{'b': 2, 'old': (1, 2), 'w': 1}\n"
     ]
    }
   ],
   "source": [
    "with open('obj.save','wb') as f:\n",
    "    cPickle.dump(foo, f) # pickling\n",
    "\n",
    "print foo.__dict__"
   ]
  },
  {
   "cell_type": "markdown",
   "metadata": {},
   "source": [
    "* class를 pickling하게되면 ? ... \\_\\_getstate\\_\\_(self)로 정의된 내용이 수행되고 pickling될 때 특정 값(state)를 return함 \n",
    "\n",
    "* 그 class를 다시 un-pickling하게되면 ? ... \\_\\_setstate\\_\\_(self, state)로 정의된 내용이 수행되고, getstate가 return한 값을 받아서 처리한다."
   ]
  },
  {
   "cell_type": "code",
   "execution_count": 131,
   "metadata": {
    "collapsed": false
   },
   "outputs": [
    {
     "name": "stdout",
     "output_type": "stream",
     "text": [
      "setstate implemented\n",
      "get state:  {'b': 2, 'old': (1, 2), 'w': 1}\n",
      "{'b': 0, 'old': (1, 2), 'w': 0}\n"
     ]
    }
   ],
   "source": [
    "with open('obj.save','rb') as f:\n",
    "    loaded_foo = cPickle.load(f)  # un-pickling\n",
    "\n",
    "print loaded_foo.__dict__"
   ]
  },
  {
   "cell_type": "code",
   "execution_count": 143,
   "metadata": {
    "collapsed": false
   },
   "outputs": [
    {
     "name": "stdout",
     "output_type": "stream",
     "text": [
      "getstate implement..\n",
      "{'test_set': [4, 5, 6]}\n",
      "===\n",
      "setstate implemented..\n",
      "{'test_set': [4, 5, 6], 'training_set': [0, 0, 0]}\n"
     ]
    }
   ],
   "source": [
    "class myClass(object):\n",
    "    def __init__(self, val1=[1,2,3], val2=[4,5,6]):\n",
    "        self.training_set = val1\n",
    "        self.test_set = val2\n",
    "    def __getstate__(self):\n",
    "        print \"getstate implement..\"\n",
    "        state = self.__dict__\n",
    "        del state['training_set']\n",
    "        return state\n",
    "    def __setstate__(self, state):\n",
    "        print \"setstate implemented..\"\n",
    "        self.__dict__ = state\n",
    "        self.training_set = [0,0,0]\n",
    "\n",
    "bef = myClass(obj)\n",
    "with open('obj.save', 'wb') as f:\n",
    "    cPickle.dump(bef, f)\n",
    "print bef.__dict__\n",
    "print \"===\"\n",
    "with open('obj.save', 'rb') as f:\n",
    "    aft =cPickle.load(f)\n",
    "print aft.__dict__"
   ]
  },
  {
   "cell_type": "markdown",
   "metadata": {},
   "source": [
    "## Long-Term Serialization\n",
    "\n",
    "장기적으로 보면 class에 정의 된 member(변수)들이나 method(함수)들은 remove, rename, 등 변경될 가능성이 있으므로\n",
    "\n",
    "class 중에서도 변하지 않는 (immutable) 부분만 저장하는 경우가 많다.\n",
    "\n",
    "아래와 같이 메쏘드를 정의하면, W와 b만 save & reload 할 수 있다."
   ]
  },
  {
   "cell_type": "code",
   "execution_count": 170,
   "metadata": {
    "collapsed": false
   },
   "outputs": [
    {
     "name": "stdout",
     "output_type": "stream",
     "text": [
      "{'b': 0, 'w': 1}\n",
      "===\n",
      "{'b': 0, 'w': 1}\n"
     ]
    }
   ],
   "source": [
    "class myClass(object):\n",
    "    def __init__(self, w=1, b=0):\n",
    "        self.w = w\n",
    "        self.b = b\n",
    "    def __getstate__(self):\n",
    "        return (self.w, self.b)\n",
    "    def __setstate__(self, state):\n",
    "        w, b = state\n",
    "        self.w = w\n",
    "        self.b = b\n",
    "        \n",
    "bef = myClass()\n",
    "with open('obj1.save', 'wb') as f:\n",
    "    cPickle.dump(bef, f)             # pickling\n",
    "print bef.__dict__\n",
    "print \"===\"\n",
    "with open('obj1.save', 'rb') as f:\n",
    "    aft =cPickle.load(f)             # un-pickling\n",
    "print aft.__dict__"
   ]
  },
  {
   "cell_type": "markdown",
   "metadata": {},
   "source": [
    "예전에 저장해두었던 pickled class인 myClass()의 instance 에서 변수명을 w, b로 사용하였었는데,\n",
    "\n",
    "어느 순간 w-> weights, b-> bias로 rename해서 사용해야할 경우\n",
    "\n",
    "예전에 pickled 해 놓았던 file을 그대로 유효하게 읽어온 뒤에 아래와 같이 instance의 변수명을 바꿔서 읽어들일 수 있다."
   ]
  },
  {
   "cell_type": "code",
   "execution_count": 173,
   "metadata": {
    "collapsed": false
   },
   "outputs": [
    {
     "name": "stdout",
     "output_type": "stream",
     "text": [
      "{'bias': 0, 'weigthts': 1}\n"
     ]
    }
   ],
   "source": [
    "class myClass(object):\n",
    "    def __init__(self, w=1, b=0):\n",
    "        self.w = w\n",
    "        self.b = b\n",
    "    def __getstate__(self):\n",
    "        return (self.w, self.b)\n",
    "    def __setstate__(self, state):\n",
    "        w, b = state\n",
    "        self.weigthts = w\n",
    "        self.bias = b\n",
    "        \n",
    "with open('obj1.save', 'rb') as f:\n",
    "    updated =cPickle.load(f)             # un-pickling\n",
    "        \n",
    "print updated.__dict__"
   ]
  },
  {
   "cell_type": "markdown",
   "metadata": {
    "collapsed": true
   },
   "source": [
    "## Robust Serialization\n",
    "\n",
    "* theano.misc.pkl_utils.dump()\n",
    "* theano.misc.pkl_utils.load()\n",
    "\n",
    "위 함수들은 .npy file들(ndarray, CudaNdarray object)과 pickled file들을 하나의 **ZIP file**에 저장한다. \n",
    "\n",
    "이 방법의 주요 장점은, 다른 사람들과 **데이터를 공유**하기 유용하고 장기간 보관하기 유용하다는 것이다. 이 파일들의 내용(shared 변수 등)을 보기 위해서 Theano를 설치할 필요 없이 **numpy로 loading 가능**하기 때문."
   ]
  },
  {
   "cell_type": "code",
   "execution_count": 37,
   "metadata": {
    "collapsed": false
   },
   "outputs": [
    {
     "name": "stdout",
     "output_type": "stream",
     "text": [
      "type: <type 'numpy.ndarray'>\n",
      "input: 2\n",
      "output: 2\n"
     ]
    }
   ],
   "source": [
    "# [참고] .npy file\n",
    "import numpy as np\n",
    "arr = np.array(2)\n",
    "print \"type:\", type(arr)\n",
    "print \"input:\",arr\n",
    "np.save('array',arr)\n",
    "out =np.load('array.npy')\n",
    "print \"output:\",out"
   ]
  },
  {
   "cell_type": "code",
   "execution_count": 38,
   "metadata": {
    "collapsed": false
   },
   "outputs": [
    {
     "name": "stdout",
     "output_type": "stream",
     "text": [
      "1\n"
     ]
    }
   ],
   "source": [
    "import numpy\n",
    "import theano\n",
    "from pkl_utils_old import dump, load\n",
    "foo_1 = theano.shared(0, name='foo1')\n",
    "foo_2 = theano.shared(1, name='foo2')\n",
    "\n",
    "with open('model.zip', 'w') as f:\n",
    "    dump((foo_1, foo_2, numpy.array(3)), f)\n",
    "\n",
    "with open('model.zip') as f:\n",
    "    foo_11, foo_22, arr = load(f)\n",
    "print foo_22.get_value()"
   ]
  },
  {
   "cell_type": "code",
   "execution_count": 39,
   "metadata": {
    "collapsed": false
   },
   "outputs": [
    {
     "name": "stdout",
     "output_type": "stream",
     "text": [
      "['foo1', 'foo2', 'array_0', 'pkl']\n",
      "1\n"
     ]
    }
   ],
   "source": [
    "print numpy.load('model.zip').keys()\n",
    "print numpy.load('model.zip')['foo2']"
   ]
  }
 ],
 "metadata": {
  "kernelspec": {
   "display_name": "Python 2",
   "language": "python",
   "name": "python2"
  },
  "language_info": {
   "codemirror_mode": {
    "name": "ipython",
    "version": 2
   },
   "file_extension": ".py",
   "mimetype": "text/x-python",
   "name": "python",
   "nbconvert_exporter": "python",
   "pygments_lexer": "ipython2",
   "version": "2.7.10"
  }
 },
 "nbformat": 4,
 "nbformat_minor": 0
}
