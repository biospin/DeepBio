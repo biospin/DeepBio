{
 "cells": [
  {
   "cell_type": "markdown",
   "metadata": {},
   "source": [
    "In this chapter, we will cover the following recipes:\n",
    "- Installing the required software with Anaconda\n",
    "- Installing the required software with Docker\n",
    "- Interfacing with R via rpy2\n",
    "- Performing R magic with IPython"
   ]
  },
  {
   "cell_type": "markdown",
   "metadata": {},
   "source": [
    "## Installing the required software with Anaconda"
   ]
  },
  {
   "cell_type": "markdown",
   "metadata": {},
   "source": [
    "https://github.com/tiagoantao/bioinf-python/blob/master/notebooks/Welcome.ipynb"
   ]
  },
  {
   "cell_type": "markdown",
   "metadata": {},
   "source": [
    "### Getting ready"
   ]
  },
  {
   "cell_type": "markdown",
   "metadata": {
    "collapsed": true
   },
   "source": [
    "Python can be run on top of different environments.:\n",
    "   - JVM (via Jython)\n",
    "   - .NET (with IronPython).\n",
    "   - Standard (CPython) implementation - the JVM and .NET versions exist mostly to interact with the native libraries of these platforms."
   ]
  },
  {
   "cell_type": "markdown",
   "metadata": {},
   "source": [
    "##### Python 2 or 3?\n",
    "1. Phylogenetics: Python 2 => most existing Python libraries do not support version 3\n",
    "2. In the short term, Python 2, is generally better supported, but (save for the aforementioned Phylogenetics topic)\n",
    "3. Python 3 is well covered for computational biology. For the long run, Python 3 is the place to be.\n",
    "\n",
    "Both supported: use 2.7, 3.4."
   ]
  },
  {
   "cell_type": "markdown",
   "metadata": {},
   "source": [
    "##### Operating system\n",
    "- Most heavy-duty analysis will be done on Linux (probably on a Linux cluster): Next-generation sequencing data analysis, complex machine learning\n",
    "- Modern virtualization software (VirtualBox and Docker) for Windows or Mac OS X\n",
    "- Install the 32-bit version for Windows"
   ]
  },
  {
   "cell_type": "markdown",
   "metadata": {},
   "source": [
    "The software developed for this book is available at https://github.com/tiagoantao/bioinf-python."
   ]
  },
  {
   "cell_type": "markdown",
   "metadata": {},
   "source": [
    "Development compilers and libraries (all free).\n",
    "- On Ubuntu, build-essential (apt-get it) package\n",
    "- On Mac, Xcode (https://developer.apple.com/xcode/).\n",
    "\n",
    "List of the most important Python software\n",
    "\n",
    "Name | Usage | URL | Purpose\n",
    "---- | ----- | --- | ------\n",
    "IPython | General | http://ipython.org/ | General\n",
    "NumPy | General | http://www.numpy.org/ | Numerical Python\n",
    "SciPy | General | http://scipy.org/ | Scientific computing\n",
    "matplotlib | General | http://matplotlib.org/ | Visualization\n",
    "Biopython | General | http://biopython.org/wiki/Main_Page | Bioinformatics\n",
    "PyVCF | NGS | http://pyvcf.readthedocs.org/en/latest/ | VCF processing\n",
    "PySAM | NGS | http://pysam.readthedocs.org/en/latest/ | SAM/BAM processing\n",
    "simuPOP | Population Genetics | http://simupop.sourceforge.net/ | Genetics Simulation\n",
    "DendroPY | Phylogenetics | http://pythonhosted.org/DendroPy/ | Phylogenetics\n",
    "scikit-learn | General | http://scikit-learn.org/stable/ | Machine learning\n",
    "PyMOL | Proteomics | http://pymol.org/ | Molecular visualization\n",
    "rpy2 | R integration | http://rpy.sourceforge.net/ | R interface\n",
    "pygraphviz | General | http://pygraphviz.github.io/ | Graph library\n",
    "Reportlab | General | http://reportlab.com/ | Visualization\n",
    "seaborn | General | http://web.stanford.edu/~mwaskom/software/seaborn/ | Visualization/Stats\n",
    "Cython | Big Data | http://cython.org/ | High performance\n",
    "Numba | Big Data | http://numba.pydata.org/ | High performance\n",
    "\n",
    "etc: Blaze (data analysis), Bokeh (visualization)\n"
   ]
  },
  {
   "cell_type": "markdown",
   "metadata": {},
   "source": [
    "### How to install\n",
    "\n",
    "1.Downloading the Anaconda distribution from http://continuum.io/downloads.\n",
    "Choose the Python Version 2 or 3.\n",
    "\n",
    "Accept all the installation defaults, but make sure that conda binaries are in your PATH (open a new window so that the PATH is updated).\n",
    "\n",
    "Be careful with your PYTHONPATH and existing Python libraries.\n",
    "\n",
    "2.Let's go ahead with libraries.\n",
    "\n",
    "**conda create -n bioinformatics biopython biopython=1.65 python=2.7**\n",
    "\n",
    "**conda create -n bioinformatics biopython=1.65 python=3.4**\n",
    "\n",
    "3.Let's activate the environment\n",
    "\n",
    "** source activate bioinformatics **\n",
    "\n",
    "4.Install the core packages\n",
    "\n",
    "**conda install scipy matplotlib ipython-notebook binstar pip**\n",
    "\n",
    "**conda install pandas cython numba scikit-learn seaborn**\n",
    "\n",
    "5.Install pygraphivz using pip (not available on conda)\n",
    "\n",
    "** pip install pygraphviz **\n",
    "\n",
    "6.Install the Python bioinformatics packages, apart from Biopython\n",
    "\n",
    "** conda install -c https://conda.binstar.org/bcbio pysam **\n",
    "\n",
    "** conda install -c https://conda.binstar.org/simupop simuPOP **\n",
    "\n",
    "** pip install pyvcf **\n",
    "\n",
    "** pip install dendropy **\n",
    "\n",
    "7.Install R\n",
    "- Download from the R website at http://www.r-project.org/\n",
    "- On a recent Debian/Ubuntu Linux distribution:\n",
    "** apt-get r-bioc-biobase r-cran-ggplot2 **\n",
    "\n",
    "This will install Bioconductor: the main R suite for bioinformatics and ggplot2—a popular plotting library in R. Of course, this will indirectly take care of installing R.\n",
    "\n",
    "8.If you are not on Debian/Ubuntu Linux, do not have root, or prefer to install in your home directory, after downloading and installing R manually, run the following command in R:\n",
    "\n",
    "**source(\"http://bioconductor.org/biocLite.R\")**\n",
    "\n",
    "**biocLite()**\n",
    "\n",
    "**install.packages(\"ggplot2\")**\n",
    "\n",
    "**install.packages(\"gridExtra\")**\n",
    "\n",
    "9.Install rpy2, the R-to-Python bridge. Back at the command line, under the conda bioinformatics environment.\n",
    "\n",
    "** pip install rpy2 **\n",
    "\n",
    "10.Others\n",
    "\n",
    "Perform pip3 for python3\n",
    "\n",
    "Consider using virtualenv (http://docs.python-guide.org/en/latest/dev/virtualenvs/)."
   ]
  },
  {
   "cell_type": "markdown",
   "metadata": {},
   "source": [
    "**Ref) Ipython Notebook Usage: http://nbviewer.ipython.org/gist/irobii/014b8aa3574090a0d04a**"
   ]
  },
  {
   "cell_type": "markdown",
   "metadata": {},
   "source": [
    "## Installing the required software with Docker"
   ]
  },
  {
   "cell_type": "markdown",
   "metadata": {},
   "source": [
    "- Docker is the most widely used framework that implements operating system-level virtualization.\n",
    "- This technology allows you to have an independent container: lighter than a virtual machine, but still compartmentalize software.\n",
    "- This mostly isolates all processes, making it feel like each container is a virtual machine."
   ]
  },
  {
   "cell_type": "markdown",
   "metadata": {},
   "source": [
    "### How to install\n",
    "0.Install Docker\n",
    "1) Get the latest version from https://www.docker.com/.\n",
    "2) boot2docker (http://boot2docker.io/) on Windows or Mac\n",
    "\n",
    "1.Use the following command on the Linux shell or in boot2docker:\n",
    "\n",
    "**docker build -t bio https://raw.githubusercontent.com/tiagoantao/bioinfpython/master/docker/2/Dockerfile**\n",
    "\n",
    "or\n",
    "\n",
    "**docker build -t bio https://raw.githubusercontent.com/tiagoantao/bioinfpython/master/docker/3/Dockerfile**\n",
    "\n",
    "On Linux, you will either require to have root privileges or be added to the Docker Unix group.\n",
    "\n",
    "2.Ready to run the container:\n",
    "**docker run -ti -p 9875:9875 -v YOUR_DIRECTORY:/data bio**\n",
    "\n",
    "3.Replace YOUR_DIRECTORY with a directory on your operating system.\n",
    "YOUR_DIRECTORY will be seen in the container on /data and vice versa.\n",
    "\n",
    "**The -p 9875:9875 will expose the container TCP port 9875 on the host computer port 9875.**\n",
    "\n",
    "4.If you are using boot2docker, the final configuration step will be to run in the command line of your operating system:\n",
    "**VBoxManage controlvm boot2docker-vm natpf1\n",
    "\"name,tcp,127.0.0.1,9875,,9875\"**\n",
    "\n",
    "On Windows, this binary will probably be in C:\\Program Files\\Oracle\\VirtualBox.\n",
    "\n",
    "On a native Docker installation, you do not need to do anything.\n",
    "\n",
    "5.If you now start your browser pointing at http://localhost:9875, you should be\n",
    "able to get the IPython Notebook server running. Just choose the Welcome notebook\n",
    "to start!\n",
    "\n",
    "etc) You will find a paper on arXiv, which introduces Docker with a focus on reproducible research at http://arxiv.org/abs/1410.0846."
   ]
  },
  {
   "cell_type": "markdown",
   "metadata": {},
   "source": [
    "## Interfacing with R via rpy2"
   ]
  },
  {
   "cell_type": "markdown",
   "metadata": {},
   "source": [
    "#### Getting ready\n",
    "\n",
    "Metadata file from the 1000 genomes sequence index (https://github.com/tiagoantao/bioinf-python/blob/master/notebooks/Datasets.ipynb) and download the sequence.index file.\n",
    "\n",
    "If you are using notebooks, open the 00_Intro/Interfacing_R notebook.ipynb and just execute the wget command on top.\n",
    "This file has information about all FASTQ files in the project (we will use data from the Human 1000 genomes project in the chapters to come). This includes the FASTQ file, the sample ID, and the population of origin and important statistical information per lane, such as the number of reads and number of DNA bases read.\n",
    "\n",
    "#### How to do it...\n",
    "\n",
    "See Interfacing_R.ipynb"
   ]
  },
  {
   "cell_type": "markdown",
   "metadata": {
    "collapsed": true
   },
   "source": [
    "## Performing R magic with IPython"
   ]
  },
  {
   "cell_type": "markdown",
   "metadata": {},
   "source": [
    "#### Getting ready and How to do it...\n",
    "\n",
    "See R_magic.ipynb"
   ]
  }
 ],
 "metadata": {
  "kernelspec": {
   "display_name": "Python 2",
   "language": "python",
   "name": "python2"
  },
  "language_info": {
   "codemirror_mode": {
    "name": "ipython",
    "version": 2
   },
   "file_extension": ".py",
   "mimetype": "text/x-python",
   "name": "python",
   "nbconvert_exporter": "python",
   "pygments_lexer": "ipython2",
   "version": "2.7.10"
  }
 },
 "nbformat": 4,
 "nbformat_minor": 0
}
