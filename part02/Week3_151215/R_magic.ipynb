{
 "cells": [
  {
   "cell_type": "markdown",
   "metadata": {},
   "source": [
    "Modified from https://github.com/tiagoantao/bioinf-python/blob/master/notebooks/R_magic.ipynb"
   ]
  },
  {
   "cell_type": "markdown",
   "metadata": {},
   "source": [
    "## The cell below will get the data file, you only need to run it once "
   ]
  },
  {
   "cell_type": "markdown",
   "metadata": {},
   "source": [
    "(you do not need to do this if you have done it in the Interfacing_R notebook)"
   ]
  },
  {
   "cell_type": "markdown",
   "metadata": {
    "collapsed": false
   },
   "source": [
    "!rm sequence.index 2>/dev/null\n",
    "!wget ftp://ftp.1000genomes.ebi.ac.uk/vol1/ftp/sequence.index"
   ]
  },
  {
   "cell_type": "markdown",
   "metadata": {},
   "source": [
    "##### 1. The first thing you need to do is load R magics and ggplot2:"
   ]
  },
  {
   "cell_type": "code",
   "execution_count": 1,
   "metadata": {
    "collapsed": false
   },
   "outputs": [],
   "source": [
    "import rpy2.robjects as robjects\n",
    "import rpy2.robjects.lib.ggplot2 as ggplot2\n",
    "\n",
    "%load_ext rpy2.ipython"
   ]
  },
  {
   "cell_type": "markdown",
   "metadata": {},
   "source": [
    "##### 2. Let's read the sequence.index file that was downloaded in the previous recipe:\n",
    "%%: IPython cell interprets as R code"
   ]
  },
  {
   "cell_type": "code",
   "execution_count": 2,
   "metadata": {
    "collapsed": false
   },
   "outputs": [],
   "source": [
    "%%R\n",
    "seq.data <- read.delim('sequence.index', header=TRUE, stringsAsFactors=FALSE)\n",
    "seq.data$READ_COUNT <- as.integer(seq.data$READ_COUNT)\n",
    "seq.data$BASE_COUNT <- as.integer(seq.data$BASE_COUNT)"
   ]
  },
  {
   "cell_type": "markdown",
   "metadata": {},
   "source": [
    "##### 3. We can now transfer a variable to the Python namespace (where we could have done Python-based operations):"
   ]
  },
  {
   "cell_type": "code",
   "execution_count": 3,
   "metadata": {
    "collapsed": true
   },
   "outputs": [],
   "source": [
    "seq_data = %R seq.data"
   ]
  },
  {
   "cell_type": "markdown",
   "metadata": {
    "collapsed": false
   },
   "source": [
    "#seq_data = %R read.delim('sequence.index', header=TRUE, stringsAsFactors=FALSE)"
   ]
  },
  {
   "cell_type": "markdown",
   "metadata": {
    "collapsed": false
   },
   "source": [
    "as_integer = robjects.r('as.integer')\n",
    "\n",
    "match = robjects.r.match\n",
    "\n",
    "my_col = match('READ_COUNT', seq_data.colnames)[0] # Vector returned\n",
    "\n",
    "seq_data[my_col - 1] = as_integer(seq_data[my_col - 1])\n",
    "\n",
    "my_col = match('BASE_COUNT', seq_data.colnames)[0] # Vector returned\n",
    "\n",
    "seq_data[my_col - 1] = as_integer(seq_data[my_col - 1])"
   ]
  },
  {
   "cell_type": "markdown",
   "metadata": {},
   "source": [
    "##### 4. Let's put this data frame back in the R namespace, as follows:"
   ]
  },
  {
   "cell_type": "code",
   "execution_count": 4,
   "metadata": {
    "collapsed": false
   },
   "outputs": [
    {
     "data": {
      "text/plain": [
       " [1] \"FASTQ_FILE\"          \"MD5\"                 \"RUN_ID\"             \n",
       " [4] \"STUDY_ID\"            \"STUDY_NAME\"          \"CENTER_NAME\"        \n",
       " [7] \"SUBMISSION_ID\"       \"SUBMISSION_DATE\"     \"SAMPLE_ID\"          \n",
       "[10] \"SAMPLE_NAME\"         \"POPULATION\"          \"EXPERIMENT_ID\"      \n",
       "[13] \"INSTRUMENT_PLATFORM\" \"INSTRUMENT_MODEL\"    \"LIBRARY_NAME\"       \n",
       "[16] \"RUN_NAME\"            \"RUN_BLOCK_NAME\"      \"INSERT_SIZE\"        \n",
       "[19] \"LIBRARY_LAYOUT\"      \"PAIRED_FASTQ\"        \"WITHDRAWN\"          \n",
       "[22] \"WITHDRAWN_DATE\"      \"COMMENT\"             \"READ_COUNT\"         \n",
       "[25] \"BASE_COUNT\"          \"ANALYSIS_GROUP\"     \n"
      ]
     },
     "metadata": {},
     "output_type": "display_data"
    }
   ],
   "source": [
    "%R -i seq_data #-i : informs the magic system that the variable that follows on the Python space is to be copied in the R namespace.\n",
    "%R print(colnames(seq_data)) #The data frame is available in R => object back into R."
   ]
  },
  {
   "cell_type": "code",
   "execution_count": 5,
   "metadata": {
    "collapsed": false
   },
   "outputs": [
    {
     "data": {
      "text/plain": [
       "array(['BGI', 'BGI', 'BGI', ..., 'BI', 'BI', 'BI'], \n",
       "      dtype='|S8')"
      ]
     },
     "execution_count": 5,
     "metadata": {},
     "output_type": "execute_result"
    }
   ],
   "source": [
    "%R seq_data$CENTER_NAME <- toupper(seq_data$CENTER_NAME)"
   ]
  },
  {
   "cell_type": "code",
   "execution_count": 6,
   "metadata": {
    "collapsed": false
   },
   "outputs": [],
   "source": [
    "%%R\n",
    "seq_data <- seq_data[seq_data$WITHDRAWN==0, ]\n",
    "seq_data <- seq_data[, c('STUDY_ID', 'STUDY_NAME', 'CENTER_NAME', 'SAMPLE_ID', 'SAMPLE_NAME', 'POPULATION', 'INSTRUMENT_PLATFORM', 'LIBRARY_LAYOUT', 'PAIRED_FASTQ', 'READ_COUNT', 'BASE_COUNT', 'ANALYSIS_GROUP')]"
   ]
  },
  {
   "cell_type": "markdown",
   "metadata": {},
   "source": [
    "##### 5. The R magic system also allows you to reduce code as it changes the behavior of the interaction of R with IPython.\n",
    "\n",
    "No need to use the .png and dev.off R functions"
   ]
  },
  {
   "cell_type": "code",
   "execution_count": 7,
   "metadata": {
    "collapsed": false
   },
   "outputs": [
    {
     "data": {
      "image/png": "[encoded data removed]"
     },
     "metadata": {},
     "output_type": "display_data"
    }
   ],
   "source": [
    "%%R\n",
    "bar <- ggplot(seq_data) +  aes(factor(CENTER_NAME)) + geom_bar() + theme(axis.text.x = element_text(angle = 90, hjust = 1))\n",
    "print(bar)"
   ]
  },
  {
   "cell_type": "code",
   "execution_count": 8,
   "metadata": {
    "collapsed": false
   },
   "outputs": [],
   "source": [
    "%%R\n",
    "seq_data$POPULATION <- as.factor(seq_data$POPULATION)\n",
    "yri_ceu <- seq_data[seq_data$POPULATION %in% c(\"YRI\", \"CEU\") & seq_data$BASE_COUNT < 2E9 & seq_data$READ_COUNT < 3E7, ]"
   ]
  },
  {
   "cell_type": "code",
   "execution_count": 9,
   "metadata": {
    "collapsed": false
   },
   "outputs": [
    {
     "data": {
      "image/png": "[encoded data removed]"
     },
     "metadata": {},
     "output_type": "display_data"
    }
   ],
   "source": [
    "%%R\n",
    "scatter <- ggplot(yri_ceu, aes(x=BASE_COUNT, y=READ_COUNT, col=factor(ANALYSIS_GROUP), shape=POPULATION)) + geom_point()\n",
    "print(scatter)"
   ]
  },
  {
   "cell_type": "code",
   "execution_count": 10,
   "metadata": {
    "collapsed": false
   },
   "outputs": [
    {
     "name": "stderr",
     "output_type": "stream",
     "text": [
      "/home/deepbio/anaconda/envs/bioinformatics/lib/python2.7/site-packages/rpy2/robjects/functions.py:106: UserWarning: Saving 6.67 x 6.67 in image\n",
      "\n",
      "  res = super(Function, self).__call__(*new_args, **new_kwargs)\n"
     ]
    }
   ],
   "source": [
    "%R ggsave('scatterplot.png', scatter, dpi=600)"
   ]
  },
  {
   "cell_type": "code",
   "execution_count": 11,
   "metadata": {
    "collapsed": false
   },
   "outputs": [
    {
     "data": {
      "text/plain": [
       "TableGrob (2 x 1) \"arrange\": 2 grobs\n",
       "  z     cells    name           grob\n",
       "1 1 (1-1,1-1) arrange gtable[layout]\n",
       "2 2 (2-2,1-1) arrange gtable[layout]\n"
      ]
     },
     "metadata": {},
     "output_type": "display_data"
    }
   ],
   "source": [
    "%%R\n",
    "library(gridExtra)\n",
    "g <- arrangeGrob(bar, scatter, ncol=1)\n",
    "g"
   ]
  },
  {
   "cell_type": "code",
   "execution_count": 12,
   "metadata": {
    "collapsed": false
   },
   "outputs": [
    {
     "name": "stdout",
     "output_type": "stream",
     "text": [
      "\n",
      "Error in ggsave(\"fig.png\", g, dpi = 600) : plot should be a ggplot2 plot\n"
     ]
    },
    {
     "name": "stderr",
     "output_type": "stream",
     "text": [
      "/home/deepbio/anaconda/envs/bioinformatics/lib/python2.7/site-packages/rpy2/robjects/functions.py:106: UserWarning: Error in ggsave(\"fig.png\", g, dpi = 600) : plot should be a ggplot2 plot\n",
      "\n",
      "  res = super(Function, self).__call__(*new_args, **new_kwargs)\n",
      "/home/deepbio/anaconda/envs/bioinformatics/lib/python2.7/site-packages/rpy2/robjects/functions.py:106: UserWarning: 추가정보: \n",
      "  res = super(Function, self).__call__(*new_args, **new_kwargs)\n",
      "/home/deepbio/anaconda/envs/bioinformatics/lib/python2.7/site-packages/rpy2/robjects/functions.py:106: UserWarning: 경고메시지(들): \n",
      "\n",
      "  res = super(Function, self).__call__(*new_args, **new_kwargs)\n",
      "/home/deepbio/anaconda/envs/bioinformatics/lib/python2.7/site-packages/rpy2/robjects/functions.py:106: UserWarning: 1: \n",
      "  res = super(Function, self).__call__(*new_args, **new_kwargs)\n",
      "/home/deepbio/anaconda/envs/bioinformatics/lib/python2.7/site-packages/rpy2/robjects/functions.py:106: UserWarning: In withVisible({ :\n",
      "  res = super(Function, self).__call__(*new_args, **new_kwargs)\n",
      "/home/deepbio/anaconda/envs/bioinformatics/lib/python2.7/site-packages/rpy2/robjects/functions.py:106: UserWarning:  강제형변환에 의해 생성된 NA 입니다\n",
      "\n",
      "  res = super(Function, self).__call__(*new_args, **new_kwargs)\n",
      "/home/deepbio/anaconda/envs/bioinformatics/lib/python2.7/site-packages/rpy2/robjects/functions.py:106: UserWarning: 2: \n",
      "  res = super(Function, self).__call__(*new_args, **new_kwargs)\n",
      "/home/deepbio/anaconda/envs/bioinformatics/lib/python2.7/site-packages/rpy2/robjects/functions.py:106: UserWarning: 3: \n",
      "  res = super(Function, self).__call__(*new_args, **new_kwargs)\n",
      "/home/deepbio/anaconda/envs/bioinformatics/lib/python2.7/site-packages/rpy2/robjects/functions.py:106: UserWarning:  NAs introduced by coercion to integer range\n",
      "\n",
      "  res = super(Function, self).__call__(*new_args, **new_kwargs)\n",
      "/home/deepbio/anaconda/envs/bioinformatics/lib/python2.7/site-packages/rpy2/robjects/functions.py:106: UserWarning: 4: Removed 302 rows containing missing values (geom_point). \n",
      "\n",
      "  res = super(Function, self).__call__(*new_args, **new_kwargs)\n",
      "/home/deepbio/anaconda/envs/bioinformatics/lib/python2.7/site-packages/rpy2/robjects/functions.py:106: UserWarning: 5: Removed 302 rows containing missing values (geom_point). \n",
      "\n",
      "  res = super(Function, self).__call__(*new_args, **new_kwargs)\n",
      "/home/deepbio/anaconda/envs/bioinformatics/lib/python2.7/site-packages/rpy2/robjects/functions.py:106: UserWarning: 6: Removed 302 rows containing missing values (geom_point). \n",
      "\n",
      "  res = super(Function, self).__call__(*new_args, **new_kwargs)\n"
     ]
    }
   ],
   "source": [
    "%R ggsave('fig.png', g, dpi=600)"
   ]
  },
  {
   "cell_type": "markdown",
   "metadata": {
    "collapsed": false
   },
   "source": [
    "** See also **\n",
    "\n",
    "- Basic instructions on IPython magics at http://nbviewer.\n",
    "ipython.org/github/ipython/ipython/blob/1.x/examples/notebooks/Cell%20Magics.ipynb\n",
    "- Default extensions at http://ipython.org/ipython-doc/dev/config/extensions/\n",
    "- Third-party magic extensions at https://github.com/ipython/ipython/wiki/Extensions-Index"
   ]
  }
 ],
 "metadata": {
  "kernelspec": {
   "display_name": "Python 2",
   "language": "python",
   "name": "python2"
  },
  "language_info": {
   "codemirror_mode": {
    "name": "ipython",
    "version": 2
   },
   "file_extension": ".py",
   "mimetype": "text/x-python",
   "name": "python",
   "nbconvert_exporter": "python",
   "pygments_lexer": "ipython2",
   "version": "2.7.10"
  }
 },
 "nbformat": 4,
 "nbformat_minor": 0
}
