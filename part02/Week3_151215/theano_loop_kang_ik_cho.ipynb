{
 "cells": [
  {
   "cell_type": "markdown",
   "metadata": {},
   "source": [
    "# Conditions and loop"
   ]
  },
  {
   "cell_type": "markdown",
   "metadata": {},
   "source": [
    "2015_12_15\n",
    "\n",
    "조강익\n",
    "\n",
    "sky8671@gmail.com"
   ]
  },
  {
   "cell_type": "markdown",
   "metadata": {},
   "source": [
    "> Import libraries"
   ]
  },
  {
   "cell_type": "code",
   "execution_count": 4,
   "metadata": {
    "collapsed": true
   },
   "outputs": [],
   "source": [
    "from IPython.display import IFrame\n",
    "from theano import tensor as T\n",
    "from theano.ifelse import ifelse\n",
    "import theano, time, numpy"
   ]
  },
  {
   "cell_type": "markdown",
   "metadata": {},
   "source": [
    "> *내용은 전부 Theano site documentation에서 가지고 왔습니다.*"
   ]
  },
  {
   "cell_type": "markdown",
   "metadata": {},
   "source": [
    "# Conditions"
   ]
  },
  {
   "cell_type": "markdown",
   "metadata": {},
   "source": [
    "- 조건\n",
    "    - \"조건이 맞으면 주세요\"\n",
    "    - 프로그래밍 할 때 가장 원하는 것 중 top 순위"
   ]
  },
  {
   "cell_type": "markdown",
   "metadata": {},
   "source": [
    "<img src=\"http://www.functionx.com/flowcharts/if.gif\" width=400>"
   ]
  },
  {
   "cell_type": "markdown",
   "metadata": {},
   "source": [
    "<br><br><br><br><br><br><br><br><br><br><br><br>"
   ]
  },
  {
   "cell_type": "markdown",
   "metadata": {},
   "source": [
    "<img src=\"http://deeplearning.net/software/theano/_static/theano_logo_allblue_200x46.png\">"
   ]
  },
  {
   "cell_type": "code",
   "execution_count": 3,
   "metadata": {
    "collapsed": false
   },
   "outputs": [
    {
     "data": {
      "text/html": [
       "\n",
       "        <iframe\n",
       "            width=\"700\"\n",
       "            height=\"200\"\n",
       "            src=\"http://deeplearning.net/software/theano/tutorial/conditions.html\"\n",
       "            frameborder=\"0\"\n",
       "            allowfullscreen\n",
       "        ></iframe>\n",
       "        "
      ],
      "text/plain": [
       "<IPython.lib.display.IFrame at 0x10aad9ad0>"
      ]
     },
     "execution_count": 3,
     "metadata": {},
     "output_type": "execute_result"
    }
   ],
   "source": [
    "IFrame('http://deeplearning.net/software/theano/tutorial/conditions.html', width=700, height=200)"
   ]
  },
  {
   "cell_type": "markdown",
   "metadata": {},
   "source": [
    "1. IfElse\n",
    "    - 조건에 맞는 것만 실행\n",
    "2. Switch\n",
    "    - 모두 선택 후 조건에 맞는 것 고름"
   ]
  },
  {
   "cell_type": "markdown",
   "metadata": {},
   "source": [
    "# 예제"
   ]
  },
  {
   "cell_type": "code",
   "execution_count": 5,
   "metadata": {
    "collapsed": true
   },
   "outputs": [],
   "source": [
    "a,b = T.scalars('a', 'b')\n",
    "x,y = T.matrices('x', 'y')"
   ]
  },
  {
   "cell_type": "markdown",
   "metadata": {},
   "source": [
    "- a랑 b는 scalar\n",
    "- x랑 y는 matrix가 될 것 임"
   ]
  },
  {
   "cell_type": "markdown",
   "metadata": {},
   "source": [
    "#### 스위치는 아래와 같이 만든다"
   ]
  },
  {
   "cell_type": "code",
   "execution_count": 6,
   "metadata": {
    "collapsed": true
   },
   "outputs": [],
   "source": [
    "z_switch = T.switch(T.lt(a, b), T.mean(x), T.mean(y))"
   ]
  },
  {
   "cell_type": "markdown",
   "metadata": {},
   "source": [
    "- `T.lt` 는 a가 b보다 작으면 True"
   ]
  },
  {
   "cell_type": "markdown",
   "metadata": {},
   "source": [
    "#### ifelse는 아래와 같이 만든다"
   ]
  },
  {
   "cell_type": "code",
   "execution_count": 8,
   "metadata": {
    "collapsed": true
   },
   "outputs": [],
   "source": [
    "z_lazy = ifelse(T.lt(a, b), T.mean(x), T.mean(y))"
   ]
  },
  {
   "cell_type": "markdown",
   "metadata": {},
   "source": [
    "####  function 만들기"
   ]
  },
  {
   "cell_type": "code",
   "execution_count": 12,
   "metadata": {
    "collapsed": false
   },
   "outputs": [],
   "source": [
    "f_switch = theano.function([a, b, x, y], z_switch,\n",
    "                           mode=theano.Mode(linker='vm'))\n",
    "f_lazyifelse = theano.function([a, b, x, y], z_lazy,\n",
    "                               mode=theano.Mode(linker='vm'))"
   ]
  },
  {
   "cell_type": "markdown",
   "metadata": {},
   "source": [
    "- `a, b, x, y` 를 input으로 하고\n",
    "- `z_lazy` 의 결과를 받는다"
   ]
  },
  {
   "cell_type": "markdown",
   "metadata": {},
   "source": [
    "#### 실제로 돌려보기"
   ]
  },
  {
   "cell_type": "code",
   "execution_count": 13,
   "metadata": {
    "collapsed": false
   },
   "outputs": [
    {
     "name": "stdout",
     "output_type": "stream",
     "text": [
      "time spent evaluating both values 0.255915 sec\n",
      "time spent evaluating one value 0.151861 sec\n"
     ]
    }
   ],
   "source": [
    "val1 = 0.\n",
    "val2 = 1.\n",
    "big_mat1 = numpy.ones((10000, 1000))\n",
    "big_mat2 = numpy.ones((10000, 1000))\n",
    "\n",
    "n_times = 10\n",
    "\n",
    "tic = time.clock()\n",
    "for i in xrange(n_times):\n",
    "    f_switch(val1, val2, big_mat1, big_mat2)\n",
    "print 'time spent evaluating both values %f sec' % (time.clock() - tic)\n",
    "\n",
    "tic = time.clock()\n",
    "for i in xrange(n_times):\n",
    "    f_lazyifelse(val1, val2, big_mat1, big_mat2)\n",
    "print 'time spent evaluating one value %f sec' % (time.clock() - tic)\n"
   ]
  },
  {
   "cell_type": "markdown",
   "metadata": {},
   "source": [
    "- 걸리는 시간이 다름\n",
    "    - switch는 둘다 돌리기 때문에 더 오래 걸림"
   ]
  },
  {
   "cell_type": "markdown",
   "metadata": {},
   "source": [
    "<br><br><br><br><br><br><br><br><br><br><br><br><br>"
   ]
  },
  {
   "cell_type": "markdown",
   "metadata": {},
   "source": [
    " <img src=\"http://deeplearning.net/software/theano/_static/theano_logo_allblue_200x46.png\">\n",
    " #Loop"
   ]
  },
  {
   "cell_type": "markdown",
   "metadata": {},
   "source": [
    "<img src=\"http://cdn2.hubspot.net/hub/53/file-23117129-png/blog/images/closed-loop-marketing.png\">"
   ]
  },
  {
   "cell_type": "markdown",
   "metadata": {},
   "source": [
    "- Loop\n",
    "    - 반복해주세요\n",
    "    - 프로그래밍 할 때 가장 원하는 것 중 top 순위"
   ]
  },
  {
   "cell_type": "code",
   "execution_count": 18,
   "metadata": {
    "collapsed": false
   },
   "outputs": [
    {
     "data": {
      "text/html": [
       "\n",
       "        <iframe\n",
       "            width=\"700\"\n",
       "            height=\"200\"\n",
       "            src=\"http://deeplearning.net/software/theano/library/scan.html#lib-scan\"\n",
       "            frameborder=\"0\"\n",
       "            allowfullscreen\n",
       "        ></iframe>\n",
       "        "
      ],
      "text/plain": [
       "<IPython.lib.display.IFrame at 0x10ef5dfd0>"
      ]
     },
     "execution_count": 18,
     "metadata": {},
     "output_type": "execute_result"
    }
   ],
   "source": [
    "IFrame('http://deeplearning.net/software/theano/library/scan.html#lib-scan', width=700, height=200)"
   ]
  },
  {
   "cell_type": "markdown",
   "metadata": {},
   "source": [
    "- scan을 쓰는 것의 장점\n",
    "    - symbolic graph로 표현됨\n",
    "    - GPU 사용을 효율적으로 해줌\n",
    "    - 순차적으로 gradient 계산 가능??\n",
    "    - python loop보다 빠름\n",
    "    - 메모리 효율적 관리가능"
   ]
  },
  {
   "cell_type": "markdown",
   "metadata": {},
   "source": [
    "- 아래와 비슷한 component를 가지고 있다"
   ]
  },
  {
   "cell_type": "markdown",
   "metadata": {},
   "source": [
    "```\n",
    "result = 1\n",
    "for i in xrange(k):\n",
    "  result = result * A\n",
    "```"
   ]
  },
  {
   "cell_type": "markdown",
   "metadata": {},
   "source": [
    "- python loop\n",
    "    - initial value\n",
    "    - accumulation \n",
    "    - unchanging variable"
   ]
  },
  {
   "cell_type": "markdown",
   "metadata": {},
   "source": [
    "## ="
   ]
  },
  {
   "cell_type": "markdown",
   "metadata": {},
   "source": [
    "- Theano scan\n",
    "    - `outputs_info`\n",
    "    - automatic\n",
    "    - `non_sequences`"
   ]
  },
  {
   "cell_type": "markdown",
   "metadata": {},
   "source": [
    "## 예제1"
   ]
  },
  {
   "cell_type": "code",
   "execution_count": 19,
   "metadata": {
    "collapsed": false
   },
   "outputs": [
    {
     "name": "stdout",
     "output_type": "stream",
     "text": [
      "[  0.   1.   4.   9.  16.  25.  36.  49.  64.  81.]\n",
      "[  0.00000000e+00   1.00000000e+00   1.60000000e+01   8.10000000e+01\n",
      "   2.56000000e+02   6.25000000e+02   1.29600000e+03   2.40100000e+03\n",
      "   4.09600000e+03   6.56100000e+03]\n"
     ]
    },
    {
     "name": "stderr",
     "output_type": "stream",
     "text": [
      "/Users/kcho/Dropbox/Knowledges/python/virtualEnv/lib/python2.7/site-packages/theano/gof/cmodule.py:293: RuntimeWarning: numpy.ndarray size changed, may indicate binary incompatibility\n",
      "  rval = __import__(module_name, {}, {}, [module_name])\n"
     ]
    }
   ],
   "source": [
    "import theano\n",
    "import theano.tensor as T\n",
    "\n",
    "k = T.iscalar(\"k\")\n",
    "A = T.vector(\"A\")\n",
    "\n",
    "# Symbolic description of the result\n",
    "result, updates = theano.scan(fn=lambda prior_result, A: prior_result * A,\n",
    "                              outputs_info=T.ones_like(A),\n",
    "                              non_sequences=A,\n",
    "                              n_steps=k)\n",
    "\n",
    "# We only care about A**k, but scan has provided us with A**1 through A**k.\n",
    "# Discard the values that we don't care about. Scan is smart enough to\n",
    "# notice this and not waste memory saving them.\n",
    "final_result = result[-1]\n",
    "\n",
    "# compiled function that returns A**k\n",
    "power = theano.function(inputs=[A,k], outputs=final_result, updates=updates)\n",
    "\n",
    "print power(range(10),2)\n",
    "print power(range(10),4)"
   ]
  },
  {
   "cell_type": "markdown",
   "metadata": {},
   "source": [
    "```\n",
    "result, updates = theano.scan(\n",
    "    fn=lambda prior_result, A: prior_result * A,    # function\n",
    "    outputs_info=T.ones_like(A),                    # 처음 값\n",
    "    non_sequences=A,                                # 변화하지 않는 값\n",
    "    n_steps=k)                                      # number of loops\n",
    "```"
   ]
  },
  {
   "cell_type": "markdown",
   "metadata": {},
   "source": [
    "## 예제2"
   ]
  },
  {
   "cell_type": "code",
   "execution_count": 20,
   "metadata": {
    "collapsed": false
   },
   "outputs": [
    {
     "name": "stdout",
     "output_type": "stream",
     "text": [
      "19.0\n",
      "19.0\n"
     ]
    }
   ],
   "source": [
    "import numpy\n",
    "\n",
    "coefficients = theano.tensor.vector(\"coefficients\")\n",
    "x = T.scalar(\"x\")\n",
    "\n",
    "max_coefficients_supported = 10000\n",
    "\n",
    "# Generate the components of the polynomial\n",
    "components, updates = theano.scan(fn=lambda coefficient, power, free_variable: coefficient * (free_variable ** power),\n",
    "                                  outputs_info=None,\n",
    "                                  sequences=[coefficients, theano.tensor.arange(max_coefficients_supported)],\n",
    "                                  non_sequences=x)\n",
    "# Sum them up\n",
    "polynomial = components.sum()\n",
    "\n",
    "# Compile a function\n",
    "calculate_polynomial = theano.function(inputs=[coefficients, x], outputs=polynomial)\n",
    "\n",
    "# Test\n",
    "test_coefficients = numpy.asarray([1, 0, 2], dtype=numpy.float32)\n",
    "test_value = 3\n",
    "print calculate_polynomial(test_coefficients, test_value)\n",
    "print 1.0 * (3 ** 0) + 0.0 * (3 ** 1) + 2.0 * (3 ** 2)"
   ]
  },
  {
   "cell_type": "markdown",
   "metadata": {},
   "source": [
    "```\n",
    "components, updates = theano.scan(\n",
    "    fn=lambda coefficient, power, free_variable: coefficient * (free_variable ** power),  \n",
    "        # x가 파워로 들어감\n",
    "        \n",
    "    outputs_info=None,                                                                    \n",
    "        # 초기값이 없고, 매번 업데이트 되지 않음\n",
    "        \n",
    "    sequences=[coefficients, theano.tensor.arange(max_coefficients_supported)],                                 \n",
    "    non_sequences=x) \n",
    "    \n",
    "    \n",
    "# Sum them up\n",
    "polynomial = components.sum()    # 위에서 나온 값을 더한다\n",
    "```"
   ]
  },
  {
   "cell_type": "markdown",
   "metadata": {},
   "source": [
    "## 예제3"
   ]
  },
  {
   "cell_type": "code",
   "execution_count": 21,
   "metadata": {
    "collapsed": false
   },
   "outputs": [
    {
     "name": "stdout",
     "output_type": "stream",
     "text": [
      "[  0   1   3   6  10  15  21  28  36  45  55  66  78  91 105]\n",
      "[0, 1, 3, 6, 10, 15, 21, 28, 36, 45, 55, 66, 78, 91, 105]\n"
     ]
    }
   ],
   "source": [
    "import numpy as np\n",
    "import theano\n",
    "import theano.tensor as T\n",
    "\n",
    "up_to = T.iscalar(\"up_to\")\n",
    "\n",
    "# define a named function, rather than using lambda\n",
    "def accumulate_by_adding(arange_val, sum_to_date):\n",
    "    return sum_to_date + arange_val\n",
    "seq = T.arange(up_to)\n",
    "\n",
    "# An unauthorized implicit downcast from the dtype of 'seq', to that of\n",
    "# 'T.as_tensor_variable(0)' which is of dtype 'int8' by default would occur\n",
    "# if this instruction were to be used instead of the next one:\n",
    "# outputs_info = T.as_tensor_variable(0)\n",
    "\n",
    "outputs_info = T.as_tensor_variable(np.asarray(0, seq.dtype))\n",
    "scan_result, scan_updates = theano.scan(fn=accumulate_by_adding,\n",
    "                                        outputs_info=outputs_info,\n",
    "                                        sequences=seq)\n",
    "triangular_sequence = theano.function(inputs=[up_to], outputs=scan_result)\n",
    "\n",
    "# test\n",
    "some_num = 15\n",
    "print(triangular_sequence(some_num))\n",
    "print([n * (n + 1) // 2 for n in xrange(some_num)])"
   ]
  },
  {
   "cell_type": "markdown",
   "metadata": {},
   "source": [
    "## 예제4"
   ]
  },
  {
   "cell_type": "code",
   "execution_count": 22,
   "metadata": {
    "collapsed": false
   },
   "outputs": [
    {
     "name": "stdout",
     "output_type": "stream",
     "text": [
      "[[[  0.   0.   0.   0.   0.]\n",
      "  [  0.  42.   0.   0.   0.]\n",
      "  [  0.   0.   0.   0.   0.]\n",
      "  [  0.   0.   0.   0.   0.]\n",
      "  [  0.   0.   0.   0.   0.]]\n",
      "\n",
      " [[  0.   0.   0.   0.   0.]\n",
      "  [  0.   0.   0.   0.   0.]\n",
      "  [  0.   0.   0.  50.   0.]\n",
      "  [  0.   0.   0.   0.   0.]\n",
      "  [  0.   0.   0.   0.   0.]]]\n"
     ]
    }
   ],
   "source": [
    "location = T.imatrix(\"location\")\n",
    "values = T.vector(\"values\")\n",
    "output_model = T.matrix(\"output_model\")\n",
    "\n",
    "def set_value_at_position(a_location, a_value, output_model):\n",
    "    zeros = T.zeros_like(output_model)\n",
    "    zeros_subtensor = zeros[a_location[0], a_location[1]]\n",
    "    return T.set_subtensor(zeros_subtensor, a_value)\n",
    "\n",
    "result, updates = theano.scan(fn=set_value_at_position,\n",
    "                              outputs_info=None,\n",
    "                              sequences=[location, values],\n",
    "                              non_sequences=output_model)\n",
    "\n",
    "assign_values_at_positions = theano.function(inputs=[location, values, output_model], outputs=result)\n",
    "\n",
    "# test\n",
    "test_locations = numpy.asarray([[1, 1], [2, 3]], dtype=numpy.int32)\n",
    "test_values = numpy.asarray([42, 50], dtype=numpy.float32)\n",
    "test_output_model = numpy.zeros((5, 5), dtype=numpy.float32)\n",
    "print(assign_values_at_positions(test_locations, test_values, test_output_model))"
   ]
  },
  {
   "cell_type": "markdown",
   "metadata": {},
   "source": [
    "## 예제5"
   ]
  },
  {
   "cell_type": "code",
   "execution_count": 34,
   "metadata": {
    "collapsed": false
   },
   "outputs": [
    {
     "ename": "TypeError",
     "evalue": "unsupported operand type(s) for +: 'TensorVariable' and 'SharedVariable'",
     "output_type": "error",
     "traceback": [
      "\u001b[0;31m---------------------------------------------------------------------------\u001b[0m",
      "\u001b[0;31mTypeError\u001b[0m                                 Traceback (most recent call last)",
      "\u001b[0;32m<ipython-input-34-dc2f461d82e1>\u001b[0m in \u001b[0;36m<module>\u001b[0;34m()\u001b[0m\n\u001b[1;32m     19\u001b[0m \u001b[0msample\u001b[0m \u001b[0;34m=\u001b[0m \u001b[0mtheano\u001b[0m\u001b[0;34m.\u001b[0m\u001b[0mtensor\u001b[0m\u001b[0;34m.\u001b[0m\u001b[0mvector\u001b[0m\u001b[0;34m(\u001b[0m\u001b[0;34m)\u001b[0m\u001b[0;34m\u001b[0m\u001b[0m\n\u001b[1;32m     20\u001b[0m \u001b[0;34m\u001b[0m\u001b[0m\n\u001b[0;32m---> 21\u001b[0;31m \u001b[0mvalues\u001b[0m\u001b[0;34m,\u001b[0m \u001b[0mupdates\u001b[0m \u001b[0;34m=\u001b[0m \u001b[0mtheano\u001b[0m\u001b[0;34m.\u001b[0m\u001b[0mscan\u001b[0m\u001b[0;34m(\u001b[0m\u001b[0mOneStep\u001b[0m\u001b[0;34m,\u001b[0m \u001b[0moutputs_info\u001b[0m\u001b[0;34m=\u001b[0m\u001b[0msample\u001b[0m\u001b[0;34m,\u001b[0m \u001b[0mn_steps\u001b[0m\u001b[0;34m=\u001b[0m\u001b[0;36m10\u001b[0m\u001b[0;34m)\u001b[0m\u001b[0;34m\u001b[0m\u001b[0m\n\u001b[0m\u001b[1;32m     22\u001b[0m \u001b[0;34m\u001b[0m\u001b[0m\n\u001b[1;32m     23\u001b[0m \u001b[0mgibbs10\u001b[0m \u001b[0;34m=\u001b[0m \u001b[0mtheano\u001b[0m\u001b[0;34m.\u001b[0m\u001b[0mfunction\u001b[0m\u001b[0;34m(\u001b[0m\u001b[0;34m[\u001b[0m\u001b[0msample\u001b[0m\u001b[0;34m]\u001b[0m\u001b[0;34m,\u001b[0m \u001b[0mvalues\u001b[0m\u001b[0;34m[\u001b[0m\u001b[0;34m-\u001b[0m\u001b[0;36m1\u001b[0m\u001b[0;34m]\u001b[0m\u001b[0;34m,\u001b[0m \u001b[0mupdates\u001b[0m\u001b[0;34m=\u001b[0m\u001b[0mupdates\u001b[0m\u001b[0;34m)\u001b[0m\u001b[0;34m\u001b[0m\u001b[0m\n",
      "\u001b[0;32m/Users/kcho/Dropbox/Knowledges/python/virtualEnv/lib/python2.7/site-packages/theano/scan_module/scan.pyc\u001b[0m in \u001b[0;36mscan\u001b[0;34m(fn, sequences, outputs_info, non_sequences, n_steps, truncate_gradient, go_backwards, mode, name, profile, allow_gc, strict)\u001b[0m\n\u001b[1;32m    743\u001b[0m     \u001b[0;31m# and outputs that needs to be separated\u001b[0m\u001b[0;34m\u001b[0m\u001b[0;34m\u001b[0m\u001b[0m\n\u001b[1;32m    744\u001b[0m \u001b[0;34m\u001b[0m\u001b[0m\n\u001b[0;32m--> 745\u001b[0;31m     \u001b[0mcondition\u001b[0m\u001b[0;34m,\u001b[0m \u001b[0moutputs\u001b[0m\u001b[0;34m,\u001b[0m \u001b[0mupdates\u001b[0m \u001b[0;34m=\u001b[0m \u001b[0mscan_utils\u001b[0m\u001b[0;34m.\u001b[0m\u001b[0mget_updates_and_outputs\u001b[0m\u001b[0;34m(\u001b[0m\u001b[0mfn\u001b[0m\u001b[0;34m(\u001b[0m\u001b[0;34m*\u001b[0m\u001b[0margs\u001b[0m\u001b[0;34m)\u001b[0m\u001b[0;34m)\u001b[0m\u001b[0;34m\u001b[0m\u001b[0m\n\u001b[0m\u001b[1;32m    746\u001b[0m     \u001b[0;32mif\u001b[0m \u001b[0mcondition\u001b[0m \u001b[0;32mis\u001b[0m \u001b[0;32mnot\u001b[0m \u001b[0mNone\u001b[0m\u001b[0;34m:\u001b[0m\u001b[0;34m\u001b[0m\u001b[0m\n\u001b[1;32m    747\u001b[0m         \u001b[0mas_while\u001b[0m \u001b[0;34m=\u001b[0m \u001b[0mTrue\u001b[0m\u001b[0;34m\u001b[0m\u001b[0m\n",
      "\u001b[0;32m<ipython-input-34-dc2f461d82e1>\u001b[0m in \u001b[0;36mOneStep\u001b[0;34m(vsample)\u001b[0m\n\u001b[1;32m     11\u001b[0m \u001b[0;34m\u001b[0m\u001b[0m\n\u001b[1;32m     12\u001b[0m \u001b[0;32mdef\u001b[0m \u001b[0mOneStep\u001b[0m\u001b[0;34m(\u001b[0m\u001b[0mvsample\u001b[0m\u001b[0;34m)\u001b[0m \u001b[0;34m:\u001b[0m\u001b[0;34m\u001b[0m\u001b[0m\n\u001b[0;32m---> 13\u001b[0;31m     \u001b[0mhmean\u001b[0m \u001b[0;34m=\u001b[0m \u001b[0mT\u001b[0m\u001b[0;34m.\u001b[0m\u001b[0mnnet\u001b[0m\u001b[0;34m.\u001b[0m\u001b[0msigmoid\u001b[0m\u001b[0;34m(\u001b[0m\u001b[0mtheano\u001b[0m\u001b[0;34m.\u001b[0m\u001b[0mdot\u001b[0m\u001b[0;34m(\u001b[0m\u001b[0mvsample\u001b[0m\u001b[0;34m,\u001b[0m \u001b[0mW\u001b[0m\u001b[0;34m)\u001b[0m \u001b[0;34m+\u001b[0m \u001b[0mbhid\u001b[0m\u001b[0;34m)\u001b[0m\u001b[0;34m\u001b[0m\u001b[0m\n\u001b[0m\u001b[1;32m     14\u001b[0m     \u001b[0mhsample\u001b[0m \u001b[0;34m=\u001b[0m \u001b[0mtrng\u001b[0m\u001b[0;34m.\u001b[0m\u001b[0mbinomial\u001b[0m\u001b[0;34m(\u001b[0m\u001b[0msize\u001b[0m\u001b[0;34m=\u001b[0m\u001b[0mhmean\u001b[0m\u001b[0;34m.\u001b[0m\u001b[0mshape\u001b[0m\u001b[0;34m,\u001b[0m \u001b[0mn\u001b[0m\u001b[0;34m=\u001b[0m\u001b[0;36m1\u001b[0m\u001b[0;34m,\u001b[0m \u001b[0mp\u001b[0m\u001b[0;34m=\u001b[0m\u001b[0mhmean\u001b[0m\u001b[0;34m)\u001b[0m\u001b[0;34m\u001b[0m\u001b[0m\n\u001b[1;32m     15\u001b[0m     \u001b[0mvmean\u001b[0m \u001b[0;34m=\u001b[0m \u001b[0mT\u001b[0m\u001b[0;34m.\u001b[0m\u001b[0mnnet\u001b[0m\u001b[0;34m.\u001b[0m\u001b[0msigmoid\u001b[0m\u001b[0;34m(\u001b[0m\u001b[0mtheano\u001b[0m\u001b[0;34m.\u001b[0m\u001b[0mdot\u001b[0m\u001b[0;34m(\u001b[0m\u001b[0mhsample\u001b[0m\u001b[0;34m,\u001b[0m \u001b[0mW\u001b[0m\u001b[0;34m.\u001b[0m\u001b[0mT\u001b[0m\u001b[0;34m)\u001b[0m \u001b[0;34m+\u001b[0m \u001b[0mbvis\u001b[0m\u001b[0;34m)\u001b[0m\u001b[0;34m\u001b[0m\u001b[0m\n",
      "\u001b[0;31mTypeError\u001b[0m: unsupported operand type(s) for +: 'TensorVariable' and 'SharedVariable'"
     ]
    }
   ],
   "source": [
    "import theano\n",
    "from theano import tensor as T\n",
    "\n",
    "W = theano.shared('W_values') # we assume that ``W_values`` contains the\n",
    "                            # initial values of your weight matrix\n",
    "\n",
    "bvis = theano.shared('bvis_values')\n",
    "bhid = theano.shared('bhid_values')\n",
    "\n",
    "trng = T.shared_randomstreams.RandomStreams(1234)\n",
    "\n",
    "def OneStep(vsample) :\n",
    "    hmean = T.nnet.sigmoid(theano.dot(vsample, W) + bhid)\n",
    "    hsample = trng.binomial(size=hmean.shape, n=1, p=hmean)\n",
    "    vmean = T.nnet.sigmoid(theano.dot(hsample, W.T) + bvis)\n",
    "    return trng.binomial(size=vsample.shape, n=1, p=vmean,\n",
    "                         dtype=theano.config.floatX)\n",
    "\n",
    "sample = theano.tensor.vector()\n",
    "\n",
    "values, updates = theano.scan(OneStep, outputs_info=sample, n_steps=10)\n",
    "\n",
    "gibbs10 = theano.function([sample], values[-1], updates=updates)"
   ]
  },
  {
   "cell_type": "code",
   "execution_count": 24,
   "metadata": {
    "collapsed": true
   },
   "outputs": [],
   "source": [
    "a = theano.shared(1)\n",
    "values, updates = theano.scan(lambda: {a: a+1}, n_steps=10)"
   ]
  },
  {
   "cell_type": "code",
   "execution_count": 25,
   "metadata": {
    "collapsed": false
   },
   "outputs": [
    {
     "name": "stdout",
     "output_type": "stream",
     "text": [
      "Elemwise{add,no_inplace}.0\n",
      "Elemwise{add,no_inplace}.0\n",
      "1\n"
     ]
    }
   ],
   "source": [
    "b = a + 1\n",
    "c = updates[a] + 1\n",
    "f = theano.function([], [b, c], updates=updates)\n",
    "\n",
    "print(b)\n",
    "print(c)\n",
    "print(a.get_value())"
   ]
  },
  {
   "cell_type": "code",
   "execution_count": 26,
   "metadata": {
    "collapsed": false
   },
   "outputs": [
    {
     "ename": "NameError",
     "evalue": "name 'W_values' is not defined",
     "output_type": "error",
     "traceback": [
      "\u001b[0;31m---------------------------------------------------------------------------\u001b[0m",
      "\u001b[0;31mNameError\u001b[0m                                 Traceback (most recent call last)",
      "\u001b[0;32m<ipython-input-26-7b646fe8b0d7>\u001b[0m in \u001b[0;36m<module>\u001b[0;34m()\u001b[0m\n\u001b[0;32m----> 1\u001b[0;31m \u001b[0mW\u001b[0m \u001b[0;34m=\u001b[0m \u001b[0mtheano\u001b[0m\u001b[0;34m.\u001b[0m\u001b[0mshared\u001b[0m\u001b[0;34m(\u001b[0m\u001b[0mW_values\u001b[0m\u001b[0;34m)\u001b[0m \u001b[0;31m# we assume that ``W_values`` contains the\u001b[0m\u001b[0;34m\u001b[0m\u001b[0m\n\u001b[0m\u001b[1;32m      2\u001b[0m                             \u001b[0;31m# initial values of your weight matrix\u001b[0m\u001b[0;34m\u001b[0m\u001b[0;34m\u001b[0m\u001b[0m\n\u001b[1;32m      3\u001b[0m \u001b[0;34m\u001b[0m\u001b[0m\n\u001b[1;32m      4\u001b[0m \u001b[0mbvis\u001b[0m \u001b[0;34m=\u001b[0m \u001b[0mtheano\u001b[0m\u001b[0;34m.\u001b[0m\u001b[0mshared\u001b[0m\u001b[0;34m(\u001b[0m\u001b[0mbvis_values\u001b[0m\u001b[0;34m)\u001b[0m\u001b[0;34m\u001b[0m\u001b[0m\n\u001b[1;32m      5\u001b[0m \u001b[0mbhid\u001b[0m \u001b[0;34m=\u001b[0m \u001b[0mtheano\u001b[0m\u001b[0;34m.\u001b[0m\u001b[0mshared\u001b[0m\u001b[0;34m(\u001b[0m\u001b[0mbhid_values\u001b[0m\u001b[0;34m)\u001b[0m\u001b[0;34m\u001b[0m\u001b[0m\n",
      "\u001b[0;31mNameError\u001b[0m: name 'W_values' is not defined"
     ]
    }
   ],
   "source": [
    "W = theano.shared(W_values) # we assume that ``W_values`` contains the\n",
    "                            # initial values of your weight matrix\n",
    "\n",
    "bvis = theano.shared(bvis_values)\n",
    "bhid = theano.shared(bhid_values)\n",
    "\n",
    "trng = T.shared_randomstreams.RandomStreams(1234)\n",
    "\n",
    "# OneStep, with explicit use of the shared variables (W, bvis, bhid)\n",
    "def OneStep(vsample, W, bvis, bhid):\n",
    "    hmean = T.nnet.sigmoid(theano.dot(vsample, W) + bhid)\n",
    "    hsample = trng.binomial(size=hmean.shape, n=1, p=hmean)\n",
    "    vmean = T.nnet.sigmoid(theano.dot(hsample, W.T) + bvis)\n",
    "    return trng.binomial(size=vsample.shape, n=1, p=vmean,\n",
    "                     dtype=theano.config.floatX)\n",
    "\n",
    "sample = theano.tensor.vector()\n",
    "\n",
    "# The new scan, with the shared variables passed as non_sequences\n",
    "values, updates = theano.scan(fn=OneStep,\n",
    "                              outputs_info=sample,\n",
    "                              non_sequences=[W, bvis, bhid],\n",
    "                              n_steps=10)\n",
    "\n",
    "gibbs10 = theano.function([sample], values[-1], updates=updates)"
   ]
  },
  {
   "cell_type": "code",
   "execution_count": null,
   "metadata": {
    "collapsed": true
   },
   "outputs": [],
   "source": [
    "# The new scan, using strict=True\n",
    "values, updates = theano.scan(fn=OneStep,\n",
    "                              outputs_info=sample,\n",
    "                              non_sequences=[W, bvis, bhid],\n",
    "                              n_steps=10,\n",
    "                              strict=True)"
   ]
  },
  {
   "cell_type": "code",
   "execution_count": 27,
   "metadata": {
    "collapsed": true
   },
   "outputs": [],
   "source": [
    "def oneStep(u_tm4, u_t, x_tm3, x_tm1, y_tm1, W, W_in_1, W_in_2,  W_feedback, W_out):\n",
    "\n",
    "  x_t = T.tanh(theano.dot(x_tm1, W) + \\\n",
    "               theano.dot(u_t,   W_in_1) + \\\n",
    "               theano.dot(u_tm4, W_in_2) + \\\n",
    "               theano.dot(y_tm1, W_feedback))\n",
    "  y_t = theano.dot(x_tm3, W_out)\n",
    "\n",
    "  return [x_t, y_t]"
   ]
  },
  {
   "cell_type": "code",
   "execution_count": 28,
   "metadata": {
    "collapsed": false
   },
   "outputs": [
    {
     "name": "stderr",
     "output_type": "stream",
     "text": [
      "/Users/kcho/Dropbox/Knowledges/python/virtualEnv/lib/python2.7/site-packages/theano/scan_module/scan.py:1017: Warning: In the strict mode, all neccessary shared variables must be passed as a part of non_sequences\n",
      "  'must be passed as a part of non_sequences', Warning)\n"
     ]
    }
   ],
   "source": [
    "W = T.matrix()\n",
    "W_in_1 = T.matrix()\n",
    "W_in_2 = T.matrix()\n",
    "W_feedback = T.matrix()\n",
    "W_out = T.matrix()\n",
    "\n",
    "u = T.matrix() # it is a sequence of vectors\n",
    "x0 = T.matrix() # initial state of x has to be a matrix, since\n",
    "                # it has to cover x[-3]\n",
    "y0 = T.vector() # y0 is just a vector since scan has only to provide\n",
    "                # y[-1]\n",
    "\n",
    "\n",
    "([x_vals, y_vals], updates) = theano.scan(fn=oneStep,\n",
    "                                          sequences=dict(input=u, taps=[-4,-0]),\n",
    "                                          outputs_info=[dict(initial=x0, taps=[-3,-1]), y0],\n",
    "                                          non_sequences=[W, W_in_1, W_in_2, W_feedback, W_out],\n",
    "                                          strict=True)\n",
    "     # for second input y, scan adds -1 in output_taps by default"
   ]
  },
  {
   "cell_type": "markdown",
   "metadata": {},
   "source": [
    "## 예제6"
   ]
  },
  {
   "cell_type": "code",
   "execution_count": 29,
   "metadata": {
    "collapsed": false
   },
   "outputs": [
    {
     "name": "stdout",
     "output_type": "stream",
     "text": [
      "[  2.   4.   8.  16.  32.  64.]\n"
     ]
    }
   ],
   "source": [
    "def power_of_2(previous_power, max_value):\n",
    "    return previous_power*2, theano.scan_module.until(previous_power*2 > max_value)\n",
    "\n",
    "max_value = T.scalar()\n",
    "values, _ = theano.scan(power_of_2,\n",
    "                        outputs_info = T.constant(1.),\n",
    "                        non_sequences = max_value,\n",
    "                        n_steps = 1024)\n",
    "\n",
    "f = theano.function([max_value], values)\n",
    "\n",
    "print f(45)"
   ]
  },
  {
   "cell_type": "code",
   "execution_count": null,
   "metadata": {
    "collapsed": true
   },
   "outputs": [],
   "source": []
  }
 ],
 "metadata": {
  "kernelspec": {
   "display_name": "Python 2",
   "language": "python",
   "name": "python2"
  },
  "language_info": {
   "codemirror_mode": {
    "name": "ipython",
    "version": 2
   },
   "file_extension": ".py",
   "mimetype": "text/x-python",
   "name": "python",
   "nbconvert_exporter": "python",
   "pygments_lexer": "ipython2",
   "version": "2.7.10"
  }
 },
 "nbformat": 4,
 "nbformat_minor": 0
}
