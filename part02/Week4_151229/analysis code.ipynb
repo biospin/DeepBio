{
 "cells": [
  {
   "cell_type": "markdown",
   "metadata": {},
   "source": [
    "로그인"
   ]
  },
  {
   "cell_type": "code",
   "execution_count": 1,
   "metadata": {
    "collapsed": false
   },
   "outputs": [
    {
     "name": "stdout",
     "output_type": "stream",
     "text": [
      "Welcome, sungmk86!\n"
     ]
    }
   ],
   "source": [
    "#pip install synapseclient\n",
    "import synapseclient\n",
    "import os\n",
    "import numpy as np\n",
    "syn = synapseclient.Synapse()\n",
    "syn.login('sungmk86', 'deepbio')"
   ]
  },
  {
   "cell_type": "markdown",
   "metadata": {},
   "source": [
    "data set 선택\n",
    "* GBM의 training set과 test set의 sample list를 선택. miRNA data 와 Survival data 선택"
   ]
  },
  {
   "cell_type": "code",
   "execution_count": 2,
   "metadata": {
    "collapsed": true
   },
   "outputs": [],
   "source": [
    "ACRONYM = 'KIRC'\n",
    "trainLabelsId = \"syn1714093\"   # Training bootstraps for KIRC\n",
    "testLabelsId = \"syn1714090\"    # Testing boostraps for KIRC\n",
    "dataId = \"syn1710291\"          # for miRNA KIRC data\n",
    "survivalDataId = 'syn1710303'\n",
    "\n",
    "\n",
    "def readFile(entity, strip=None):\n",
    "    with open(os.path.join(entity['cacheDir'], entity['files'][0])) as f:\n",
    "        data = np.asarray([l.strip(strip).split('\\t') for l in f])\n",
    "    return data\n",
    "\n",
    "def match(seq1, seq2):\n",
    "    \"\"\"Finds the index locations of seq1 in seq2\"\"\"\n",
    "    return [ np.nonzero(seq2==x)[0][0] for x in seq1  if x in seq2 ]"
   ]
  },
  {
   "cell_type": "markdown",
   "metadata": {},
   "source": [
    "### synapse로부터 data download\n",
    "위에서 정의한 readFile 함수를 이용하여 data download\n",
    "\n",
    " 1 sample list\n",
    " \n",
    " 아래와 같은 list가 (samples x 100) matrix 형태로 들어있음. 100개의 각각의 column은 중복허용하여 뽑은 subsampling set에 해당한다.\n",
    " \n",
    "> TCGA-41-2571\tTCGA-32-4719\tTCGA-27-2519\tTCGA-06-1084\tTCGA-27-2521 ..."
   ]
  },
  {
   "cell_type": "code",
   "execution_count": 3,
   "metadata": {
    "collapsed": false
   },
   "outputs": [],
   "source": [
    "#Download bootstrap labels\n",
    "testLabels = readFile(syn.get(testLabelsId))\n",
    "trainLabels = readFile(syn.get(trainLabelsId))"
   ]
  },
  {
   "cell_type": "markdown",
   "metadata": {},
   "source": [
    " 2 miRNA data \n",
    " \n",
    "  - 첫 번째 row - features (243 features)\n",
    " \n",
    "  - 첫 번째 column - samples (1045 samples)\n"
   ]
  },
  {
   "cell_type": "code",
   "execution_count": 4,
   "metadata": {
    "collapsed": false
   },
   "outputs": [
    {
     "name": "stdout",
     "output_type": "stream",
     "text": [
      "(1045, 243)\n"
     ]
    }
   ],
   "source": [
    "#Download specific data\n",
    "data = readFile(syn.get(dataId))\n",
    "features=data[0,1:]\n",
    "samples=data[1:,0]\n",
    "data=data[1:,1:].astype(np.float).T\n",
    "print data.shape"
   ]
  },
  {
   "cell_type": "markdown",
   "metadata": {},
   "source": [
    " 3 survival data \n",
    " \n",
    "  - 첫 번째 column - 210 samples\n",
    "  - 두 번째 column - OS_OS (생존기간)\n",
    "  - 세 번째 column - OS_vital_status ( 0, 1 = death)"
   ]
  },
  {
   "cell_type": "code",
   "execution_count": 5,
   "metadata": {
    "collapsed": false
   },
   "outputs": [],
   "source": [
    "#Download and extract the survival data\n",
    "survival=readFile(syn.get(survivalDataId), '\\n')\n",
    "survTime = survival[1:,1].astype(np.int)\n",
    "survStatus = survival[1:,2].astype(np.int)"
   ]
  },
  {
   "cell_type": "markdown",
   "metadata": {},
   "source": [
    "loading 패키지들"
   ]
  },
  {
   "cell_type": "markdown",
   "metadata": {},
   "source": [
    "예전 코드"
   ]
  },
  {
   "cell_type": "code",
   "execution_count": 10,
   "metadata": {
    "collapsed": false
   },
   "outputs": [],
   "source": [
    "#%load_ext rmagic\n",
    "#%R require(survival); require(randomSurvivalForest); require(survcomp)"
   ]
  },
  {
   "cell_type": "markdown",
   "metadata": {},
   "source": [
    "# 코드 수정1"
   ]
  },
  {
   "cell_type": "code",
   "execution_count": 7,
   "metadata": {
    "collapsed": false
   },
   "outputs": [
    {
     "name": "stdout",
     "output_type": "stream",
     "text": [
      "The rpy2.ipython extension is already loaded. To reload it, use:\n",
      "  %reload_ext rpy2.ipython\n"
     ]
    },
    {
     "data": {
      "text/plain": [
       "array([1], dtype=int32)"
      ]
     },
     "execution_count": 7,
     "metadata": {},
     "output_type": "execute_result"
    }
   ],
   "source": [
    "%load_ext rpy2.ipython\n",
    "%R require(survival); require(randomForestSRC); require(survcomp) "
   ]
  },
  {
   "cell_type": "markdown",
   "metadata": {},
   "source": [
    " 100개 ( trainLabels.shpae[1]== 100 )의 model을 training함"
   ]
  },
  {
   "cell_type": "code",
   "execution_count": 8,
   "metadata": {
    "collapsed": false
   },
   "outputs": [],
   "source": [
    "predictions=[]\n",
    "bootstrapIdx=1  # subsampling ID\n",
    "#Determine Extract the training and testing sets of one bootstrap\n",
    "trainIdx = match(trainLabels[:,bootstrapIdx], samples)\n",
    "testIdx = match(testLabels[:,bootstrapIdx], samples)\n",
    "\n",
    "#Verify that the labels are the same\n",
    "assert (np.all(trainLabels[:,bootstrapIdx]==samples[trainIdx]) and \n",
    "        np.all(testLabels[:,bootstrapIdx]==samples[testIdx]))\n",
    "\n",
    "#Exctract traing and testing set\n",
    "trainData = data[:, trainIdx].T\n",
    "trainSurvStatus = survStatus[trainIdx]\n",
    "trainSurvTime = survTime[trainIdx]\n",
    "testData = data[:, testIdx].T\n",
    "testSurvStatus = survStatus[testIdx]\n",
    "testSurvTime = survTime[testIdx]"
   ]
  },
  {
   "cell_type": "markdown",
   "metadata": {},
   "source": [
    "concordance.index - survival or binary class prediction 을 위해 concordance index(C-index)를 계산하는 함수\n",
    "\n",
    "risk prediction, event time, event occurence 를 인자로 받음\n",
    "\n",
    "- risk prediction = estimate for mortality = [ensemble mortality](https://projecteuclid.org/download/pdfview_1/euclid.aoas/1223908043)\n",
    "    - ensemble mortality for i는, xi번째 사람의 전체 time point(Tj)에서의 ensemble CHF값을 합한 값.\n",
    "- CHF(cumulative hazard function)"
   ]
  },
  {
   "cell_type": "markdown",
   "metadata": {},
   "source": [
    "이전 코드"
   ]
  },
  {
   "cell_type": "code",
   "execution_count": null,
   "metadata": {
    "collapsed": true
   },
   "outputs": [],
   "source": [
    "#Push to R, model and predict\n",
    "# %Rpush trainData trainSurvStatus trainSurvTime testData testSurvStatus testSurvTime\n",
    "# %R rsf.model.fit <- rsf(Surv(time,status) ~ ., data=data.frame(time=trainSurvTime,status=trainSurvStatus, trainData), ntree=1000, na.action=\"na.impute\", splitrule=\"logrank\", nsplit=1, importance=\"randomsplit\", seed=-1)\n",
    "# %R -o predictedResponse predictedResponse <- predict(rsf.model.fit, data.frame(testData), na.action=\"na.impute\")$mortality"
   ]
  },
  {
   "cell_type": "markdown",
   "metadata": {},
   "source": [
    "# 코드 수정2"
   ]
  },
  {
   "cell_type": "code",
   "execution_count": 9,
   "metadata": {
    "collapsed": false,
    "scrolled": false
   },
   "outputs": [
    {
     "data": {
      "text/plain": [
       "array([ 14.9245    ,   8.29401667,  23.6708    ,  23.71368333,\n",
       "        16.51455   ,  30.88895   ,  18.84501667,  18.11331667,\n",
       "        26.76788333,  11.60828333,  14.9641    ,  11.71976667,\n",
       "        11.64951667,  12.62608333,   9.57088333,  15.1263    ,\n",
       "        22.25023333,  21.70128333,  26.78588333,  24.41805   ,\n",
       "        16.14308333,  14.61138333,  15.76896667,  31.54161667,\n",
       "        28.09238333,   8.87148333,  30.99628333,  14.01831667,\n",
       "        12.76513333,  52.56321667,  19.85733333,  18.35186667,\n",
       "        19.70491667,   7.67951667,  17.37926667,  41.37675   ,\n",
       "        28.2649    ,  16.1784    ,  12.00416667,  18.8883    ,\n",
       "        29.35845   ,  11.36613333,  25.911     ,  39.11815   ,\n",
       "        28.9217    ,  29.3444    ,  18.80491667,  27.6221    ])"
      ]
     },
     "execution_count": 9,
     "metadata": {},
     "output_type": "execute_result"
    }
   ],
   "source": [
    "# Push to R, model and predict\n",
    "%Rpush trainData trainSurvStatus trainSurvTime testData testSurvStatus testSurvTime\n",
    "%R rsf.model.fit <- rfsrc(Surv(time,status) ~ ., data=data.frame(time=trainSurvTime,status=trainSurvStatus, trainData), ntree=1000, na.action=\"na.impute\", splitrule=\"logrank\", nsplit=1, importance=\"random\", seed=-1)\n",
    "%R -o predictedResponse predictedResponse <- apply(predict(rsf.model.fit, data.frame(testData), na.action=\"na.impute\")$chf,1,sum)"
   ]
  },
  {
   "cell_type": "markdown",
   "metadata": {},
   "source": [
    "concordance.index 결과"
   ]
  },
  {
   "cell_type": "code",
   "execution_count": 10,
   "metadata": {
    "collapsed": false
   },
   "outputs": [
    {
     "name": "stdout",
     "output_type": "stream",
     "text": [
      "[ 0.67652174]\n"
     ]
    }
   ],
   "source": [
    "#TODO replace this with creating the matrix of results\n",
    "%R -o concordance concordance <- concordance.index(predictedResponse, testSurvTime, testSurvStatus)$c.index\n",
    "print concordance"
   ]
  },
  {
   "cell_type": "code",
   "execution_count": null,
   "metadata": {
    "collapsed": true
   },
   "outputs": [],
   "source": [
    "%load_ext rpy2.ipython\n",
    "%R require(survival); require(randomForestSRC); require(survcomp)\n",
    "\n",
    "predictions=[]\n",
    "Concordance=[]\n",
    "for bootstrapIdx in range(trainLabels.shape[1]):\n",
    "    #Determine Extract the training and testing sets of one bootstrap\n",
    "    trainIdx = match(trainLabels[:,bootstrapIdx], samples)\n",
    "    testIdx = match(testLabels[:,bootstrapIdx], samples)\n",
    "\n",
    "    #Verify that the labels are the same\n",
    "    assert (np.all(trainLabels[:,bootstrapIdx]==samples[trainIdx]) and\n",
    "            np.all(testLabels[:,bootstrapIdx]==samples[testIdx]))\n",
    "\n",
    "    #Exctract traing and testing set\n",
    "    trainData = data[:, trainIdx].T\n",
    "    trainSurvStatus = survStatus[trainIdx]\n",
    "    trainSurvTime = survTime[trainIdx]\n",
    "    testData = data[:, testIdx].T\n",
    "    testSurvStatus = survStatus[testIdx]\n",
    "    testSurvTime = survTime[testIdx]\n",
    "\n",
    "\n",
    "    #Push to R, model and predict\n",
    "    %Rpush trainData trainSurvStatus trainSurvTime testData testSurvStatus testSurvTime\n",
    "    %R rsf.model.fit <- rfsrc(Surv(time,status) ~ ., data=data.frame(time=trainSurvTime,status=trainSurvStatus, trainData), ntree=1000, na.action=\"na.impute\", splitrule=\"logrank\", nsplit=1, importance=\"random\", seed=-1)\n",
    "    %R -o predictedResponse predictedResponse <- apply(predict(rsf.model.fit, data.frame(testData), na.action=\"na.impute\")$chf,1,sum)\n",
    "    #TODO replace this with creating the matrix of results\n",
    "    %R -o concordance concordance <- concordance.index(predictedResponse, testSurvTime, testSurvStatus)$c.index\n",
    "    print concordance\n",
    "    predictions.append(predictedResponse)\n",
    "    Concordance.append(concordance)"
   ]
  }
 ],
 "metadata": {
  "kernelspec": {
   "display_name": "Python 2",
   "language": "python",
   "name": "python2"
  },
  "language_info": {
   "codemirror_mode": {
    "name": "ipython",
    "version": 2
   },
   "file_extension": ".py",
   "mimetype": "text/x-python",
   "name": "python",
   "nbconvert_exporter": "python",
   "pygments_lexer": "ipython2",
   "version": "2.7.11"
  }
 },
 "nbformat": 4,
 "nbformat_minor": 0
}
