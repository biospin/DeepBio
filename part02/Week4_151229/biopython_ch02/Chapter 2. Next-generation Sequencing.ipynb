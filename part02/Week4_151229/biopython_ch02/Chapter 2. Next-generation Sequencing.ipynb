{
 "cells": [
  {
   "cell_type": "markdown",
   "metadata": {},
   "source": [
    "In this chapter, we will cover the following recipes (Click below Links for details!):\n",
    "- [Accessing GenBank and moving around NCBI databases](01.Accessing_Databases.ipynb)\n",
    "- [Performing basic sequence analysis](02.Basic_Sequence_Processing.ipynb)\n",
    "- [Working with modern sequence formats](03.Working_with_FASTQ.ipynb)\n",
    "- [Working with alignment data](04.Working_with_BAM.ipynb)\n",
    "- [Analyzing data in variant call format (VCF)](05.Working_with_VCF.ipynb)\n",
    "- [Studying genome accessibility and filtering SNP data](06.Filtering_SNPs.ipynb)"
   ]
  },
  {
   "cell_type": "markdown",
   "metadata": {},
   "source": [
    "### Introduction\n",
    "**Next-generation Sequencing (NGS)** is one of the fundamental technological developments<br>\n",
    "of the decade in life sciences. **Whole Genome Sequencing (WGS), RAD-Seq, RNA-Seq,<br>\n",
    "Chip-Seq**, and several other technologies are routinely used to investigate important biological<br>\n",
    "problems. These are also called **high-throughput sequencing technologies** with good reason:<br>\n",
    "they generate **vast amounts of data** that need to be processed. NGS is the main reason<br>\n",
    "for computational biology becoming a **\"big data\" discipline**. More than anything else, this<br>\n",
    "is a field that requires **strong bioinformatics techniques**. There is a very strong demand for<br>\n",
    "professionals with these skillsets.\n",
    "\n",
    "Here, we will use an existing **WGS** dataset and the human **1000 genomes<br>\n",
    "project** to illustrate the most common steps necessary to analyze genomic data. The recipes<br>\n",
    "presented here will be easily applicable for other genomic sequencing approaches. (for example, RNA-Seq). <br>\n",
    "The recipes are also **species-independent**. The biggest difference in processing data from different species is<br>\n",
    "related to genome size, diversity, and the quality of the assembled genome (if it exists for your<br>\n",
    "species).\n",
    "\n",
    "As this is not an introductory book, you are expected to know at least **what FASTA, FASTQ,<br>\n",
    "BAM, and VCF files are**. I will also make use of the basic genomic terminology without<br>\n",
    "introducing it (such as exomes, nonsynonymous mutations, and so on). You are required to<br>\n",
    "be familiar with basic Python. We will leverage this knowledge to introduce the fundamental<br>\n",
    "libraries in Python to perform the NGS analysis. Here, we will follow the flow of a standard<br>\n",
    "bioinformatics pipeline.\n",
    "\n",
    "However, before we delve into real data from a real project, let's get comfortable with<br>\n",
    "accessing existing genomic databases and basic sequence processing. A simple start<br>\n",
    "before the storm."
   ]
  },
  {
   "cell_type": "code",
   "execution_count": null,
   "metadata": {
    "collapsed": true
   },
   "outputs": [],
   "source": []
  }
 ],
 "metadata": {
  "kernelspec": {
   "display_name": "Python 2",
   "language": "python",
   "name": "python2"
  },
  "language_info": {
   "codemirror_mode": {
    "name": "ipython",
    "version": 2
   },
   "file_extension": ".py",
   "mimetype": "text/x-python",
   "name": "python",
   "nbconvert_exporter": "python",
   "pygments_lexer": "ipython2",
   "version": "2.7.10"
  }
 },
 "nbformat": 4,
 "nbformat_minor": 0
}
