{
 "cells": [
  {
   "cell_type": "markdown",
   "metadata": {},
   "source": [
    "# RNA-seq data analysis\n",
    "\n",
    "강의 : http://genomicsclass.github.io/book/\n",
    "\n",
    "\n",
    "## 01. Downloading and unzipping fastq files \n",
    "\n",
    "## Fastq files\n",
    "\n",
    "### Links for this experiment\n",
    "\n",
    "Study information at the Sequence Read Archive:\n",
    "\n",
    "http://www.ncbi.nlm.nih.gov/Traces/sra/?study=SRP033351\n",
    "\n",
    "Himes et al paper at PubMed Central:\n",
    "\n",
    "http://www.ncbi.nlm.nih.gov/pubmed/24926665 \n",
    "\n",
    "Example sample table stored in our course repo on github:\n",
    "\n",
    "https://github.com/genomicsclass/labs/blob/master/course5/airway_sample_table.csv\n",
    "\n",
    "Details on creating such a sample table from SRA and GEO:\n",
    "\n",
    "http://www.bioconductor.org/packages/release/data/experiment/vignettes/airway/inst/doc/airway.html\n",
    "\n",
    "The European Nucleotide Archive (EMBL-EBI):\n",
    "\n",
    "http://www.ebi.ac.uk/ena \n",
    "\n",
    "The Sequence Read Archive (NCBI):\n",
    "\n",
    "http://www.ncbi.nlm.nih.gov/sra/ \n",
    "\n",
    "## Fastq file commands"
   ]
  },
  {
   "cell_type": "markdown",
   "metadata": {},
   "source": [
    "### Downloading from the ENA: "
   ]
  },
  {
   "cell_type": "code",
   "execution_count": 1,
   "metadata": {
    "collapsed": false
   },
   "outputs": [
    {
     "name": "stdout",
     "output_type": "stream",
     "text": [
      "--2015-11-16 18:09:25--  ftp://ftp.sra.ebi.ac.uk/vol1/fastq/SRR103/008/SRR1039508/SRR1039508_1.fastq.gz\n",
      "           => ‘SRR1039508_1.fastq.gz’\n",
      "Resolving ftp.sra.ebi.ac.uk (ftp.sra.ebi.ac.uk)... 193.62.192.7\n",
      "접속 ftp.sra.ebi.ac.uk (ftp.sra.ebi.ac.uk)|193.62.192.7|:21... 접속됨.\n",
      "Logging in as anonymous ... 로그인 완료!\n",
      "==> SYST ... done.    ==> PWD ... 마침.\n",
      "==> TYPE I ... done.  ==> CWD (1) /vol1/fastq/SRR103/008/SRR1039508 ... 마침.\n",
      "==> SIZE SRR1039508_1.fastq.gz ... 1243786980\n",
      "==> PASV ... done.    ==> RETR SRR1039508_1.fastq.gz ... 마침.\n",
      "길이 : 1243786980 (1.2G) (unauthoritative)\n",
      "\n",
      "100%[====================================>] 1,243,786,980 1.88MB/s   in 21m 40s\n",
      "\n",
      "2015-11-16 18:31:09 (934 KB/s) - ‘SRR1039508_1.fastq.gz’ saved [1243786980]\n",
      "\n"
     ]
    }
   ],
   "source": [
    "! wget ftp://ftp.sra.ebi.ac.uk/vol1/fastq/SRR103/008/SRR1039508/SRR1039508_1.fastq.gz"
   ]
  },
  {
   "cell_type": "code",
   "execution_count": 1,
   "metadata": {
    "collapsed": false
   },
   "outputs": [
    {
     "name": "stdout",
     "output_type": "stream",
     "text": [
      "--2015-11-20 16:01:19--  ftp://ftp.sra.ebi.ac.uk/vol1/fastq/SRR103/008/SRR1039508/SRR1039508_2.fastq.gz\n",
      "           => ‘SRR1039508_2.fastq.gz’\n",
      "Resolving ftp.sra.ebi.ac.uk (ftp.sra.ebi.ac.uk)... 193.62.192.7\n",
      "Connecting to ftp.sra.ebi.ac.uk (ftp.sra.ebi.ac.uk)|193.62.192.7|:21... connected.\n",
      "Logging in as anonymous ... Logged in!\n",
      "==> SYST ... done.    ==> PWD ... done.\n",
      "==> TYPE I ... done.  ==> CWD (1) /vol1/fastq/SRR103/008/SRR1039508 ... done.\n",
      "==> SIZE SRR1039508_2.fastq.gz ... 1230997455\n",
      "==> PASV ... done.    ==> RETR SRR1039508_2.fastq.gz ... done.\n",
      "Length: 1230997455 (1.1G) (unauthoritative)\n",
      "\n",
      "100%[====================================>] 1,230,997,455 3.82MB/s   in 5m 56s \n",
      "\n",
      "2015-11-20 16:07:18 (3.30 MB/s) - ‘SRR1039508_2.fastq.gz’ saved [1230997455]\n",
      "\n"
     ]
    }
   ],
   "source": [
    "! wget ftp://ftp.sra.ebi.ac.uk/vol1/fastq/SRR103/008/SRR1039508/SRR1039508_2.fastq.gz"
   ]
  },
  {
   "cell_type": "code",
   "execution_count": 2,
   "metadata": {
    "collapsed": true
   },
   "outputs": [],
   "source": [
    "! gunzip *.fastq.gz"
   ]
  },
  {
   "cell_type": "code",
   "execution_count": 3,
   "metadata": {
    "collapsed": false
   },
   "outputs": [
    {
     "name": "stdout",
     "output_type": "stream",
     "text": [
      "total 8760008\r\n",
      "drwxrwxr-x 3 deepbio deepbio       4096 Nov 20 16:19 .\r\n",
      "drwxrwxr-x 6 deepbio deepbio       4096 Nov 20 16:00 ..\r\n",
      "drwxr-xr-x 2 deepbio deepbio       4096 Nov 20 16:03 .ipynb_checkpoints\r\n",
      "-rw-rw-r-- 1 deepbio deepbio      10035 Nov 20 16:19 RNA-seq_data_analysis.ipynb\r\n",
      "-rw-rw-r-- 1 deepbio deepbio 4485106182 Nov 20 16:07 SRR1039508_1.fastq\r\n",
      "-rw-rw-r-- 1 deepbio deepbio 4485106182 Nov 20 16:07 SRR1039508_2.fastq\r\n"
     ]
    }
   ],
   "source": [
    "! ls -al "
   ]
  },
  {
   "cell_type": "markdown",
   "metadata": {},
   "source": [
    "### Quality control with fastqc ( http://www.bioinformatics.babraham.ac.uk/projects/fastqc/ )\n",
    "\n",
    "#### 설치 방법\n",
    "```\n",
    "sudo apt-get install -y openjdk-7-jdk\n",
    "cd ~/\n",
    "wget http://www.bioinformatics.babraham.ac.uk/projects/fastqc/fastqc_v0.11.4.zip\n",
    "unzip fastqc_v0.11.4.zip\n",
    "chmod +x /home/deepbio/FastQC/fastqc\n",
    "sudo ln -s /home/deepbio/FastQC/fastqc /usr/local/bin/fastqc\n",
    "fastqc\n",
    "```"
   ]
  },
  {
   "cell_type": "code",
   "execution_count": 4,
   "metadata": {
    "collapsed": false
   },
   "outputs": [
    {
     "name": "stdout",
     "output_type": "stream",
     "text": [
      "Started analysis of SRR1039508_1.fastq\n",
      "Approx 5% complete for SRR1039508_1.fastq\n",
      "Approx 10% complete for SRR1039508_1.fastq\n",
      "Approx 15% complete for SRR1039508_1.fastq\n",
      "Approx 20% complete for SRR1039508_1.fastq\n",
      "Approx 25% complete for SRR1039508_1.fastq\n",
      "Approx 30% complete for SRR1039508_1.fastq\n",
      "Approx 35% complete for SRR1039508_1.fastq\n",
      "Approx 40% complete for SRR1039508_1.fastq\n",
      "Approx 45% complete for SRR1039508_1.fastq\n",
      "Approx 50% complete for SRR1039508_1.fastq\n",
      "Approx 55% complete for SRR1039508_1.fastq\n",
      "Approx 60% complete for SRR1039508_1.fastq\n",
      "Approx 65% complete for SRR1039508_1.fastq\n",
      "Approx 70% complete for SRR1039508_1.fastq\n",
      "Approx 75% complete for SRR1039508_1.fastq\n",
      "Approx 80% complete for SRR1039508_1.fastq\n",
      "Approx 85% complete for SRR1039508_1.fastq\n",
      "Approx 90% complete for SRR1039508_1.fastq\n",
      "Approx 95% complete for SRR1039508_1.fastq\n",
      "Analysis complete for SRR1039508_1.fastq\n",
      "Started analysis of SRR1039508_2.fastq\n",
      "Approx 5% complete for SRR1039508_2.fastq\n",
      "Approx 10% complete for SRR1039508_2.fastq\n",
      "Approx 15% complete for SRR1039508_2.fastq\n",
      "Approx 20% complete for SRR1039508_2.fastq\n",
      "Approx 25% complete for SRR1039508_2.fastq\n",
      "Approx 30% complete for SRR1039508_2.fastq\n",
      "Approx 35% complete for SRR1039508_2.fastq\n",
      "Approx 40% complete for SRR1039508_2.fastq\n",
      "Approx 45% complete for SRR1039508_2.fastq\n",
      "Approx 50% complete for SRR1039508_2.fastq\n",
      "Approx 55% complete for SRR1039508_2.fastq\n",
      "Approx 60% complete for SRR1039508_2.fastq\n",
      "Approx 65% complete for SRR1039508_2.fastq\n",
      "Approx 70% complete for SRR1039508_2.fastq\n",
      "Approx 75% complete for SRR1039508_2.fastq\n",
      "Approx 80% complete for SRR1039508_2.fastq\n",
      "Approx 85% complete for SRR1039508_2.fastq\n",
      "Approx 90% complete for SRR1039508_2.fastq\n",
      "Approx 95% complete for SRR1039508_2.fastq\n",
      "Analysis complete for SRR1039508_2.fastq\n"
     ]
    }
   ],
   "source": [
    "! fastqc --noextract SRR1039508_1.fastq SRR1039508_2.fastq"
   ]
  },
  {
   "cell_type": "markdown",
   "metadata": {},
   "source": [
    "# 02 Genomic alignment with STAR\n",
    "\n",
    "## STAR commands\n",
    "\n",
    "The STAR homepage:\n",
    "\n",
    "https://github.com/alexdobin/STAR\n",
    "\n",
    "The STAR paper:\n",
    "\n",
    "http://www.ncbi.nlm.nih.gov/pmc/articles/PMC3530905/\n",
    "\n",
    "The STAR manual:\n",
    "\n",
    "https://github.com/alexdobin/STAR/blob/master/doc/STARmanual.pdf\n",
    "\n",
    "Downloading genome FASTA and GTF files from ENSEMBL:\n",
    "\n",
    "http://ensembl.org\n",
    "\n",
    "http://ensembl.org/info/data/ftp/index.html\n",
    "\n",
    "Generating the genome:\n",
    "\n",
    "Note the `sjdbOverhang` is used for constructing the splice junction database. It should be set to (read length - 1), and according to the manual a general value of 100 will work as well.\n"
   ]
  },
  {
   "cell_type": "code",
   "execution_count": 5,
   "metadata": {
    "collapsed": false
   },
   "outputs": [
    {
     "name": "stdout",
     "output_type": "stream",
     "text": [
      "--2015-11-20 16:32:25--  ftp://ftp.ensembl.org/pub/release-82/fasta/homo_sapiens/dna/Homo_sapiens.GRCh38.dna.chromosome.1.fa.gz\n",
      "           => ‘Homo_sapiens.GRCh38.dna.chromosome.1.fa.gz’\n",
      "Resolving ftp.ensembl.org (ftp.ensembl.org)... 193.62.203.85\n",
      "Connecting to ftp.ensembl.org (ftp.ensembl.org)|193.62.203.85|:21... connected.\n",
      "Logging in as anonymous ... Logged in!\n",
      "==> SYST ... done.    ==> PWD ... done.\n",
      "==> TYPE I ... done.  ==> CWD (1) /pub/release-82/fasta/homo_sapiens/dna ... done.\n",
      "==> SIZE Homo_sapiens.GRCh38.dna.chromosome.1.fa.gz ... 69273591\n",
      "==> PASV ... done.    ==> RETR Homo_sapiens.GRCh38.dna.chromosome.1.fa.gz ... done.\n",
      "Length: 69273591 (66M) (unauthoritative)\n",
      "\n",
      "100%[======================================>] 69,273,591  7.93MB/s   in 28s    \n",
      "\n",
      "2015-11-20 16:32:56 (2.38 MB/s) - ‘Homo_sapiens.GRCh38.dna.chromosome.1.fa.gz’ saved [69273591]\n",
      "\n"
     ]
    }
   ],
   "source": [
    "! wget ftp://ftp.ensembl.org/pub/release-82/fasta/homo_sapiens/dna/Homo_sapiens.GRCh38.dna.chromosome.1.fa.gz"
   ]
  },
  {
   "cell_type": "code",
   "execution_count": null,
   "metadata": {
    "collapsed": true
   },
   "outputs": [],
   "source": [
    "! wget ftp://ftp.ensembl.org/pub/release-82/gtf/homo_sapiens/Homo_sapiens.GRCh38.82.gtf.gz"
   ]
  },
  {
   "cell_type": "code",
   "execution_count": 6,
   "metadata": {
    "collapsed": true
   },
   "outputs": [],
   "source": [
    "! gunzip *.fa.gz  *.gtf.gz"
   ]
  },
  {
   "cell_type": "markdown",
   "metadata": {
    "collapsed": true
   },
   "source": [
    "### 설치 방법\n",
    "\n",
    "```\n",
    "cd ~/\n",
    "wget https://github.com/alexdobin/STAR/archive/STAR_2.4.2a.tar.gz\n",
    "tar -xzf STAR_2.4.2a.tar.gz\n",
    "cd STAR-STAR_2.4.2a/\n",
    "\n",
    "sudo ln -s /home/deepbio/STAR-STAR_2.4.2a/bin/Linux_x86_64_static/STAR   /usr/local/bin/STAR\n",
    "sudo ln -s /home/deepbio/STAR-STAR_2.4.2a/bin/Linux_x86_64_static/STARlong /usr/local/bin/STARlong\n",
    "```"
   ]
  },
  {
   "cell_type": "markdown",
   "metadata": {},
   "source": [
    "For this limited demonstration, I am only going to align to the genes on chromosome 1, so I subset the GTF file:"
   ]
  },
  {
   "cell_type": "code",
   "execution_count": 8,
   "metadata": {
    "collapsed": false
   },
   "outputs": [],
   "source": [
    "! grep -P '^1\\t' Homo_sapiens.GRCh38.82.gtf > Homo_sapiens.GRCh38.82.chrom1.gtf"
   ]
  },
  {
   "cell_type": "markdown",
   "metadata": {},
   "source": [
    "We then moved files in subdirectories, and created one for the STAR genome index:"
   ]
  },
  {
   "cell_type": "code",
   "execution_count": 9,
   "metadata": {
    "collapsed": false
   },
   "outputs": [
    {
     "name": "stdout",
     "output_type": "stream",
     "text": [
      "total 8761520\r\n",
      "drwxrwxr-x 6 deepbio deepbio       4096 Nov 20 16:36 .\r\n",
      "drwxrwxr-x 6 deepbio deepbio       4096 Nov 20 16:00 ..\r\n",
      "drwxrwxr-x 2 deepbio deepbio       4096 Nov 20 16:36 genome\r\n",
      "drwxrwxr-x 2 deepbio deepbio       4096 Nov 20 16:36 GRCh38.82.chrom1\r\n",
      "drwxrwxr-x 2 deepbio deepbio       4096 Nov 20 16:36 gtf\r\n",
      "drwxr-xr-x 2 deepbio deepbio       4096 Nov 20 16:03 .ipynb_checkpoints\r\n",
      "-rw-rw-r-- 1 deepbio deepbio      11981 Nov 20 16:34 RNA-seq_data_analysis.ipynb\r\n",
      "-rw-rw-r-- 1 deepbio deepbio 4485106182 Nov 20 16:07 SRR1039508_1.fastq\r\n",
      "-rw-rw-r-- 1 deepbio deepbio     340707 Nov 20 16:30 SRR1039508_1_fastqc.html\r\n",
      "-rw-rw-r-- 1 deepbio deepbio     420855 Nov 20 16:30 SRR1039508_1_fastqc.zip\r\n",
      "-rw-rw-r-- 1 deepbio deepbio 4485106182 Nov 20 16:07 SRR1039508_2.fastq\r\n",
      "-rw-rw-r-- 1 deepbio deepbio     340359 Nov 20 16:32 SRR1039508_2_fastqc.html\r\n",
      "-rw-rw-r-- 1 deepbio deepbio     422832 Nov 20 16:32 SRR1039508_2_fastqc.zip\r\n"
     ]
    }
   ],
   "source": [
    "! mkdir gtf\n",
    "! mkdir genome\n",
    "! mv *.gtf gtf\n",
    "! mv *.fa genome\n",
    "! mkdir GRCh38.82.chrom1\n",
    "! ls -al"
   ]
  },
  {
   "cell_type": "markdown",
   "metadata": {},
   "source": [
    "The STAR command to generate the genome index:"
   ]
  },
  {
   "cell_type": "code",
   "execution_count": 10,
   "metadata": {
    "collapsed": false
   },
   "outputs": [
    {
     "name": "stdout",
     "output_type": "stream",
     "text": [
      "Nov 20 16:37:28 ..... Started STAR run\n",
      "Nov 20 16:37:28 ... Starting to generate Genome files\n",
      "Nov 20 16:37:33 ... starting to sort  Suffix Array. This may take a long time...\n",
      "Nov 20 16:37:35 ... sorting Suffix Array chunks and saving them to disk...\n",
      "Nov 20 16:43:10 ... loading chunks from disk, packing SA...\n",
      "Nov 20 16:43:19 ... Finished generating suffix array\n",
      "Nov 20 16:43:19 ... starting to generate Suffix Array index...\n",
      "Nov 20 16:44:53 ..... Processing annotations GTF\n",
      "Nov 20 16:44:55 ..... Inserting junctions into the genome indices\n",
      "Nov 20 16:45:35 ... writing Genome to disk ...\n",
      "Nov 20 16:45:35 ... writing Suffix Array to disk ...\n",
      "Nov 20 16:45:51 ... writing SAindex to disk\n",
      "Nov 20 16:46:47 ..... Finished successfully\n"
     ]
    }
   ],
   "source": [
    "! STAR --runMode genomeGenerate \\\n",
    " --genomeDir GRCh38.82.chrom1 \\\n",
    " --genomeFastaFiles genome/Homo_sapiens.GRCh38.dna.chromosome.1.fa \\\n",
    " --sjdbGTFfile gtf/Homo_sapiens.GRCh38.82.chrom1.gtf \\\n",
    " --sjdbOverhang 62 "
   ]
  },
  {
   "cell_type": "markdown",
   "metadata": {},
   "source": [
    "Mapping the reads:"
   ]
  },
  {
   "cell_type": "code",
   "execution_count": 12,
   "metadata": {
    "collapsed": false
   },
   "outputs": [
    {
     "name": "stdout",
     "output_type": "stream",
     "text": [
      "Nov 20 16:48:25 ..... Started STAR run\n",
      "Nov 20 16:48:25 ..... Loading genome\n",
      "Nov 20 16:48:27 ..... Started mapping\n",
      "Nov 20 17:34:26 ..... Finished successfully\n"
     ]
    }
   ],
   "source": [
    "! STAR --runThreadN 12 \\\n",
    " --genomeDir GRCh38.82.chrom1 \\\n",
    " --readFilesIn SRR1039508_1.fastq SRR1039508_2.fastq"
   ]
  },
  {
   "cell_type": "markdown",
   "metadata": {},
   "source": [
    "# 03. Transcriptome alignment with RSEM\n",
    "\n",
    "## RSEM transcript alignment\n",
    "\n",
    "RSEM homepage:\n",
    "\n",
    "http://deweylab.biostat.wisc.edu/rsem/\n",
    "\n",
    "RSEM paper:\n",
    "\n",
    "http://www.ncbi.nlm.nih.gov/pmc/articles/PMC3163565/\n",
    "\n",
    "prepare-reference help:\n",
    "\n",
    "http://deweylab.biostat.wisc.edu/rsem/rsem-prepare-reference.html\n",
    "\n",
    "calculate-expression help:\n",
    "\n",
    "http://deweylab.biostat.wisc.edu/rsem/rsem-calculate-expression.html\n",
    "\n",
    "RSEM expects a GTF file with only exons, which are each assigned to a `transcript_id`.\n",
    "\n",
    "설치방법 :\n",
    "```\n",
    "cd ~/\n",
    "wget https://github.com/deweylab/RSEM/archive/v1.2.25.tar.gz\n",
    "tar xvf v1.2.25.tar.gz\n",
    "cd RSEM-1.2.25/\n",
    "make\n",
    "echo 'export PATH=/home/deepbio/RSEM-1.2.25:$PATH' >> ~/.bashrc\n",
    "source ~/.bashrc\n",
    "```\n",
    "\n",
    "Note that we only align to chromosome 1 for demonstration purposes."
   ]
  },
  {
   "cell_type": "code",
   "execution_count": null,
   "metadata": {
    "collapsed": true
   },
   "outputs": [],
   "source": [
    "! awk '$3 == \"exon\"' gtf/Homo_sapiens.GRCh38.82.chrom1.gtf > gtf/Homo_sapiens.GRCh38.82.chrom1.exons.gtf"
   ]
  },
  {
   "cell_type": "markdown",
   "metadata": {},
   "source": [
    "RSEM will then prepare a reference transcriptome against which to align reads."
   ]
  },
  {
   "cell_type": "code",
   "execution_count": null,
   "metadata": {
    "collapsed": true
   },
   "outputs": [],
   "source": [
    "! mkdir rsemGenome\n",
    "! rsem-prepare-reference --gtf gtf/Homo_sapiens.GRCh38.82.chrom1.exons.gtf genome/Homo_sapiens.GRCh38.dna.chromosome.1.fa rsemGenome/GRCh38.82.chrom1"
   ]
  },
  {
   "cell_type": "code",
   "execution_count": null,
   "metadata": {
    "collapsed": true
   },
   "outputs": [],
   "source": [
    "! rsem-calculate-expression -p 12 --paired-end SRR1039508_1.fastq SRR1039508_2.fastq rsemGenome/GRCh38.82.chrom1 SRR1039508"
   ]
  },
  {
   "cell_type": "markdown",
   "metadata": {},
   "source": [
    "# 04. RNA-seq at the gene-level: EDA, DE and SVA\n",
    "\n",
    "\n",
    "## Counting reads in genes"
   ]
  },
  {
   "cell_type": "code",
   "execution_count": null,
   "metadata": {
    "collapsed": true
   },
   "outputs": [],
   "source": [
    "%load_ext rpy2.ipython"
   ]
  },
  {
   "cell_type": "code",
   "execution_count": null,
   "metadata": {
    "collapsed": true
   },
   "outputs": [],
   "source": [
    "%%R \n",
    "#source(\"https://bioconductor.org/biocLite.R\")\n",
    "#biocLite(\"airway\")\n",
    "library(airway)"
   ]
  },
  {
   "cell_type": "code",
   "execution_count": null,
   "metadata": {
    "collapsed": true
   },
   "outputs": [],
   "source": [
    "%%R\n",
    "dir <- system.file(\"extdata\", package=\"airway\", mustWork=TRUE)\n",
    "csv.file <- file.path(dir, \"sample_table.csv\")\n",
    "sample.table <- read.csv(csv.file, row.names=1)\n",
    "bam.files <- file.path(dir, paste0(sample.table$Run, \"_subset.bam\"))\n",
    "gtf.file <- file.path(dir, \"Homo_sapiens.GRCh37.75_subset.gtf\")"
   ]
  },
  {
   "cell_type": "code",
   "execution_count": null,
   "metadata": {
    "collapsed": true
   },
   "outputs": [],
   "source": [
    "%%R\n",
    "library(Rsamtools)\n",
    "bam.list <- BamFileList(bam.files)"
   ]
  },
  {
   "cell_type": "code",
   "execution_count": null,
   "metadata": {
    "collapsed": true
   },
   "outputs": [],
   "source": [
    "%%R\n",
    "library(GenomicFeatures)"
   ]
  },
  {
   "cell_type": "code",
   "execution_count": null,
   "metadata": {
    "collapsed": true
   },
   "outputs": [],
   "source": [
    "%%R\n",
    "# for Bioc 3.0 use the commented out line\n",
    "# txdb <- makeTranscriptDbFromGFF(gtf.file, format=\"gtf\")\n",
    "txdb <- makeTxDbFromGFF(gtf.file, format=\"gtf\")"
   ]
  },
  {
   "cell_type": "code",
   "execution_count": null,
   "metadata": {
    "collapsed": true
   },
   "outputs": [],
   "source": [
    "%%R\n",
    "exons.by.gene <- exonsBy(txdb, by=\"gene\")"
   ]
  },
  {
   "cell_type": "code",
   "execution_count": null,
   "metadata": {
    "collapsed": true
   },
   "outputs": [],
   "source": [
    "%%R\n",
    "library(GenomicAlignments)\n",
    "se <- summarizeOverlaps(exons.by.gene, bam.list,\n",
    "                        mode=\"Union\",\n",
    "                        singleEnd=FALSE,\n",
    "                        ignore.strand=TRUE,\n",
    "                        fragments=TRUE)\n",
    "colData(se) <- DataFrame(sample.table)"
   ]
  },
  {
   "cell_type": "code",
   "execution_count": null,
   "metadata": {
    "collapsed": true
   },
   "outputs": [],
   "source": [
    "%%R\n",
    "library(Rsubread)\n",
    "fc <- featureCounts(bam.files, annot.ext=gtf.file,\n",
    "                    isGTFAnnotationFile=TRUE, \n",
    "                    isPaired=TRUE)"
   ]
  },
  {
   "cell_type": "code",
   "execution_count": null,
   "metadata": {
    "collapsed": true
   },
   "outputs": [],
   "source": [
    "%%R\n",
    "names(fc)"
   ]
  },
  {
   "cell_type": "code",
   "execution_count": null,
   "metadata": {
    "collapsed": true
   },
   "outputs": [],
   "source": [
    "%%R\n",
    "unname(fc$counts) # hide the colnames"
   ]
  },
  {
   "cell_type": "code",
   "execution_count": null,
   "metadata": {
    "collapsed": true
   },
   "outputs": [],
   "source": [
    "%%R\n",
    "plot(assay(se)[,1], \n",
    "     fc$counts[match(rownames(se),rownames(fc$counts)),1])\n",
    "abline(0,1)"
   ]
  },
  {
   "cell_type": "markdown",
   "metadata": {},
   "source": [
    "## Visualizing sample-sample distances"
   ]
  },
  {
   "cell_type": "code",
   "execution_count": null,
   "metadata": {
    "collapsed": true
   },
   "outputs": [],
   "source": [
    "%%R\n",
    "library(airway)\n",
    "data(airway)\n",
    "airway"
   ]
  },
  {
   "cell_type": "code",
   "execution_count": null,
   "metadata": {
    "collapsed": true
   },
   "outputs": [],
   "source": [
    "%%R\n",
    "colData(airway)"
   ]
  },
  {
   "cell_type": "code",
   "execution_count": null,
   "metadata": {
    "collapsed": true
   },
   "outputs": [],
   "source": [
    "%%R\n",
    "# rowData for Bioc 3.0\n",
    "rowRanges(airway)"
   ]
  },
  {
   "cell_type": "code",
   "execution_count": null,
   "metadata": {
    "collapsed": true
   },
   "outputs": [],
   "source": [
    "%%R\n",
    "head(assay(airway))"
   ]
  },
  {
   "cell_type": "code",
   "execution_count": null,
   "metadata": {
    "collapsed": true
   },
   "outputs": [],
   "source": [
    "%%R\n",
    "# library(devtools)\n",
    "# install_github(\"ririzarr/rafalib\")\n",
    "library(rafalib)\n",
    "mypar()\n",
    "plot(assay(airway)[,1:2], cex=.1)"
   ]
  },
  {
   "cell_type": "markdown",
   "metadata": {},
   "source": [
    "## Creating a DESeqDataSet object"
   ]
  },
  {
   "cell_type": "code",
   "execution_count": 14,
   "metadata": {
    "collapsed": false
   },
   "outputs": [
    {
     "name": "stderr",
     "output_type": "stream",
     "text": [
      "ERROR: Cell magic `%%R` not found.\n"
     ]
    }
   ],
   "source": [
    "%%R\n",
    "library(DESeq2)\n",
    "dds <- DESeqDataSet(airway, design= ~ cell + dex)"
   ]
  },
  {
   "cell_type": "code",
   "execution_count": null,
   "metadata": {
    "collapsed": true
   },
   "outputs": [],
   "source": [
    "%%R\n",
    "dds.fc <- DESeqDataSetFromMatrix(fc$counts, \n",
    "                                 colData=sample.table, \n",
    "                                 design=~ cell + dex)"
   ]
  },
  {
   "cell_type": "markdown",
   "metadata": {},
   "source": [
    "## Normalization for sequencing depth"
   ]
  },
  {
   "cell_type": "code",
   "execution_count": null,
   "metadata": {
    "collapsed": true
   },
   "outputs": [],
   "source": [
    "%%R\n",
    "dds <- estimateSizeFactors(dds)\n",
    "sizeFactors(dds)"
   ]
  },
  {
   "cell_type": "code",
   "execution_count": null,
   "metadata": {
    "collapsed": true
   },
   "outputs": [],
   "source": [
    "%%R\n",
    "colSums(counts(dds))"
   ]
  },
  {
   "cell_type": "code",
   "execution_count": null,
   "metadata": {
    "collapsed": true
   },
   "outputs": [],
   "source": [
    "%%R\n",
    "plot(sizeFactors(dds), colSums(counts(dds)))\n",
    "abline(lm(colSums(counts(dds)) ~ sizeFactors(dds) + 0))"
   ]
  },
  {
   "cell_type": "code",
   "execution_count": null,
   "metadata": {
    "collapsed": true
   },
   "outputs": [],
   "source": [
    "%%R\n",
    "loggeomeans <- rowMeans(log(counts(dds)))\n",
    "hist(log(counts(dds)[,1]) - loggeomeans, \n",
    "     col=\"grey\", main=\"\", xlab=\"\", breaks=40)"
   ]
  },
  {
   "cell_type": "code",
   "execution_count": null,
   "metadata": {
    "collapsed": true
   },
   "outputs": [],
   "source": [
    "%%R\n",
    "exp(median((log(counts(dds)[,1]) - loggeomeans)[is.finite(loggeomeans)]))"
   ]
  },
  {
   "cell_type": "code",
   "execution_count": null,
   "metadata": {
    "collapsed": true
   },
   "outputs": [],
   "source": [
    "%%R\n",
    "sizeFactors(dds)[1]"
   ]
  },
  {
   "cell_type": "code",
   "execution_count": null,
   "metadata": {
    "collapsed": true
   },
   "outputs": [],
   "source": [
    "%%R\n",
    "log.norm.counts <- log2(counts(dds, normalized=TRUE) + 1)"
   ]
  },
  {
   "cell_type": "code",
   "execution_count": null,
   "metadata": {
    "collapsed": true
   },
   "outputs": [],
   "source": [
    "%%R\n",
    "rs <- rowSums(counts(dds))\n",
    "mypar(1,2)\n",
    "boxplot(log2(counts(dds)[rs > 0,]+1)) # not normalized\n",
    "boxplot(log.norm.counts[rs > 0,]) # normalized"
   ]
  },
  {
   "cell_type": "code",
   "execution_count": null,
   "metadata": {
    "collapsed": true
   },
   "outputs": [],
   "source": [
    "%%R\n",
    "plot(log.norm.counts[,1:2], cex=.1)"
   ]
  },
  {
   "cell_type": "markdown",
   "metadata": {},
   "source": [
    "## Stabilizing count variance"
   ]
  },
  {
   "cell_type": "code",
   "execution_count": null,
   "metadata": {
    "collapsed": true
   },
   "outputs": [],
   "source": [
    "%%R\n",
    "rld <- rlog(dds)\n",
    "plot(assay(rld)[,1], assay(rld)[,2], cex=.1)"
   ]
  },
  {
   "cell_type": "code",
   "execution_count": null,
   "metadata": {
    "collapsed": true
   },
   "outputs": [],
   "source": [
    "%%R\n",
    "library(vsn)\n",
    "mypar(1,2)\n",
    "meanSdPlot(log.norm.counts, ranks=FALSE, ylim=c(0,3), main=\"log2\")\n",
    "meanSdPlot(assay(rld), ranks=FALSE, ylim=c(0,3), main=\"rlog\")"
   ]
  },
  {
   "cell_type": "code",
   "execution_count": null,
   "metadata": {
    "collapsed": true
   },
   "outputs": [],
   "source": [
    "%%R\n",
    "mypar()\n",
    "rv <- apply(log.norm.counts, 1, var)\n",
    "topgenes <- head(order(rv, decreasing=TRUE),500)\n",
    "pc <- prcomp(t(log.norm.counts[topgenes,]))\n",
    "plot(pc$x[,1], pc$x[,2], \n",
    "     col = colData(dds)$dex, \n",
    "     pch = as.integer(colData(dds)$cell))"
   ]
  },
  {
   "cell_type": "code",
   "execution_count": null,
   "metadata": {
    "collapsed": true
   },
   "outputs": [],
   "source": [
    "%%R\n",
    "plotPCA(rld, intgroup=\"dex\")"
   ]
  },
  {
   "cell_type": "code",
   "execution_count": null,
   "metadata": {
    "collapsed": true
   },
   "outputs": [],
   "source": [
    "%%R\n",
    "plotPCA(rld, intgroup=c(\"dex\",\"cell\"))"
   ]
  }
 ],
 "metadata": {
  "kernelspec": {
   "display_name": "Python 2",
   "language": "python",
   "name": "python2"
  },
  "language_info": {
   "codemirror_mode": {
    "name": "ipython",
    "version": 2
   },
   "file_extension": ".py",
   "mimetype": "text/x-python",
   "name": "python",
   "nbconvert_exporter": "python",
   "pygments_lexer": "ipython2",
   "version": "2.7.10"
  }
 },
 "nbformat": 4,
 "nbformat_minor": 0
}
