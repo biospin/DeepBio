{
 "cells": [
  {
   "cell_type": "markdown",
   "metadata": {},
   "source": [
    "# reference genome 다루기"
   ]
  },
  {
   "cell_type": "code",
   "execution_count": 4,
   "metadata": {
    "collapsed": false
   },
   "outputs": [],
   "source": [
    "from Bio import SeqIO"
   ]
  },
  {
   "cell_type": "markdown",
   "metadata": {},
   "source": [
    "Plasmodium falciparum의 genome 다운로드"
   ]
  },
  {
   "cell_type": "code",
   "execution_count": 1,
   "metadata": {
    "collapsed": false
   },
   "outputs": [
    {
     "name": "stdout",
     "output_type": "stream",
     "text": [
      "--2016-01-05 11:00:39--  http://plasmodb.org/common/downloads/release-9.3/Pfalciparum3D7/fasta/data/PlasmoDB-9.3_Pfalciparum3D7_Genome.fasta\n",
      "Resolving plasmodb.org... 128.192.75.73\n",
      "Connecting to plasmodb.org|128.192.75.73|:80... connected.\n",
      "HTTP request sent, awaiting response... 200 OK\n",
      "Length: 23723399 (23M) [application/x-fasta]\n",
      "Saving to: 'PlasmoDB-9.3_Pfalciparum3D7_Genome.fasta'\n",
      "\n",
      "PlasmoDB-9.3_Pfalci 100%[=====================>]  22.62M  1.20MB/s   in 35s    \n",
      "\n",
      "2016-01-05 11:01:15 (669 KB/s) - 'PlasmoDB-9.3_Pfalciparum3D7_Genome.fasta' saved [23723399/23723399]\n",
      "\n"
     ]
    }
   ],
   "source": [
    "!rm -f PlasmoDB-9.3_Pfalciparum3D7_Genome.fasta 2>/dev/null\n",
    "!wget http://plasmodb.org/common/downloads/release-9.3/Pfalciparum3D7/fasta/data/PlasmoDB-9.3_Pfalciparum3D7_Genome.fasta"
   ]
  },
  {
   "cell_type": "code",
   "execution_count": 2,
   "metadata": {
    "collapsed": false
   },
   "outputs": [],
   "source": [
    "genome_name = 'PlasmoDB-9.3_Pfalciparum3D7_Genome.fasta'"
   ]
  },
  {
   "cell_type": "markdown",
   "metadata": {},
   "source": [
    "chromosome 정보 출력 (14개 chromosome, mitocondrial, apicoplast)"
   ]
  },
  {
   "cell_type": "code",
   "execution_count": 5,
   "metadata": {
    "collapsed": false
   },
   "outputs": [
    {
     "name": "stdout",
     "output_type": "stream",
     "text": [
      "Pf3D7_05_v3 | organism=Plasmodium_falciparum_3D7 | version=2012-02-01 | length=1343557 | SO=chromosome\n",
      "Pf3D7_10_v3 | organism=Plasmodium_falciparum_3D7 | version=2012-02-01 | length=1687656 | SO=chromosome\n",
      "Pf3D7_07_v3 | organism=Plasmodium_falciparum_3D7 | version=2012-02-01 | length=1445207 | SO=chromosome\n",
      "Pf3D7_03_v3 | organism=Plasmodium_falciparum_3D7 | version=2012-02-01 | length=1067971 | SO=chromosome\n",
      "Pf3D7_13_v3 | organism=Plasmodium_falciparum_3D7 | version=2012-02-01 | length=2925236 | SO=chromosome\n",
      "Pf3D7_11_v3 | organism=Plasmodium_falciparum_3D7 | version=2012-02-01 | length=2038340 | SO=chromosome\n",
      "Pf3D7_14_v3 | organism=Plasmodium_falciparum_3D7 | version=2012-02-01 | length=3291936 | SO=chromosome\n",
      "Pf3D7_09_v3 | organism=Plasmodium_falciparum_3D7 | version=2012-02-01 | length=1541735 | SO=chromosome\n",
      "Pf3D7_01_v3 | organism=Plasmodium_falciparum_3D7 | version=2012-02-01 | length=640851 | SO=chromosome\n",
      "Pf3D7_12_v3 | organism=Plasmodium_falciparum_3D7 | version=2012-02-01 | length=2271494 | SO=chromosome\n",
      "Pf3D7_08_v3 | organism=Plasmodium_falciparum_3D7 | version=2012-02-01 | length=1472805 | SO=chromosome\n",
      "Pf3D7_06_v3 | organism=Plasmodium_falciparum_3D7 | version=2012-02-01 | length=1418242 | SO=chromosome\n",
      "Pf3D7_04_v3 | organism=Plasmodium_falciparum_3D7 | version=2012-02-01 | length=1200490 | SO=chromosome\n",
      "Pf3D7_02_v3 | organism=Plasmodium_falciparum_3D7 | version=2012-02-01 | length=947102 | SO=chromosome\n",
      "M76611 | organism=Plasmodium_falciparum_3D7 | version=2012-02-01 | length=5967 | SO=mitochondrial_chromosome\n",
      "PFC10_API_IRAB | organism=Plasmodium_falciparum_3D7 | version=2012-02-01 | length=34242 | SO=apicoplast_chromosome\n"
     ]
    }
   ],
   "source": [
    "recs = SeqIO.parse(genome_name, 'fasta')\n",
    "chroms = {}\n",
    "for rec in recs:\n",
    "    print(rec.description)"
   ]
  },
  {
   "cell_type": "markdown",
   "metadata": {},
   "source": [
    "## GC contents 확인\n",
    "\n",
    "5만개씩 block으로 나눠서 GC content를 구하고 min, max 값을 구함.\n",
    "rereading을 함."
   ]
  },
  {
   "cell_type": "code",
   "execution_count": 8,
   "metadata": {
    "collapsed": false
   },
   "outputs": [
    {
     "name": "stdout",
     "output_type": "stream",
     "text": [
      "(16.14167716645667, 43.673469387755105)\n"
     ]
    }
   ],
   "source": [
    "from Bio import SeqUtils\n",
    "\n",
    "chrom_sizes = {}\n",
    "chrom_GC = {}\n",
    "recs = SeqIO.parse(genome_name, 'fasta')\n",
    "block_size = 50000\n",
    "min_GC = 100.0\n",
    "max_GC = 0.0\n",
    "for rec in recs:\n",
    "    if rec.description.find('SO=chromosome') == -1:\n",
    "        continue\n",
    "    chrom = int(rec.description.split('_')[1])\n",
    "    chrom_GC[chrom] = []\n",
    "    size = len(rec.seq)\n",
    "    chrom_sizes[chrom] = size\n",
    "    num_blocks = size // block_size + 1\n",
    "    for block in range(num_blocks):\n",
    "        start = block_size * block\n",
    "        if block == num_blocks - 1:\n",
    "            end = size\n",
    "        else:\n",
    "            end = block_size + start + 1\n",
    "        block_seq = rec.seq[start:end]\n",
    "        block_GC = SeqUtils.GC(block_seq)\n",
    "        if block_GC < min_GC:\n",
    "            min_GC = block_GC\n",
    "        if block_GC > max_GC:\n",
    "            max_GC = block_GC\n",
    "        chrom_GC[chrom].append(block_GC)\n",
    "print(min_GC, max_GC)"
   ]
  },
  {
   "cell_type": "markdown",
   "metadata": {
    "collapsed": false
   },
   "source": [
    "## chromosome별 GC contents 그리기\n",
    "1. reportlab을 설치해야 함\n",
    "2. chrom_size의 keys method를 list로 변환\n",
    "3. chromosome 순서대로 sort\n",
    "4. Telomere 10bp: rectangular like chrom을 만들어 줌\n",
    "5. 17.5% 이하와 22% 이상은 outlier로 지정\n",
    "6. 5만개씩 끊어서 표시"
   ]
  },
  {
   "cell_type": "code",
   "execution_count": 10,
   "metadata": {
    "collapsed": false
   },
   "outputs": [
    {
     "data": {
      "image/png": "[encoded data removed]",
      "text/plain": [
       "<IPython.core.display.Image object>"
      ]
     },
     "execution_count": 10,
     "metadata": {},
     "output_type": "execute_result"
    }
   ],
   "source": [
    "from __future__ import division\n",
    "#Lets load notebook's Image\n",
    "from IPython.core.display import Image\n",
    "\n",
    "from reportlab.lib import colors\n",
    "from reportlab.lib.units import cm\n",
    "from Bio.Graphics import BasicChromosome\n",
    "\n",
    "chroms = list(chrom_sizes.keys())\n",
    "chroms.sort()\n",
    "\n",
    "biggest_chrom = max(chrom_sizes.values())\n",
    "\n",
    "my_genome = BasicChromosome.Organism(output_format=\"png\")\n",
    "\n",
    "my_genome.page_size = (29.7*cm, 21*cm) # check\n",
    "telomere_length = 10\n",
    "\n",
    "bottom_GC = 17.5\n",
    "top_GC = 22.0\n",
    "for chrom in chroms:\n",
    "    chrom_size = chrom_sizes[chrom]\n",
    "    chrom_representation = BasicChromosome.Chromosome('Cr %d' % chrom)\n",
    "    chrom_representation.scale_num = biggest_chrom\n",
    "\n",
    "    tel = BasicChromosome.TelomereSegment()\n",
    "    tel.scale = telomere_length\n",
    "    chrom_representation.add(tel)\n",
    "\n",
    "    num_blocks = len(chrom_GC[chrom])\n",
    "    for block, gc in enumerate(chrom_GC[chrom]):\n",
    "        my_GC = chrom_GC[chrom][block]\n",
    "        body = BasicChromosome.ChromosomeSegment()\n",
    "        if my_GC > top_GC:\n",
    "            body.fill_color = colors.Color(1, 0, 0)\n",
    "        elif my_GC < bottom_GC:\n",
    "            body.fill_color = colors.Color(1, 1, 0)\n",
    "        else:\n",
    "            my_color = (my_GC - bottom_GC) / (top_GC - bottom_GC)\n",
    "            body.fill_color = colors.Color(my_color, my_color, 1)\n",
    "        if block < num_blocks - 1:\n",
    "            body.scale = block_size\n",
    "        else:\n",
    "            body.scale = chrom_size % block_size\n",
    "        chrom_representation.add(body)\n",
    "\n",
    "    tel = BasicChromosome.TelomereSegment(inverted=True)\n",
    "    tel.scale = telomere_length\n",
    "    chrom_representation.add(tel)\n",
    "\n",
    "    my_genome.add(chrom_representation)\n",
    "\n",
    "my_genome.draw(\"falciparum.png\", \"Plasmodium falciparum\")\n",
    "Image(\"falciparum.png\")"
   ]
  }
 ],
 "metadata": {
  "kernelspec": {
   "display_name": "Python 2",
   "language": "python",
   "name": "python2"
  },
  "language_info": {
   "codemirror_mode": {
    "name": "ipython",
    "version": 2
   },
   "file_extension": ".py",
   "mimetype": "text/x-python",
   "name": "python",
   "nbconvert_exporter": "python",
   "pygments_lexer": "ipython2",
   "version": "2.7.11"
  }
 },
 "nbformat": 4,
 "nbformat_minor": 0
}
