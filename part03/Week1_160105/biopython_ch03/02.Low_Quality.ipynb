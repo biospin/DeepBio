{
 "cells": [
  {
   "cell_type": "markdown",
   "metadata": {},
   "source": [
    "# 저해상도 참조유전체 다루기: Anopheles gambiae"
   ]
  },
  {
   "cell_type": "code",
   "execution_count": 1,
   "metadata": {
    "collapsed": false
   },
   "outputs": [
    {
     "name": "stdout",
     "output_type": "stream",
     "text": [
      "--2016-01-05 11:41:09--  ftp://ftp.vectorbase.org/public_data/organism_data/agambiae/Genome/agambiae.CHROMOSOMES-PEST.AgamP3.fa.gz\n",
      "           => 'gambiae.fa.gz'\n",
      "Resolving ftp.vectorbase.org... 129.74.255.228\n",
      "Connecting to ftp.vectorbase.org|129.74.255.228|:21... connected.\n",
      "Logging in as anonymous ... Logged in!\n",
      "==> SYST ... done.    ==> PWD ... done.\n",
      "==> TYPE I ... done.  ==> CWD (1) /public_data/organism_data/agambiae/Genome ... done.\n",
      "==> SIZE agambiae.CHROMOSOMES-PEST.AgamP3.fa.gz ... 81591806\n",
      "==> PASV ... done.    ==> RETR agambiae.CHROMOSOMES-PEST.AgamP3.fa.gz ... done.\n",
      "Length: 81591806 (78M) (unauthoritative)\n",
      "\n",
      "agambiae.CHROMOSOME 100%[=====================>]  77.81M  2.20MB/s   in 42s    \n",
      "\n",
      "2016-01-05 11:41:57 (1.87 MB/s) - 'gambiae.fa.gz' saved [81591806]\n",
      "\n",
      "--2016-01-05 11:41:57--  https://www.vectorbase.org/download/anopheles-atroparvus-ebroscaffoldsaatre1fagz\n",
      "Resolving www.vectorbase.org... 129.74.255.228\n",
      "Connecting to www.vectorbase.org|129.74.255.228|:443... connected.\n",
      "HTTP request sent, awaiting response... 302 Found\n",
      "Location: https://www.vectorbase.org/sites/default/files/ftp/downloads/Anopheles-atroparvus-EBRO_SCAFFOLDS_AatrE1.fa.gz [following]\n",
      "--2016-01-05 11:42:00--  https://www.vectorbase.org/sites/default/files/ftp/downloads/Anopheles-atroparvus-EBRO_SCAFFOLDS_AatrE1.fa.gz\n",
      "Reusing existing connection to www.vectorbase.org:443.\n",
      "HTTP request sent, awaiting response... 200 OK\n",
      "Length: 59822052 (57M) [application/x-gzip]\n",
      "Saving to: 'atroparvus.fa.gz'\n",
      "\n",
      "atroparvus.fa.gz    100%[=====================>]  57.05M  2.07MB/s   in 63s    \n",
      "\n",
      "2016-01-05 11:43:03 (922 KB/s) - 'atroparvus.fa.gz' saved [59822052/59822052]\n",
      "\n"
     ]
    }
   ],
   "source": [
    "!rm -f atroparvus.fa.gz gambiae.fa.gz 2>/dev/null\n",
    "!wget ftp://ftp.vectorbase.org/public_data/organism_data/agambiae/Genome/agambiae.CHROMOSOMES-PEST.AgamP3.fa.gz -O gambiae.fa.gz\n",
    "!wget https://www.vectorbase.org/download/anopheles-atroparvus-ebroscaffoldsaatre1fagz -O atroparvus.fa.gz\n"
   ]
  },
  {
   "cell_type": "code",
   "execution_count": 6,
   "metadata": {
    "collapsed": false
   },
   "outputs": [],
   "source": [
    "from __future__ import division\n",
    "import gzip\n",
    "from Bio import SeqIO, SeqUtils"
   ]
  },
  {
   "cell_type": "code",
   "execution_count": 3,
   "metadata": {
    "collapsed": false
   },
   "outputs": [],
   "source": [
    "gambiae_name = 'gambiae.fa.gz'\n",
    "atroparvus_name = 'atroparvus.fa.gz'"
   ]
  },
  {
   "cell_type": "code",
   "execution_count": 4,
   "metadata": {
    "collapsed": false
   },
   "outputs": [
    {
     "name": "stdout",
     "output_type": "stream",
     "text": [
      "chromosome:AgamP3:2L:1:49364325:1 chromosome 2L\n",
      "chromosome:AgamP3:2R:1:61545105:1 chromosome 2R\n",
      "chromosome:AgamP3:3L:1:41963435:1 chromosome 3L\n",
      "chromosome:AgamP3:3R:1:53200684:1 chromosome 3R\n",
      "chromosome:AgamP3:UNKN:1:42389979:1 chromosome UNKN\n",
      "chromosome:AgamP3:X:1:24393108:1 chromosome X\n",
      "chromosome:AgamP3:Y_unplaced:1:237045:1 chromosome Y_unplaced\n"
     ]
    }
   ],
   "source": [
    "recs = SeqIO.parse(gzip.open(gambiae_name), 'fasta')\n",
    "for rec in recs:\n",
    "    print(rec.description)\n",
    "#Do not do this with atroparvus"
   ]
  },
  {
   "cell_type": "markdown",
   "metadata": {},
   "source": [
    "## N의 포지션과 분포"
   ]
  },
  {
   "cell_type": "code",
   "execution_count": 8,
   "metadata": {
    "collapsed": false
   },
   "outputs": [],
   "source": [
    "recs = SeqIO.parse(gzip.open(gambiae_name), 'fasta')\n",
    "chrom_Ns = {}\n",
    "chrom_sizes = {}\n",
    "for rec in recs:\n",
    "    chrom = rec.description.split(':')[2]\n",
    "    if chrom in ['UNKN', 'Y_unplaced']:\n",
    "        continue\n",
    "    chrom_Ns[chrom] = []\n",
    "    on_N = False\n",
    "    curr_size = 0\n",
    "    for pos, nuc in enumerate(rec.seq):\n",
    "        if nuc in ['N', 'n']:\n",
    "            curr_size += 1\n",
    "            on_N = True\n",
    "        else:\n",
    "            if on_N:\n",
    "                chrom_Ns[chrom].append(curr_size)\n",
    "                curr_size = 0\n",
    "            on_N = False\n",
    "    if on_N:\n",
    "        chrom_Ns[chrom].append(curr_size)\n",
    "    chrom_sizes[chrom] = len(rec.seq)"
   ]
  },
  {
   "cell_type": "code",
   "execution_count": 9,
   "metadata": {
    "collapsed": false
   },
   "outputs": [
    {
     "name": "stdout",
     "output_type": "stream",
     "text": [
      "2L (49364325): %Ns (1.7), num Ns: 957, max N: 28884\n",
      "3R (53200684): %Ns (1.8), num Ns: 1128, max N: 24292\n",
      "X (24393108): %Ns (4.1), num Ns: 1287, max N: 21132\n",
      "2R (61545105): %Ns (2.3), num Ns: 1658, max N: 36427\n",
      "3L (41963435): %Ns (2.9), num Ns: 1272, max N: 31063\n"
     ]
    }
   ],
   "source": [
    "for chrom, Ns in chrom_Ns.items():\n",
    "    size = chrom_sizes[chrom]\n",
    "    print('%s (%s): %%Ns (%.1f), num Ns: %d, max N: %d' % (chrom, size, 100 * sum(Ns) / size, len(Ns), max(Ns)))"
   ]
  },
  {
   "cell_type": "markdown",
   "metadata": {},
   "source": [
    "## Atroparvus super-contigs\n",
    "\n",
    "스캐폴드의 갯수와 길이 분표 "
   ]
  },
  {
   "cell_type": "code",
   "execution_count": 10,
   "metadata": {
    "collapsed": false
   },
   "outputs": [],
   "source": [
    "import numpy as np\n",
    "#SeqUtils\n",
    "recs = SeqIO.parse(gzip.open(atroparvus_name), 'fasta')\n",
    "sizes = []\n",
    "size_N = []\n",
    "for rec in recs:\n",
    "    size = len(rec.seq)\n",
    "    sizes.append(size)\n",
    "    count_N = 0\n",
    "    for nuc in rec.seq:\n",
    "        if nuc in ['n', 'N']:\n",
    "            count_N += 1\n",
    "    size_N.append((size, count_N / size))"
   ]
  },
  {
   "cell_type": "code",
   "execution_count": 7,
   "metadata": {
    "collapsed": false
   },
   "outputs": [
    {
     "name": "stdout",
     "output_type": "stream",
     "text": [
      "(1371, 8304.0, 163596.00656455141, 20238125, 1004, 1563.0, 56612.0)\n"
     ]
    }
   ],
   "source": [
    "print(len(sizes), np.median(sizes), np.mean(sizes), max(sizes), min(sizes),\n",
    "      np.percentile(sizes, 10), np.percentile(sizes, 90))"
   ]
  },
  {
   "cell_type": "markdown",
   "metadata": {},
   "source": [
    "1371개의 scaffold, median size: 8304, mean: 163596, max: 20238125 , min: 1004, 10% 1563 90% 56612  "
   ]
  },
  {
   "cell_type": "code",
   "execution_count": 11,
   "metadata": {
    "collapsed": false
   },
   "outputs": [
    {
     "data": {
      "text/plain": [
       "<matplotlib.text.Text at 0x105dd7e50>"
      ]
     },
     "execution_count": 11,
     "metadata": {},
     "output_type": "execute_result"
    },
    {
     "data": {
      "image/png": "[encoded data removed]",
      "text/plain": [
       "<matplotlib.figure.Figure at 0x104557dd0>"
      ]
     },
     "metadata": {},
     "output_type": "display_data"
    }
   ],
   "source": [
    "%matplotlib inline\n",
    "import matplotlib.pyplot as plt\n",
    "\n",
    "small_split = 4800\n",
    "large_split = 540000\n",
    "fig, axs = plt.subplots(1, 3, figsize=(16, 9), squeeze=False)\n",
    "xs, ys = zip(*[(x, 100 * y) for x, y in size_N if x <= small_split])\n",
    "axs[0, 0].plot(xs, ys, '.')\n",
    "axs[0, 0].set_ylim(-0.1, 3.5)\n",
    "xs, ys = zip(*[(x, 100 * y) for x, y in size_N if x > small_split and x <= large_split])\n",
    "axs[0, 1].plot(xs, ys, '.')\n",
    "axs[0, 1].set_xlim(small_split, large_split)\n",
    "xs, ys = zip(*[(x, 100 * y) for x, y in size_N if x > large_split])\n",
    "axs[0, 2].plot(xs, ys, '.')\n",
    "axs[0, 0].set_ylabel('Fraction of Ns', fontsize=12)\n",
    "axs[0, 1].set_xlabel('Contig size', fontsize=12)\n",
    "fig.suptitle('Fraction of Ns per contig size', fontsize=26)"
   ]
  },
  {
   "cell_type": "code",
   "execution_count": null,
   "metadata": {
    "collapsed": false
   },
   "outputs": [],
   "source": []
  }
 ],
 "metadata": {
  "kernelspec": {
   "display_name": "Python 2",
   "language": "python",
   "name": "python2"
  },
  "language_info": {
   "codemirror_mode": {
    "name": "ipython",
    "version": 2
   },
   "file_extension": ".py",
   "mimetype": "text/x-python",
   "name": "python",
   "nbconvert_exporter": "python",
   "pygments_lexer": "ipython2",
   "version": "2.7.11"
  }
 },
 "nbformat": 4,
 "nbformat_minor": 0
}
