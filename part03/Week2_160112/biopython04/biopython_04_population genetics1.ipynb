{
 "cells": [
  {
   "cell_type": "markdown",
   "metadata": {},
   "source": [
    "(https://github.com/tiagoantao/bioinf-python/blob/master/notebooks)"
   ]
  },
  {
   "cell_type": "markdown",
   "metadata": {},
   "source": [
    "- 1) PLINK\n",
    "- 2) Genepop\n",
    "- 3) Bio.PopGene 으로 dataset 탐색하기\n",
    "- 4) F-statistics (Fst score, Fixation index) 계산\n",
    "- 5) PCA (Principal Components Analysis)\n",
    "- 6) Population structure with Admixture"
   ]
  },
  {
   "cell_type": "markdown",
   "metadata": {},
   "source": [
    "# Population genetics 란,\n",
    "\n",
    "각 인종에서의 DNA 서열 data를 기반으로 Natural selection, drift, mutation, and migration 등을 연구함. (특히 allele frequency정보 이용)\n",
    "\n",
    "- 이 chanper에서 사용할 data\n",
    "    - : [Human HapMap project data](http://www.sanger.ac.uk/resources/downloads/human/hapmap3.html)\n",
    "        - 햅맵 프로젝트는 common SNP (AF > 1%) 의 catalog를 밝히고 haplotype map을 작성함\n",
    "        \n",
    "population|full name\n",
    "---|---\n",
    "ASW|African ancestry in Southwest USA\n",
    "CEU|Utah residents with Northern and Western European ancestry from the CEPH collection\n",
    "CHB|Han Chinese in Beijing, China\n",
    "CHD|Chinese in Metropolitan Denver, Colorado\n",
    "GIH|Gujarati Indians in Houston, Texas\n",
    "JPT|Japanese in Tokyo, Japan\n",
    "LWK|Luhya in Webuye, Kenya\n",
    "MEX|Mexican ancestry in Los Angeles, California\n",
    "MKK|Maasai in Kinyawa, Kenya\n",
    "TSI|Toscani in Italia\n",
    "YRI|Yoruba in Ibadan, Nigeria\n",
    "        \n",
    "haplotype? 한 염색체 상에서 서로 통계적으로 연관된(LD) SNP들의 그룹"
   ]
  },
  {
   "cell_type": "markdown",
   "metadata": {},
   "source": [
    "![HamMap](http://hapmap.ncbi.nlm.nih.gov/images/haplotype_page/hapmapfig2.jpg)"
   ]
  },
  {
   "cell_type": "markdown",
   "metadata": {},
   "source": [
    "- LD?\n",
    "![haplotype](http://143.248.31.90:8889/notebooks/note/biopython/figs/haplotype.png)\n",
    "![haplotype2](http://143.248.31.90:8889/notebooks/note/biopython/figs/haplotype2.png)\n",
    "![haplotype3](http://143.248.31.90:8889/notebooks/note/biopython/figs/haplotype3.png)"
   ]
  },
  {
   "cell_type": "markdown",
   "metadata": {},
   "source": [
    "- 1) [PLINK](http://pngu.mgh.harvard.edu/~purcell/plink/) ([version 1.9](https://www.cog-genomics.org/plink2)) -speed and memory improvement\n",
    "    - analysis of genotype/phenotype data (GWAS study) 분석을 위해서 주로 사용되어 왔음."
   ]
  },
  {
   "cell_type": "code",
   "execution_count": null,
   "metadata": {
    "collapsed": true
   },
   "outputs": [],
   "source": [
    "!wget http://hapmap.ncbi.nlm.nih.gov/downloads/genotypes/hapmap3/plink_format/draft_2/hapmap3_r2_b36_fwd.consensus.qc.poly.map.bz2\n",
    "!wget http://hapmap.ncbi.nlm.nih.gov/downloads/genotypes/hapmap3/plink_format/draft_2/hapmap3_r2_b36_fwd.consensus.qc.poly.ped.bz2"
   ]
  },
  {
   "cell_type": "code",
   "execution_count": null,
   "metadata": {
    "collapsed": true
   },
   "outputs": [],
   "source": [
    "!bunzip2 hapmap3_r2_b36_fwd.consensus.qc.poly.map.bz2\n",
    "!bunzip2 hapmap3_r2_b36_fwd.consensus.qc.poly.ped.bz2"
   ]
  },
  {
   "cell_type": "markdown",
   "metadata": {},
   "source": [
    "## 1-1) PLINK file format\n",
    "(1) **map** file (hapmap3_r2_b36_fwd.consensus.qc.poly.map.bz2)\n",
    "\n",
    "chromosome/rsID/Genetic distance (morgans)/Base-pair position (bp units)"
   ]
  },
  {
   "cell_type": "code",
   "execution_count": 7,
   "metadata": {
    "collapsed": false
   },
   "outputs": [
    {
     "name": "stdout",
     "output_type": "stream",
     "text": [
      "1\trs10458597\t0\t554484\r\n",
      "1\trs2185539\t0\t556738\r\n",
      "1\trs11240767\t0\t718814\r\n"
     ]
    }
   ],
   "source": [
    "! head -3 hapmap3_r2_b36_fwd.consensus.qc.poly.map"
   ]
  },
  {
   "cell_type": "markdown",
   "metadata": {},
   "source": [
    "(2) **ped** file (hapmap3_r2_b36_fwd.consensus.qc.poly.ped.bz2) \n",
    "\n",
    "Family ID/Individual ID/Paternal ID/Maternal ID/Sex (1=male; 2=female; other=unknown)/Phenotype/Genotypes"
   ]
  },
  {
   "cell_type": "code",
   "execution_count": 8,
   "metadata": {
    "collapsed": false
   },
   "outputs": [
    {
     "name": "stdout",
     "output_type": "stream",
     "text": [
      "2427\tNA19919\tNA19908\tNA19909\t1\t-9\tC C\tC C\tC C\tA A\n",
      "2431\tNA19916\t0\t0\t1\t-9\tC C\tC C\tT C\tA A\n",
      "2424\tNA19835\t0\t0\t2\t-9\tC C\tC C\tC C\tA A\n"
     ]
    }
   ],
   "source": [
    "! head -3 hapmap3_r2_b36_fwd.consensus.qc.poly.ped |cut -f1-10"
   ]
  },
  {
   "cell_type": "markdown",
   "metadata": {},
   "source": [
    "## 1-2) PLINK 예시1. subsampling\n",
    "--**recode** automatically generate an updated version (with all filters applied)\n",
    "\n",
    "--**file** .ped + .map filename prefix\n",
    "\n",
    "--**out** prefix for output files\n",
    "\n",
    "--**thin** [p] Randomly remove variants, retaining each with prob. [p]\n",
    "    - p % 만 남기고 random하게 variant를 선택함\n",
    "    - seed option\n",
    "        \n",
    "--**geno** {val} Exclude variants with missing call frequencies greater than a threshold (default 0.1)\n",
    "    - default 0.1 : genotyping rate이 90% 보다 작은 경우 filter함"
   ]
  },
  {
   "cell_type": "code",
   "execution_count": 13,
   "metadata": {
    "collapsed": false,
    "scrolled": false
   },
   "outputs": [
    {
     "name": "stdout",
     "output_type": "stream",
     "text": [
      "PLINK v1.90b3.29 64-bit (24 Dec 2015)      https://www.cog-genomics.org/plink2\n",
      "(C) 2005-2015 Shaun Purcell, Christopher Chang   GNU General Public License v3\n",
      "Logging to hapmap10.log.\n",
      "Options in effect:\n",
      "  --file hapmap3_r2_b36_fwd.consensus.qc.poly\n",
      "  --geno 0.1\n",
      "  --noweb\n",
      "  --out hapmap10\n",
      "  --recode\n",
      "  --thin 0.1\n",
      "\n",
      "Note: --noweb has no effect since no web check is implemented yet.\n",
      "17938 MB RAM detected; reserving 8969 MB for main workspace.\n",
      ".ped scan complete (for binary autoconversion).\n",
      "Performing single-pass .bed write (1440616 variants, 1184 people).\n",
      "--file: hapmap10-temporary.bed + hapmap10-temporary.bim +\n",
      "hapmap10-temporary.fam written.\n",
      "1440616 variants loaded from .bim file.\n",
      "1184 people (589 males, 595 females) loaded from .fam.\n",
      "--thin: 1296959 variants removed (143657 remaining).\n",
      "Using 1 thread (no multithreaded calculations invoked.\n",
      "Before main variant filters, 988 founders and 196 nonfounders present.\n",
      "Calculating allele frequencies... 0%\b\b1%\b\b2%\b\b3%\b\b4%\b\b5%\b\b6%\b\b7%\b\b8%\b\b9%\b\b10%\b\b\b11%\b\b\b12%\b\b\b13%\b\b\b14%\b\b\b15%\b\b\b16%\b\b\b17%\b\b\b18%\b\b\b19%\b\b\b20%\b\b\b21%\b\b\b22%\b\b\b23%\b\b\b24%\b\b\b25%\b\b\b26%\b\b\b27%\b\b\b28%\b\b\b29%\b\b\b30%\b\b\b31%\b\b\b32%\b\b\b33%\b\b\b34%\b\b\b35%\b\b\b36%\b\b\b37%\b\b\b38%\b\b\b39%\b\b\b40%\b\b\b41%\b\b\b42%\b\b\b43%\b\b\b44%\b\b\b45%\b\b\b46%\b\b\b47%\b\b\b48%\b\b\b49%\b\b\b50%\b\b\b51%\b\b\b52%\b\b\b53%\b\b\b54%\b\b\b55%\b\b\b56%\b\b\b57%\b\b\b58%\b\b\b59%\b\b\b60%\b\b\b61%\b\b\b62%\b\b\b63%\b\b\b64%\b\b\b65%\b\b\b66%\b\b\b67%\b\b\b68%\b\b\b69%\b\b\b70%\b\b\b71%\b\b\b72%\b\b\b73%\b\b\b74%\b\b\b75%\b\b\b76%\b\b\b77%\b\b\b78%\b\b\b79%\b\b\b80%\b\b\b81%\b\b\b82%\b\b\b83%\b\b\b84%\b\b\b85%\b\b\b86%\b\b\b87%\b\b\b88%\b\b\b89%\b\b\b90%\b\b\b91%\b\b\b92%\b\b\b93%\b\b\b94%\b\b\b95%\b\b\b96%\b\b\b97%\b\b\b98%\b\b\b99%\b\b\b\b done.\n",
      "Warning: 595 het. haploid genotypes present (see hapmap10.hh ); many commands\n",
      "treat these as missing.\n",
      "Total genotyping rate is 0.99761.\n",
      "0 variants removed due to missing genotype data (--geno).\n",
      "143657 variants and 1184 people pass filters and QC.\n",
      "Note: No phenotypes present.\n",
      "--recode to hapmap10.ped + hapmap10.map ... 0%\b\b1%\b\b2%\b\b3%\b\b4%\b\b5%\b\b6%\b\b7%\b\b8%\b\b9%\b\b10%\b\b\b11%\b\b\b12%\b\b\b13%\b\b\b14%\b\b\b15%\b\b\b16%\b\b\b17%\b\b\b18%\b\b\b19%\b\b\b20%\b\b\b21%\b\b\b22%\b\b\b23%\b\b\b24%\b\b\b25%\b\b\b26%\b\b\b27%\b\b\b28%\b\b\b29%\b\b\b30%\b\b\b31%\b\b\b32%\b\b\b33%\b\b\b34%\b\b\b35%\b\b\b36%\b\b\b37%\b\b\b38%\b\b\b39%\b\b\b40%\b\b\b41%\b\b\b42%\b\b\b43%\b\b\b44%\b\b\b45%\b\b\b46%\b\b\b47%\b\b\b48%\b\b\b49%\b\b\b50%\b\b\b51%\b\b\b52%\b\b\b53%\b\b\b54%\b\b\b55%\b\b\b56%\b\b\b57%\b\b\b58%\b\b\b59%\b\b\b60%\b\b\b61%\b\b\b62%\b\b\b63%\b\b\b64%\b\b\b65%\b\b\b66%\b\b\b67%\b\b\b68%\b\b\b69%\b\b\b70%\b\b\b71%\b\b\b72%\b\b\b73%\b\b\b74%\b\b\b75%\b\b\b76%\b\b\b77%\b\b\b78%\b\b\b79%\b\b\b80%\b\b\b81%\b\b\b82%\b\b\b83%\b\b\b84%\b\b\b85%\b\b\b86%\b\b\b87%\b\b\b88%\b\b\b89%\b\b\b90%\b\b\b91%\b\b\b92%\b\b\b93%\b\b\b94%\b\b\b95%\b\b\b96%\b\b\b97%\b\b\b98%\b\b\b99%\b\b\bdone.\n",
      "PLINK v1.90b3.29 64-bit (24 Dec 2015)      https://www.cog-genomics.org/plink2\n",
      "(C) 2005-2015 Shaun Purcell, Christopher Chang   GNU General Public License v3\n",
      "Logging to hapmap1.log.\n",
      "Options in effect:\n",
      "  --file hapmap3_r2_b36_fwd.consensus.qc.poly\n",
      "  --geno 0.1\n",
      "  --noweb\n",
      "  --out hapmap1\n",
      "  --recode\n",
      "  --thin 0.01\n",
      "\n",
      "Note: --noweb has no effect since no web check is implemented yet.\n",
      "17938 MB RAM detected; reserving 8969 MB for main workspace.\n",
      ".ped scan complete (for binary autoconversion).\n",
      "Performing single-pass .bed write (1440616 variants, 1184 people).\n",
      "--file: hapmap1-temporary.bed + hapmap1-temporary.bim + hapmap1-temporary.fam\n",
      "written.\n",
      "1440616 variants loaded from .bim file.\n",
      "1184 people (589 males, 595 females) loaded from .fam.\n",
      "--thin: 1426074 variants removed (14542 remaining).\n",
      "Using 1 thread (no multithreaded calculations invoked.\n",
      "Before main variant filters, 988 founders and 196 nonfounders present.\n",
      "Calculating allele frequencies... 0%\b\b1%\b\b2%\b\b3%\b\b4%\b\b5%\b\b6%\b\b7%\b\b8%\b\b9%\b\b10%\b\b\b11%\b\b\b12%\b\b\b13%\b\b\b14%\b\b\b15%\b\b\b16%\b\b\b17%\b\b\b18%\b\b\b19%\b\b\b20%\b\b\b21%\b\b\b22%\b\b\b23%\b\b\b24%\b\b\b25%\b\b\b26%\b\b\b27%\b\b\b28%\b\b\b29%\b\b\b30%\b\b\b31%\b\b\b32%\b\b\b33%\b\b\b34%\b\b\b35%\b\b\b36%\b\b\b37%\b\b\b38%\b\b\b39%\b\b\b40%\b\b\b41%\b\b\b42%\b\b\b43%\b\b\b44%\b\b\b45%\b\b\b46%\b\b\b47%\b\b\b48%\b\b\b49%\b\b\b50%\b\b\b51%\b\b\b52%\b\b\b53%\b\b\b54%\b\b\b55%\b\b\b56%\b\b\b57%\b\b\b58%\b\b\b59%\b\b\b60%\b\b\b61%\b\b\b62%\b\b\b63%\b\b\b64%\b\b\b65%\b\b\b66%\b\b\b67%\b\b\b68%\b\b\b69%\b\b\b70%\b\b\b71%\b\b\b72%\b\b\b73%\b\b\b74%\b\b\b75%\b\b\b76%\b\b\b77%\b\b\b78%\b\b\b79%\b\b\b80%\b\b\b81%\b\b\b82%\b\b\b83%\b\b\b84%\b\b\b85%\b\b\b86%\b\b\b87%\b\b\b88%\b\b\b89%\b\b\b90%\b\b\b91%\b\b\b92%\b\b\b93%\b\b\b94%\b\b\b95%\b\b\b96%\b\b\b97%\b\b\b98%\b\b\b99%\b\b\b\b done.\n",
      "Warning: 58 het. haploid genotypes present (see hapmap1.hh ); many commands\n",
      "treat these as missing.\n",
      "Total genotyping rate is 0.9976.\n",
      "0 variants removed due to missing genotype data (--geno).\n",
      "14542 variants and 1184 people pass filters and QC.\n",
      "Note: No phenotypes present.\n",
      "--recode to hapmap1.ped + hapmap1.map ... 0%\b\b1%\b\b2%\b\b3%\b\b4%\b\b5%\b\b6%\b\b7%\b\b8%\b\b9%\b\b10%\b\b\b11%\b\b\b12%\b\b\b13%\b\b\b14%\b\b\b15%\b\b\b16%\b\b\b17%\b\b\b18%\b\b\b19%\b\b\b20%\b\b\b21%\b\b\b22%\b\b\b23%\b\b\b24%\b\b\b25%\b\b\b26%\b\b\b27%\b\b\b28%\b\b\b29%\b\b\b30%\b\b\b31%\b\b\b32%\b\b\b33%\b\b\b34%\b\b\b35%\b\b\b36%\b\b\b37%\b\b\b38%\b\b\b39%\b\b\b40%\b\b\b41%\b\b\b42%\b\b\b43%\b\b\b44%\b\b\b45%\b\b\b46%\b\b\b47%\b\b\b48%\b\b\b49%\b\b\b50%\b\b\b51%\b\b\b52%\b\b\b53%\b\b\b54%\b\b\b55%\b\b\b56%\b\b\b57%\b\b\b58%\b\b\b59%\b\b\b60%\b\b\b61%\b\b\b62%\b\b\b63%\b\b\b64%\b\b\b65%\b\b\b66%\b\b\b67%\b\b\b68%\b\b\b69%\b\b\b70%\b\b\b71%\b\b\b72%\b\b\b73%\b\b\b74%\b\b\b75%\b\b\b76%\b\b\b77%\b\b\b78%\b\b\b79%\b\b\b80%\b\b\b81%\b\b\b82%\b\b\b83%\b\b\b84%\b\b\b85%\b\b\b86%\b\b\b87%\b\b\b88%\b\b\b89%\b\b\b90%\b\b\b91%\b\b\b92%\b\b\b93%\b\b\b94%\b\b\b95%\b\b\b96%\b\b\b97%\b\b\b98%\b\b\b99%\b\b\bdone.\n"
     ]
    }
   ],
   "source": [
    "! plink --recode --file hapmap3_r2_b36_fwd.consensus.qc.poly --out hapmap10 --thin 0.1 --geno 0.1\n",
    "#--thin: 1296959 variants removed (143657 remaining).\n",
    "! plink --recode --file hapmap3_r2_b36_fwd.consensus.qc.poly --out hapmap1 --thin 0.01 --geno 0.1\n",
    "#--thin: 1426074 variants removed (14542 remaining)."
   ]
  },
  {
   "cell_type": "markdown",
   "metadata": {},
   "source": [
    "## 1-2) PLINK 예시2. autosomal chromosome 이외 filter하기\n",
    "\n",
    "i) map_file을 열어서 chrom>22 인 rsID만 exclude_file에 저장한다."
   ]
  },
  {
   "cell_type": "code",
   "execution_count": 14,
   "metadata": {
    "collapsed": true
   },
   "outputs": [],
   "source": [
    "def get_non_auto_SNPs(map_file, exclude_file):\n",
    "    f = open(map_file)\n",
    "    w = open(exclude_file, 'w')\n",
    "    for l in f:\n",
    "        toks = l.rstrip().split('\\t')\n",
    "        chrom = int(toks[0])\n",
    "        rs = toks[1]\n",
    "        if chrom > 22: \n",
    "            w.write('%s\\n' % rs)\n",
    "    w.close()\n",
    "get_non_auto_SNPs('hapmap10.map', 'exclude10.txt')\n",
    "get_non_auto_SNPs('hapmap1.map',  'exclude1.txt')"
   ]
  },
  {
   "cell_type": "markdown",
   "metadata": {},
   "source": [
    "ii) --exclude 옵션을 사용하여 제외한다. (참고: --extract)"
   ]
  },
  {
   "cell_type": "code",
   "execution_count": 20,
   "metadata": {
    "collapsed": false,
    "scrolled": true
   },
   "outputs": [
    {
     "name": "stdout",
     "output_type": "stream",
     "text": [
      "PLINK v1.90b3.29 64-bit (24 Dec 2015)      https://www.cog-genomics.org/plink2\n",
      "(C) 2005-2015 Shaun Purcell, Christopher Chang   GNU General Public License v3\n",
      "Logging to hapmap10_auto.log.\n",
      "Options in effect:\n",
      "  --exclude exclude10.txt\n",
      "  --file hapmap10\n",
      "  --out hapmap10_auto\n",
      "  --recode\n",
      "\n",
      "17938 MB RAM detected; reserving 8969 MB for main workspace.\n",
      ".ped scan complete (for binary autoconversion).\n",
      "Performing single-pass .bed write (143657 variants, 1184 people).\n",
      "--file: hapmap10_auto-temporary.bed + hapmap10_auto-temporary.bim +\n",
      "hapmap10_auto-temporary.fam written.\n",
      "143657 variants loaded from .bim file.\n",
      "1184 people (589 males, 595 females) loaded from .fam.\n",
      "--exclude: 138648 variants remaining.\n",
      "Using 1 thread (no multithreaded calculations invoked.\n",
      "Before main variant filters, 988 founders and 196 nonfounders present.\n",
      "Calculating allele frequencies... 0%\b\b1%\b\b2%\b\b3%\b\b4%\b\b5%\b\b6%\b\b7%\b\b8%\b\b9%\b\b10%\b\b\b11%\b\b\b12%\b\b\b13%\b\b\b14%\b\b\b15%\b\b\b16%\b\b\b17%\b\b\b18%\b\b\b19%\b\b\b20%\b\b\b21%\b\b\b22%\b\b\b23%\b\b\b24%\b\b\b25%\b\b\b26%\b\b\b27%\b\b\b28%\b\b\b29%\b\b\b30%\b\b\b31%\b\b\b32%\b\b\b33%\b\b\b34%\b\b\b35%\b\b\b36%\b\b\b37%\b\b\b38%\b\b\b39%\b\b\b40%\b\b\b41%\b\b\b42%\b\b\b43%\b\b\b44%\b\b\b45%\b\b\b46%\b\b\b47%\b\b\b48%\b\b\b49%\b\b\b50%\b\b\b51%\b\b\b52%\b\b\b53%\b\b\b54%\b\b\b55%\b\b\b56%\b\b\b57%\b\b\b58%\b\b\b59%\b\b\b60%\b\b\b61%\b\b\b62%\b\b\b63%\b\b\b64%\b\b\b65%\b\b\b66%\b\b\b67%\b\b\b68%\b\b\b69%\b\b\b70%\b\b\b71%\b\b\b72%\b\b\b73%\b\b\b74%\b\b\b75%\b\b\b76%\b\b\b77%\b\b\b78%\b\b\b79%\b\b\b80%\b\b\b81%\b\b\b82%\b\b\b83%\b\b\b84%\b\b\b85%\b\b\b86%\b\b\b87%\b\b\b88%\b\b\b89%\b\b\b90%\b\b\b91%\b\b\b92%\b\b\b93%\b\b\b94%\b\b\b95%\b\b\b96%\b\b\b97%\b\b\b98%\b\b\b99%\b\b\b\b done.\n",
      "Total genotyping rate is 0.997724.\n",
      "138648 variants and 1184 people pass filters and QC.\n",
      "Note: No phenotypes present.\n",
      "--recode to hapmap10_auto.ped + hapmap10_auto.map ... 0%\b\b1%\b\b2%\b\b3%\b\b4%\b\b5%\b\b6%\b\b7%\b\b8%\b\b9%\b\b10%\b\b\b11%\b\b\b12%\b\b\b13%\b\b\b14%\b\b\b15%\b\b\b16%\b\b\b17%\b\b\b18%\b\b\b19%\b\b\b20%\b\b\b21%\b\b\b22%\b\b\b23%\b\b\b24%\b\b\b25%\b\b\b26%\b\b\b27%\b\b\b28%\b\b\b29%\b\b\b30%\b\b\b31%\b\b\b32%\b\b\b33%\b\b\b34%\b\b\b35%\b\b\b36%\b\b\b37%\b\b\b38%\b\b\b39%\b\b\b40%\b\b\b41%\b\b\b42%\b\b\b43%\b\b\b44%\b\b\b45%\b\b\b46%\b\b\b47%\b\b\b48%\b\b\b49%\b\b\b50%\b\b\b51%\b\b\b52%\b\b\b53%\b\b\b54%\b\b\b55%\b\b\b56%\b\b\b57%\b\b\b58%\b\b\b59%\b\b\b60%\b\b\b61%\b\b\b62%\b\b\b63%\b\b\b64%\b\b\b65%\b\b\b66%\b\b\b67%\b\b\b68%\b\b\b69%\b\b\b70%\b\b\b71%\b\b\b72%\b\b\b73%\b\b\b74%\b\b\b75%\b\b\b76%\b\b\b77%\b\b\b78%\b\b\b79%\b\b\b80%\b\b\b81%\b\b\b82%\b\b\b83%\b\b\b84%\b\b\b85%\b\b\b86%\b\b\b87%\b\b\b88%\b\b\b89%\b\b\b90%\b\b\b91%\b\b\b92%\b\b\b93%\b\b\b94%\b\b\b95%\b\b\b96%\b\b\b97%\b\b\b98%\b\b\b99%\b\b\bdone.\n",
      "PLINK v1.90b3.29 64-bit (24 Dec 2015)      https://www.cog-genomics.org/plink2\n",
      "(C) 2005-2015 Shaun Purcell, Christopher Chang   GNU General Public License v3\n",
      "Logging to hapmap1_auto.log.\n",
      "Options in effect:\n",
      "  --exclude exclude1.txt\n",
      "  --file hapmap1\n",
      "  --out hapmap1_auto\n",
      "  --recode\n",
      "\n",
      "17938 MB RAM detected; reserving 8969 MB for main workspace.\n",
      ".ped scan complete (for binary autoconversion).\n",
      "Performing single-pass .bed write (14542 variants, 1184 people).\n",
      "--file: hapmap1_auto-temporary.bed + hapmap1_auto-temporary.bim +\n",
      "hapmap1_auto-temporary.fam written.\n",
      "14542 variants loaded from .bim file.\n",
      "1184 people (589 males, 595 females) loaded from .fam.\n",
      "--exclude: 14032 variants remaining.\n",
      "Using 1 thread (no multithreaded calculations invoked.\n",
      "Before main variant filters, 988 founders and 196 nonfounders present.\n",
      "Calculating allele frequencies... 0%\b\b1%\b\b2%\b\b3%\b\b4%\b\b5%\b\b6%\b\b7%\b\b8%\b\b9%\b\b10%\b\b\b11%\b\b\b12%\b\b\b13%\b\b\b14%\b\b\b15%\b\b\b16%\b\b\b17%\b\b\b18%\b\b\b19%\b\b\b20%\b\b\b21%\b\b\b22%\b\b\b23%\b\b\b24%\b\b\b25%\b\b\b26%\b\b\b27%\b\b\b28%\b\b\b29%\b\b\b30%\b\b\b31%\b\b\b32%\b\b\b33%\b\b\b34%\b\b\b35%\b\b\b36%\b\b\b37%\b\b\b38%\b\b\b39%\b\b\b40%\b\b\b41%\b\b\b42%\b\b\b43%\b\b\b44%\b\b\b45%\b\b\b46%\b\b\b47%\b\b\b48%\b\b\b49%\b\b\b50%\b\b\b51%\b\b\b52%\b\b\b53%\b\b\b54%\b\b\b55%\b\b\b56%\b\b\b57%\b\b\b58%\b\b\b59%\b\b\b60%\b\b\b61%\b\b\b62%\b\b\b63%\b\b\b64%\b\b\b65%\b\b\b66%\b\b\b67%\b\b\b68%\b\b\b69%\b\b\b70%\b\b\b71%\b\b\b72%\b\b\b73%\b\b\b74%\b\b\b75%\b\b\b76%\b\b\b77%\b\b\b78%\b\b\b79%\b\b\b80%\b\b\b81%\b\b\b82%\b\b\b83%\b\b\b84%\b\b\b85%\b\b\b86%\b\b\b87%\b\b\b88%\b\b\b89%\b\b\b90%\b\b\b91%\b\b\b92%\b\b\b93%\b\b\b94%\b\b\b95%\b\b\b96%\b\b\b97%\b\b\b98%\b\b\b99%\b\b\b\b done.\n",
      "Total genotyping rate is 0.997717.\n",
      "14032 variants and 1184 people pass filters and QC.\n",
      "Note: No phenotypes present.\n",
      "--recode to hapmap1_auto.ped + hapmap1_auto.map ... 0%\b\b1%\b\b2%\b\b3%\b\b4%\b\b5%\b\b6%\b\b7%\b\b8%\b\b9%\b\b10%\b\b\b11%\b\b\b12%\b\b\b13%\b\b\b14%\b\b\b15%\b\b\b16%\b\b\b17%\b\b\b18%\b\b\b19%\b\b\b20%\b\b\b21%\b\b\b22%\b\b\b23%\b\b\b24%\b\b\b25%\b\b\b26%\b\b\b27%\b\b\b28%\b\b\b29%\b\b\b30%\b\b\b31%\b\b\b32%\b\b\b33%\b\b\b34%\b\b\b35%\b\b\b36%\b\b\b37%\b\b\b38%\b\b\b39%\b\b\b40%\b\b\b41%\b\b\b42%\b\b\b43%\b\b\b44%\b\b\b45%\b\b\b46%\b\b\b47%\b\b\b48%\b\b\b49%\b\b\b50%\b\b\b51%\b\b\b52%\b\b\b53%\b\b\b54%\b\b\b55%\b\b\b56%\b\b\b57%\b\b\b58%\b\b\b59%\b\b\b60%\b\b\b61%\b\b\b62%\b\b\b63%\b\b\b64%\b\b\b65%\b\b\b66%\b\b\b67%\b\b\b68%\b\b\b69%\b\b\b70%\b\b\b71%\b\b\b72%\b\b\b73%\b\b\b74%\b\b\b75%\b\b\b76%\b\b\b77%\b\b\b78%\b\b\b79%\b\b\b80%\b\b\b81%\b\b\b82%\b\b\b83%\b\b\b84%\b\b\b85%\b\b\b86%\b\b\b87%\b\b\b88%\b\b\b89%\b\b\b90%\b\b\b91%\b\b\b92%\b\b\b93%\b\b\b94%\b\b\b95%\b\b\b96%\b\b\b97%\b\b\b98%\b\b\b99%\b\b\bdone.\n"
     ]
    }
   ],
   "source": [
    "!plink --recode --file hapmap10 --out hapmap10_auto --exclude exclude10.txt\n",
    "!plink --recode --file hapmap1 --out hapmap1_auto --exclude exclude1.txt"
   ]
  },
  {
   "cell_type": "markdown",
   "metadata": {},
   "source": [
    "## 1-2) PLINK 예시3. sample filter하기\n",
    "\n",
    "  --filter-cases       : Include only cases in the current analysis.\n",
    "  \n",
    "  --filter-controls    : Include only controls.\n",
    "  \n",
    "  --filter-males       : Include only males.\n",
    "  \n",
    "  --filter-females     : Include only females.\n",
    "  \n",
    "  --filter-founders    : Include only founders.\n",
    "  \n",
    "  --filter-nonfounders : Include only nonfounders"
   ]
  },
  {
   "cell_type": "markdown",
   "metadata": {},
   "source": [
    "For most population genetic analysis, it's **important** to assure that there is **little relatedness among sampled individuals**"
   ]
  },
  {
   "cell_type": "code",
   "execution_count": 4,
   "metadata": {
    "collapsed": false,
    "scrolled": true
   },
   "outputs": [
    {
     "name": "stdout",
     "output_type": "stream",
     "text": [
      "PLINK v1.90b3.29 64-bit (24 Dec 2015)      https://www.cog-genomics.org/plink2\n",
      "(C) 2005-2015 Shaun Purcell, Christopher Chang   GNU General Public License v3\n",
      "Logging to hapmap10_auto_noofs.log.\n",
      "Options in effect:\n",
      "  --file hapmap10_auto\n",
      "  --filter-founders\n",
      "  --out hapmap10_auto_noofs\n",
      "  --recode\n",
      "\n",
      "17938 MB RAM detected; reserving 8969 MB for main workspace.\n",
      ".ped scan complete (for binary autoconversion).\n",
      "Performing single-pass .bed write (138648 variants, 1184 people).\n",
      "--file: hapmap10_auto_noofs-temporary.bed + hapmap10_auto_noofs-temporary.bim +\n",
      "hapmap10_auto_noofs-temporary.fam written.\n",
      "138648 variants loaded from .bim file.\n",
      "1184 people (589 males, 595 females) loaded from .fam.\n",
      "196 people removed due to founder status (--filter-founders).\n",
      "Using 1 thread (no multithreaded calculations invoked.\n",
      "Before main variant filters, 988 founders and 0 nonfounders present.\n",
      "Calculating allele frequencies... 0%\b\b1%\b\b2%\b\b3%\b\b4%\b\b5%\b\b6%\b\b7%\b\b8%\b\b9%\b\b10%\b\b\b11%\b\b\b12%\b\b\b13%\b\b\b14%\b\b\b15%\b\b\b16%\b\b\b17%\b\b\b18%\b\b\b19%\b\b\b20%\b\b\b21%\b\b\b22%\b\b\b23%\b\b\b24%\b\b\b25%\b\b\b26%\b\b\b27%\b\b\b28%\b\b\b29%\b\b\b30%\b\b\b31%\b\b\b32%\b\b\b33%\b\b\b34%\b\b\b35%\b\b\b36%\b\b\b37%\b\b\b38%\b\b\b39%\b\b\b40%\b\b\b41%\b\b\b42%\b\b\b43%\b\b\b44%\b\b\b45%\b\b\b46%\b\b\b47%\b\b\b48%\b\b\b49%\b\b\b50%\b\b\b51%\b\b\b52%\b\b\b53%\b\b\b54%\b\b\b55%\b\b\b56%\b\b\b57%\b\b\b58%\b\b\b59%\b\b\b60%\b\b\b61%\b\b\b62%\b\b\b63%\b\b\b64%\b\b\b65%\b\b\b66%\b\b\b67%\b\b\b68%\b\b\b69%\b\b\b70%\b\b\b71%\b\b\b72%\b\b\b73%\b\b\b74%\b\b\b75%\b\b\b76%\b\b\b77%\b\b\b78%\b\b\b79%\b\b\b80%\b\b\b81%\b\b\b82%\b\b\b83%\b\b\b84%\b\b\b85%\b\b\b86%\b\b\b87%\b\b\b88%\b\b\b89%\b\b\b90%\b\b\b91%\b\b\b92%\b\b\b93%\b\b\b94%\b\b\b95%\b\b\b96%\b\b\b97%\b\b\b98%\b\b\b99%\b\b\b\b done.\n",
      "Total genotyping rate in remaining samples is 0.997713.\n",
      "138648 variants and 988 people pass filters and QC.\n",
      "Note: No phenotypes present.\n",
      "--recode to hapmap10_auto_noofs.ped + hapmap10_auto_noofs.map ... 0%\b\b1%\b\b2%\b\b3%\b\b4%\b\b5%\b\b6%\b\b7%\b\b8%\b\b9%\b\b10%\b\b\b11%\b\b\b12%\b\b\b13%\b\b\b14%\b\b\b15%\b\b\b16%\b\b\b17%\b\b\b18%\b\b\b19%\b\b\b20%\b\b\b21%\b\b\b22%\b\b\b23%\b\b\b24%\b\b\b25%\b\b\b26%\b\b\b27%\b\b\b28%\b\b\b29%\b\b\b30%\b\b\b31%\b\b\b32%\b\b\b33%\b\b\b34%\b\b\b35%\b\b\b36%\b\b\b37%\b\b\b38%\b\b\b39%\b\b\b40%\b\b\b41%\b\b\b42%\b\b\b43%\b\b\b44%\b\b\b45%\b\b\b46%\b\b\b47%\b\b\b48%\b\b\b49%\b\b\b50%\b\b\b51%\b\b\b52%\b\b\b53%\b\b\b54%\b\b\b55%\b\b\b56%\b\b\b57%\b\b\b58%\b\b\b59%\b\b\b60%\b\b\b61%\b\b\b62%\b\b\b63%\b\b\b64%\b\b\b65%\b\b\b66%\b\b\b67%\b\b\b68%\b\b\b69%\b\b\b70%\b\b\b71%\b\b\b72%\b\b\b73%\b\b\b74%\b\b\b75%\b\b\b76%\b\b\b77%\b\b\b78%\b\b\b79%\b\b\b80%\b\b\b81%\b\b\b82%\b\b\b83%\b\b\b84%\b\b\b85%\b\b\b86%\b\b\b87%\b\b\b88%\b\b\b89%\b\b\b90%\b\b\b91%\b\b\b92%\b\b\b93%\b\b\b94%\b\b\b95%\b\b\b96%\b\b\b97%\b\b\b98%\b\b\b99%\b\b\bdone.\n"
     ]
    }
   ],
   "source": [
    "!plink --file hapmap10_auto --filter-founders --recode --out hapmap10_auto_noofs\n",
    "#196 people removed due to founder status (--filter-founders).\n",
    "#unrelated individuals needed for most population genetic analysis"
   ]
  },
  {
   "cell_type": "markdown",
   "metadata": {},
   "source": [
    "## 1-2) PLINK 예시4. LD로 filter\n",
    "\n",
    "- LD로 filter하는 과정은 PCA나 Admixture algorithm 전에 요구된다.\n",
    "\n",
    "i) --indep-pairwise [window size]<kb> [step size (variant ct)] [r^2 threshold]\n",
    "\n",
    "    a) consider a window of 50 SNPs\n",
    "    b) calculate LD between each pair of SNPs in the window\n",
    "    c) remove one of a pair of SNPs if the LD is greater than 0.1\n",
    "    d) shift the window 10 SNPs forward and repeat the procedure."
   ]
  },
  {
   "cell_type": "code",
   "execution_count": 24,
   "metadata": {
    "collapsed": false,
    "scrolled": true
   },
   "outputs": [
    {
     "name": "stdout",
     "output_type": "stream",
     "text": [
      "PLINK v1.90b3.29 64-bit (24 Dec 2015)      https://www.cog-genomics.org/plink2\n",
      "(C) 2005-2015 Shaun Purcell, Christopher Chang   GNU General Public License v3\n",
      "Logging to keep.log.\n",
      "Options in effect:\n",
      "  --file hapmap10_auto_noofs\n",
      "  --indep-pairwise 50 10 0.1\n",
      "  --out keep\n",
      "\n",
      "17938 MB RAM detected; reserving 8969 MB for main workspace.\n",
      ".ped scan complete (for binary autoconversion).\n",
      "Performing single-pass .bed write (138648 variants, 988 people).\n",
      "--file: keep-temporary.bed + keep-temporary.bim + keep-temporary.fam written.\n",
      "138648 variants loaded from .bim file.\n",
      "988 people (488 males, 500 females) loaded from .fam.\n",
      "Using 1 thread (no multithreaded calculations invoked.\n",
      "Before main variant filters, 988 founders and 0 nonfounders present.\n",
      "Calculating allele frequencies... 0%\b\b1%\b\b2%\b\b3%\b\b4%\b\b5%\b\b6%\b\b7%\b\b8%\b\b9%\b\b10%\b\b\b11%\b\b\b12%\b\b\b13%\b\b\b14%\b\b\b15%\b\b\b16%\b\b\b17%\b\b\b18%\b\b\b19%\b\b\b20%\b\b\b21%\b\b\b22%\b\b\b23%\b\b\b24%\b\b\b25%\b\b\b26%\b\b\b27%\b\b\b28%\b\b\b29%\b\b\b30%\b\b\b31%\b\b\b32%\b\b\b33%\b\b\b34%\b\b\b35%\b\b\b36%\b\b\b37%\b\b\b38%\b\b\b39%\b\b\b40%\b\b\b41%\b\b\b42%\b\b\b43%\b\b\b44%\b\b\b45%\b\b\b46%\b\b\b47%\b\b\b48%\b\b\b49%\b\b\b50%\b\b\b51%\b\b\b52%\b\b\b53%\b\b\b54%\b\b\b55%\b\b\b56%\b\b\b57%\b\b\b58%\b\b\b59%\b\b\b60%\b\b\b61%\b\b\b62%\b\b\b63%\b\b\b64%\b\b\b65%\b\b\b66%\b\b\b67%\b\b\b68%\b\b\b69%\b\b\b70%\b\b\b71%\b\b\b72%\b\b\b73%\b\b\b74%\b\b\b75%\b\b\b76%\b\b\b77%\b\b\b78%\b\b\b79%\b\b\b80%\b\b\b81%\b\b\b82%\b\b\b83%\b\b\b84%\b\b\b85%\b\b\b86%\b\b\b87%\b\b\b88%\b\b\b89%\b\b\b90%\b\b\b91%\b\b\b92%\b\b\b93%\b\b\b94%\b\b\b95%\b\b\b96%\b\b\b97%\b\b\b98%\b\b\b99%\b\b\b\b done.\n",
      "Total genotyping rate is 0.997713.\n",
      "138648 variants and 988 people pass filters and QC.\n",
      "Note: No phenotypes present.\n",
      "Pruned 7094 variants from chromosome 1, leaving 4553.\n",
      "Pruned 7305 variants from chromosome 2, leaving 4300.\n",
      "Pruned 5963 variants from chromosome 3, leaving 3667.\n",
      "Pruned 5144 variants from chromosome 4, leaving 3361.\n",
      "Pruned 5338 variants from chromosome 5, leaving 3437.\n",
      "Pruned 5824 variants from chromosome 6, leaving 3454.\n",
      "Pruned 4451 variants from chromosome 7, leaving 2993.\n",
      "Pruned 4677 variants from chromosome 8, leaving 2798.\n",
      "Pruned 3785 variants from chromosome 9, leaving 2542.\n",
      "Pruned 4473 variants from chromosome 10, leaving 2945.\n",
      "Pruned 4427 variants from chromosome 11, leaving 2735.\n",
      "Pruned 4047 variants from chromosome 12, leaving 2831.\n",
      "Pruned 3068 variants from chromosome 13, leaving 2168.\n",
      "Pruned 2758 variants from chromosome 14, leaving 1805.\n",
      "Pruned 2458 variants from chromosome 15, leaving 1713.\n",
      "Pruned 2583 variants from chromosome 16, leaving 1862.\n",
      "Pruned 2200 variants from chromosome 17, leaving 1658.\n",
      "Pruned 2288 variants from chromosome 18, leaving 1752.\n",
      "Pruned 1361 variants from chromosome 19, leaving 1309.\n",
      "Pruned 2136 variants from chromosome 20, leaving 1520.\n",
      "Pruned 1056 variants from chromosome 21, leaving 827.\n",
      "Pruned 1047 variants from chromosome 22, leaving 935.\n",
      "Pruning complete.  83483 of 138648 variants removed.\n",
      "Marker lists written to keep.prune.in and keep.prune.out .\n"
     ]
    }
   ],
   "source": [
    "!plink --file hapmap10_auto_noofs --indep-pairwise 50 10 0.1 --out keep\n",
    "# out1 -keep.prune.in\n",
    "# out2 -keep.prune.out"
   ]
  },
  {
   "cell_type": "markdown",
   "metadata": {},
   "source": [
    "ii) --extract 사용하여 keep.prune.in에 속하는 SNP만 추출한다.(참고: --exclude)"
   ]
  },
  {
   "cell_type": "code",
   "execution_count": 23,
   "metadata": {
    "collapsed": false,
    "scrolled": false
   },
   "outputs": [
    {
     "name": "stdout",
     "output_type": "stream",
     "text": [
      "PLINK v1.90b3.29 64-bit (24 Dec 2015)      https://www.cog-genomics.org/plink2\n",
      "(C) 2005-2015 Shaun Purcell, Christopher Chang   GNU General Public License v3\n",
      "Logging to hapmap10_auto_noofs_ld.log.\n",
      "Options in effect:\n",
      "  --extract keep.prune.in\n",
      "  --file hapmap10_auto_noofs\n",
      "  --out hapmap10_auto_noofs_ld\n",
      "  --recode\n",
      "\n",
      "17938 MB RAM detected; reserving 8969 MB for main workspace.\n",
      ".ped scan complete (for binary autoconversion).\n",
      "Performing single-pass .bed write (138648 variants, 988 people).\n",
      "--file: hapmap10_auto_noofs_ld-temporary.bed +\n",
      "hapmap10_auto_noofs_ld-temporary.bim + hapmap10_auto_noofs_ld-temporary.fam\n",
      "written.\n",
      "138648 variants loaded from .bim file.\n",
      "988 people (488 males, 500 females) loaded from .fam.\n",
      "--extract: 55165 variants remaining.\n",
      "Using 1 thread (no multithreaded calculations invoked.\n",
      "Before main variant filters, 988 founders and 0 nonfounders present.\n",
      "Calculating allele frequencies... 0%\b\b1%\b\b2%\b\b3%\b\b4%\b\b5%\b\b6%\b\b7%\b\b8%\b\b9%\b\b10%\b\b\b11%\b\b\b12%\b\b\b13%\b\b\b14%\b\b\b15%\b\b\b16%\b\b\b17%\b\b\b18%\b\b\b19%\b\b\b20%\b\b\b21%\b\b\b22%\b\b\b23%\b\b\b24%\b\b\b25%\b\b\b26%\b\b\b27%\b\b\b28%\b\b\b29%\b\b\b30%\b\b\b31%\b\b\b32%\b\b\b33%\b\b\b34%\b\b\b35%\b\b\b36%\b\b\b37%\b\b\b38%\b\b\b39%\b\b\b40%\b\b\b41%\b\b\b42%\b\b\b43%\b\b\b44%\b\b\b45%\b\b\b46%\b\b\b47%\b\b\b48%\b\b\b49%\b\b\b50%\b\b\b51%\b\b\b52%\b\b\b53%\b\b\b54%\b\b\b55%\b\b\b56%\b\b\b57%\b\b\b58%\b\b\b59%\b\b\b60%\b\b\b61%\b\b\b62%\b\b\b63%\b\b\b64%\b\b\b65%\b\b\b66%\b\b\b67%\b\b\b68%\b\b\b69%\b\b\b70%\b\b\b71%\b\b\b72%\b\b\b73%\b\b\b74%\b\b\b75%\b\b\b76%\b\b\b77%\b\b\b78%\b\b\b79%\b\b\b80%\b\b\b81%\b\b\b82%\b\b\b83%\b\b\b84%\b\b\b85%\b\b\b86%\b\b\b87%\b\b\b88%\b\b\b89%\b\b\b90%\b\b\b91%\b\b\b92%\b\b\b93%\b\b\b94%\b\b\b95%\b\b\b96%\b\b\b97%\b\b\b98%\b\b\b99%\b\b\b\b done.\n",
      "Total genotyping rate is 0.99767.\n",
      "55165 variants and 988 people pass filters and QC.\n",
      "Note: No phenotypes present.\n",
      "--recode to hapmap10_auto_noofs_ld.ped + hapmap10_auto_noofs_ld.map ... 0%\b\b1%\b\b2%\b\b3%\b\b4%\b\b5%\b\b6%\b\b7%\b\b8%\b\b9%\b\b10%\b\b\b11%\b\b\b12%\b\b\b13%\b\b\b14%\b\b\b15%\b\b\b16%\b\b\b17%\b\b\b18%\b\b\b19%\b\b\b20%\b\b\b21%\b\b\b22%\b\b\b23%\b\b\b24%\b\b\b25%\b\b\b26%\b\b\b27%\b\b\b28%\b\b\b29%\b\b\b30%\b\b\b31%\b\b\b32%\b\b\b33%\b\b\b34%\b\b\b35%\b\b\b36%\b\b\b37%\b\b\b38%\b\b\b39%\b\b\b40%\b\b\b41%\b\b\b42%\b\b\b43%\b\b\b44%\b\b\b45%\b\b\b46%\b\b\b47%\b\b\b48%\b\b\b49%\b\b\b50%\b\b\b51%\b\b\b52%\b\b\b53%\b\b\b54%\b\b\b55%\b\b\b56%\b\b\b57%\b\b\b58%\b\b\b59%\b\b\b60%\b\b\b61%\b\b\b62%\b\b\b63%\b\b\b64%\b\b\b65%\b\b\b66%\b\b\b67%\b\b\b68%\b\b\b69%\b\b\b70%\b\b\b71%\b\b\b72%\b\b\b73%\b\b\b74%\b\b\b75%\b\b\b76%\b\b\b77%\b\b\b78%\b\b\b79%\b\b\b80%\b\b\b81%\b\b\b82%\b\b\b83%\b\b\b84%\b\b\b85%\b\b\b86%\b\b\b87%\b\b\b88%\b\b\b89%\b\b\b90%\b\b\b91%\b\b\b92%\b\b\b93%\b\b\b94%\b\b\b95%\b\b\b96%\b\b\b97%\b\b\b98%\b\b\b99%\b\b\bdone.\n"
     ]
    }
   ],
   "source": [
    "!plink --file hapmap10_auto_noofs --extract keep.prune.in --recode --out hapmap10_auto_noofs_ld"
   ]
  },
  {
   "cell_type": "markdown",
   "metadata": {},
   "source": [
    "## 1-2) PLINK 예시5. 다른 format으로 저장\n",
    "\n",
    "--recode <01 | 12>\n",
    "    - recode01 : minor allele - 0, major allele -1.\n",
    "    - recode12 : minor allele - 1, major allele -2.\n",
    "    (나중에 PCA분석에 사용할 것임)\n",
    "--make-bed\n",
    "    - Create a new binary fileset.(ped,map --> bed,fam,bim format으로 저장)\n",
    "        - plink.fam      ( first six columns of mydata.ped ) \n",
    "        - plink.bed      ( binary file, genotype information )\n",
    "        - plink.bim      ( extended MAP file: two extra cols = allele names)"
   ]
  },
  {
   "cell_type": "code",
   "execution_count": 1,
   "metadata": {
    "collapsed": false
   },
   "outputs": [
    {
     "name": "stdout",
     "output_type": "stream",
     "text": [
      "PLINK v1.90b3.29 64-bit (24 Dec 2015)      https://www.cog-genomics.org/plink2\n",
      "(C) 2005-2015 Shaun Purcell, Christopher Chang   GNU General Public License v3\n",
      "Note: --recode12 flag deprecated.  Use 'recode 12 ...'.\n",
      "Logging to hapmap10_auto_noofs_ld_12.log.\n",
      "Options in effect:\n",
      "  --file hapmap10_auto_noofs_ld\n",
      "  --out hapmap10_auto_noofs_ld_12\n",
      "  --recode 12 tab\n",
      "\n",
      "17938 MB RAM detected; reserving 8969 MB for main workspace.\n",
      ".ped scan complete (for binary autoconversion).\n",
      "Performing single-pass .bed write (55165 variants, 988 people).\n",
      "--file: hapmap10_auto_noofs_ld_12-temporary.bed +\n",
      "hapmap10_auto_noofs_ld_12-temporary.bim +\n",
      "hapmap10_auto_noofs_ld_12-temporary.fam written.\n",
      "55165 variants loaded from .bim file.\n",
      "988 people (488 males, 500 females) loaded from .fam.\n",
      "Using 1 thread (no multithreaded calculations invoked.\n",
      "Before main variant filters, 988 founders and 0 nonfounders present.\n",
      "Calculating allele frequencies... 0%\b\b1%\b\b2%\b\b3%\b\b4%\b\b5%\b\b6%\b\b7%\b\b8%\b\b9%\b\b10%\b\b\b11%\b\b\b12%\b\b\b13%\b\b\b14%\b\b\b15%\b\b\b16%\b\b\b17%\b\b\b18%\b\b\b19%\b\b\b20%\b\b\b21%\b\b\b22%\b\b\b23%\b\b\b24%\b\b\b25%\b\b\b26%\b\b\b27%\b\b\b28%\b\b\b29%\b\b\b30%\b\b\b31%\b\b\b32%\b\b\b33%\b\b\b34%\b\b\b35%\b\b\b36%\b\b\b37%\b\b\b38%\b\b\b39%\b\b\b40%\b\b\b41%\b\b\b42%\b\b\b43%\b\b\b44%\b\b\b45%\b\b\b46%\b\b\b47%\b\b\b48%\b\b\b49%\b\b\b50%\b\b\b51%\b\b\b52%\b\b\b53%\b\b\b54%\b\b\b55%\b\b\b56%\b\b\b57%\b\b\b58%\b\b\b59%\b\b\b60%\b\b\b61%\b\b\b62%\b\b\b63%\b\b\b64%\b\b\b65%\b\b\b66%\b\b\b67%\b\b\b68%\b\b\b69%\b\b\b70%\b\b\b71%\b\b\b72%\b\b\b73%\b\b\b74%\b\b\b75%\b\b\b76%\b\b\b77%\b\b\b78%\b\b\b79%\b\b\b80%\b\b\b81%\b\b\b82%\b\b\b83%\b\b\b84%\b\b\b85%\b\b\b86%\b\b\b87%\b\b\b88%\b\b\b89%\b\b\b90%\b\b\b91%\b\b\b92%\b\b\b93%\b\b\b94%\b\b\b95%\b\b\b96%\b\b\b97%\b\b\b98%\b\b\b99%\b\b\b\b done.\n",
      "Total genotyping rate is 0.99767.\n",
      "55165 variants and 988 people pass filters and QC.\n",
      "Note: No phenotypes present.\n",
      "--recode to hapmap10_auto_noofs_ld_12.ped + hapmap10_auto_noofs_ld_12.map ...\n",
      "0%\b\b1%\b\b2%\b\b3%\b\b4%\b\b5%\b\b6%\b\b7%\b\b8%\b\b9%\b\b10%\b\b\b11%\b\b\b12%\b\b\b13%\b\b\b14%\b\b\b15%\b\b\b16%\b\b\b17%\b\b\b18%\b\b\b19%\b\b\b20%\b\b\b21%\b\b\b22%\b\b\b23%\b\b\b24%\b\b\b25%\b\b\b26%\b\b\b27%\b\b\b28%\b\b\b29%\b\b\b30%\b\b\b31%\b\b\b32%\b\b\b33%\b\b\b34%\b\b\b35%\b\b\b36%\b\b\b37%\b\b\b38%\b\b\b39%\b\b\b40%\b\b\b41%\b\b\b42%\b\b\b43%\b\b\b44%\b\b\b45%\b\b\b46%\b\b\b47%\b\b\b48%\b\b\b49%\b\b\b50%\b\b\b51%\b\b\b52%\b\b\b53%\b\b\b54%\b\b\b55%\b\b\b56%\b\b\b57%\b\b\b58%\b\b\b59%\b\b\b60%\b\b\b61%\b\b\b62%\b\b\b63%\b\b\b64%\b\b\b65%\b\b\b66%\b\b\b67%\b\b\b68%\b\b\b69%\b\b\b70%\b\b\b71%\b\b\b72%\b\b\b73%\b\b\b74%\b\b\b75%\b\b\b76%\b\b\b77%\b\b\b78%\b\b\b79%\b\b\b80%\b\b\b81%\b\b\b82%\b\b\b83%\b\b\b84%\b\b\b85%\b\b\b86%\b\b\b87%\b\b\b88%\b\b\b89%\b\b\b90%\b\b\b91%\b\b\b92%\b\b\b93%\b\b\b94%\b\b\b95%\b\b\b96%\b\b\b97%\b\b\b98%\b\b\b99%\b\b\bdone.\n",
      "PLINK v1.90b3.29 64-bit (24 Dec 2015)      https://www.cog-genomics.org/plink2\n",
      "(C) 2005-2015 Shaun Purcell, Christopher Chang   GNU General Public License v3\n",
      "Logging to hapmap10_auto_noofs_ld.log.\n",
      "Options in effect:\n",
      "  --file hapmap10_auto_noofs_ld\n",
      "  --make-bed\n",
      "  --out hapmap10_auto_noofs_ld\n",
      "\n",
      "17938 MB RAM detected; reserving 8969 MB for main workspace.\n",
      ".ped scan complete (for binary autoconversion).\n",
      "Performing single-pass .bed write (55165 variants, 988 people).\n",
      "--file: hapmap10_auto_noofs_ld-temporary.bed +\n",
      "hapmap10_auto_noofs_ld-temporary.bim + hapmap10_auto_noofs_ld-temporary.fam\n",
      "written.\n",
      "55165 variants loaded from .bim file.\n",
      "988 people (488 males, 500 females) loaded from .fam.\n",
      "Using 1 thread (no multithreaded calculations invoked.\n",
      "Before main variant filters, 988 founders and 0 nonfounders present.\n",
      "Calculating allele frequencies... 0%\b\b1%\b\b2%\b\b3%\b\b4%\b\b5%\b\b6%\b\b7%\b\b8%\b\b9%\b\b10%\b\b\b11%\b\b\b12%\b\b\b13%\b\b\b14%\b\b\b15%\b\b\b16%\b\b\b17%\b\b\b18%\b\b\b19%\b\b\b20%\b\b\b21%\b\b\b22%\b\b\b23%\b\b\b24%\b\b\b25%\b\b\b26%\b\b\b27%\b\b\b28%\b\b\b29%\b\b\b30%\b\b\b31%\b\b\b32%\b\b\b33%\b\b\b34%\b\b\b35%\b\b\b36%\b\b\b37%\b\b\b38%\b\b\b39%\b\b\b40%\b\b\b41%\b\b\b42%\b\b\b43%\b\b\b44%\b\b\b45%\b\b\b46%\b\b\b47%\b\b\b48%\b\b\b49%\b\b\b50%\b\b\b51%\b\b\b52%\b\b\b53%\b\b\b54%\b\b\b55%\b\b\b56%\b\b\b57%\b\b\b58%\b\b\b59%\b\b\b60%\b\b\b61%\b\b\b62%\b\b\b63%\b\b\b64%\b\b\b65%\b\b\b66%\b\b\b67%\b\b\b68%\b\b\b69%\b\b\b70%\b\b\b71%\b\b\b72%\b\b\b73%\b\b\b74%\b\b\b75%\b\b\b76%\b\b\b77%\b\b\b78%\b\b\b79%\b\b\b80%\b\b\b81%\b\b\b82%\b\b\b83%\b\b\b84%\b\b\b85%\b\b\b86%\b\b\b87%\b\b\b88%\b\b\b89%\b\b\b90%\b\b\b91%\b\b\b92%\b\b\b93%\b\b\b94%\b\b\b95%\b\b\b96%\b\b\b97%\b\b\b98%\b\b\b99%\b\b\b\b done.\n",
      "Total genotyping rate is 0.99767.\n",
      "55165 variants and 988 people pass filters and QC.\n",
      "Note: No phenotypes present.\n",
      "--make-bed to hapmap10_auto_noofs_ld.bed + hapmap10_auto_noofs_ld.bim +\n",
      "hapmap10_auto_noofs_ld.fam ... 0%\b\b1%\b\b2%\b\b3%\b\b4%\b\b5%\b\b6%\b\b7%\b\b8%\b\b9%\b\b10%\b\b\b11%\b\b\b12%\b\b\b13%\b\b\b14%\b\b\b15%\b\b\b16%\b\b\b17%\b\b\b18%\b\b\b19%\b\b\b20%\b\b\b21%\b\b\b22%\b\b\b23%\b\b\b24%\b\b\b25%\b\b\b26%\b\b\b27%\b\b\b28%\b\b\b29%\b\b\b30%\b\b\b31%\b\b\b32%\b\b\b33%\b\b\b34%\b\b\b35%\b\b\b36%\b\b\b37%\b\b\b38%\b\b\b39%\b\b\b40%\b\b\b41%\b\b\b42%\b\b\b43%\b\b\b44%\b\b\b45%\b\b\b46%\b\b\b47%\b\b\b48%\b\b\b49%\b\b\b50%\b\b\b51%\b\b\b52%\b\b\b53%\b\b\b54%\b\b\b55%\b\b\b56%\b\b\b57%\b\b\b58%\b\b\b59%\b\b\b60%\b\b\b61%\b\b\b62%\b\b\b63%\b\b\b64%\b\b\b65%\b\b\b66%\b\b\b67%\b\b\b68%\b\b\b69%\b\b\b70%\b\b\b71%\b\b\b72%\b\b\b73%\b\b\b74%\b\b\b75%\b\b\b76%\b\b\b77%\b\b\b78%\b\b\b79%\b\b\b80%\b\b\b81%\b\b\b82%\b\b\b83%\b\b\b84%\b\b\b85%\b\b\b86%\b\b\b87%\b\b\b88%\b\b\b89%\b\b\b90%\b\b\b91%\b\b\b92%\b\b\b93%\b\b\b94%\b\b\b95%\b\b\b96%\b\b\b97%\b\b\b98%\b\b\b99%\b\b\bdone.\n"
     ]
    }
   ],
   "source": [
    "!plink --file hapmap10_auto_noofs_ld --recode12 tab --out hapmap10_auto_noofs_ld_12\n",
    "!plink --make-bed --file hapmap10_auto_noofs_ld --out hapmap10_auto_noofs_ld"
   ]
  },
  {
   "cell_type": "code",
   "execution_count": 7,
   "metadata": {
    "collapsed": false,
    "scrolled": true
   },
   "outputs": [
    {
     "name": "stdout",
     "output_type": "stream",
     "text": [
      "2431\tNA19916\t0\t0\t1\t-9\t2 2\t2 2\t2 2\t1 2\r\n",
      "2424\tNA19835\t0\t0\t2\t-9\t2 2\t2 2\t2 2\t2 2\r\n",
      "2469\tNA20282\t0\t0\t2\t-9\t2 2\t2 2\t2 2\t2 2\r\n"
     ]
    }
   ],
   "source": [
    "! head -3 hapmap10_auto_noofs_ld_12.ped |cut -f1-10"
   ]
  },
  {
   "cell_type": "code",
   "execution_count": 8,
   "metadata": {
    "collapsed": false,
    "scrolled": true
   },
   "outputs": [
    {
     "name": "stdout",
     "output_type": "stream",
     "text": [
      "1\trs3748593\t0\t870253\r\n",
      "1\trs3748595\t0\t877423\r\n",
      "1\trs1126573\t0\t939233\r\n"
     ]
    }
   ],
   "source": [
    "! head -3 hapmap10_auto_noofs_ld.map "
   ]
  },
  {
   "cell_type": "code",
   "execution_count": 10,
   "metadata": {
    "collapsed": false
   },
   "outputs": [
    {
     "name": "stdout",
     "output_type": "stream",
     "text": [
      "2431 NA19916 0 0 1 -9\r\n",
      "2424 NA19835 0 0 2 -9\r\n",
      "2469 NA20282 0 0 2 -9\r\n"
     ]
    }
   ],
   "source": [
    "! head -3 hapmap10_auto_noofs_ld.fam"
   ]
  },
  {
   "cell_type": "code",
   "execution_count": 15,
   "metadata": {
    "collapsed": false,
    "scrolled": true
   },
   "outputs": [
    {
     "name": "stdout",
     "output_type": "stream",
     "text": [
      "1\trs3748593\t0\t870253\tA\tC\r\n",
      "1\trs3748595\t0\t877423\tA\tC\r\n",
      "1\trs1126573\t0\t939233\tT\tC\r\n"
     ]
    }
   ],
   "source": [
    "! head -3 hapmap10_auto_noofs_ld.bim"
   ]
  },
  {
   "cell_type": "code",
   "execution_count": 16,
   "metadata": {
    "collapsed": false,
    "scrolled": true
   },
   "outputs": [
    {
     "name": "stdout",
     "output_type": "stream",
     "text": [
      "l\u001b\u0001��>�����������������������������������������������������������������������������������������������������������������������������������˿����������������������������������?����>���>\u000b",
      "�����γ�����������������������������������������������������ﾾ�������������������������������������������������������������������������������~/�������������������������������������������������?���������������������������������������������������������������������������������������:����������������������������������������������������������������������������������������������������������������������������������������������������������������������������������������������_�������������������������������������������������������������������/ʺ?����������������������������������������/��������￻���������������������������������������������������������������*���ϫ*��/��������������//<����#����?�.�������뿊�:�����<�������������������������\r\n"
     ]
    }
   ],
   "source": [
    "! head -1 hapmap10_auto_noofs_ld.bed"
   ]
  },
  {
   "cell_type": "markdown",
   "metadata": {},
   "source": [
    "## 1-2) PLINK 예시6. 특정 chromosome만 저장"
   ]
  },
  {
   "cell_type": "code",
   "execution_count": 17,
   "metadata": {
    "collapsed": false,
    "scrolled": true
   },
   "outputs": [
    {
     "name": "stdout",
     "output_type": "stream",
     "text": [
      "PLINK v1.90b3.29 64-bit (24 Dec 2015)      https://www.cog-genomics.org/plink2\n",
      "(C) 2005-2015 Shaun Purcell, Christopher Chang   GNU General Public License v3\n",
      "Logging to hapmap10_auto_noofs_2.log.\n",
      "Options in effect:\n",
      "  --chr 2\n",
      "  --file hapmap10_auto_noofs\n",
      "  --out hapmap10_auto_noofs_2\n",
      "  --recode\n",
      "\n",
      "17938 MB RAM detected; reserving 8969 MB for main workspace.\n",
      ".ped scan complete (for binary autoconversion).\n",
      "Performing single-pass .bed write (11605 variants, 988 people).\n",
      "--file: hapmap10_auto_noofs_2-temporary.bed +\n",
      "hapmap10_auto_noofs_2-temporary.bim + hapmap10_auto_noofs_2-temporary.fam\n",
      "written.\n",
      "11605 variants loaded from .bim file.\n",
      "988 people (488 males, 500 females) loaded from .fam.\n",
      "Using 1 thread (no multithreaded calculations invoked.\n",
      "Before main variant filters, 988 founders and 0 nonfounders present.\n",
      "Calculating allele frequencies... 0%\b\b1%\b\b2%\b\b3%\b\b4%\b\b5%\b\b6%\b\b7%\b\b8%\b\b9%\b\b10%\b\b\b11%\b\b\b12%\b\b\b13%\b\b\b14%\b\b\b15%\b\b\b16%\b\b\b17%\b\b\b18%\b\b\b19%\b\b\b20%\b\b\b21%\b\b\b22%\b\b\b23%\b\b\b24%\b\b\b25%\b\b\b26%\b\b\b27%\b\b\b28%\b\b\b29%\b\b\b30%\b\b\b31%\b\b\b32%\b\b\b33%\b\b\b34%\b\b\b35%\b\b\b36%\b\b\b37%\b\b\b38%\b\b\b39%\b\b\b40%\b\b\b41%\b\b\b42%\b\b\b43%\b\b\b44%\b\b\b45%\b\b\b46%\b\b\b47%\b\b\b48%\b\b\b49%\b\b\b50%\b\b\b51%\b\b\b52%\b\b\b53%\b\b\b54%\b\b\b55%\b\b\b56%\b\b\b57%\b\b\b58%\b\b\b59%\b\b\b60%\b\b\b61%\b\b\b62%\b\b\b63%\b\b\b64%\b\b\b65%\b\b\b66%\b\b\b67%\b\b\b68%\b\b\b69%\b\b\b70%\b\b\b71%\b\b\b72%\b\b\b73%\b\b\b74%\b\b\b75%\b\b\b76%\b\b\b77%\b\b\b78%\b\b\b79%\b\b\b80%\b\b\b81%\b\b\b82%\b\b\b83%\b\b\b84%\b\b\b85%\b\b\b86%\b\b\b87%\b\b\b88%\b\b\b89%\b\b\b90%\b\b\b91%\b\b\b92%\b\b\b93%\b\b\b94%\b\b\b95%\b\b\b96%\b\b\b97%\b\b\b98%\b\b\b99%\b\b\b\b done.\n",
      "Total genotyping rate is 0.997742.\n",
      "11605 variants and 988 people pass filters and QC.\n",
      "Note: No phenotypes present.\n",
      "--recode to hapmap10_auto_noofs_2.ped + hapmap10_auto_noofs_2.map ... 0%\b\b1%\b\b2%\b\b3%\b\b4%\b\b5%\b\b6%\b\b7%\b\b8%\b\b9%\b\b10%\b\b\b11%\b\b\b12%\b\b\b13%\b\b\b14%\b\b\b15%\b\b\b16%\b\b\b17%\b\b\b18%\b\b\b19%\b\b\b20%\b\b\b21%\b\b\b22%\b\b\b23%\b\b\b24%\b\b\b25%\b\b\b26%\b\b\b27%\b\b\b28%\b\b\b29%\b\b\b30%\b\b\b31%\b\b\b32%\b\b\b33%\b\b\b34%\b\b\b35%\b\b\b36%\b\b\b37%\b\b\b38%\b\b\b39%\b\b\b40%\b\b\b41%\b\b\b42%\b\b\b43%\b\b\b44%\b\b\b45%\b\b\b46%\b\b\b47%\b\b\b48%\b\b\b49%\b\b\b50%\b\b\b51%\b\b\b52%\b\b\b53%\b\b\b54%\b\b\b55%\b\b\b56%\b\b\b57%\b\b\b58%\b\b\b59%\b\b\b60%\b\b\b61%\b\b\b62%\b\b\b63%\b\b\b64%\b\b\b65%\b\b\b66%\b\b\b67%\b\b\b68%\b\b\b69%\b\b\b70%\b\b\b71%\b\b\b72%\b\b\b73%\b\b\b74%\b\b\b75%\b\b\b76%\b\b\b77%\b\b\b78%\b\b\b79%\b\b\b80%\b\b\b81%\b\b\b82%\b\b\b83%\b\b\b84%\b\b\b85%\b\b\b86%\b\b\b87%\b\b\b88%\b\b\b89%\b\b\b90%\b\b\b91%\b\b\b92%\b\b\b93%\b\b\b94%\b\b\b95%\b\b\b96%\b\b\b97%\b\b\b98%\b\b\b99%\b\b\bdone.\n"
     ]
    }
   ],
   "source": [
    "!plink --recode --file hapmap10_auto_noofs --chr 2 --out hapmap10_auto_noofs_2"
   ]
  },
  {
   "cell_type": "code",
   "execution_count": 18,
   "metadata": {
    "collapsed": false
   },
   "outputs": [
    {
     "name": "stdout",
     "output_type": "stream",
     "text": [
      "2\trs13386087\t0\t24503\r\n",
      "2\trs10173732\t0\t31404\r\n",
      "2\trs300757\t0\t62515\r\n"
     ]
    }
   ],
   "source": [
    "! head -3 hapmap10_auto_noofs_2.map"
   ]
  }
 ],
 "metadata": {
  "kernelspec": {
   "display_name": "Python 2",
   "language": "python",
   "name": "python2"
  },
  "language_info": {
   "codemirror_mode": {
    "name": "ipython",
    "version": 2
   },
   "file_extension": ".py",
   "mimetype": "text/x-python",
   "name": "python",
   "nbconvert_exporter": "python",
   "pygments_lexer": "ipython2",
   "version": "2.7.11"
  }
 },
 "nbformat": 4,
 "nbformat_minor": 0
}
