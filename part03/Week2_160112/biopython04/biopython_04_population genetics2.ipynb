{
 "cells": [
  {
   "cell_type": "markdown",
   "metadata": {},
   "source": [
    "- 2) [Genepop](http://kimura.univ-montp2.fr/~rousset/Genepop.htm)"
   ]
  },
  {
   "cell_type": "code",
   "execution_count": null,
   "metadata": {
    "collapsed": true
   },
   "outputs": [],
   "source": [
    "!wget http://hapmap.ncbi.nlm.nih.gov/downloads/genotypes/hapmap3/plink_format/draft_2/relationships_w_pops_121708.txt"
   ]
  },
  {
   "cell_type": "markdown",
   "metadata": {},
   "source": [
    "- metadata (인종정보 추가 파일)"
   ]
  },
  {
   "cell_type": "code",
   "execution_count": 1,
   "metadata": {
    "collapsed": false,
    "scrolled": true
   },
   "outputs": [
    {
     "name": "stdout",
     "output_type": "stream",
     "text": [
      "FID\tIID\tdad\tmom\tsex\tpheno\tpopulation\r\n",
      "2357\tNA19625\t0\t0\t2\t0\tASW\r\n",
      "2367\tNA19702\tNA19700\tNA19701\t1\t0\tASW\r\n",
      "2367\tNA19700\t0\t0\t1\t0\tASW\r\n"
     ]
    }
   ],
   "source": [
    "! head -4 relationships_w_pops_121708.txt"
   ]
  },
  {
   "cell_type": "code",
   "execution_count": 12,
   "metadata": {
    "collapsed": false
   },
   "outputs": [],
   "source": [
    "from collections import defaultdict"
   ]
  },
  {
   "cell_type": "code",
   "execution_count": 13,
   "metadata": {
    "collapsed": true
   },
   "outputs": [],
   "source": [
    "f = open('relationships_w_pops_121708.txt')\n",
    "pop_ind = defaultdict(list)\n",
    "f.readline()  # header\n",
    "for line in f:\n",
    "    toks = line.rstrip().split('\\t')\n",
    "    fam_id = toks[0]\n",
    "    ind_id = toks[1]\n",
    "    pop = toks[-1]\n",
    "    pop_ind[pop].append((fam_id, ind_id))\n",
    "f.close()"
   ]
  },
  {
   "cell_type": "code",
   "execution_count": 14,
   "metadata": {
    "collapsed": false
   },
   "outputs": [
    {
     "name": "stdout",
     "output_type": "stream",
     "text": [
      "YRI [('Y004', 'NA18500'), ('Y004', 'NA18501'), ('Y004', 'NA18502')]\n",
      "CHB [('NA18555', 'NA18555'), ('NA18524', 'NA18524'), ('NA18526', 'NA18526')]\n",
      "CHD [('NA17962', 'NA17962'), ('NA17965', 'NA17965'), ('NA17966', 'NA17966')]\n",
      "TSI [('NA20502', 'NA20502'), ('NA20504', 'NA20504'), ('NA20505', 'NA20505')]\n",
      "MKK [('2563', 'NA21302'), ('2563', 'NA21301'), ('2563', 'NA21303')]\n",
      "MEX [('M001', 'NA19650'), ('M001', 'NA19649'), ('M001', 'NA19648')]\n",
      "LWK [('NA19027', 'NA19027'), ('NA19028', 'NA19028'), ('NA19031', 'NA19031')]\n",
      "CEU [('1334', 'NA10846'), ('1334', 'NA12146'), ('1334', 'NA12239')]\n",
      "ASW [('2357', 'NA19625'), ('2367', 'NA19702'), ('2367', 'NA19700')]\n",
      "JPT [('NA18956', 'NA18956'), ('NA18940', 'NA18940'), ('NA18942', 'NA18942')]\n",
      "GIH [('NA20845', 'NA20845'), ('NA20846', 'NA20846'), ('NA20847', 'NA20847')]\n"
     ]
    }
   ],
   "source": [
    "for pop in pop_ind:\n",
    "    print pop, pop_ind[pop][:3]"
   ]
  },
  {
   "cell_type": "markdown",
   "metadata": {},
   "source": [
    "## Check for consistency issues\n",
    "relationships_w_pops_121708.txt 와 hapmap1.ped의 정보 비교"
   ]
  },
  {
   "cell_type": "code",
   "execution_count": 13,
   "metadata": {
    "collapsed": false
   },
   "outputs": [
    {
     "name": "stdout",
     "output_type": "stream",
     "text": [
      "2427 NA19919 NA19908 NA19909 1 -9 G G C C\r\n",
      "2431 NA19916 0 0 1 -9 G G C C\r\n",
      "2424 NA19835 0 0 2 -9 G G C C\r\n"
     ]
    }
   ],
   "source": [
    "! head -3 hapmap1.ped |cut -d' ' -f1-10"
   ]
  },
  {
   "cell_type": "code",
   "execution_count": 12,
   "metadata": {
    "collapsed": false
   },
   "outputs": [
    {
     "name": "stdout",
     "output_type": "stream",
     "text": [
      "Problems with 2469/NA20281\n"
     ]
    }
   ],
   "source": [
    "all_inds = []\n",
    "for inds in pop_ind.values():\n",
    "    all_inds.extend(inds)\n",
    "    \n",
    "for line in open('hapmap1.ped'):\n",
    "    toks = line.rstrip().replace(' ', '\\t').split('\\t')\n",
    "    fam = toks[0]\n",
    "    ind = toks[1]\n",
    "    if (fam, ind) not in all_inds:\n",
    "        print('Problems with %s/%s' % (fam, ind))"
   ]
  },
  {
   "cell_type": "markdown",
   "metadata": {},
   "source": [
    "## 1) Convert from PLINK to Genepop\n"
   ]
  },
  {
   "cell_type": "raw",
   "metadata": {},
   "source": [
    "pip install pygenomics"
   ]
  },
  {
   "cell_type": "code",
   "execution_count": 10,
   "metadata": {
    "collapsed": false
   },
   "outputs": [],
   "source": [
    "from genomics.popgen.plink.convert import to_genepop"
   ]
  },
  {
   "cell_type": "markdown",
   "metadata": {},
   "source": [
    "to_genepop(PLINK prefix, Genepop prefix, Dictionary population, header=\"plink2gp\")\n",
    "\n",
    "- 이 함수는 consistency step에서 확인한 것과 같이 매칭되지 않는 ID를 가지는 경우와 population정보가 없는 경우를 모두 제외하고 작동함"
   ]
  },
  {
   "cell_type": "code",
   "execution_count": 15,
   "metadata": {
    "collapsed": false
   },
   "outputs": [],
   "source": [
    "to_genepop('hapmap1_auto', 'hapmap1_auto', pop_ind)\n",
    "# to_genepop('hapmap10_auto_noofs_2', 'hapmap10_auto_noofs_2', pop_ind)\n",
    "# hapmap1_auto.gp\n",
    "# hapmap1_auto.pops"
   ]
  },
  {
   "cell_type": "markdown",
   "metadata": {},
   "source": [
    "## 2-1) Using the in-memory parser\n",
    "- .comment_line : header정보\n",
    "- .loci_list : locus 정보\n",
    "- .pop_list : population 정보\n",
    "- .pupulations : 각 population과 그에 속하는 개인들의 genotype정보"
   ]
  },
  {
   "cell_type": "code",
   "execution_count": 1,
   "metadata": {
    "collapsed": true
   },
   "outputs": [],
   "source": [
    "from Bio.PopGen.GenePop import read"
   ]
  },
  {
   "cell_type": "code",
   "execution_count": 2,
   "metadata": {
    "collapsed": false
   },
   "outputs": [],
   "source": [
    "rec = read(open('hapmap1_auto.gp')) # Careful: this will severely increase your memory usage, consider it optional"
   ]
  },
  {
   "cell_type": "code",
   "execution_count": 7,
   "metadata": {
    "collapsed": false,
    "scrolled": false
   },
   "outputs": [
    {
     "name": "stdout",
     "output_type": "stream",
     "text": [
      "Header: plink2gp\n"
     ]
    }
   ],
   "source": [
    "print('Header: %s' % rec.comment_line)"
   ]
  },
  {
   "cell_type": "code",
   "execution_count": 14,
   "metadata": {
    "collapsed": false
   },
   "outputs": [
    {
     "name": "stdout",
     "output_type": "stream",
     "text": [
      "['1/rs9660180/1712891', '1/rs2840531/2276268', '1/rs3122923/2445360', '1/rs28688388/2576163', '1/rs3100865/2795967']\n"
     ]
    }
   ],
   "source": [
    "print(rec.loci_list[:5]) # loci"
   ]
  },
  {
   "cell_type": "code",
   "execution_count": 17,
   "metadata": {
    "collapsed": false
   },
   "outputs": [
    {
     "name": "stdout",
     "output_type": "stream",
     "text": [
      "Population names: 2436/NA19983, 1459/NA12865, NA18594/NA18594, NA18140/NA18140, NA20881/NA20881, NA19007/NA19007, NA19372/NA19372, M005/NA19652, 2581/NA21371, NA20757/NA20757, Y105/NA19099\n"
     ]
    }
   ],
   "source": [
    "print('Population names: %s' % ', '.join(rec.pop_list))"
   ]
  },
  {
   "cell_type": "code",
   "execution_count": 50,
   "metadata": {
    "collapsed": false,
    "scrolled": true
   },
   "outputs": [
    {
     "name": "stdout",
     "output_type": "stream",
     "text": [
      "('2427/NA19919', [(4, 4), (2, 2), (2, 1), (4, 4), (3, 4)])\n"
     ]
    }
   ],
   "source": [
    "ind = rec.populations[0][0]\n",
    "print(ind[0], ind[1][:5])\n",
    "# coding: ACGT - 1234"
   ]
  },
  {
   "cell_type": "code",
   "execution_count": 3,
   "metadata": {
    "collapsed": false
   },
   "outputs": [
    {
     "name": "stdout",
     "output_type": "stream",
     "text": [
      "Header: 8\n",
      "Number of loci 14032\n",
      "Number of populations 11\n",
      "Population names: 2436/NA19983, 1459/NA12865, NA18594/NA18594, NA18140/NA18140, NA20881/NA20881, NA19007/NA19007, NA19372/NA19372, M005/NA19652, 2581/NA21371, NA20757/NA20757, Y105/NA19099\n",
      "Individuals per population 82, 165, 84, 85, 88, 86, 90, 77, 171, 88, 167\n",
      "Individual 1328/NA06989, SNP 1/rs9660180/1712891, alleles: 4 4\n"
     ]
    }
   ],
   "source": [
    "print('Header: %s' % len(rec.comment_line))\n",
    "print('Number of loci %d' % len(rec.loci_list))\n",
    "print('Number of populations %d' % len(rec.pop_list))\n",
    "print('Population names: %s' % ', '.join(rec.pop_list))\n",
    "print('Individuals per population %s' % ', '.join([str(len(inds)) for inds in rec.populations])) # last individual is used to identify a population\n",
    "ind = rec.populations[1][0]\n",
    "print('Individual %s, SNP %s, alleles: %d %d' % (ind[0], rec.loci_list[0], ind[1][0][0], ind[1][0][1]))\n",
    "del rec # delete the record because it takes up a lot of memory"
   ]
  },
  {
   "cell_type": "markdown",
   "metadata": {},
   "source": [
    "## 2-2) Using the Large File Parser\n",
    "- read_large\n",
    "\n",
    "it worn't load the whole in-memory file, but provide an iterator instead"
   ]
  },
  {
   "cell_type": "code",
   "execution_count": 1,
   "metadata": {
    "collapsed": true
   },
   "outputs": [],
   "source": [
    "from Bio.PopGen.GenePop.LargeFileParser import read as read_large"
   ]
  },
  {
   "cell_type": "code",
   "execution_count": 3,
   "metadata": {
    "collapsed": true
   },
   "outputs": [],
   "source": [
    "def count_individuals(fname):\n",
    "    rec = read_large(open(fname))\n",
    "    pop_sizes = []\n",
    "    for line in rec.data_generator():\n",
    "        if line == ():  # 빈 tuple - marker of a new population\n",
    "            pop_sizes.append(0)\n",
    "        else:\n",
    "            pop_sizes[-1] += 1\n",
    "    return pop_sizes"
   ]
  },
  {
   "cell_type": "code",
   "execution_count": 4,
   "metadata": {
    "collapsed": false
   },
   "outputs": [
    {
     "name": "stdout",
     "output_type": "stream",
     "text": [
      "Individuals per population 82, 165, 84, 85, 88, 86, 90, 77, 171, 88, 167\n"
     ]
    }
   ],
   "source": [
    "print('Individuals per population %s' % ', '.join([str(ninds) for ninds in count_individuals('hapmap1_auto.gp')]))\n",
    "# ()\n",
    "#('2427/NA19919', [(4, 4), (2, 2), (2, 1), (4, 4), (3, 4), (1, 1), \n",
    "#                  (4, 4), (2, 2), (1, 1), (1, 4), (4, 4), (1, 1),\n",
    "#                  (4, 4), (1, 1), (1, 4), (1, 4), (1, 1), (1, 4),..."
   ]
  },
  {
   "cell_type": "code",
   "execution_count": null,
   "metadata": {
    "collapsed": true
   },
   "outputs": [],
   "source": []
  }
 ],
 "metadata": {
  "kernelspec": {
   "display_name": "Python 2",
   "language": "python",
   "name": "python2"
  },
  "language_info": {
   "codemirror_mode": {
    "name": "ipython",
    "version": 2
   },
   "file_extension": ".py",
   "mimetype": "text/x-python",
   "name": "python",
   "nbconvert_exporter": "python",
   "pygments_lexer": "ipython2",
   "version": "2.7.11"
  }
 },
 "nbformat": 4,
 "nbformat_minor": 0
}
