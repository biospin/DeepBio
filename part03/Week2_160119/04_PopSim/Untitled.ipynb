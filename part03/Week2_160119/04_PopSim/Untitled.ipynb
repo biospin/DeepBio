{
 "cells": [
  {
   "cell_type": "code",
   "execution_count": 1,
   "metadata": {
    "collapsed": false
   },
   "outputs": [
    {
     "name": "stdout",
     "output_type": "stream",
     "text": [
      "Collecting pyvcf\n",
      "  Downloading PyVCF-0.6.7.tar.gz\n",
      "Collecting distribute (from pyvcf)\n",
      "  Downloading distribute-0.7.3.zip (145kB)\n",
      "\u001b[K    100% |████████████████████████████████| 147kB 1.9MB/s \n",
      "\u001b[?25hRequirement already satisfied (use --upgrade to upgrade): setuptools>=0.7 in /home/seung-hyun/anaconda/envs/bioinformatics/lib/python2.7/site-packages/setuptools-18.8.1-py2.7.egg (from distribute->pyvcf)\n",
      "Building wheels for collected packages: pyvcf, distribute\n",
      "  Running setup.py bdist_wheel for pyvcf\n",
      "  Stored in directory: /home/seung-hyun/.cache/pip/wheels/68/93/6c/fb55ca4381dbf51fb37553cee72c62703fd9b856eee8e7febf\n",
      "  Running setup.py bdist_wheel for distribute\n",
      "  Stored in directory: /home/seung-hyun/.cache/pip/wheels/b2/3c/64/772be880a32a0c41e64b56b13c25450ff31cf363670d3bc576\n",
      "Successfully built pyvcf distribute\n",
      "Installing collected packages: distribute, pyvcf\n",
      "Successfully installed distribute-0.7.3 pyvcf-0.6.7\n"
     ]
    }
   ],
   "source": [
    "! pip install pyvcf"
   ]
  },
  {
   "cell_type": "code",
   "execution_count": 2,
   "metadata": {
    "collapsed": false
   },
   "outputs": [
    {
     "name": "stdout",
     "output_type": "stream",
     "text": [
      "Collecting dendropy\n",
      "  Downloading DendroPy-4.0.3.tar.gz (16.3MB)\n",
      "\u001b[K    100% |████████████████████████████████| 16.3MB 34kB/s \n",
      "\u001b[?25hRequirement already satisfied (use --upgrade to upgrade): setuptools in /home/seung-hyun/anaconda/envs/bioinformatics/lib/python2.7/site-packages/setuptools-18.8.1-py2.7.egg (from dendropy)\n",
      "Building wheels for collected packages: dendropy\n",
      "  Running setup.py bdist_wheel for dendropy\n",
      "  Stored in directory: /home/seung-hyun/.cache/pip/wheels/66/53/c5/13da5ec9657c76563670e6c4ade11d3425534615697b103cb9\n",
      "Successfully built dendropy\n",
      "Installing collected packages: dendropy\n",
      "Successfully installed dendropy-4.0.3\n"
     ]
    }
   ],
   "source": [
    "! pip install dendropy"
   ]
  },
  {
   "cell_type": "code",
   "execution_count": 3,
   "metadata": {
    "collapsed": true
   },
   "outputs": [],
   "source": [
    "from Bio import Entrez, SeqIO\n",
    "Entrez.email = 'tiger815@gmail.com'"
   ]
  },
  {
   "cell_type": "code",
   "execution_count": 4,
   "metadata": {
    "collapsed": false
   },
   "outputs": [
    {
     "ename": "SyntaxError",
     "evalue": "EOL while scanning string literal (<ipython-input-4-dbf98db26839>, line 1)",
     "output_type": "error",
     "traceback": [
      "\u001b[1;36m  File \u001b[1;32m\"<ipython-input-4-dbf98db26839>\"\u001b[1;36m, line \u001b[1;32m1\u001b[0m\n\u001b[1;33m    handle = Entrez.esearch(db='nucleotide', term='CRT\u001b[0m\n\u001b[1;37m                                                     ^\u001b[0m\n\u001b[1;31mSyntaxError\u001b[0m\u001b[1;31m:\u001b[0m EOL while scanning string literal\n"
     ]
    }
   ],
   "source": [
    "handle = Entrez.esearch(db='nucleotide', term='CRT\n",
    "[Gene Name] AND \"Plasmodium falciparum\"[Organism]')\n",
    "rec_list = Entrez.read(handle)\n",
    "if rec_list['RetMax'] < rec_list['Count']:\n",
    "handle = Entrez.esearch(db='nucleotide', term='CRT\n",
    "[Gene Name] AND \"Plasmodium falciparum\"[Organism]',\n",
    "retmax=rec_list['Count'])\n",
    "rec_list = Entrez.read(handle)"
   ]
  },
  {
   "cell_type": "code",
   "execution_count": null,
   "metadata": {
    "collapsed": true
   },
   "outputs": [],
   "source": []
  }
 ],
 "metadata": {
  "kernelspec": {
   "display_name": "Python 2",
   "language": "python",
   "name": "python2"
  },
  "language_info": {
   "codemirror_mode": {
    "name": "ipython",
    "version": 2
   },
   "file_extension": ".py",
   "mimetype": "text/x-python",
   "name": "python",
   "nbconvert_exporter": "python",
   "pygments_lexer": "ipython2",
   "version": "2.7.11"
  }
 },
 "nbformat": 4,
 "nbformat_minor": 0
}
