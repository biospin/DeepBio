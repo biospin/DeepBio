{
 "cells": [
  {
   "cell_type": "markdown",
   "metadata": {},
   "source": [
    "# 우분투 14.04에 NVIDA CUDA 드라이버설치 \n",
    "\n",
    "## 원본자료 :  http://docs.nvidia.com/cuda/cuda-getting-started-guide-for-linux/index.html#pre-installation-actions"
   ]
  },
  {
   "cell_type": "markdown",
   "metadata": {},
   "source": [
    "## 01. 시스템 요구사항 \n",
    "- CUDA를 지원하는 그래픽카드\n",
    "- gcc 컴파일러와 toolchain을 설치된 CUDA운영이 가능한 리눅스 버전\n",
    "- NVIDIA CUDA Toolkit ( http://developer.nvidia.com/cuda-downloads )\n",
    "\n",
    "## 02. 설치 준비 작업\n",
    "### CUDA Toolkit 설치 이전에  해당 리눅스에 맞는 그래픽 드라이버를 설치해야 함.\n",
    "- CUDA를 지원하는 그래픽카드가 설치되어 있는지 확인\n",
    "- CUDA운영이 가능한 리눅스 버전인지 확인\n",
    "- gcc가 설치되어 있는지 확인\n",
    "- NVIDIA CUDA Toolkit 다운로드\n",
    "- 설치시 장애 처리 방법( uninstall 방법 )"
   ]
  },
  {
   "cell_type": "markdown",
   "metadata": {},
   "source": [
    "### CUDA를 지원하는 그래픽카드가 설치되어 있는지 확인\n",
    "```\n",
    "[deeplearning@deep01 ~]$ lspci | grep -i nvidia\n",
    "02:00.0 VGA compatible controller: NVIDIA Corporation Device 1401 (rev a1)\n",
    "02:00.1 Audio device: NVIDIA Corporation Device 0fba (rev a1)\n",
    "```"
   ]
  },
  {
   "cell_type": "code",
   "execution_count": 3,
   "metadata": {
    "collapsed": true
   },
   "outputs": [],
   "source": [
    "! lspci | grep -i nvidia"
   ]
  },
  {
   "cell_type": "markdown",
   "metadata": {},
   "source": [
    "### CUDA운영이 가능한 리눅스 버전인지 확인"
   ]
  },
  {
   "cell_type": "code",
   "execution_count": 4,
   "metadata": {
    "collapsed": false
   },
   "outputs": [
    {
     "name": "stdout",
     "output_type": "stream",
     "text": [
      "x86_64\r\n",
      "DISTRIB_ID=Ubuntu\r\n",
      "DISTRIB_RELEASE=14.04\r\n",
      "DISTRIB_CODENAME=trusty\r\n",
      "DISTRIB_DESCRIPTION=\"Ubuntu 14.04.3 LTS\"\r\n",
      "NAME=\"Ubuntu\"\r\n",
      "VERSION=\"14.04.3 LTS, Trusty Tahr\"\r\n",
      "ID=ubuntu\r\n",
      "ID_LIKE=debian\r\n",
      "PRETTY_NAME=\"Ubuntu 14.04.3 LTS\"\r\n",
      "VERSION_ID=\"14.04\"\r\n",
      "HOME_URL=\"http://www.ubuntu.com/\"\r\n",
      "SUPPORT_URL=\"http://help.ubuntu.com/\"\r\n",
      "BUG_REPORT_URL=\"http://bugs.launchpad.net/ubuntu/\"\r\n"
     ]
    }
   ],
   "source": [
    "! uname -m && cat /etc/*release"
   ]
  },
  {
   "cell_type": "markdown",
   "metadata": {},
   "source": [
    "### gcc가 설치되어 있는지 확인"
   ]
  },
  {
   "cell_type": "code",
   "execution_count": 6,
   "metadata": {
    "collapsed": false
   },
   "outputs": [
    {
     "name": "stdout",
     "output_type": "stream",
     "text": [
      "gcc (Ubuntu 4.8.4-2ubuntu1~14.04) 4.8.4\r\n",
      "Copyright (C) 2013 Free Software Foundation, Inc.\r\n",
      "This is free software; see the source for copying conditions.  There is NO\r\n",
      "warranty; not even for MERCHANTABILITY or FITNESS FOR A PARTICULAR PURPOSE.\r\n",
      "\r\n"
     ]
    }
   ],
   "source": [
    "! gcc --version"
   ]
  },
  {
   "cell_type": "markdown",
   "metadata": {},
   "source": [
    "### NVIDIA CUDA Toolkit 다운로드\n",
    "\n",
    "- 최신버전( 7.5 ) : http://developer.nvidia.com/cuda-downloads \n",
    "- 7.0버전 : https://developer.nvidia.com/cuda-toolkit-70\n",
    "- 6.5버전 : https://developer.nvidia.com/cuda-toolkit-65\n",
    "- 6.5버전의 GeForce GTX980 또는 GTX970 용 : https://developer.nvidia.com/cuda-downloads-geforce-gtx9xx "
   ]
  },
  {
   "cell_type": "code",
   "execution_count": null,
   "metadata": {
    "collapsed": true
   },
   "outputs": [],
   "source": [
    "! wget http://developer.download.nvidia.com/compute/cuda/7_0/Prod/local_installers/cuda_7.0.28_linux.run"
   ]
  },
  {
   "cell_type": "markdown",
   "metadata": {},
   "source": [
    "### 설치시 장애 처리 방법\n",
    "- runfile 로 설치했을때 uninstall 방법\n",
    "```\n",
    "sudo /usr/local/cuda-X.Y/bin/uninstall_cuda_X.Y.pl\n",
    "sudo /usr/bin/nvidia-uninstall\n",
    "```\n",
    "\n",
    "- RPM/Deb 로 설치했을때 uninstall 방법\n",
    "```\n",
    "$ sudo apt-get --purge remove <package_name> # Ubuntu \n",
    "$ sudo yum remove <package_name> # Fedora/Redhat/CentOS \n",
    "$ sudo zypper remove <package_name> # OpenSUSE/SLES\n",
    "```"
   ]
  },
  {
   "cell_type": "markdown",
   "metadata": {},
   "source": [
    "## 03. NVIDIA CUDA Toolkit 설치"
   ]
  },
  {
   "cell_type": "markdown",
   "metadata": {
    "collapsed": true
   },
   "source": [
    "### 우분투를 텍스트모드 <-> X윈도우모드로 전환하는 스크립트 작성\n",
    "```\n",
    "sudo cp -n /etc/default/grub /etc/default/grub.xmode\n",
    "sudo vi /etc/default/grub\n",
    "#GRUB_CMDLINE_LINUX_DEFAULT=\"quiet splash\"\n",
    "GRUB_CMDLINE_LINUX=\"text\"\n",
    "#GRUB_TERMINAL=console\n",
    "sudo cp -n /etc/default/grub /etc/default/grub.tmode\n",
    "\n",
    "echo 'sudo cp /etc/default/grub.tmode /etc/default/grub && sudo update-grub' >> t-mode.sh\n",
    "echo 'sudo cp /etc/default/grub.xmode /etc/default/grub && sudo update-grub' >> x-mode.sh\n",
    "chmod +x *.sh\n",
    "```\n",
    "- 텍스트모드 전환 :  ./t-mode.sh &&  reboot \n",
    "- X윈도우모드 전환 :  ./x-mode.sh &&  reboot "
   ]
  },
  {
   "cell_type": "markdown",
   "metadata": {},
   "source": [
    "### 우분투 서버에 장착된 그래픽카드 드라이버를 다운로드하고 설치함\n",
    "- http://www.nvidia.co.kr/Download/Find.aspx?lang=kr\n",
    "- 리눅스용 그래픽카드 드라이버 설치시 root권한( sudo )이 필요하고,  텍스트모드로 부팅되어야 함."
   ]
  },
  {
   "cell_type": "markdown",
   "metadata": {},
   "source": [
    "### NVIDIA CUDA Toolkit 설치\n",
    "- Network Installer( .rpm, .deb)\n",
    "- Local Package Installer( .rpm, .deb)\t\n",
    "- Runfile Installer( .run )\n",
    "\n",
    "####  Network Installer\n",
    "```\n",
    "sudo dpkg -i cuda-repo-<distro>_<version>_<architecture>.deb\n",
    "sudo apt-get update\n",
    "sudo apt-get install cuda\n",
    "```\n",
    "\n",
    "#### Runfile Installer\n",
    "```\n",
    "# cuda 7 일때\n",
    "sudo ./cuda_7.0.28_linux.run\n",
    "\n",
    "# cuda 6.5 일때\n",
    "sudo ./cuda_6.5.14_linux_64.run --kernel-source-path=/usr/src/linux-headers-`uname -r`/\n",
    "```\n",
    "\n",
    "#### Library 등록\n",
    "```\n",
    "# cuda 7 일때\n",
    "echo 'export PATH=/usr/local/cuda-7.0/bin:$PATH' >> ~/.bashrc \n",
    "echo 'export LD_LIBRARY_PATH=/usr/local/cuda-7.0/lib64:$LD_LIBRARY_PATH' >> ~/.bashrc\n",
    "source ~/.bashrc\n",
    "\n",
    "# cuda 6.5 일때\n",
    "echo 'export PATH=/usr/local/cuda/bin:$PATH' >> ~/.bashrc\n",
    "echo 'export LD_LIBRARY_PATH=$LD_LIBRARY_PATH:/usr/local/cuda/lib64:/usr/local/lib' >> ~/.bashrc\n",
    "source ~/.bashrc\n",
    "```"
   ]
  },
  {
   "cell_type": "markdown",
   "metadata": {},
   "source": [
    "## 04. 설치 확인\n",
    "\n",
    "### 드라이브 버전 확인\n",
    "```\n",
    "[deeplearning@deep01 ~]$ cat /proc/driver/nvidia/version\n",
    "NVRM version: NVIDIA UNIX x86_64 Kernel Module  346.46  Tue Feb 17 17:56:08 PST 2015\n",
    "GCC version:  gcc version 4.8.4 (Ubuntu 4.8.4-2ubuntu1~14.04)\n",
    "```"
   ]
  },
  {
   "cell_type": "code",
   "execution_count": 8,
   "metadata": {
    "collapsed": false
   },
   "outputs": [
    {
     "name": "stdout",
     "output_type": "stream",
     "text": [
      "cat: /proc/driver/nvidia/version: 그런 파일이나 디렉터리가 없습니다\r\n"
     ]
    }
   ],
   "source": [
    "! cat /proc/driver/nvidia/version"
   ]
  },
  {
   "cell_type": "markdown",
   "metadata": {},
   "source": [
    "### 예제 컴파일\n",
    "```\n",
    "nvcc -V    # cuda 컴파일러 버전 확인\n",
    "cd ~/NVIDIA_CUDA-7.0_Samples\n",
    "make\n",
    "./simplePrintf\n",
    "./matrixMul\n",
    "./matrixMulCUBLAS\n",
    "```"
   ]
  },
  {
   "cell_type": "markdown",
   "metadata": {},
   "source": [
    "## 05. Theano에서 GPU와 CPU 사용법\n",
    "```\n",
    "# CPU\n",
    "THEANO_FLAGS=mode=FAST_RUN,device=cpu,floatX=float32 python check1.py\n",
    "\n",
    "# GPU\n",
    "THEANO_FLAGS=mode=FAST_RUN,device=gpu,floatX=float32 python check1.py\n",
    "```\n"
   ]
  },
  {
   "cell_type": "code",
   "execution_count": null,
   "metadata": {
    "collapsed": true
   },
   "outputs": [],
   "source": []
  }
 ],
 "metadata": {
  "kernelspec": {
   "display_name": "Python 2",
   "language": "python",
   "name": "python2"
  },
  "language_info": {
   "codemirror_mode": {
    "name": "ipython",
    "version": 2
   },
   "file_extension": ".py",
   "mimetype": "text/x-python",
   "name": "python",
   "nbconvert_exporter": "python",
   "pygments_lexer": "ipython2",
   "version": "2.7.10"
  }
 },
 "nbformat": 4,
 "nbformat_minor": 0
}
