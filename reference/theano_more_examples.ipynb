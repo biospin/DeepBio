{
 "cells": [
  {
   "cell_type": "markdown",
   "metadata": {},
   "source": [
    "# Theano More Examples"
   ]
  },
  {
   "cell_type": "markdown",
   "metadata": {},
   "source": [
    "- Theano의 근본적인 목적과 동적을 보다 체계적으로 알아보자.\n",
    "- 좀더 활용분야를 넓어보자."
   ]
  },
  {
   "cell_type": "markdown",
   "metadata": {},
   "source": [
    "## Logistic Function"
   ]
  },
  {
   "cell_type": "markdown",
   "metadata": {},
   "source": [
    "![logistic](http://deeplearning.net/software/theano/_images/math/ad5550567b9b0eae6cf861ba9704d98d36dd32a6.png)\n",
    "\n",
    "![logistic](http://deeplearning.net/software/theano/_images/logistic.png)\n",
    "\n",
    "- x축은 x값,  Y축은 s(x)값\n",
    "- matrix의 각각 개별 요소별로 function이 적용된다는 의미로 function이 elementwise 하게 계산됨."
   ]
  },
  {
   "cell_type": "code",
   "execution_count": 2,
   "metadata": {
    "collapsed": false
   },
   "outputs": [],
   "source": [
    "import theano\n",
    "import theano.tensor as T\n",
    "x = T.dmatrix('x')\n",
    "s = 1 / (1 + T.exp(-x))"
   ]
  },
  {
   "cell_type": "code",
   "execution_count": 3,
   "metadata": {
    "collapsed": true
   },
   "outputs": [],
   "source": [
    "logistic = theano.function([x], s)"
   ]
  },
  {
   "cell_type": "code",
   "execution_count": 4,
   "metadata": {
    "collapsed": false
   },
   "outputs": [
    {
     "data": {
      "text/plain": [
       "array([[ 0.5       ,  0.73105858],\n",
       "       [ 0.26894142,  0.11920292]])"
      ]
     },
     "execution_count": 4,
     "metadata": {},
     "output_type": "execute_result"
    }
   ],
   "source": [
    "logistic([[0, 1], [-1, -2]])"
   ]
  },
  {
   "cell_type": "markdown",
   "metadata": {},
   "source": [
    "![tanh](http://deeplearning.net/software/theano/_images/math/170dc7d9a165d8cd72fe9c35973e10b5d103fce9.png)"
   ]
  },
  {
   "cell_type": "code",
   "execution_count": 7,
   "metadata": {
    "collapsed": false
   },
   "outputs": [
    {
     "data": {
      "text/plain": [
       "array([[ 0.5       ,  0.73105858],\n",
       "       [ 0.26894142,  0.11920292]])"
      ]
     },
     "execution_count": 7,
     "metadata": {},
     "output_type": "execute_result"
    }
   ],
   "source": [
    "s2 = (1 + T.tanh(x / 2)) / 2\n",
    "logistic2 = theano.function([x], s2)\n",
    "logistic2([[0, 1], [-1, -2]])"
   ]
  },
  {
   "cell_type": "markdown",
   "metadata": {},
   "source": [
    "## 한번에 여러가지 계산하기\n",
    "- Theano는 여러개의 결과물 가지는 function을 지원함.\n",
    "- 개별요소별로 a와 b의 행렬간의 차이, 차의 절대값, 차의 제곱을 한번에 계산"
   ]
  },
  {
   "cell_type": "code",
   "execution_count": 8,
   "metadata": {
    "collapsed": true
   },
   "outputs": [],
   "source": [
    "a, b = T.dmatrices('a', 'b')\n",
    "diff = a - b\n",
    "abs_diff = abs(diff)\n",
    "diff_squared = diff**2\n",
    "f = theano.function([a, b], [diff, abs_diff, diff_squared])"
   ]
  },
  {
   "cell_type": "code",
   "execution_count": 10,
   "metadata": {
    "collapsed": false
   },
   "outputs": [
    {
     "data": {
      "text/plain": [
       "[array([[ 1.,  0.],\n",
       "        [-1., -2.]]), array([[ 1.,  0.],\n",
       "        [ 1.,  2.]]), array([[ 1.,  0.],\n",
       "        [ 1.,  4.]])]"
      ]
     },
     "execution_count": 10,
     "metadata": {},
     "output_type": "execute_result"
    }
   ],
   "source": [
    "f([[1, 1], [1, 1]], [[0, 1], [2, 3]] )"
   ]
  },
  {
   "cell_type": "code",
   "execution_count": null,
   "metadata": {
    "collapsed": true
   },
   "outputs": [],
   "source": [
    "[array([[ 1.,  0.], [-1., -2.]]), \n",
    " array([[ 1.,  0.], [ 1.,  2.]]), \n",
    " array([[ 1.,  0.], [ 1.,  4.]])]"
   ]
  },
  {
   "cell_type": "markdown",
   "metadata": {},
   "source": [
    "## function의 인자에 기본값 설정\n",
    "- 두개 숫자값을 더하는 함수를 만들고, 만약 하나의 숫자만 넣으면 다른 숫자값은 1 이라고 가정하자.\n",
    "- Param 클래스를 이용해서 y 변수에 기본값(default)을 1로 설정함."
   ]
  },
  {
   "cell_type": "code",
   "execution_count": 11,
   "metadata": {
    "collapsed": true
   },
   "outputs": [],
   "source": [
    "from theano import Param\n",
    "from theano import function\n",
    "x, y = T.dscalars('x', 'y')\n",
    "z = x + y\n",
    "f = function([x, Param(y, default=1)], z)"
   ]
  },
  {
   "cell_type": "code",
   "execution_count": 12,
   "metadata": {
    "collapsed": false
   },
   "outputs": [
    {
     "data": {
      "text/plain": [
       "array(34.0)"
      ]
     },
     "execution_count": 12,
     "metadata": {},
     "output_type": "execute_result"
    }
   ],
   "source": [
    "f(33)"
   ]
  },
  {
   "cell_type": "code",
   "execution_count": 13,
   "metadata": {
    "collapsed": false
   },
   "outputs": [
    {
     "data": {
      "text/plain": [
       "array(35.0)"
      ]
     },
     "execution_count": 13,
     "metadata": {},
     "output_type": "execute_result"
    }
   ],
   "source": [
    "f(33, 2)"
   ]
  },
  {
   "cell_type": "markdown",
   "metadata": {},
   "source": [
    "- 여러개의 입력변수에 여러 개의 default값을 갖을 수 있음.\n",
    "- Python과 같이 위치나 이름(name)으로 입력값이 어떤 변수인지 지정할 수 있음."
   ]
  },
  {
   "cell_type": "code",
   "execution_count": 14,
   "metadata": {
    "collapsed": true
   },
   "outputs": [],
   "source": [
    "x, y, w = T.dscalars('x', 'y', 'w')\n",
    "z = (x + y) * w\n",
    "f = function([x, Param(y, default=1), Param(w, default=2, name='w_by_name')], z)"
   ]
  },
  {
   "cell_type": "code",
   "execution_count": 15,
   "metadata": {
    "collapsed": false
   },
   "outputs": [
    {
     "data": {
      "text/plain": [
       "array(68.0)"
      ]
     },
     "execution_count": 15,
     "metadata": {},
     "output_type": "execute_result"
    }
   ],
   "source": [
    "f(33)"
   ]
  },
  {
   "cell_type": "code",
   "execution_count": 17,
   "metadata": {
    "collapsed": false
   },
   "outputs": [
    {
     "data": {
      "text/plain": [
       "array(70.0)"
      ]
     },
     "execution_count": 17,
     "metadata": {},
     "output_type": "execute_result"
    }
   ],
   "source": [
    "f(33, 2)"
   ]
  },
  {
   "cell_type": "code",
   "execution_count": 18,
   "metadata": {
    "collapsed": false
   },
   "outputs": [
    {
     "data": {
      "text/plain": [
       "array(33.0)"
      ]
     },
     "execution_count": 18,
     "metadata": {},
     "output_type": "execute_result"
    }
   ],
   "source": [
    "f(33, 0, 1)"
   ]
  },
  {
   "cell_type": "code",
   "execution_count": 19,
   "metadata": {
    "collapsed": false
   },
   "outputs": [
    {
     "data": {
      "text/plain": [
       "array(34.0)"
      ]
     },
     "execution_count": 19,
     "metadata": {},
     "output_type": "execute_result"
    }
   ],
   "source": [
    "f(33, w_by_name=1)"
   ]
  },
  {
   "cell_type": "code",
   "execution_count": 20,
   "metadata": {
    "collapsed": false
   },
   "outputs": [
    {
     "data": {
      "text/plain": [
       "array(33.0)"
      ]
     },
     "execution_count": 20,
     "metadata": {},
     "output_type": "execute_result"
    }
   ],
   "source": [
    "f(33, w_by_name=1, y=0)"
   ]
  },
  {
   "cell_type": "markdown",
   "metadata": {},
   "source": [
    "## Using Shared Variables\n",
    "- 내부적인 상태를 저장하는 function를 만드는 것이 가능함.\n",
    "- accumulator라는 function을 만들고 처음 시작할때 상태값을 0으로 설정하고 function이 호출할때마다 상태값을 증가시켜보자."
   ]
  },
  {
   "cell_type": "code",
   "execution_count": 49,
   "metadata": {
    "collapsed": true
   },
   "outputs": [],
   "source": [
    "from theano import shared\n",
    "state = shared(0)\n",
    "inc = T.iscalar('inc')\n",
    "accumulator = function([inc], state, updates=[(state, state+inc)])"
   ]
  },
  {
   "cell_type": "markdown",
   "metadata": {},
   "source": [
    "- 2가지 새로운 개념이 포함됨\n",
    "\n",
    "\n",
    "- shared() function은 shared variables(공유변수)을 생성함.\n",
    "- 공유변수는 여러 function들 사이에서 값을 공유할 수 있게 하며, symbolic이 없을 수 있고, 있을 수 있음.\n",
    "- 공유변수는 dmatrices(...) 와 같이 symbolic 로 표현할 수 있지만, 내부적으로 symbolic variable(기호가 있는 변수)을 생성하고 이를 사용함.\n",
    "- 공유변수는 여러 function들에서 공유될 수 있기 때문에 이렇게 불리어짐.\n",
    "- .get_value() method로 값을 읽고, .set_value() method로 값을 수정함.<br>\n",
    "\n",
    "\n",
    "- function의 updates 인자가 새롭게 등장\n",
    "- updates는 (shared변수, 표현식) 쌍을 이루는 형식들의 리스트를 갖음.\n",
    "- python의 dictionary 와 비슷하게 키가 shared변수이고 값이 표현식 이라고 할 수 있음.\n",
    "- updates의 의미는 funtion이 실행될때마다, shared변수의 값이  표현식의 결과값으로 대체됨."
   ]
  },
  {
   "cell_type": "code",
   "execution_count": 50,
   "metadata": {
    "collapsed": false
   },
   "outputs": [
    {
     "data": {
      "text/plain": [
       "array(0)"
      ]
     },
     "execution_count": 50,
     "metadata": {},
     "output_type": "execute_result"
    }
   ],
   "source": [
    "state.get_value()"
   ]
  },
  {
   "cell_type": "code",
   "execution_count": 51,
   "metadata": {
    "collapsed": false
   },
   "outputs": [
    {
     "data": {
      "text/plain": [
       "array(0)"
      ]
     },
     "execution_count": 51,
     "metadata": {},
     "output_type": "execute_result"
    }
   ],
   "source": [
    "accumulator(1)"
   ]
  },
  {
   "cell_type": "code",
   "execution_count": 52,
   "metadata": {
    "collapsed": false
   },
   "outputs": [
    {
     "data": {
      "text/plain": [
       "array(1)"
      ]
     },
     "execution_count": 52,
     "metadata": {},
     "output_type": "execute_result"
    }
   ],
   "source": [
    "state.get_value()"
   ]
  },
  {
   "cell_type": "code",
   "execution_count": 53,
   "metadata": {
    "collapsed": false
   },
   "outputs": [
    {
     "data": {
      "text/plain": [
       "array(1)"
      ]
     },
     "execution_count": 53,
     "metadata": {},
     "output_type": "execute_result"
    }
   ],
   "source": [
    "accumulator(300)"
   ]
  },
  {
   "cell_type": "code",
   "execution_count": 54,
   "metadata": {
    "collapsed": false
   },
   "outputs": [
    {
     "data": {
      "text/plain": [
       "array(301)"
      ]
     },
     "execution_count": 54,
     "metadata": {},
     "output_type": "execute_result"
    }
   ],
   "source": [
    "state.get_value()"
   ]
  },
  {
   "cell_type": "code",
   "execution_count": 55,
   "metadata": {
    "collapsed": true
   },
   "outputs": [],
   "source": [
    "# .set_value() method을 사용해서 상태값을 -1 초기화 \n",
    "state.set_value(-1)"
   ]
  },
  {
   "cell_type": "code",
   "execution_count": 56,
   "metadata": {
    "collapsed": false
   },
   "outputs": [
    {
     "data": {
      "text/plain": [
       "array(-1)"
      ]
     },
     "execution_count": 56,
     "metadata": {},
     "output_type": "execute_result"
    }
   ],
   "source": [
    "accumulator(3)"
   ]
  },
  {
   "cell_type": "code",
   "execution_count": 57,
   "metadata": {
    "collapsed": false
   },
   "outputs": [
    {
     "data": {
      "text/plain": [
       "array(2)"
      ]
     },
     "execution_count": 57,
     "metadata": {},
     "output_type": "execute_result"
    }
   ],
   "source": [
    "state.get_value()"
   ]
  },
  {
   "cell_type": "markdown",
   "metadata": {},
   "source": [
    "- 같은 공유변수를 사용하여 다른 function을 정의하고 그 function으로 공유변수값을 변경해보자."
   ]
  },
  {
   "cell_type": "code",
   "execution_count": 58,
   "metadata": {
    "collapsed": false
   },
   "outputs": [
    {
     "data": {
      "text/plain": [
       "array(2)"
      ]
     },
     "execution_count": 58,
     "metadata": {},
     "output_type": "execute_result"
    }
   ],
   "source": [
    "decrementor = function([inc], state, updates=[(state, state-inc)])\n",
    "decrementor(2)"
   ]
  },
  {
   "cell_type": "code",
   "execution_count": 59,
   "metadata": {
    "collapsed": false
   },
   "outputs": [
    {
     "data": {
      "text/plain": [
       "array(0)"
      ]
     },
     "execution_count": 59,
     "metadata": {},
     "output_type": "execute_result"
    }
   ],
   "source": [
    "state.get_value()"
   ]
  },
  {
   "cell_type": "code",
   "execution_count": 60,
   "metadata": {
    "collapsed": false
   },
   "outputs": [
    {
     "data": {
      "text/plain": [
       "array(0)"
      ]
     },
     "execution_count": 60,
     "metadata": {},
     "output_type": "execute_result"
    }
   ],
   "source": [
    "accumulator(3)"
   ]
  },
  {
   "cell_type": "code",
   "execution_count": 61,
   "metadata": {
    "collapsed": false
   },
   "outputs": [
    {
     "data": {
      "text/plain": [
       "array(3)"
      ]
     },
     "execution_count": 61,
     "metadata": {},
     "output_type": "execute_result"
    }
   ],
   "source": [
    "state.get_value()"
   ]
  },
  {
   "cell_type": "markdown",
   "metadata": {},
   "source": [
    "- updates 메카니즘이 존재하는 이유는 무엇인가?\n",
    "- 새로운 표현식으로 비슷한 결과를 얻기 위함, numpy와 비슷. ???\n",
    "- 다른 중요한 이유는 효율성 때문 \n",
    "- Theano에서는 공유변수를 사용하여 GPU를 활용함.\n",
    "\n",
    "\n",
    "- 공유변수를 사용하는 새로운 표현식을 만들고, 공유변수를 변경하지 않도록 하자.\n",
    "- 이 경우에는 givens 인자를 사용\n",
    "- givens 는 특정한 기능을 목적으로 graph에서 특정노드값을 대체함. ????"
   ]
  },
  {
   "cell_type": "code",
   "execution_count": 62,
   "metadata": {
    "collapsed": true
   },
   "outputs": [],
   "source": [
    "fn_of_state = state * 2 + inc\n",
    "# The type of foo must match the shared variable we are replacing  with the ``givens``\n",
    "foo = T.scalar(dtype=state.dtype)\n",
    "skip_shared = function([inc, foo], fn_of_state, givens=[(state, foo)])"
   ]
  },
  {
   "cell_type": "code",
   "execution_count": 63,
   "metadata": {
    "collapsed": false
   },
   "outputs": [
    {
     "data": {
      "text/plain": [
       "array(7)"
      ]
     },
     "execution_count": 63,
     "metadata": {},
     "output_type": "execute_result"
    }
   ],
   "source": [
    "skip_shared(1, 3)  # we're using 3 for the state, not state.value"
   ]
  },
  {
   "cell_type": "code",
   "execution_count": 64,
   "metadata": {
    "collapsed": false
   },
   "outputs": [
    {
     "data": {
      "text/plain": [
       "array(3)"
      ]
     },
     "execution_count": 64,
     "metadata": {},
     "output_type": "execute_result"
    }
   ],
   "source": [
    "state.get_value()  # old state still there, but we didn't use it"
   ]
  },
  {
   "cell_type": "markdown",
   "metadata": {},
   "source": [
    "- In practice, a good way of thinking about the givens is as a mechanism that allows you to replace any part of your formula with a different expression that evaluates to a tensor of same shape and dtype."
   ]
  },
  {
   "cell_type": "markdown",
   "metadata": {},
   "source": [
    "## Using Random Numbers"
   ]
  },
  {
   "cell_type": "code",
   "execution_count": null,
   "metadata": {
    "collapsed": true
   },
   "outputs": [],
   "source": [
    "case class SimpleRNG( seed: Long) extends RNG {\n",
    "    def nextInt : ( Int, RNG ) = {\n",
    "        val newSeed = ( seed * 0x5DEECE66DL + 0xBL )  & 0xFFFFFFFFFFFFL\n",
    "        val nextRNG = SimpleRNG(newSeed)\n",
    "        val n = ( newSeed >>> 16 ).toInt\n",
    "        ( n, nextRNG)\n",
    "    }\n",
    "}"
   ]
  },
  {
   "cell_type": "markdown",
   "metadata": {},
   "source": [
    "- 프로그램상의 random값은 위의 함수에서 보는것 같이 간단한 수식에 의해서 생성되고,  seed값이 동일하면 항상 같은 값을 생성함.\n",
    "- 그러므로, random테이블이라고 생각하면 편리함. 큰 배열에 어떤 값들이 무작위로 들어있고, seed값은 그 배열의 위치값이고, 그 위치값에는 항상 동일한 값임."
   ]
  },
  {
   "cell_type": "markdown",
   "metadata": {},
   "source": [
    "### Brief Example"
   ]
  },
  {
   "cell_type": "code",
   "execution_count": 107,
   "metadata": {
    "collapsed": true
   },
   "outputs": [],
   "source": [
    "from theano.tensor.shared_randomstreams import RandomStreams\n",
    "from theano import function\n",
    "srng = RandomStreams(seed=234)\n",
    "rv_u = srng.uniform((2,2))\n",
    "rv_n = srng.normal((2,2))\n",
    "f = function([], rv_u)\n",
    "g = function([], rv_n, no_default_updates=True)    #Not updating rv_n.rng\n",
    "nearly_zeros = function([], rv_u + rv_u - 2 * rv_u)"
   ]
  },
  {
   "cell_type": "code",
   "execution_count": 108,
   "metadata": {
    "collapsed": true
   },
   "outputs": [],
   "source": [
    "f_val0 = f()"
   ]
  },
  {
   "cell_type": "code",
   "execution_count": 109,
   "metadata": {
    "collapsed": true
   },
   "outputs": [],
   "source": [
    "f_val1 = f()  #different numbers from f_val0"
   ]
  },
  {
   "cell_type": "code",
   "execution_count": 110,
   "metadata": {
    "collapsed": false
   },
   "outputs": [
    {
     "data": {
      "text/plain": [
       "array([[ 0.12672381,  0.97091597],\n",
       "       [ 0.13989098,  0.88754825]])"
      ]
     },
     "execution_count": 110,
     "metadata": {},
     "output_type": "execute_result"
    }
   ],
   "source": [
    "f_val0 "
   ]
  },
  {
   "cell_type": "code",
   "execution_count": 111,
   "metadata": {
    "collapsed": false
   },
   "outputs": [
    {
     "data": {
      "text/plain": [
       "array([[ 0.31971415,  0.47584377],\n",
       "       [ 0.24129163,  0.42046081]])"
      ]
     },
     "execution_count": 111,
     "metadata": {},
     "output_type": "execute_result"
    }
   ],
   "source": [
    "f_val1 "
   ]
  },
  {
   "cell_type": "code",
   "execution_count": 112,
   "metadata": {
    "collapsed": true
   },
   "outputs": [],
   "source": [
    "g_val0 = g()  # different numbers from f_val0 and f_val1\n",
    "g_val1 = g()  # same numbers as g_val0!"
   ]
  },
  {
   "cell_type": "code",
   "execution_count": 113,
   "metadata": {
    "collapsed": false
   },
   "outputs": [
    {
     "data": {
      "text/plain": [
       "array([[ 0.37328447, -0.65746672],\n",
       "       [-0.36302373, -0.97484625]])"
      ]
     },
     "execution_count": 113,
     "metadata": {},
     "output_type": "execute_result"
    }
   ],
   "source": [
    "g_val0"
   ]
  },
  {
   "cell_type": "code",
   "execution_count": 114,
   "metadata": {
    "collapsed": false
   },
   "outputs": [
    {
     "data": {
      "text/plain": [
       "array([[ 0.37328447, -0.65746672],\n",
       "       [-0.36302373, -0.97484625]])"
      ]
     },
     "execution_count": 114,
     "metadata": {},
     "output_type": "execute_result"
    }
   ],
   "source": [
    "g_val1"
   ]
  },
  {
   "cell_type": "markdown",
   "metadata": {},
   "source": [
    "### Seeding Streams"
   ]
  },
  {
   "cell_type": "code",
   "execution_count": 115,
   "metadata": {
    "collapsed": false
   },
   "outputs": [
    {
     "data": {
      "text/plain": [
       "<mtrand.RandomState at 0x7f78caaee950>"
      ]
     },
     "execution_count": 115,
     "metadata": {},
     "output_type": "execute_result"
    }
   ],
   "source": [
    "rng_val = rv_u.rng.get_value(borrow=True)   # Get the rng for rv_u\n",
    "rng_val"
   ]
  },
  {
   "cell_type": "code",
   "execution_count": 116,
   "metadata": {
    "collapsed": true
   },
   "outputs": [],
   "source": [
    "rng_val.seed(89234)                         # seeds the generator"
   ]
  },
  {
   "cell_type": "code",
   "execution_count": 117,
   "metadata": {
    "collapsed": true
   },
   "outputs": [],
   "source": [
    "rv_u.rng.set_value(rng_val, borrow=True)    # Assign back seeded rng"
   ]
  },
  {
   "cell_type": "code",
   "execution_count": 74,
   "metadata": {
    "collapsed": true
   },
   "outputs": [],
   "source": [
    "srng.seed(902340)  # seeds rv_u and rv_n with different seeds each"
   ]
  },
  {
   "cell_type": "markdown",
   "metadata": {},
   "source": [
    "### Sharing Streams Between Functions"
   ]
  },
  {
   "cell_type": "code",
   "execution_count": 123,
   "metadata": {
    "collapsed": false
   },
   "outputs": [
    {
     "data": {
      "text/plain": [
       "('MT19937', array([2899575347,  533481454, 2091657755,  618751085, 3298364243,\n",
       "        3150007752, 1093551589, 1100629552, 1826491916,  637690239,\n",
       "        1943378584, 2360375819, 1050865619, 2191829958, 2648960233,\n",
       "        3030813155,  439596985, 1444403372, 2047496234, 2151205240,\n",
       "        4133379565,  995674357, 3757891888,  522631282, 3722383727,\n",
       "        3449033878, 2134389890, 2614243788, 1474112254, 1195862375,\n",
       "         579178790, 2816899363,  368085582, 4122430563, 3437551073,\n",
       "         137033961,  211635088,  392171372,  720348031, 1984232378,\n",
       "        2853641342, 1067425262, 2050244902, 2372420588, 2537430678,\n",
       "        3232956770,  721063989, 4277580032, 3649021159,  940963481,\n",
       "        1041111370, 1774257140,  434367250, 2535732461, 3364046525,\n",
       "        2437785266,  953619758, 3969027395,   30570048, 1480842503,\n",
       "        4026264310,  742584634, 2025288578, 4110481674, 2377551597,\n",
       "        1083303260, 2571029229, 2228469276, 2201249257, 1889428461,\n",
       "         985144475,  895319134,  273716395, 3890428865, 2967377492,\n",
       "         963542681, 1186116655, 3189989114, 1087624448, 3605219560,\n",
       "            789952, 4271761526, 1501903258,  241030300, 1245441364,\n",
       "        2235962131, 1990926368, 1580797809, 1762651259, 2610167459,\n",
       "         381806558, 2272723816, 2174010774, 2671984240, 1904605077,\n",
       "        2626863841, 1284915993, 4271399772, 2538938035, 3762722302,\n",
       "        1505694579,  561167275, 4265194174, 2443814048, 3926765124,\n",
       "        1331276949, 1015437317,  605866039, 1031069977, 3920186436,\n",
       "        1328986664, 4231495017, 4018342039, 3163022089, 3667201495,\n",
       "        3695126694, 2470735468, 3753833720, 1848118585,  710493881,\n",
       "        2751465458, 2882996479, 3887728472, 4226600448,   73255413,\n",
       "         138749164,  513830272, 3852748285,  848708288, 1736969332,\n",
       "        1385218357, 3184279702, 3150849499, 2193345865,  166146204,\n",
       "        3104715472, 2972007132, 3931498596, 2210964560, 3699009260,\n",
       "         778753005, 1076031928, 2175670217, 2733467386,  661465041,\n",
       "        3412211926, 3180145903, 1852305935, 2534288197,  940538146,\n",
       "        1258797880, 3119801684, 1941859587, 1648667121, 1042042763,\n",
       "        2761655528, 3224918074, 4008351198, 1513080311, 1403864614,\n",
       "        4052769527,  477937290, 2516840415, 3387294139, 1821426436,\n",
       "        3319330331, 3336891783, 2277935752, 3175373900,  823368148,\n",
       "         232732154, 2046890068,  839134460,  439343586,  214116937,\n",
       "        2758793041, 1227284920, 3231153413, 1315198424, 1384510954,\n",
       "         212566234,  443295511, 2710833326,  877795720, 3980333017,\n",
       "        3252785433, 3349234598, 3475172931, 3280124531,  359155119,\n",
       "         699044435, 1930526066, 3206998169, 3963226992, 4029784901,\n",
       "        4065777488, 1646114080, 4189661309,    8365461,  340428929,\n",
       "        1852546729,  529787235, 1144438728, 1968173266, 3540155686,\n",
       "        1288124546, 3045102967, 3252608252,  507613612, 1391737107,\n",
       "        2960851142, 4011924051, 4098337623, 3927554483, 2909159323,\n",
       "          93835740,  920403386, 1218113023, 2938261392, 2402886449,\n",
       "         583021934, 3922092261, 3520819065, 2882691938, 1598333353,\n",
       "         363556016, 2627062482, 1546088796, 3609205110, 3849215212,\n",
       "        1708097598, 3580660576, 1914547001, 3004635528, 2815547643,\n",
       "         727934387, 4187808204, 2499223405,  486063837, 3245050718,\n",
       "         821738955, 3520614481, 1831948106, 4289672825, 3146581795,\n",
       "         679810138,   67471628, 2106775191, 1234098198, 1262663761,\n",
       "         290460500, 4054699283, 3073028884, 4049529126, 3629347224,\n",
       "        1013183991,  295854652, 1080243237, 2541749056, 2388538322,\n",
       "        2163274332,  775908501, 2767414220,  460877750, 4038696276,\n",
       "         913229783, 4056864168,  154963384, 3803106255, 4116128918,\n",
       "        3433075788, 3593937563,  396406009, 3249610398,   98123885,\n",
       "        3338438947, 3753851397,  711063728, 2973354169, 3521145584,\n",
       "        3259988230, 2985210210, 4132698980, 3418914786,  402691636,\n",
       "         346609559, 2409378341, 1505055546, 2420867562,  158152597,\n",
       "        2703924984, 2555317217, 4284596173, 3372184147, 1067884362,\n",
       "        3926939349,   66896565, 2921146555, 2009749280,  336331751,\n",
       "         443641321, 2879838558, 3866614952, 2312183909, 3939187029,\n",
       "        1210407588,  172163461, 3996167924,  235883845, 1367132973,\n",
       "        3017069965, 1506773430,  534256650, 2418834733, 4127033817,\n",
       "        1844953322,  723607727,  864649984, 4174441253,  473093626,\n",
       "        3029256322, 2493413752,  245644901, 2675244304, 2629160052,\n",
       "           8644209, 2975310236, 1849626173,   18000054,  483936514,\n",
       "        1823548464, 3765172373, 4242277969, 1205825260,  249882736,\n",
       "        2909000091, 2484070883, 3838080457, 1755426729,  408891770,\n",
       "        1579433759, 3620565295, 1822793466, 2934555447, 2910496537,\n",
       "        2925199705, 1733405935, 3192290670,  225469466, 3714640585,\n",
       "        3434731159, 3582838714, 1530702196, 2018169486, 2616027314,\n",
       "        4242379061,  709944360, 1742744010, 2532665751,  122678991,\n",
       "        1722911984,  247849839, 2010030880,  103385584,  839731595,\n",
       "        1659163185,  493188897, 2875494582,   26604636, 3107340388,\n",
       "        3830451890, 1290080598, 2264581789, 2834455485, 2382708138,\n",
       "        2392637083, 2870814383, 3119749065, 1132139459,  370352520,\n",
       "        1868755641,  737133484,  901455637,  131558820, 4036539590,\n",
       "         272872809, 2277732485, 1917573704, 1385986608, 4212219477,\n",
       "        3687492435, 1945982280, 1802419716, 4166125826, 3285457668,\n",
       "        2874082638, 2754681243, 3192028012, 4048077855, 4022054240,\n",
       "        1448828775,   56257035,  968936285, 2303395633, 2248350165,\n",
       "        1045624216, 1268173652, 1892645373,  221042677, 3861482994,\n",
       "        2197648206, 2594761631, 2716485021,   94714243, 2762982346,\n",
       "         172396166, 1609803989, 1783764747, 2881613891,  617925164,\n",
       "        2350761932,  776643212, 2925012425,  838646764, 1627102194,\n",
       "        3947067446, 3673170040, 2351302045, 3097710129, 1973452720,\n",
       "        1669995568, 3037891649,  560701515, 1054259312, 3378937656,\n",
       "         882446466,   70114571, 2345981589, 3211931579, 3863135795,\n",
       "         778256345, 1445667287, 2238769887, 2847285817,  449599421,\n",
       "        4002944990, 1942064356, 1466308185, 3660544419,  480338480,\n",
       "        4195156549,  392956745, 2873005869, 2847328575, 1565414987,\n",
       "        3441992321, 1974252644, 2998900068, 2812296652, 2723182399,\n",
       "        3095511486, 2590239950, 1674401709, 3586209138, 3018030588,\n",
       "        4266505833, 1343962529, 4135507125, 4188773235, 2170837753,\n",
       "        1741329953, 2097723264, 1977077674,  686931857, 1617985542,\n",
       "          16904104, 2378514119, 3788512130,  486644187, 2945842711,\n",
       "        1055599939,  638330669, 3850463488, 3984781362, 3661959837,\n",
       "        1143145084, 3447641602, 3411965749, 2217281579, 3716303129,\n",
       "         739297031,  416657043, 2467423846, 2546408810, 2090457121,\n",
       "         697473458, 3384853763, 2031331047,  616662118,  530858653,\n",
       "         921744786,  744072791, 3528797619, 2219425076, 3682946691,\n",
       "        2222899360, 3538825853, 3416792217, 1142466537, 2577262316,\n",
       "        3306376120,  167068854, 2962343682, 2197678614, 2769743198,\n",
       "        3594509198, 2842077500, 3393886734, 3556893128, 2733143297,\n",
       "        1368386828, 2784242850, 3570413502, 3626439904, 3372594475,\n",
       "        4080605302, 1458265477,  956940891, 4146739972, 2604850520,\n",
       "        4200571572, 1664463547, 2131231670, 3763577958,  733026615,\n",
       "        2577560144,  950724859, 1431477696, 4205514190, 1925152902,\n",
       "        3126004176,  507441195, 2646448990, 1416231757, 1673740882,\n",
       "        2229820149, 1148392387, 2283306509, 2206935624,   94027110,\n",
       "         984023437, 2425857386, 4263856097, 3242603335, 1044402679,\n",
       "        1845741467, 1044840072, 4263026132, 4285662596, 4193908636,\n",
       "        2619690151, 3654291259, 4071080206, 2437062912,  878735698,\n",
       "        3771881431,  632530729, 2988866024, 1759725332,  453204108,\n",
       "        2396453737,   46352160, 1438792391,  853581232,  681811755,\n",
       "        4067400508,  346431470, 1824947939,    5292374, 3859737432,\n",
       "        3735585872, 3979335569, 2815291765, 1424959457, 1511111918,\n",
       "        1021458499, 2550723436, 3658985451, 3868911983, 1836691714,\n",
       "        2264753086, 4217334270,  456363619, 3603257956, 3178482984,\n",
       "         775326428, 3632854950, 1237297418, 2744546272, 3853609641,\n",
       "        2944455134, 3538433661,  472429124, 1510534453,  898086769,\n",
       "        3660807832, 1725528531, 2549909762, 3992796794, 3848723905,\n",
       "        1615884402,  196845230, 3669128374,  892181183, 3683254299,\n",
       "        1372818496, 1952957934, 2021487575, 2217194272, 1997248621,\n",
       "        1326440574, 4023222914, 2730428550,  726902877], dtype=uint32), 32, 0, 0.0)"
      ]
     },
     "execution_count": 123,
     "metadata": {},
     "output_type": "execute_result"
    }
   ],
   "source": [
    "state_after_v0 = rv_u.rng.get_value().get_state()\n",
    "state_after_v0"
   ]
  },
  {
   "cell_type": "code",
   "execution_count": 124,
   "metadata": {
    "collapsed": false
   },
   "outputs": [
    {
     "data": {
      "text/plain": [
       "array([[ 0.,  0.],\n",
       "       [ 0.,  0.]])"
      ]
     },
     "execution_count": 124,
     "metadata": {},
     "output_type": "execute_result"
    }
   ],
   "source": [
    "nearly_zeros()"
   ]
  },
  {
   "cell_type": "code",
   "execution_count": 125,
   "metadata": {
    "collapsed": false
   },
   "outputs": [
    {
     "data": {
      "text/plain": [
       "array([[ 0.65295707,  0.81246009],\n",
       "       [ 0.43266108,  0.84805177]])"
      ]
     },
     "execution_count": 125,
     "metadata": {},
     "output_type": "execute_result"
    }
   ],
   "source": [
    "v1 = f()\n",
    "v1"
   ]
  },
  {
   "cell_type": "code",
   "execution_count": 126,
   "metadata": {
    "collapsed": true
   },
   "outputs": [],
   "source": [
    "rng = rv_u.rng.get_value(borrow=True)\n",
    "rng.set_state(state_after_v0)\n",
    "rv_u.rng.set_value(rng, borrow=True)"
   ]
  },
  {
   "cell_type": "code",
   "execution_count": 127,
   "metadata": {
    "collapsed": false
   },
   "outputs": [
    {
     "data": {
      "text/plain": [
       "array([[ 0.52240108,  0.47792506],\n",
       "       [ 0.40217335,  0.44828264]])"
      ]
     },
     "execution_count": 127,
     "metadata": {},
     "output_type": "execute_result"
    }
   ],
   "source": [
    "v2 = f()             # v2 != v1\n",
    "v2"
   ]
  },
  {
   "cell_type": "code",
   "execution_count": 128,
   "metadata": {
    "collapsed": false
   },
   "outputs": [
    {
     "data": {
      "text/plain": [
       "array([[ 0.65295707,  0.81246009],\n",
       "       [ 0.43266108,  0.84805177]])"
      ]
     },
     "execution_count": 128,
     "metadata": {},
     "output_type": "execute_result"
    }
   ],
   "source": [
    "v3 = f()             # v3 == v1\n",
    "v3"
   ]
  },
  {
   "cell_type": "markdown",
   "metadata": {},
   "source": [
    "### Copying Random State Between Theano Graphs"
   ]
  },
  {
   "cell_type": "code",
   "execution_count": 129,
   "metadata": {
    "collapsed": true
   },
   "outputs": [],
   "source": [
    "from __future__ import print_function\n",
    "import theano\n",
    "import numpy\n",
    "import theano.tensor as T\n",
    "from theano.sandbox.rng_mrg import MRG_RandomStreams\n",
    "from theano.tensor.shared_randomstreams import RandomStreams"
   ]
  },
  {
   "cell_type": "code",
   "execution_count": 130,
   "metadata": {
    "collapsed": true
   },
   "outputs": [],
   "source": [
    "class Graph():\n",
    "    def __init__(self, seed=123):\n",
    "        self.rng = RandomStreams(seed)\n",
    "        self.y = self.rng.uniform(size=(1,))"
   ]
  },
  {
   "cell_type": "code",
   "execution_count": 131,
   "metadata": {
    "collapsed": true
   },
   "outputs": [],
   "source": [
    "g1 = Graph(seed=123)\n",
    "f1 = theano.function([], g1.y)"
   ]
  },
  {
   "cell_type": "code",
   "execution_count": 132,
   "metadata": {
    "collapsed": true
   },
   "outputs": [],
   "source": [
    "g2 = Graph(seed=987)\n",
    "f2 = theano.function([], g2.y)"
   ]
  },
  {
   "cell_type": "code",
   "execution_count": 133,
   "metadata": {
    "collapsed": false
   },
   "outputs": [
    {
     "data": {
      "text/plain": [
       "array([ 0.72803009])"
      ]
     },
     "execution_count": 133,
     "metadata": {},
     "output_type": "execute_result"
    }
   ],
   "source": [
    "f1()"
   ]
  },
  {
   "cell_type": "code",
   "execution_count": 134,
   "metadata": {
    "collapsed": false
   },
   "outputs": [
    {
     "data": {
      "text/plain": [
       "array([ 0.55056769])"
      ]
     },
     "execution_count": 134,
     "metadata": {},
     "output_type": "execute_result"
    }
   ],
   "source": [
    "f2()"
   ]
  },
  {
   "cell_type": "code",
   "execution_count": 141,
   "metadata": {
    "collapsed": false
   },
   "outputs": [],
   "source": [
    "def copy_random_state(g1, g2):\n",
    "    if isinstance(g1.rng, MRG_RandomStreams):\n",
    "        g2.rng.rstate = g1.rng.rstate\n",
    "\n",
    "    for (su1, su2) in zip(g1.rng.state_updates, g2.rng.state_updates):\n",
    "            su2[0].set_value(su1[0].get_value())\n"
   ]
  },
  {
   "cell_type": "code",
   "execution_count": 142,
   "metadata": {
    "collapsed": true
   },
   "outputs": [],
   "source": [
    "copy_random_state(g1, g2)"
   ]
  },
  {
   "cell_type": "code",
   "execution_count": 143,
   "metadata": {
    "collapsed": false
   },
   "outputs": [
    {
     "data": {
      "text/plain": [
       "array([ 0.59044123])"
      ]
     },
     "execution_count": 143,
     "metadata": {},
     "output_type": "execute_result"
    }
   ],
   "source": [
    "f1()"
   ]
  },
  {
   "cell_type": "code",
   "execution_count": 144,
   "metadata": {
    "collapsed": false
   },
   "outputs": [
    {
     "data": {
      "text/plain": [
       "array([ 0.59044123])"
      ]
     },
     "execution_count": 144,
     "metadata": {},
     "output_type": "execute_result"
    }
   ],
   "source": [
    "f2()"
   ]
  },
  {
   "cell_type": "markdown",
   "metadata": {},
   "source": [
    "### A Real Example: Logistic Regression"
   ]
  },
  {
   "cell_type": "code",
   "execution_count": 145,
   "metadata": {
    "collapsed": false
   },
   "outputs": [
    {
     "name": "stdout",
     "output_type": "stream",
     "text": [
      "Initial model:\n",
      "[  9.06758152e-02   4.00928185e-02   1.11808216e+00   9.13744451e-01\n",
      "   1.30221732e+00   3.98241423e-01   6.23540092e-02   5.44077516e-01\n",
      "   7.40056428e-01  -1.51256692e+00   2.25967114e-01  -9.19647131e-01\n",
      "   7.63932593e-01   1.36089408e+00   6.79009011e-01   6.24442332e-01\n",
      "  -9.55428145e-01  -1.27901343e+00   3.12743505e-01   7.92546353e-01\n",
      "  -2.13798343e+00   4.20401440e-01   4.20413807e-01  -3.53432915e-01\n",
      "  -7.31978226e-01  -1.41952861e+00  -7.56163604e-01   1.72774674e+00\n",
      "  -6.81686224e-01  -1.37132012e-01   5.92700887e-02   4.42252355e-01\n",
      "   1.29242933e+00   2.00481204e+00   8.94708776e-01  -9.14198144e-01\n",
      "  -6.59620972e-01   1.61678967e-01  -1.28389501e+00   1.74341775e-01\n",
      "  -7.74523325e-01   2.79644137e-01  -6.35077275e-01  -2.18323918e-01\n",
      "   3.55620215e-01  -4.99954075e-01   5.72552617e-01  -7.36392808e-01\n",
      "  -1.94283785e+00  -9.52405403e-01   5.39731695e-01  -1.51761240e+00\n",
      "   9.46303080e-01   1.61681936e+00  -6.10328692e-01  -4.23646006e-02\n",
      "   1.00800438e+00  -7.34655572e-02  -3.77586478e-01  -8.74347018e-01\n",
      "  -2.78585373e+00  -1.30205719e+00   1.15010943e+00  -1.44097169e-02\n",
      "   3.87703298e-01   1.03653929e+00   1.13385759e+00   3.73671023e-01\n",
      "  -1.44288854e+00   8.68444728e-01  -1.91457932e+00  -1.19662333e+00\n",
      "  -1.81936995e-01   8.32737891e-01   1.81955843e+00  -1.55713063e-01\n",
      "   7.27496859e-01   1.41739359e+00  -6.38417269e-01   4.72625384e-01\n",
      "   4.57023877e-02  -3.48663160e-01  -1.32567062e+00   6.11386774e-01\n",
      "   1.05191280e-01  -1.37732616e+00  -1.70888605e+00   6.96094095e-01\n",
      "   3.90470143e-01   1.07876841e+00  -4.95687394e-02  -1.50379226e-01\n",
      "   1.70414068e+00   4.70358328e-01   7.35722173e-01   1.91499928e+00\n",
      "   2.40229194e-01  -6.88789783e-01  -2.61403624e+00  -8.07632426e-01\n",
      "   7.94887424e-01   7.76387407e-01  -5.12872652e-01   8.02477740e-01\n",
      "   9.97565198e-02   1.20484753e+00   1.23195906e-01   1.07614280e+00\n",
      "  -1.45358254e+00  -2.24714215e+00  -1.24887982e+00   3.68768529e-01\n",
      "  -7.72085822e-01  -1.16511818e+00  -6.67821269e-01   1.88609706e-01\n",
      "   1.43518881e-01   8.85226426e-01   1.90810525e+00   2.34620811e+00\n",
      "  -4.82993181e-01  -9.62467174e-03   7.39209070e-01  -3.23044854e-01\n",
      "  -6.74899480e-01  -1.97064464e+00   3.96467197e-01  -2.52049805e-01\n",
      "  -6.62479243e-01  -3.06999810e-01   1.50909769e-01  -1.94537446e+00\n",
      "  -1.00095352e+00   8.50727532e-01  -4.13730578e-01   8.60828224e-02\n",
      "  -1.68449482e-01   7.26465296e-01  -2.08388617e+00   7.31929562e-01\n",
      "  -6.50654076e-01   8.20023954e-01  -7.98121927e-01  -5.05742731e-01\n",
      "  -8.26289384e-01  -2.51752497e-01  -7.83757821e-01  -1.97938492e-01\n",
      "   4.93461100e-01   3.25796062e+00  -5.88650548e-01   1.48246649e-01\n",
      "   4.50029457e-01   6.39744200e-01   2.16001173e-01   4.19996933e-01\n",
      "  -4.51988385e-01  -2.02598156e-01  -5.48828135e-01   6.48688365e-01\n",
      "   8.50028084e-01  -1.13428445e+00   2.36546164e-02   1.21988730e+00\n",
      "   2.05082533e-01   8.16414591e-01   9.54187771e-01   4.77353638e-01\n",
      "  -1.17464691e+00   3.99446834e-01  -9.39638505e-01  -4.19732774e-01\n",
      "   8.52399017e-01   1.08742455e+00   1.85667142e+00   2.38232881e+00\n",
      "   4.66533628e-01  -1.02648548e-01   2.95392191e-01  -1.97371504e-01\n",
      "  -2.92794554e-01  -1.44842730e+00  -1.77427016e-01   4.72154883e-01\n",
      "   1.98151515e+00  -7.54127832e-01  -5.09729199e-01   5.41428155e-01\n",
      "  -9.11916694e-01  -1.05251834e+00  -2.01338123e-01   6.55011038e-01\n",
      "  -6.49155020e-01  -1.17109844e+00  -1.03477943e+00   1.06196391e+00\n",
      "  -1.00481508e+00  -1.29077053e+00   7.13587595e-01  -2.47486616e-01\n",
      "  -1.49238987e+00  -7.43464501e-01   9.41398935e-01   4.50182757e-01\n",
      "   4.38694231e-01   9.29131585e-01  -2.37563434e+00  -8.76852509e-01\n",
      "   8.90522796e-01  -3.73877336e-01   1.19729523e+00   1.42602846e+00\n",
      "  -1.19200483e+00  -1.57696837e+00   5.72947334e-01  -9.89754951e-01\n",
      "   3.85412393e-01  -8.38360643e-01   2.20897809e+00  -5.70972069e-01\n",
      "   3.30739394e-01   1.12792090e+00   3.38870669e-02   1.87217157e+00\n",
      "   2.05154686e+00   1.20387324e-01  -1.24066936e+00   1.34049052e+00\n",
      "  -1.64164033e-01   6.58582110e-01   7.76801417e-01  -3.45871031e-01\n",
      "  -1.98549440e+00  -1.35746125e+00   6.22841859e-01  -3.99631519e-01\n",
      "  -8.17273784e-01   5.38482019e-01   3.60893510e-02   4.91071114e-01\n",
      "  -4.69232126e-01  -6.63583949e-02  -1.58474922e+00   8.30293641e-01\n",
      "   2.67044268e+00  -1.45046271e-01  -2.00325152e+00  -1.59822357e+00\n",
      "   1.92706954e-01  -1.10371565e+00   1.13091712e+00   5.28082538e-01\n",
      "   7.65433462e-01  -8.86985924e-02   1.82126940e+00   1.51459983e+00\n",
      "   8.06611543e-01  -4.26527736e-01  -1.25701123e+00  -9.99571382e-01\n",
      "  -6.66289455e-01  -3.53983171e-01  -1.87969714e-01  -2.80804500e-01\n",
      "  -3.28640790e-01  -3.87647976e-01   1.76237956e-01  -4.55053847e-01\n",
      "   7.37426597e-01  -7.43046608e-02  -2.47341781e-01   3.41511250e-01\n",
      "  -1.08703730e+00  -1.54208142e+00   8.55900573e-01   2.57255252e-01\n",
      "   2.32325485e+00  -1.01768068e+00  -1.12908706e+00  -3.56257724e-01\n",
      "  -2.93729945e-01   5.26123432e-01   6.59625643e-01   9.08096625e-02\n",
      "  -1.70250156e+00   6.75530534e-01  -9.38213991e-01  -1.92025466e-01\n",
      "  -2.60104145e-01  -4.60455031e-01   2.78215383e-01   4.42464157e-01\n",
      "   1.33196752e+00  -2.15280162e+00  -1.17161802e+00   6.08727636e-01\n",
      "  -1.83276799e-01   2.83332937e-01   2.25805755e-01  -4.30192057e-01\n",
      "  -1.13192662e+00  -7.61083902e-01  -1.05066556e+00  -5.21510267e-01\n",
      "  -4.69383292e-01  -1.17361824e+00  -2.06014089e-01  -1.34784240e+00\n",
      "  -1.34098242e+00  -9.01683649e-01   1.22159571e+00   6.95745900e-01\n",
      "  -1.41918968e+00  -1.65008500e-01  -9.29190403e-01  -1.83341426e-01\n",
      "   1.07845017e+00  -1.67967023e+00  -1.29380990e+00   7.11925546e-01\n",
      "  -1.28268485e+00   2.85311719e-01  -1.97666537e+00   4.50101670e-01\n",
      "  -1.09221281e+00   8.31957643e-01   2.29551669e+00  -1.34653927e+00\n",
      "  -1.24343834e+00  -2.59120175e-01  -2.06444315e+00  -1.35369510e+00\n",
      "  -7.93450061e-01  -3.70951269e-01  -5.43318031e-01   2.88538442e-01\n",
      "  -1.29159571e+00   1.11542756e+00   6.59661371e-01   8.36294321e-01\n",
      "   2.11201387e+00  -2.59070741e+00   3.50677579e-01  -2.19469537e+00\n",
      "  -4.53068407e-01  -5.76211127e-01   8.88688913e-01   1.22361508e+00\n",
      "  -1.28030256e+00  -7.27592921e-01   5.61114659e-01  -2.05524579e-01\n",
      "  -4.17344492e-01   2.05972061e+00   5.27658602e-01   7.64138285e-01\n",
      "   1.71793313e+00   4.70323617e-01   5.72953676e-01  -5.72490507e-01\n",
      "   6.25000665e-01   1.30627622e+00   7.94361772e-01  -2.75892112e-01\n",
      "   5.14657085e-01  -2.09129481e-02   2.39445124e+00   1.13479935e+00\n",
      "   6.11315198e-01   1.18967972e+00   7.28833481e-02   7.07745543e-01\n",
      "   2.30569268e+00   1.67521861e-03   8.71728925e-01  -1.97608055e-01\n",
      "  -1.59594647e+00   6.65424653e-01   6.18481563e-01  -1.06968462e+00\n",
      "   5.32271608e-01  -1.74981136e-01  -1.53143524e+00   6.82105113e-01\n",
      "  -1.96155275e-01   1.53410271e+00   1.21805234e+00   4.61109220e-01\n",
      "   3.48006471e-01   4.90013509e-01   3.11854425e-01   8.95426183e-01\n",
      "  -4.00557099e-01   2.56796069e-01  -4.47018441e-01  -2.14036540e+00\n",
      "  -6.63114856e-02   1.15717213e+00  -6.21873708e-02  -1.69300415e+00\n",
      "  -1.09025389e+00  -2.08148084e+00   2.53976474e+00  -1.37991153e+00\n",
      "  -4.20528660e-02  -4.99265142e-01   1.54584255e+00   3.78812554e-01\n",
      "   8.31066043e-01   1.38862978e+00   1.81064879e-01   6.07101230e-01\n",
      "   1.60834846e+00   6.35405831e-02  -1.34125450e+00   1.15361606e+00\n",
      "   1.33832727e+00   1.44126014e+00  -2.52157726e-01  -1.38398590e+00\n",
      "  -1.90396540e+00   4.75433940e-01  -1.35967026e+00   1.29857660e+00\n",
      "   3.22126814e-01   4.50647083e-01   1.12942620e+00   8.60079224e-01\n",
      "   8.89893935e-01   5.89195158e-01  -1.26481500e+00   1.20954605e+00\n",
      "  -1.38413081e-01   7.78066450e-01  -2.96027220e-01   9.85953061e-01\n",
      "  -3.27973265e-01  -4.69609194e-01  -7.83024805e-02   8.71869583e-01\n",
      "   4.18237944e-01  -4.00431542e-01   9.24272792e-01   3.41944874e-01\n",
      "   5.70009609e-01  -3.16391301e-01  -1.18526391e-02  -1.17651194e-01\n",
      "   9.82826402e-01   1.18194275e+00  -7.51084033e-01   1.39354832e-01\n",
      "   6.16519122e-01   2.05630690e+00  -1.30113059e+00  -4.81297139e-01\n",
      "  -8.45491811e-01  -3.63571734e-01  -1.16239860e+00  -2.45178926e-01\n",
      "  -1.94332088e+00  -1.03538877e+00   1.02499387e-01   7.33918786e-01\n",
      "  -1.65505505e+00  -1.33130349e-02  -6.77599583e-04  -5.21668893e-01\n",
      "  -2.13956756e+00  -3.00727425e+00  -1.46415278e-01  -1.75817652e+00\n",
      "  -1.99165523e+00  -2.20620762e-01  -1.11329791e+00   2.72769500e+00\n",
      "   7.51760025e-01  -2.10385937e+00   1.06840665e+00   4.39813159e-01\n",
      "  -7.39192424e-01  -1.36362889e+00  -2.97900857e-01  -5.06689836e-01\n",
      "  -6.65156785e-01   1.57005798e+00  -1.12770574e+00  -1.65753003e+00\n",
      "  -6.55575113e-01   7.30112588e-02   1.53349898e+00   1.12557524e+00\n",
      "  -5.77998346e-01  -1.41899711e-01  -1.61286145e+00  -2.63940708e-01\n",
      "   1.04502345e+00   6.79938978e-01  -6.32740539e-01  -7.74923699e-02\n",
      "  -6.52419804e-01  -1.19725709e+00  -8.21729198e-02  -1.17993612e-01\n",
      "   7.53356831e-01   1.94955296e+00  -6.78477798e-01   8.63886832e-01\n",
      "  -2.26105064e-01  -5.18617913e-01   8.92520875e-01  -2.49169444e-01\n",
      "   7.01437504e-01  -3.91319671e-01   1.23088280e-01  -2.98802377e+00\n",
      "  -2.16873277e-01   2.78280855e-01  -1.48911092e+00  -6.69979344e-01\n",
      "   1.17579000e+00   9.56587603e-01  -2.23478612e+00  -1.26866755e+00\n",
      "  -7.72674032e-01  -1.29591393e+00   6.95178284e-01   1.11528833e+00\n",
      "   1.43752127e-01  -1.14587415e+00   1.86720557e-01  -4.62113091e-01\n",
      "  -7.83931343e-02   1.24674534e+00  -4.67143889e-01   3.94290469e-02\n",
      "   8.85961879e-01   4.26907777e-01   7.87768996e-01  -8.04035698e-01\n",
      "  -5.15437325e-01  -4.56442703e-01  -3.80218615e-02   1.06095790e+00\n",
      "   3.41475757e-01  -6.55321475e-01   4.18319392e-01  -1.37746828e+00\n",
      "   3.69436338e-01   6.04193998e-01   2.33455602e-01   8.53722546e-01\n",
      "   1.64342271e+00  -1.67013003e+00   9.87004178e-01  -1.05021400e+00\n",
      "  -2.18268836e-01   6.83289694e-01  -3.58084808e-01   1.99624545e+00\n",
      "   4.64489418e-02   4.18436363e-01   2.92195367e-01  -2.60353526e-01\n",
      "   6.15290086e-01   3.17167888e-01  -2.58592297e-01  -2.19270060e+00\n",
      "  -1.27825888e-01  -3.09454550e-02   5.14651890e-01   2.49841158e-01\n",
      "   7.16632309e-01   6.07687254e-01  -9.22354585e-01  -6.78210387e-01\n",
      "  -2.59582490e+00   7.17925515e-01   8.52346058e-02  -1.62168668e+00\n",
      "   4.57324820e-01  -9.36764057e-01  -3.55689724e-01   1.73711776e+00\n",
      "   3.15802194e-01  -5.39937807e-01   2.56651152e-01  -4.59153467e-01\n",
      "   1.49767610e+00  -2.52264237e-01   8.75509629e-01  -7.52575304e-01\n",
      "   3.59050839e-01   2.78943508e+00   1.89030243e+00   5.71648370e-01\n",
      "   1.48162723e+00  -6.88000399e-01   3.41749129e-01   2.17678159e+00\n",
      "   3.96015087e-01   1.01610528e-01  -5.82041237e-01  -1.80522710e-01\n",
      "  -5.15245576e-01  -1.61751526e+00   1.32584551e+00  -1.18495412e+00\n",
      "  -1.35964612e-01  -2.31935155e-01  -1.61017288e+00   9.94831271e-01\n",
      "  -3.84009503e-01  -8.69846548e-01  -8.53265730e-01   7.12378299e-01\n",
      "  -9.22525554e-01   1.58754407e+00  -1.10257469e+00   5.00837255e-01\n",
      "  -6.97657177e-01   9.52153820e-01  -5.71671485e-01   9.32891978e-02\n",
      "   3.70221019e-01   1.97847677e+00   1.49144286e-01  -1.03839124e+00\n",
      "   2.47432400e+00   1.81406696e+00   3.24156741e-02   7.27801490e-01\n",
      "   5.38399187e-02   6.25387215e-02  -1.60756070e+00  -1.25998706e-01\n",
      "   1.89904806e+00  -4.79971591e-01   3.93549922e-01  -7.89421857e-02\n",
      "  -6.67898628e-01  -6.25278236e-01  -1.49995873e+00  -2.79592487e-02\n",
      "   6.92075304e-01   1.19412206e-01   2.58548873e+00   7.90420047e-02\n",
      "   9.92334361e-01   5.04506020e-02  -9.82543264e-01  -5.54837266e-01\n",
      "   4.91555594e-01   9.81051184e-01   1.30646558e+00  -1.54193321e+00\n",
      "   6.95705384e-01  -1.49914111e-01  -1.51627434e+00   1.11507047e-01\n",
      "   2.07445398e-02  -9.16532664e-01  -1.40498047e+00   8.78378644e-01\n",
      "  -2.03023488e+00   9.56992167e-01  -5.44616465e-01  -2.07931277e+00\n",
      "  -1.04720582e-01  -1.07174027e+00   1.88971017e+00  -2.55548691e+00\n",
      "   4.64521543e-01   1.24744066e+00   1.45071921e+00  -1.22956627e+00\n",
      "  -7.38513252e-02  -1.52049771e+00  -1.26813671e+00  -5.59383220e-01\n",
      "   1.11670733e+00  -2.37981480e-01   5.59636343e-01  -6.03520111e-02\n",
      "  -1.99826603e-01   2.52376803e-01   7.07677305e-01   6.99192687e-01\n",
      "  -1.35495216e+00   1.20428750e-01  -4.83286367e-01   9.02784221e-01\n",
      "   7.00036532e-01   3.87117745e-01  -7.61859162e-01  -1.79874631e+00\n",
      "   4.62151310e-01   7.69082582e-01  -9.44001199e-01   2.26849421e+00\n",
      "  -1.30358296e+00   9.22700314e-01  -2.28384249e-01   1.07961878e+00\n",
      "  -1.33432776e+00   1.85646413e-01   1.14312056e+00  -6.90242153e-01\n",
      "   1.03728402e+00  -7.50419812e-01  -4.52934340e-01  -2.54644504e-01\n",
      "  -1.85013286e+00   8.45363225e-02   6.20536655e-01  -1.62752291e+00\n",
      "   3.06174752e-01   2.71552665e-01  -9.65220748e-01   5.59707895e-01\n",
      "   1.26878634e+00   4.24654328e-01   9.12056834e-01  -1.67957156e+00\n",
      "   8.70469265e-01  -9.19848968e-01  -1.03412237e+00  -1.18822324e+00\n",
      "   1.13680056e+00   1.25384642e+00  -6.48338141e-01   1.05611075e+00\n",
      "   3.71955960e-02  -1.92052178e-01  -2.70728116e-01   8.23786120e-01\n",
      "  -1.57809635e+00   6.76580450e-01   9.76873762e-01   6.64805671e-01\n",
      "   3.93230593e-01   2.44699334e+00  -1.19867469e+00   2.54649898e-01\n",
      "   3.98004192e-01  -2.85954984e-01  -2.96496840e-01   1.24773644e+00\n",
      "  -1.36981876e+00   2.44854676e+00  -1.00900780e+00  -1.88210775e-01\n",
      "   6.90109011e-01  -1.62963270e+00   1.82596700e-01  -6.27212896e-01\n",
      "   9.08395057e-01   1.18290274e+00   7.29994482e-01   1.16630386e+00\n",
      "  -7.23687374e-02   1.65476396e+00  -1.37864322e+00  -8.69117007e-01\n",
      "   1.39695659e+00   1.39982359e+00   9.39239153e-01   7.68671948e-01\n",
      "   3.33912743e-01   4.62275417e-01  -6.16141483e-01   2.18475204e-01\n",
      "   1.30938780e+00  -8.07263903e-01  -3.87520257e-02  -1.68258929e+00\n",
      "   8.64187980e-02   4.14527685e-01   9.26703488e-01  -7.15841663e-01\n",
      "   1.01954309e+00  -8.07999662e-01  -6.64614460e-01   6.75482962e-01]\n",
      "0.0\n",
      "Final model:\n",
      "[  9.44893682e-03   9.82674551e-03   7.85282965e-02   2.77102107e-02\n",
      "  -1.05841294e-01  -1.48877991e-02  -1.02862168e-01  -1.22887970e-01\n",
      "  -1.19968849e-01  -4.19094713e-03   3.51323502e-02  -5.52755950e-02\n",
      "  -5.60731861e-02   2.34895276e-01  -1.11587683e-01   7.96593476e-03\n",
      "  -1.92610922e-02   6.83178537e-02   1.19213520e-03   6.68558829e-02\n",
      "   1.40806844e-01   4.28165262e-03   1.30250033e-01   1.79128559e-02\n",
      "   2.51916144e-01   1.22726671e-01   7.85898572e-02   1.20676692e-01\n",
      "  -1.41217463e-01   8.20332983e-02  -6.94055917e-02   1.23895598e-01\n",
      "  -8.40312983e-02  -1.39260898e-02  -6.07285936e-02  -3.76328764e-02\n",
      "  -3.79150633e-02  -1.13367674e-01   2.65267657e-02   7.33029319e-02\n",
      "  -3.24793439e-02  -5.13133954e-02  -9.60570617e-02  -4.74006109e-02\n",
      "   3.26212600e-03  -2.18510624e-02  -4.31628268e-02  -3.59791496e-02\n",
      "  -3.41820614e-02  -1.29671568e-01  -5.73204343e-03   5.54127589e-02\n",
      "   7.23380087e-02  -1.00117806e-01   1.23289785e-01   1.12106525e-01\n",
      "  -2.56903098e-02  -5.19826169e-04   1.14406802e-01   8.52920813e-03\n",
      "  -7.04287331e-02  -1.11453867e-01  -3.60477603e-02  -5.45419234e-02\n",
      "  -1.34570175e-02   1.61513359e-01   3.59052000e-02   1.69477012e-01\n",
      "   7.27485259e-02  -1.43328841e-01  -2.27793459e-02   3.31882440e-02\n",
      "   8.21701370e-02  -1.07414364e-01  -1.24691999e-02   5.13623154e-02\n",
      "  -6.56248327e-02  -4.68122859e-02   3.77148248e-02  -8.01434005e-02\n",
      "  -3.60382426e-02   5.10385689e-02   5.50737268e-02   4.40631793e-02\n",
      "  -4.78776357e-02   1.10314766e-01  -1.08034844e-01   1.26202890e-01\n",
      "  -2.37270161e-02  -2.70682331e-02   6.74164498e-02   1.64322208e-01\n",
      "  -7.59517690e-02  -3.84355613e-02  -1.46797039e-02  -2.15076719e-02\n",
      "  -2.86631924e-02  -2.67346917e-02  -5.28782716e-02  -6.31302315e-02\n",
      "   1.16398145e-02   6.67432078e-02  -3.72641673e-02  -4.70336002e-03\n",
      "  -1.24568460e-02  -7.02746823e-02  -6.07577040e-02  -1.23191942e-02\n",
      "  -1.26289498e-01   1.48996951e-01  -5.06298682e-02   1.01709643e-01\n",
      "  -2.68626540e-02   5.53126156e-02   5.83798109e-02  -8.40810892e-02\n",
      "   5.17828518e-02   5.85546419e-02  -2.51544904e-02  -3.20052862e-02\n",
      "  -9.49417054e-02  -2.45884046e-01  -1.41075027e-02  -9.70611260e-02\n",
      "  -3.92260363e-02   2.20396074e-01  -2.75373772e-02  -1.34297057e-01\n",
      "   1.30756311e-01   2.07445517e-01   4.39440846e-02   9.18647965e-02\n",
      "   5.90593928e-02   1.40114119e-01  -6.28605559e-02  -8.72402138e-02\n",
      "  -1.47958497e-01   1.09580226e-02  -2.07697796e-01   6.70857902e-02\n",
      "  -4.26718562e-02   1.67972608e-02  -1.07634391e-01  -6.66075956e-02\n",
      "   9.29937088e-02  -1.01702175e-01   6.73972495e-02   4.44092009e-02\n",
      "  -2.67038887e-02   1.60102586e-01   5.80691953e-02   5.49191999e-03\n",
      "  -5.82340124e-02   4.66302368e-02  -2.17696266e-01   1.17561178e-01\n",
      "   8.78464043e-02   1.38238345e-01   7.75634610e-02   9.97577710e-03\n",
      "  -1.93203159e-02  -8.34950014e-02   9.53940124e-02   3.53738077e-02\n",
      "  -3.16909287e-03  -5.88705027e-02  -8.83987800e-03  -1.34137083e-01\n",
      "   9.06019388e-02  -4.78790083e-02  -1.99012542e-01  -1.00078974e-01\n",
      "  -4.18754337e-02   8.09115065e-02   1.11861745e-01  -5.06537856e-02\n",
      "  -1.41905492e-02   2.04033321e-02  -1.18290277e-01   4.97999509e-02\n",
      "  -8.56255495e-02  -4.38425996e-02   2.26339437e-02  -5.59784327e-02\n",
      "  -1.41144925e-01   4.87249207e-02  -6.63772772e-02  -1.72476528e-01\n",
      "  -1.60962551e-01   1.02033366e-01   1.28898013e-01   3.71859940e-02\n",
      "   1.15473174e-01  -6.23735090e-02  -2.75612621e-02  -4.59215502e-02\n",
      "  -3.39200997e-02  -9.80609163e-02   8.70878388e-02  -8.57431697e-02\n",
      "   5.28726675e-02  -1.66714052e-01   4.50144378e-02  -5.82955104e-03\n",
      "  -7.60397602e-02  -1.44645590e-01  -2.81988284e-02   3.54203519e-03\n",
      "  -5.57262464e-02   1.65874905e-01   1.29712890e-01  -7.63102963e-02\n",
      "  -1.00725594e-01   1.68023233e-01   2.57083924e-03  -1.44834677e-01\n",
      "   1.12647355e-02   2.84323725e-03  -1.10629994e-01   5.78797983e-02\n",
      "  -7.35763184e-02  -3.08109017e-02  -1.39798019e-01   1.62730090e-02\n",
      "   4.78543248e-02   6.31388467e-02   4.52961212e-02  -4.69902386e-02\n",
      "   7.39275772e-03  -1.61723490e-01   1.42927416e-02   1.66820802e-01\n",
      "  -9.35116164e-02   7.31771491e-02   3.22545812e-02   5.14424803e-02\n",
      "   2.49652386e-01   5.33621717e-02   1.79365473e-01  -7.03425278e-02\n",
      "  -1.04130909e-01  -1.16465476e-01  -2.20470064e-01   3.26731866e-03\n",
      "  -3.69954412e-02  -1.53536484e-02  -1.55678068e-01  -1.27291796e-01\n",
      "   1.48703397e-01  -8.22558063e-04   6.72608836e-03   1.28376495e-03\n",
      "   5.72904491e-02  -2.57392841e-02  -1.38287649e-01  -1.46779918e-01\n",
      "  -7.15617464e-02  -2.65857707e-02   1.15658469e-01   5.23769665e-02\n",
      "  -9.80475030e-02  -5.45925449e-02   5.14974814e-02  -1.54669332e-01\n",
      "  -3.83496201e-02  -1.14822085e-01  -1.75246246e-01   1.29347310e-01\n",
      "  -6.86813367e-02   5.57205652e-02  -5.91311709e-02   2.60712457e-01\n",
      "   2.42539762e-02   1.58088880e-02  -5.40678047e-02  -2.14015983e-01\n",
      "  -1.47138847e-02   5.00050218e-02   4.87031119e-02  -9.98877986e-02\n",
      "   1.03054151e-02   1.66100536e-01   6.98491995e-02   7.85701077e-02\n",
      "  -1.53349105e-02   3.22104903e-02   2.83641222e-02  -8.25799080e-02\n",
      "   7.71969419e-02  -1.10652820e-01  -2.06641047e-02  -2.41168278e-02\n",
      "  -5.35742223e-02   1.98955667e-02  -1.02966909e-01   5.67034743e-02\n",
      "  -2.33025837e-01   1.92866685e-02  -9.39402818e-03   2.53401351e-02\n",
      "   1.23382238e-01   1.62727949e-02  -3.08630063e-02  -2.97280266e-02\n",
      "   7.01020648e-02   2.49784889e-02  -8.75475384e-02   9.52796154e-02\n",
      "   6.72924580e-02  -1.02494098e-01   3.04162886e-02   4.43600709e-02\n",
      "   2.48756921e-02   5.51009758e-02   1.04599451e-01  -1.77495054e-01\n",
      "   7.29486814e-02  -5.32809583e-02   4.88399969e-02   1.30792394e-01\n",
      "   7.41976020e-02   6.26388745e-02  -8.00686604e-03  -3.70986040e-02\n",
      "   1.24940276e-01  -8.13771767e-02   7.16188243e-02  -1.12315843e-01\n",
      "   1.14509171e-01  -5.23244469e-02  -4.97502516e-02   6.84682709e-02\n",
      "   5.85162289e-02   3.85526769e-02   1.04158597e-01   1.63200396e-02\n",
      "  -1.02129368e-01   5.10038215e-03  -1.09956694e-01  -1.06983359e-01\n",
      "   1.84678157e-02  -1.04054232e-01  -1.61369869e-02   2.04014056e-01\n",
      "  -1.93990429e-01   3.96142972e-02  -1.88632835e-02  -1.70122554e-01\n",
      "   5.43819665e-02  -6.38791045e-02  -1.02925182e-01  -3.83610515e-02\n",
      "   1.26975096e-01   1.41571147e-01   1.35981344e-02   9.37958258e-02\n",
      "   1.85080466e-01  -5.69392041e-02   3.94910409e-02  -4.42785720e-02\n",
      "   7.69502043e-02  -1.34609619e-01   9.64845685e-03   1.12978406e-01\n",
      "   7.76291785e-02  -6.59148251e-03   3.76673223e-02   1.09963735e-01\n",
      "  -6.07358452e-02  -9.82033744e-02   1.03758232e-01  -4.62065116e-04\n",
      "   3.64353712e-02   7.93183400e-02  -1.73704278e-01  -1.10451844e-02\n",
      "  -1.86524817e-01   8.14821900e-02   6.09767359e-02  -4.47633084e-02\n",
      "   1.44129839e-01   8.74429619e-02   3.13224481e-02  -4.69900676e-03\n",
      "   2.00854398e-02  -6.79701285e-02   7.34385953e-02   1.13759719e-01\n",
      "   1.34322275e-01   9.29536323e-02   4.13486775e-02  -8.29601708e-02\n",
      "   3.86242379e-02  -1.31636048e-02  -1.57349534e-02  -2.30618715e-02\n",
      "  -7.17339883e-02  -9.16092897e-02   1.09047234e-01   5.08766486e-02\n",
      "  -1.83925994e-02   1.95251688e-01  -1.14113768e-01  -1.65333139e-02\n",
      "  -1.03867427e-02   2.63666854e-03  -2.67810431e-02   1.95024181e-01\n",
      "   4.16079380e-02  -3.07725974e-02   2.08678147e-03  -2.27259141e-02\n",
      "  -1.57900846e-01  -2.84054686e-02   1.13137227e-01   9.70210091e-02\n",
      "  -5.63011685e-02  -2.51798423e-01  -5.94109400e-02  -4.71827451e-02\n",
      "  -5.15178254e-02  -1.10658514e-01   1.47186345e-01  -5.04225482e-03\n",
      "   1.20180215e-01   1.04392362e-01  -3.22785202e-02   2.03574769e-02\n",
      "   3.08200027e-02   8.71364473e-02  -2.07129024e-02   4.89144512e-02\n",
      "   2.18806180e-02  -1.31706558e-02  -4.42325245e-02   8.39623556e-02\n",
      "  -5.55652975e-02  -8.71910515e-04  -4.70717408e-02   2.18127033e-01\n",
      "   1.44432103e-01  -1.30088524e-01   1.47358788e-01  -4.78754582e-02\n",
      "  -3.71370811e-02  -2.60575044e-03   3.36485175e-02   3.91474985e-02\n",
      "  -1.66556009e-01  -7.80059861e-02   1.13328833e-01   2.11336964e-02\n",
      "   8.50782722e-02  -1.03307649e-02   1.22457466e-01   2.80818944e-02\n",
      "  -2.93485557e-02  -4.19266063e-02  -1.15231873e-01  -1.15015929e-01\n",
      "   2.42442083e-02  -8.93527033e-03  -7.59650292e-03   1.33570972e-02\n",
      "   7.05476065e-02   4.15638362e-02  -8.91285712e-02  -3.42508699e-02\n",
      "   2.16259790e-01   1.07352958e-01  -6.87666317e-02   1.22476630e-01\n",
      "   1.22360654e-02  -5.43618074e-02  -7.12557975e-02  -5.95864601e-02\n",
      "   1.81529736e-01   1.02918220e-01  -2.17817467e-02  -5.08824709e-02\n",
      "  -3.06816635e-02  -8.83317359e-03   3.29680907e-02   8.62606070e-02\n",
      "   1.11791804e-01  -1.08954868e-01   9.94687674e-02   1.85348099e-01\n",
      "  -5.67078337e-02  -8.52173004e-02  -9.77870725e-02  -5.68291178e-02\n",
      "  -9.26974348e-02   7.75887384e-02  -7.62374745e-02   1.08880914e-01\n",
      "   8.56610662e-03  -4.42233150e-02   7.16235636e-02   2.02183796e-01\n",
      "  -1.37444634e-01  -2.56533254e-02   1.92458295e-01   4.74292617e-02\n",
      "   7.23554485e-02   5.49639536e-02   1.13547299e-01  -7.29611224e-02\n",
      "  -3.19061363e-02   2.69663851e-01  -3.85907097e-02   5.63062165e-02\n",
      "   4.45598039e-02   1.32615137e-02  -1.11341222e-01  -8.90999001e-02\n",
      "  -1.11218635e-01   5.31690492e-02  -2.19087773e-02   2.43018128e-01\n",
      "   2.48466833e-02   2.36133108e-01   2.66283713e-02   2.04340141e-02\n",
      "   4.02859263e-03   6.16383601e-02  -1.22136788e-01  -9.18083536e-02\n",
      "  -9.16353460e-02   8.15021589e-03   3.92253033e-02   2.66608519e-02\n",
      "  -1.28891923e-01  -2.58857574e-02  -6.17026037e-02   1.81584432e-02\n",
      "  -5.20473202e-02  -4.66670299e-02  -1.90268547e-02   8.69351629e-02\n",
      "  -1.70484363e-01  -2.38880175e-02   1.50844589e-02   2.56456697e-03\n",
      "   5.62619557e-02  -2.54656961e-02  -1.13550500e-02   7.89734216e-02\n",
      "   2.03509887e-02   3.58828884e-02  -5.91228948e-02  -5.65597182e-02\n",
      "  -1.67897249e-01  -8.53366826e-02  -3.39163294e-02  -5.79682501e-02\n",
      "  -1.99959846e-01  -6.45737207e-02  -1.75392421e-01  -1.93812374e-01\n",
      "  -1.11205854e-01  -2.50368925e-04   1.61758015e-02  -3.11178243e-03\n",
      "  -3.44135753e-02  -1.03915594e-01  -7.29037892e-02   9.88278180e-03\n",
      "   8.01228977e-02  -5.87342592e-02   3.57749576e-02  -2.89122715e-02\n",
      "   1.71065250e-02  -7.85385899e-02  -9.66047586e-02  -4.23889115e-02\n",
      "   1.47121291e-02  -8.82534082e-02   5.35827842e-02   3.66266092e-02\n",
      "   1.31623592e-01  -8.88303091e-02   1.75775606e-01   3.87826562e-02\n",
      "  -6.18959742e-02   5.49572320e-02   1.82044444e-01  -1.70312476e-01\n",
      "  -1.97585064e-02   4.61455718e-02  -1.32676622e-01  -3.48406623e-02\n",
      "  -8.79302439e-02  -2.47325337e-03   2.04841107e-01  -7.68526014e-02\n",
      "  -1.12699737e-01   5.39511479e-02   8.06111733e-02   9.54118085e-02\n",
      "   8.73447253e-02   1.05238352e-02  -6.65507489e-04  -9.43959843e-02\n",
      "  -7.09056812e-02  -1.93912945e-01   1.65045982e-01   1.30185941e-02\n",
      "   2.40180132e-02  -7.06383578e-02  -7.70359441e-02  -1.00267768e-01\n",
      "   7.74706070e-02   5.63283430e-02   2.06151240e-01   1.84002623e-03\n",
      "   1.24423172e-01  -7.25789240e-02  -9.79219449e-02  -1.13799378e-01\n",
      "   9.69421439e-02   1.10261698e-01   1.36575417e-01   1.00636287e-01\n",
      "   2.26970895e-01   1.31773220e-01  -1.00345408e-01  -5.89759539e-02\n",
      "   1.15003068e-04  -5.47848732e-02   2.25636777e-01  -2.32923202e-02\n",
      "   6.57308731e-02   3.01808636e-02   2.14235445e-01   1.44845099e-01\n",
      "   7.60860143e-03   1.51592209e-01   7.26637577e-02  -5.18790063e-02\n",
      "   4.67258920e-02   4.15911447e-02   1.12907272e-01  -1.45308326e-01\n",
      "   1.44025698e-01   1.81481276e-01   5.11011065e-03   1.16989058e-01\n",
      "   5.79709101e-02   4.04587673e-02   1.55881208e-01  -3.75545132e-02\n",
      "   6.14026508e-03  -1.27572679e-01   1.07038101e-01   7.62294657e-02\n",
      "  -9.20399659e-02  -1.37076128e-03   5.94506443e-02  -8.98547740e-02\n",
      "   1.62248626e-02  -1.32072513e-01  -6.87039264e-02   2.15605001e-01\n",
      "  -1.02091174e-01  -1.50509243e-01   1.71115665e-01   3.36335655e-02\n",
      "  -3.81579638e-02  -7.58962569e-02  -1.53343289e-01   1.94528565e-01\n",
      "   1.31714629e-01   5.09436346e-02  -5.38559344e-02   3.13750140e-02\n",
      "   5.11298961e-02   2.45568499e-02  -1.46803614e-02  -4.69367029e-02\n",
      "   1.57972757e-01   1.76109854e-01  -5.49446665e-02   3.03251890e-02\n",
      "   1.79254094e-01  -6.30027168e-02   4.26640534e-02  -1.63617768e-01\n",
      "  -3.32403341e-02   1.09018404e-01  -4.10473954e-02   1.24204116e-03\n",
      "   5.73664435e-02  -1.26958886e-01  -5.37929430e-02  -7.67328381e-02\n",
      "  -1.88188873e-02   7.16150265e-03   8.06186548e-02  -7.33023287e-02\n",
      "   2.44902624e-02   3.16204003e-02   5.16150885e-02  -8.62073496e-02\n",
      "   7.41375312e-02   2.92182510e-02  -4.38616078e-02   5.89464472e-02\n",
      "   1.07842895e-01   6.72090077e-02  -4.23873889e-02  -1.25266090e-01\n",
      "   8.97604111e-02   4.27048889e-03  -5.80800558e-02   4.02938626e-02\n",
      "  -1.79440978e-01   2.39907431e-02   1.06925064e-01  -1.92423293e-03\n",
      "  -3.70740496e-03   1.46137611e-02  -2.53982983e-02  -1.97864257e-02\n",
      "  -1.97961821e-02  -8.51749366e-02   2.33842204e-02  -1.77614519e-01\n",
      "  -8.56438059e-02  -5.15686920e-02  -1.64275478e-01  -9.75757744e-02\n",
      "  -5.09533665e-02  -9.84114978e-03   1.20997081e-01  -7.55544624e-02\n",
      "  -1.57493288e-01  -1.76347738e-01   1.45634869e-01   5.72309792e-02\n",
      "   6.03562842e-02  -8.75283214e-02   3.98793621e-02   2.19943830e-02\n",
      "   1.08724912e-01  -2.35270091e-01   2.45698536e-01   5.28542155e-03\n",
      "  -1.04448892e-01  -6.64723858e-02   2.40681529e-02   1.00008035e-01\n",
      "  -2.74848625e-02  -7.28212309e-02   5.83903528e-02  -1.26300634e-01\n",
      "   1.72979995e-01  -8.55155916e-02   4.84996701e-02  -1.41585679e-01\n",
      "  -9.59758925e-02   3.97441100e-02   8.78029420e-03  -6.44513282e-02\n",
      "  -3.69296030e-02   5.70118389e-02  -2.47006188e-02   7.45991414e-02\n",
      "  -1.11368980e-01   1.38083196e-02   2.37134442e-02  -1.68598114e-01\n",
      "   6.80182480e-02   6.48460794e-02  -3.00091050e-02   1.45065699e-02\n",
      "  -6.01981950e-02  -7.30556170e-02  -1.70307321e-02  -1.20780968e-01\n",
      "  -1.44056635e-01   1.41559455e-01   3.75508511e-02   1.16936751e-01]\n",
      "0.109889264138\n",
      "target values for D:\n",
      "[1 1 1 1 1 1 1 0 1 1 1 1 0 1 0 1 1 0 0 0 0 1 0 0 1 1 1 0 0 0 0 1 1 0 1 1 0\n",
      " 0 1 1 1 0 1 0 1 1 1 0 0 0 1 0 0 0 1 0 0 1 1 0 0 0 0 1 0 0 1 1 1 0 0 1 1 0\n",
      " 0 1 1 1 0 1 1 0 0 0 0 0 0 0 1 0 1 1 1 0 1 0 1 1 0 1 0 1 0 1 1 0 0 0 1 0 0\n",
      " 0 1 1 0 1 0 1 0 0 0 1 0 0 0 0 0 1 0 0 0 0 0 1 1 0 0 1 0 1 0 1 1 0 1 0 1 0\n",
      " 0 0 1 1 1 1 1 0 1 1 0 1 0 0 1 1 1 1 1 1 1 1 1 0 0 0 1 0 1 1 1 0 0 1 0 0 1\n",
      " 1 1 1 1 1 0 1 1 0 1 1 0 0 1 1 1 1 1 0 0 0 0 1 0 0 0 0 0 0 1 0 0 1 1 1 1 1\n",
      " 1 0 0 1 1 1 1 0 1 0 1 1 0 0 0 1 0 0 1 0 1 1 0 0 1 1 1 0 0 0 0 0 1 1 1 0 0\n",
      " 1 1 0 1 1 0 1 1 1 1 1 0 1 0 0 0 1 1 1 1 1 1 1 1 0 1 1 1 1 1 0 0 1 1 0 1 1\n",
      " 0 0 0 0 1 0 1 0 1 1 0 0 1 1 0 1 1 1 1 0 0 0 0 0 1 0 0 0 0 0 0 0 1 0 0 0 1\n",
      " 0 1 0 1 1 1 1 1 1 1 0 0 1 1 0 0 1 0 0 0 0 1 0 1 0 1 0 0 0 0 1 0 0 0 0 0 1\n",
      " 0 0 1 0 1 1 0 1 1 0 1 0 1 1 0 1 1 0 1 1 0 1 1 0 1 0 0 1 1 1]\n",
      "prediction on D:\n",
      "[1 1 1 1 1 1 1 0 1 1 1 1 0 1 0 1 1 0 0 0 0 1 0 0 1 1 1 0 0 0 0 1 1 0 1 1 0\n",
      " 0 1 1 1 0 1 0 1 1 1 0 0 0 1 0 0 0 1 0 0 1 1 0 0 0 0 1 0 0 1 1 1 0 0 1 1 0\n",
      " 0 1 1 1 0 1 1 0 0 0 0 0 0 0 1 0 1 1 1 0 1 0 1 1 0 1 0 1 0 1 1 0 0 0 1 0 0\n",
      " 0 1 1 0 1 0 1 0 0 0 1 0 0 0 0 0 1 0 0 0 0 0 1 1 0 0 1 0 1 0 1 1 0 1 0 1 0\n",
      " 0 0 1 1 1 1 1 0 1 1 0 1 0 0 1 1 1 1 1 1 1 1 1 0 0 0 1 0 1 1 1 0 0 1 0 0 1\n",
      " 1 1 1 1 1 0 1 1 0 1 1 0 0 1 1 1 1 1 0 0 0 0 1 0 0 0 0 0 0 1 0 0 1 1 1 1 1\n",
      " 1 0 0 1 1 1 1 0 1 0 1 1 0 0 0 1 0 0 1 0 1 1 0 0 1 1 1 0 0 0 0 0 1 1 1 0 0\n",
      " 1 1 0 1 1 0 1 1 1 1 1 0 1 0 0 0 1 1 1 1 1 1 1 1 0 1 1 1 1 1 0 0 1 1 0 1 1\n",
      " 0 0 0 0 1 0 1 0 1 1 0 0 1 1 0 1 1 1 1 0 0 0 0 0 1 0 0 0 0 0 0 0 1 0 0 0 1\n",
      " 0 1 0 1 1 1 1 1 1 1 0 0 1 1 0 0 1 0 0 0 0 1 0 1 0 1 0 0 0 0 1 0 0 0 0 0 1\n",
      " 0 0 1 0 1 1 0 1 1 0 1 0 1 1 0 1 1 0 1 1 0 1 1 0 1 0 0 1 1 1]\n"
     ]
    }
   ],
   "source": [
    "import numpy\n",
    "import theano\n",
    "import theano.tensor as T\n",
    "rng = numpy.random\n",
    "\n",
    "N = 400\n",
    "feats = 784\n",
    "D = (rng.randn(N, feats), rng.randint(size=N, low=0, high=2))\n",
    "training_steps = 10000\n",
    "\n",
    "# Declare Theano symbolic variables\n",
    "x = T.matrix(\"x\")\n",
    "y = T.vector(\"y\")\n",
    "w = theano.shared(rng.randn(feats), name=\"w\")\n",
    "b = theano.shared(0., name=\"b\")\n",
    "print(\"Initial model:\")\n",
    "print(w.get_value())\n",
    "print(b.get_value())\n",
    "\n",
    "# Construct Theano expression graph\n",
    "p_1 = 1 / (1 + T.exp(-T.dot(x, w) - b))   # Probability that target = 1\n",
    "prediction = p_1 > 0.5                    # The prediction thresholded\n",
    "xent = -y * T.log(p_1) - (1-y) * T.log(1-p_1) # Cross-entropy loss function\n",
    "cost = xent.mean() + 0.01 * (w ** 2).sum()# The cost to minimize\n",
    "gw, gb = T.grad(cost, [w, b])             # Compute the gradient of the cost\n",
    "                                          # (we shall return to this in a\n",
    "                                          # following section of this tutorial)\n",
    "\n",
    "# Compile\n",
    "train = theano.function(\n",
    "          inputs=[x,y],\n",
    "          outputs=[prediction, xent],\n",
    "          updates=((w, w - 0.1 * gw), (b, b - 0.1 * gb)))\n",
    "predict = theano.function(inputs=[x], outputs=prediction)\n",
    "\n",
    "# Train\n",
    "for i in range(training_steps):\n",
    "    pred, err = train(D[0], D[1])\n",
    "\n",
    "print(\"Final model:\")\n",
    "print(w.get_value())\n",
    "print(b.get_value())\n",
    "print(\"target values for D:\")\n",
    "print(D[1])\n",
    "print(\"prediction on D:\")\n",
    "print(predict(D[0]))"
   ]
  },
  {
   "cell_type": "code",
   "execution_count": null,
   "metadata": {
    "collapsed": true
   },
   "outputs": [],
   "source": []
  }
 ],
 "metadata": {
  "kernelspec": {
   "display_name": "Python 2",
   "language": "python",
   "name": "python2"
  },
  "language_info": {
   "codemirror_mode": {
    "name": "ipython",
    "version": 2
   },
   "file_extension": ".py",
   "mimetype": "text/x-python",
   "name": "python",
   "nbconvert_exporter": "python",
   "pygments_lexer": "ipython2",
   "version": "2.7.10"
  }
 },
 "nbformat": 4,
 "nbformat_minor": 0
}
